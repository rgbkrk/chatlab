{
 "cells": [
  {
   "cell_type": "code",
   "execution_count": 24,
   "metadata": {},
   "outputs": [],
   "source": [
    "from chatlab import Chat\n",
    "import inspect\n",
    "import json\n",
    "import sys\n",
    "\n",
    "\n",
    "def get_docstrings(module_path: str):\n",
    "    \"\"\"Get the docstrings for all classes and functions in a module.\"\"\"\n",
    "    module = __import__(module_path)\n",
    "    docstrings = {}\n",
    "    for name, obj in inspect.getmembers(module):\n",
    "        if inspect.isclass(obj) or inspect.isfunction(obj):\n",
    "            docstrings[name] = inspect.getdoc(obj)\n",
    "    return docstrings\n",
    "\n",
    "\n",
    "from chatlab.builtins import os_functions\n",
    "from chatlab import Chat, system, models, FunctionRegistry\n",
    "\n",
    "fr = FunctionRegistry()\n",
    "fr.register(get_docstrings)\n",
    "fr.register_functions(os_functions)\n",
    "\n",
    "chat = Chat(\n",
    "    system(\n",
    "        \"You are a software engineer helper. You have access to the file system and can make any file operations that you want to, including git. Format responses to the user in GitHub Flavored Markdown. We are working on the official documentation for a package called Chatlab. Current plans are in `DOC_PLAN.md`. The documentation project direction is in `DOC_SUMMARY.md`.\"\n",
    "    ),\n",
    "    system(\"You must read those files before you start on user tasks.\"),\n",
    "    model=models.GPT_4_0613,\n",
    "    function_registry=fr,\n",
    ")"
   ]
  },
  {
   "cell_type": "code",
   "execution_count": 25,
   "metadata": {},
   "outputs": [
    {
     "data": {
      "application/vdom.v1+json": {
       "attributes": {},
       "children": [
        {
         "attributes": {},
         "children": [
          ".chatlab-chat-details summary > *  { display: inline; color: #27374D; }"
         ],
         "tagName": "style"
        },
        {
         "attributes": {
          "className": "chatlab-chat-details",
          "style": {
           "background": "#DDE6ED",
           "borderRadius": "5px",
           "padding": ".5rem 1rem"
          }
         },
         "children": [
          {
           "attributes": {
            "style": {
             "color": "#27374D",
             "cursor": "pointer"
            }
           },
           "children": [
            {
             "attributes": {
              "style": {
               "color": "#9DB2BF",
               "paddingLeft": "5px",
               "paddingRight": "5px"
              }
             },
             "children": [
              "𝑓"
             ],
             "tagName": "span"
            },
            {
             "attributes": {
              "style": {
               "color": "#27374D",
               "paddingLeft": "5px",
               "paddingRight": "5px"
              }
             },
             "children": [
              "Ran"
             ],
             "tagName": "span"
            },
            {
             "attributes": {
              "style": {
               "fontFamily": "monospace",
               "unicodeBidi": "embed",
               "whiteSpace": "pre"
              }
             },
             "children": [
              "read_file"
             ],
             "tagName": "span"
            },
            {
             "attributes": {
              "style": {
               "fontFamily": "monospace",
               "unicodeBidi": "embed",
               "whiteSpace": "pre"
              }
             },
             "children": [
              ""
             ],
             "tagName": "span"
            }
           ],
           "tagName": "summary"
          },
          {
           "attributes": {
            "style": {
             "marginLeft": "10px",
             "marginTop": "10px"
            }
           },
           "children": [
            {
             "attributes": {},
             "children": [
              {
               "attributes": {
                "style": {
                 "color": "#27374D",
                 "fontWeight": "500",
                 "marginBottom": "5px"
                }
               },
               "children": [
                "Input:"
               ],
               "tagName": "div"
              },
              {
               "attributes": {
                "style": {
                 "background": "#F7F9FA",
                 "color": "#27374D",
                 "fontFamily": "monospace",
                 "marginBottom": "10px",
                 "overflowX": "auto",
                 "padding": "10px",
                 "unicodeBidi": "embed",
                 "whiteSpace": "pre"
                }
               },
               "children": [
                "{\n  \"file_path\": \"DOC_PLAN.md\"\n}"
               ],
               "tagName": "div"
              }
             ],
             "tagName": "div"
            },
            {
             "attributes": {},
             "children": [
              {
               "attributes": {
                "style": {
                 "color": "#27374D",
                 "fontWeight": "500",
                 "marginBottom": "5px"
                }
               },
               "children": [
                "Output:"
               ],
               "tagName": "div"
              },
              {
               "attributes": {
                "style": {
                 "background": "#F7F9FA",
                 "color": "#27374D",
                 "fontFamily": "monospace",
                 "marginBottom": "10px",
                 "overflowX": "auto",
                 "padding": "10px",
                 "unicodeBidi": "embed",
                 "whiteSpace": "pre"
                }
               },
               "children": [
                "# Documentation Plan for Chatlab\n\n## Overview\nTo provide the best developer experience for Chatlab users, our goal is to create comprehensive, up-to-date, and easily accessible documentation. To achieve this, we will leverage a blend of automated and manual processes, targeting both module-level API reference docs and narrative guides for effective usage.\n\n## Plan Outline\n1. **API Reference Documentation Generation**: Implement a system that uses Python's `inspect` module to automate the generation of API reference documentation. The system will extract docstrings, methods, parameters, and default values from the `Chat` class and other relevant classes/functions in the `chatlab` module. The extracted data will be serialized into a JSON file.\n\n2. **Integration into Docusaurus**: Leverage the power of Docusaurus's MDX feature to import the generated JSON file directly into the Markdown documentation files. The documentation for each method/function will be rendered dynamically based on the imported data.\n\n3. **Existing Documentation Review**: Review the existing narrative documentation in the `website/docs` directory. Identify any deficiencies, outdated information, or areas for potential improvement.\n\n4. **Manual Creation of Narrative Guides**: Develop narrative guides and tutorials that cover common use-cases, provide sample code, and explain more complex concepts in an easy-to-understand manner.\n\n5. **Continued Updates and Maintenance**: Ensure the process in step 1 is triggered each time the documentation site is built. This ensures that API reference documentation stays up-to-date with any changes in the source code. Regularly review and update narrative guides based on user feedback and changes in package functionality."
               ],
               "tagName": "div"
              }
             ],
             "tagName": "div"
            }
           ],
           "tagName": "div"
          }
         ],
         "tagName": "details"
        }
       ],
       "tagName": "div"
      },
      "text/html": [
       "<div><style>.chatlab-chat-details summary &gt; *  { display: inline; color: #27374D; }</style><details style=\"background: #DDE6ED; border-radius: 5px; padding: .5rem 1rem\" className=\"chatlab-chat-details\"><summary style=\"color: #27374D; cursor: pointer\"><span style=\"color: #9DB2BF; padding-left: 5px; padding-right: 5px\">𝑓</span><span style=\"color: #27374D; padding-left: 5px; padding-right: 5px\">Ran</span><span style=\"font-family: monospace; unicode-bidi: embed; white-space: pre\">read_file</span><span style=\"font-family: monospace; unicode-bidi: embed; white-space: pre\"></span></summary><div style=\"margin-left: 10px; margin-top: 10px\"><div><div style=\"color: #27374D; font-weight: 500; margin-bottom: 5px\">Input:</div><div style=\"background: #F7F9FA; color: #27374D; font-family: monospace; margin-bottom: 10px; overflow-x: auto; padding: 10px; unicode-bidi: embed; white-space: pre\">{\n",
       "  &quot;file_path&quot;: &quot;DOC_PLAN.md&quot;\n",
       "}</div></div><div><div style=\"color: #27374D; font-weight: 500; margin-bottom: 5px\">Output:</div><div style=\"background: #F7F9FA; color: #27374D; font-family: monospace; margin-bottom: 10px; overflow-x: auto; padding: 10px; unicode-bidi: embed; white-space: pre\"># Documentation Plan for Chatlab\n",
       "\n",
       "## Overview\n",
       "To provide the best developer experience for Chatlab users, our goal is to create comprehensive, up-to-date, and easily accessible documentation. To achieve this, we will leverage a blend of automated and manual processes, targeting both module-level API reference docs and narrative guides for effective usage.\n",
       "\n",
       "## Plan Outline\n",
       "1. **API Reference Documentation Generation**: Implement a system that uses Python&#x27;s `inspect` module to automate the generation of API reference documentation. The system will extract docstrings, methods, parameters, and default values from the `Chat` class and other relevant classes/functions in the `chatlab` module. The extracted data will be serialized into a JSON file.\n",
       "\n",
       "2. **Integration into Docusaurus**: Leverage the power of Docusaurus&#x27;s MDX feature to import the generated JSON file directly into the Markdown documentation files. The documentation for each method/function will be rendered dynamically based on the imported data.\n",
       "\n",
       "3. **Existing Documentation Review**: Review the existing narrative documentation in the `website/docs` directory. Identify any deficiencies, outdated information, or areas for potential improvement.\n",
       "\n",
       "4. **Manual Creation of Narrative Guides**: Develop narrative guides and tutorials that cover common use-cases, provide sample code, and explain more complex concepts in an easy-to-understand manner.\n",
       "\n",
       "5. **Continued Updates and Maintenance**: Ensure the process in step 1 is triggered each time the documentation site is built. This ensures that API reference documentation stays up-to-date with any changes in the source code. Regularly review and update narrative guides based on user feedback and changes in package functionality.</div></div></div></details></div>"
      ],
      "text/plain": [
       "<chatlab.display.ChatFunctionCall at 0x137a37910>"
      ]
     },
     "metadata": {},
     "output_type": "display_data"
    },
    {
     "data": {
      "application/vdom.v1+json": {
       "attributes": {},
       "children": [
        {
         "attributes": {},
         "children": [
          ".chatlab-chat-details summary > *  { display: inline; color: #27374D; }"
         ],
         "tagName": "style"
        },
        {
         "attributes": {
          "className": "chatlab-chat-details",
          "style": {
           "background": "#DDE6ED",
           "borderRadius": "5px",
           "padding": ".5rem 1rem"
          }
         },
         "children": [
          {
           "attributes": {
            "style": {
             "color": "#27374D",
             "cursor": "pointer"
            }
           },
           "children": [
            {
             "attributes": {
              "style": {
               "color": "#9DB2BF",
               "paddingLeft": "5px",
               "paddingRight": "5px"
              }
             },
             "children": [
              "𝑓"
             ],
             "tagName": "span"
            },
            {
             "attributes": {
              "style": {
               "color": "#27374D",
               "paddingLeft": "5px",
               "paddingRight": "5px"
              }
             },
             "children": [
              "Ran"
             ],
             "tagName": "span"
            },
            {
             "attributes": {
              "style": {
               "fontFamily": "monospace",
               "unicodeBidi": "embed",
               "whiteSpace": "pre"
              }
             },
             "children": [
              "read_file"
             ],
             "tagName": "span"
            },
            {
             "attributes": {
              "style": {
               "fontFamily": "monospace",
               "unicodeBidi": "embed",
               "whiteSpace": "pre"
              }
             },
             "children": [
              ""
             ],
             "tagName": "span"
            }
           ],
           "tagName": "summary"
          },
          {
           "attributes": {
            "style": {
             "marginLeft": "10px",
             "marginTop": "10px"
            }
           },
           "children": [
            {
             "attributes": {},
             "children": [
              {
               "attributes": {
                "style": {
                 "color": "#27374D",
                 "fontWeight": "500",
                 "marginBottom": "5px"
                }
               },
               "children": [
                "Input:"
               ],
               "tagName": "div"
              },
              {
               "attributes": {
                "style": {
                 "background": "#F7F9FA",
                 "color": "#27374D",
                 "fontFamily": "monospace",
                 "marginBottom": "10px",
                 "overflowX": "auto",
                 "padding": "10px",
                 "unicodeBidi": "embed",
                 "whiteSpace": "pre"
                }
               },
               "children": [
                "{\n  \"file_path\": \"DOC_SUMMARY.md\"\n}"
               ],
               "tagName": "div"
              }
             ],
             "tagName": "div"
            },
            {
             "attributes": {},
             "children": [
              {
               "attributes": {
                "style": {
                 "color": "#27374D",
                 "fontWeight": "500",
                 "marginBottom": "5px"
                }
               },
               "children": [
                "Output:"
               ],
               "tagName": "div"
              },
              {
               "attributes": {
                "style": {
                 "background": "#F7F9FA",
                 "color": "#27374D",
                 "fontFamily": "monospace",
                 "marginBottom": "10px",
                 "overflowX": "auto",
                 "padding": "10px",
                 "unicodeBidi": "embed",
                 "whiteSpace": "pre"
                }
               },
               "children": [
                "# Chatlab Documentation Summary\n\n## Overview\nChatlab is a Python package that provides an interface for interactive chats inside computational notebooks, leveraging OpenAI's API. It enables users to conduct interactive conversations with AI models, register functions for the models to call, and perform various other operations.\n\n## Documentation Structure\nThe documentation for Chatlab is divided into two main sections:\n\n1. **API Reference**: Automatically generated documentation that provides detailed descriptions of the classes, functions, methods, and parameters in the Chatlab package. This serves as the go-to resource for technical details about the package. It is generated by a script that extracts docstrings and other information from the source code and formats them into a Docusaurus-friendly structure.\n\n2. **Guides and Tutorials**: Manually written documentation that provides narrative explanations, guides, examples, and use-cases for the Chatlab package. These documents are meant to help users understand how to use the Chatlab package effectively, and they cover a variety of topics from basic usage to advanced features.\n\nBoth types of documentation are written in Markdown and are located in the `website/docs` directory.\n\n## How to Use the Documentation\nUsers should start by reading the guides and tutorials to understand the basic features and capabilities of Chatlab. They should then refer to the API reference documentation for more detailed information about specific classes, functions, and methods.\n\nAll documentation should be viewed through the Docusaurus-powered website for the best reading experience, though the raw Markdown files can also be read directly for quick reference.\n\nDevelopers maintaining or extending the Chatlab package should ensure they update the corresponding parts of both the guides/tutorials and the API reference documentation. To update the API reference documentation, they should update the appropriate docstrings in the source code and run the documentation generation script."
               ],
               "tagName": "div"
              }
             ],
             "tagName": "div"
            }
           ],
           "tagName": "div"
          }
         ],
         "tagName": "details"
        }
       ],
       "tagName": "div"
      },
      "text/html": [
       "<div><style>.chatlab-chat-details summary &gt; *  { display: inline; color: #27374D; }</style><details style=\"background: #DDE6ED; border-radius: 5px; padding: .5rem 1rem\" className=\"chatlab-chat-details\"><summary style=\"color: #27374D; cursor: pointer\"><span style=\"color: #9DB2BF; padding-left: 5px; padding-right: 5px\">𝑓</span><span style=\"color: #27374D; padding-left: 5px; padding-right: 5px\">Ran</span><span style=\"font-family: monospace; unicode-bidi: embed; white-space: pre\">read_file</span><span style=\"font-family: monospace; unicode-bidi: embed; white-space: pre\"></span></summary><div style=\"margin-left: 10px; margin-top: 10px\"><div><div style=\"color: #27374D; font-weight: 500; margin-bottom: 5px\">Input:</div><div style=\"background: #F7F9FA; color: #27374D; font-family: monospace; margin-bottom: 10px; overflow-x: auto; padding: 10px; unicode-bidi: embed; white-space: pre\">{\n",
       "  &quot;file_path&quot;: &quot;DOC_SUMMARY.md&quot;\n",
       "}</div></div><div><div style=\"color: #27374D; font-weight: 500; margin-bottom: 5px\">Output:</div><div style=\"background: #F7F9FA; color: #27374D; font-family: monospace; margin-bottom: 10px; overflow-x: auto; padding: 10px; unicode-bidi: embed; white-space: pre\"># Chatlab Documentation Summary\n",
       "\n",
       "## Overview\n",
       "Chatlab is a Python package that provides an interface for interactive chats inside computational notebooks, leveraging OpenAI&#x27;s API. It enables users to conduct interactive conversations with AI models, register functions for the models to call, and perform various other operations.\n",
       "\n",
       "## Documentation Structure\n",
       "The documentation for Chatlab is divided into two main sections:\n",
       "\n",
       "1. **API Reference**: Automatically generated documentation that provides detailed descriptions of the classes, functions, methods, and parameters in the Chatlab package. This serves as the go-to resource for technical details about the package. It is generated by a script that extracts docstrings and other information from the source code and formats them into a Docusaurus-friendly structure.\n",
       "\n",
       "2. **Guides and Tutorials**: Manually written documentation that provides narrative explanations, guides, examples, and use-cases for the Chatlab package. These documents are meant to help users understand how to use the Chatlab package effectively, and they cover a variety of topics from basic usage to advanced features.\n",
       "\n",
       "Both types of documentation are written in Markdown and are located in the `website/docs` directory.\n",
       "\n",
       "## How to Use the Documentation\n",
       "Users should start by reading the guides and tutorials to understand the basic features and capabilities of Chatlab. They should then refer to the API reference documentation for more detailed information about specific classes, functions, and methods.\n",
       "\n",
       "All documentation should be viewed through the Docusaurus-powered website for the best reading experience, though the raw Markdown files can also be read directly for quick reference.\n",
       "\n",
       "Developers maintaining or extending the Chatlab package should ensure they update the corresponding parts of both the guides/tutorials and the API reference documentation. To update the API reference documentation, they should update the appropriate docstrings in the source code and run the documentation generation script.</div></div></div></details></div>"
      ],
      "text/plain": [
       "<chatlab.display.ChatFunctionCall at 0x123c40a90>"
      ]
     },
     "metadata": {},
     "output_type": "display_data"
    },
    {
     "data": {
      "application/vdom.v1+json": {
       "attributes": {},
       "children": [
        {
         "attributes": {},
         "children": [
          ".chatlab-chat-details summary > *  { display: inline; color: #27374D; }"
         ],
         "tagName": "style"
        },
        {
         "attributes": {
          "className": "chatlab-chat-details",
          "style": {
           "background": "#DDE6ED",
           "borderRadius": "5px",
           "padding": ".5rem 1rem"
          }
         },
         "children": [
          {
           "attributes": {
            "style": {
             "color": "#27374D",
             "cursor": "pointer"
            }
           },
           "children": [
            {
             "attributes": {
              "style": {
               "color": "#9DB2BF",
               "paddingLeft": "5px",
               "paddingRight": "5px"
              }
             },
             "children": [
              "𝑓"
             ],
             "tagName": "span"
            },
            {
             "attributes": {
              "style": {
               "color": "#27374D",
               "paddingLeft": "5px",
               "paddingRight": "5px"
              }
             },
             "children": [
              "Ran"
             ],
             "tagName": "span"
            },
            {
             "attributes": {
              "style": {
               "fontFamily": "monospace",
               "unicodeBidi": "embed",
               "whiteSpace": "pre"
              }
             },
             "children": [
              "read_file"
             ],
             "tagName": "span"
            },
            {
             "attributes": {
              "style": {
               "fontFamily": "monospace",
               "unicodeBidi": "embed",
               "whiteSpace": "pre"
              }
             },
             "children": [
              ""
             ],
             "tagName": "span"
            }
           ],
           "tagName": "summary"
          },
          {
           "attributes": {
            "style": {
             "marginLeft": "10px",
             "marginTop": "10px"
            }
           },
           "children": [
            {
             "attributes": {},
             "children": [
              {
               "attributes": {
                "style": {
                 "color": "#27374D",
                 "fontWeight": "500",
                 "marginBottom": "5px"
                }
               },
               "children": [
                "Input:"
               ],
               "tagName": "div"
              },
              {
               "attributes": {
                "style": {
                 "background": "#F7F9FA",
                 "color": "#27374D",
                 "fontFamily": "monospace",
                 "marginBottom": "10px",
                 "overflowX": "auto",
                 "padding": "10px",
                 "unicodeBidi": "embed",
                 "whiteSpace": "pre"
                }
               },
               "children": [
                "{\n  \"file_path\": \"generate_docs.py\"\n}"
               ],
               "tagName": "div"
              }
             ],
             "tagName": "div"
            },
            {
             "attributes": {},
             "children": [
              {
               "attributes": {
                "style": {
                 "color": "#27374D",
                 "fontWeight": "500",
                 "marginBottom": "5px"
                }
               },
               "children": [
                "Output:"
               ],
               "tagName": "div"
              },
              {
               "attributes": {
                "style": {
                 "background": "#F7F9FA",
                 "color": "#27374D",
                 "fontFamily": "monospace",
                 "marginBottom": "10px",
                 "overflowX": "auto",
                 "padding": "10px",
                 "unicodeBidi": "embed",
                 "whiteSpace": "pre"
                }
               },
               "children": [
                "import inspect\nimport json\nfrom typing import Dict, Any\nimport chatlab\n\n\ndef get_class_doc_info(cls):\n    methods = inspect.getmembers(cls, predicate=inspect.isfunction)\n    class_methods_info = []\n    parent_classes = [c.__name__ for c in inspect.getmro(cls)[1:]]\n\n    for method in methods:\n        method_sig = inspect.signature(method[1])\n        method_description = inspect.getdoc(method[1])\n        return_annotation = inspect.signature(method[1]).return_annotation\n        return_annotation = return_annotation.__name__ if inspect.isclass(return_annotation) else str(return_annotation) if return_annotation != inspect._empty else None\n        \n        parameters_info = []\n        for param in method_sig.parameters.values():\n            param_dict = {'name': param.name,\n                          'default': param.default if param.default != param.empty else None,\n                          'annotation': str(param.annotation) if param.annotation != param.empty else None}\n            parameters_info.append(param_dict)\n        \n        method_info_dict = {'name': method[0],\n                            'description': method_description,\n                            'parameters': parameters_info,\n                            'returns': return_annotation}\n        class_methods_info.append(method_info_dict)\n    \n    return {\n        \"methods\": class_methods_info,\n        \"parent_classes\": parent_classes\n    }\n\n\ndef gen_doc_info(module):\n    classes = inspect.getmembers(module, predicate=inspect.isclass)\n    module_doc_info = {}\n    \n    for cls in classes:\n        class_name, class_obj = cls\n        class_info = get_class_doc_info(class_obj)\n        module_doc_info[class_name] = class_info\n    \n    return module_doc_info\n\n\ndef main():\n    doc_info = gen_doc_info(chatlab)\n\n    with open('website/docs/api/chatlab_doc.json', 'w') as fp:\n        json.dump(doc_info, fp)\n\nif __name__ == \"__main__\":\n    main()"
               ],
               "tagName": "div"
              }
             ],
             "tagName": "div"
            }
           ],
           "tagName": "div"
          }
         ],
         "tagName": "details"
        }
       ],
       "tagName": "div"
      },
      "text/html": [
       "<div><style>.chatlab-chat-details summary &gt; *  { display: inline; color: #27374D; }</style><details style=\"background: #DDE6ED; border-radius: 5px; padding: .5rem 1rem\" className=\"chatlab-chat-details\"><summary style=\"color: #27374D; cursor: pointer\"><span style=\"color: #9DB2BF; padding-left: 5px; padding-right: 5px\">𝑓</span><span style=\"color: #27374D; padding-left: 5px; padding-right: 5px\">Ran</span><span style=\"font-family: monospace; unicode-bidi: embed; white-space: pre\">read_file</span><span style=\"font-family: monospace; unicode-bidi: embed; white-space: pre\"></span></summary><div style=\"margin-left: 10px; margin-top: 10px\"><div><div style=\"color: #27374D; font-weight: 500; margin-bottom: 5px\">Input:</div><div style=\"background: #F7F9FA; color: #27374D; font-family: monospace; margin-bottom: 10px; overflow-x: auto; padding: 10px; unicode-bidi: embed; white-space: pre\">{\n",
       "  &quot;file_path&quot;: &quot;generate_docs.py&quot;\n",
       "}</div></div><div><div style=\"color: #27374D; font-weight: 500; margin-bottom: 5px\">Output:</div><div style=\"background: #F7F9FA; color: #27374D; font-family: monospace; margin-bottom: 10px; overflow-x: auto; padding: 10px; unicode-bidi: embed; white-space: pre\">import inspect\n",
       "import json\n",
       "from typing import Dict, Any\n",
       "import chatlab\n",
       "\n",
       "\n",
       "def get_class_doc_info(cls):\n",
       "    methods = inspect.getmembers(cls, predicate=inspect.isfunction)\n",
       "    class_methods_info = []\n",
       "    parent_classes = [c.__name__ for c in inspect.getmro(cls)[1:]]\n",
       "\n",
       "    for method in methods:\n",
       "        method_sig = inspect.signature(method[1])\n",
       "        method_description = inspect.getdoc(method[1])\n",
       "        return_annotation = inspect.signature(method[1]).return_annotation\n",
       "        return_annotation = return_annotation.__name__ if inspect.isclass(return_annotation) else str(return_annotation) if return_annotation != inspect._empty else None\n",
       "        \n",
       "        parameters_info = []\n",
       "        for param in method_sig.parameters.values():\n",
       "            param_dict = {&#x27;name&#x27;: param.name,\n",
       "                          &#x27;default&#x27;: param.default if param.default != param.empty else None,\n",
       "                          &#x27;annotation&#x27;: str(param.annotation) if param.annotation != param.empty else None}\n",
       "            parameters_info.append(param_dict)\n",
       "        \n",
       "        method_info_dict = {&#x27;name&#x27;: method[0],\n",
       "                            &#x27;description&#x27;: method_description,\n",
       "                            &#x27;parameters&#x27;: parameters_info,\n",
       "                            &#x27;returns&#x27;: return_annotation}\n",
       "        class_methods_info.append(method_info_dict)\n",
       "    \n",
       "    return {\n",
       "        &quot;methods&quot;: class_methods_info,\n",
       "        &quot;parent_classes&quot;: parent_classes\n",
       "    }\n",
       "\n",
       "\n",
       "def gen_doc_info(module):\n",
       "    classes = inspect.getmembers(module, predicate=inspect.isclass)\n",
       "    module_doc_info = {}\n",
       "    \n",
       "    for cls in classes:\n",
       "        class_name, class_obj = cls\n",
       "        class_info = get_class_doc_info(class_obj)\n",
       "        module_doc_info[class_name] = class_info\n",
       "    \n",
       "    return module_doc_info\n",
       "\n",
       "\n",
       "def main():\n",
       "    doc_info = gen_doc_info(chatlab)\n",
       "\n",
       "    with open(&#x27;website/docs/api/chatlab_doc.json&#x27;, &#x27;w&#x27;) as fp:\n",
       "        json.dump(doc_info, fp)\n",
       "\n",
       "if __name__ == &quot;__main__&quot;:\n",
       "    main()</div></div></div></details></div>"
      ],
      "text/plain": [
       "<chatlab.display.ChatFunctionCall at 0x127c66b10>"
      ]
     },
     "metadata": {},
     "output_type": "display_data"
    },
    {
     "data": {
      "text/markdown": [
       "The `generate_docs.py` script uses the `inspect` module to gather details about the module `chatlab`. The script imports the module and defines two functions - `get_class_doc_info()` and `gen_doc_info()`.\n",
       "\n",
       "The `get_class_doc_info()` function retrieves all the methods of a given class, extracts parameter details (name, default value, types) of each method, gathers its return types, and returns a dictionary with the parent classes of the given class and a list information about each method.\n",
       "\n",
       "The `gen_doc_info()` function gets all the classes in the given function and applies `get_class_doc_info()` on each class. Returns a dictionary where each key-value pair corresponds to a class in the module and its corresponding information as gathered by `get_class_doc_info()`.\n",
       "\n",
       "The `main()` function applies `gen_doc_info()` to the `chatlab` module and saves the resulting documentation information as a JSON file `chatlab_doc.json` located in `/website/docs/api`.\n",
       "\n",
       "Given the details in your DOC_PLAN.md about using Python's inspect module to automate the generation of API reference documentation being started in `generate_docs.py`, it seems that there's consistency here. However, according to your DOC_SUMMARY.md, this level of documentation automation isn't indicated.\n",
       "\n",
       "If you want to output this JSON data in an MDX file as specified in DOC_PLAN.md, the script needs to be extended to also generate an MDX file from the JSON file."
      ],
      "text/plain": [
       "The `generate_docs.py` script uses the `inspect` module to gather details about the module `chatlab`. The script imports the module and defines two functions - `get_class_doc_info()` and `gen_doc_info()`.\n",
       "\n",
       "The `get_class_doc_info()` function retrieves all the methods of a given class, extracts parameter details (name, default value, types) of each method, gathers its return types, and returns a dictionary with the parent classes of the given class and a list information about each method.\n",
       "\n",
       "The `gen_doc_info()` function gets all the classes in the given function and applies `get_class_doc_info()` on each class. Returns a dictionary where each key-value pair corresponds to a class in the module and its corresponding information as gathered by `get_class_doc_info()`.\n",
       "\n",
       "The `main()` function applies `gen_doc_info()` to the `chatlab` module and saves the resulting documentation information as a JSON file `chatlab_doc.json` located in `/website/docs/api`.\n",
       "\n",
       "Given the details in your DOC_PLAN.md about using Python's inspect module to automate the generation of API reference documentation being started in `generate_docs.py`, it seems that there's consistency here. However, according to your DOC_SUMMARY.md, this level of documentation automation isn't indicated.\n",
       "\n",
       "If you want to output this JSON data in an MDX file as specified in DOC_PLAN.md, the script needs to be extended to also generate an MDX file from the JSON file."
      ]
     },
     "metadata": {
      "text/markdown": {
       "chatlab": {
        "default": true
       }
      }
     },
     "output_type": "display_data"
    }
   ],
   "source": [
    "await chat(\n",
    "    \"Please read the provided `DOC_PLAN.md` and `DOC_SUMMARY.md` files first. Then, let's create an initial script that will use inspect to create rich information for outputting to `website/docs/api`. Contrary to what's outlined in `DOC_SUMMARY`, the work to automate Python docstrings -> JSON -> MDX has been started in `generate_docs.py`.\"\n",
    ")"
   ]
  },
  {
   "cell_type": "code",
   "execution_count": 26,
   "metadata": {},
   "outputs": [
    {
     "data": {
      "application/vdom.v1+json": {
       "attributes": {},
       "children": [
        {
         "attributes": {},
         "children": [
          ".chatlab-chat-details summary > *  { display: inline; color: #27374D; }"
         ],
         "tagName": "style"
        },
        {
         "attributes": {
          "className": "chatlab-chat-details",
          "style": {
           "background": "#DDE6ED",
           "borderRadius": "5px",
           "padding": ".5rem 1rem"
          }
         },
         "children": [
          {
           "attributes": {
            "style": {
             "color": "#27374D",
             "cursor": "pointer"
            }
           },
           "children": [
            {
             "attributes": {
              "style": {
               "color": "#9DB2BF",
               "paddingLeft": "5px",
               "paddingRight": "5px"
              }
             },
             "children": [
              "𝑓"
             ],
             "tagName": "span"
            },
            {
             "attributes": {
              "style": {
               "color": "#27374D",
               "paddingLeft": "5px",
               "paddingRight": "5px"
              }
             },
             "children": [
              "Ran"
             ],
             "tagName": "span"
            },
            {
             "attributes": {
              "style": {
               "fontFamily": "monospace",
               "unicodeBidi": "embed",
               "whiteSpace": "pre"
              }
             },
             "children": [
              "write_file"
             ],
             "tagName": "span"
            },
            {
             "attributes": {
              "style": {
               "fontFamily": "monospace",
               "unicodeBidi": "embed",
               "whiteSpace": "pre"
              }
             },
             "children": [
              ""
             ],
             "tagName": "span"
            }
           ],
           "tagName": "summary"
          },
          {
           "attributes": {
            "style": {
             "marginLeft": "10px",
             "marginTop": "10px"
            }
           },
           "children": [
            {
             "attributes": {},
             "children": [
              {
               "attributes": {
                "style": {
                 "color": "#27374D",
                 "fontWeight": "500",
                 "marginBottom": "5px"
                }
               },
               "children": [
                "Input:"
               ],
               "tagName": "div"
              },
              {
               "attributes": {
                "style": {
                 "background": "#F7F9FA",
                 "color": "#27374D",
                 "fontFamily": "monospace",
                 "marginBottom": "10px",
                 "overflowX": "auto",
                 "padding": "10px",
                 "unicodeBidi": "embed",
                 "whiteSpace": "pre"
                }
               },
               "children": [
                "{\n  \"file_path\": \"website/docs/api/Chat.mdx\",\n  \"content\": \"---\\ntitle: API Reference\\nsidebar_label: Chat Class\\n---\\n\\nimport Documentation from '@site/src/components/Documentation';\\nimport chatlab_doc from './chatlab_doc.json';\\n\\n<Documentation jsonData={chatlab_doc.Chat} />\"\n}"
               ],
               "tagName": "div"
              }
             ],
             "tagName": "div"
            },
            {
             "attributes": {},
             "children": [
              {
               "attributes": {
                "style": {
                 "color": "#27374D",
                 "fontWeight": "500",
                 "marginBottom": "5px"
                }
               },
               "children": [
                "Output:"
               ],
               "tagName": "div"
              },
              {
               "attributes": {
                "style": {
                 "background": "#F7F9FA",
                 "color": "#27374D",
                 "fontFamily": "monospace",
                 "marginBottom": "10px",
                 "overflowX": "auto",
                 "padding": "10px",
                 "unicodeBidi": "embed",
                 "whiteSpace": "pre"
                }
               },
               "children": [
                "None"
               ],
               "tagName": "div"
              }
             ],
             "tagName": "div"
            }
           ],
           "tagName": "div"
          }
         ],
         "tagName": "details"
        }
       ],
       "tagName": "div"
      },
      "text/html": [
       "<div><style>.chatlab-chat-details summary &gt; *  { display: inline; color: #27374D; }</style><details style=\"background: #DDE6ED; border-radius: 5px; padding: .5rem 1rem\" className=\"chatlab-chat-details\"><summary style=\"color: #27374D; cursor: pointer\"><span style=\"color: #9DB2BF; padding-left: 5px; padding-right: 5px\">𝑓</span><span style=\"color: #27374D; padding-left: 5px; padding-right: 5px\">Ran</span><span style=\"font-family: monospace; unicode-bidi: embed; white-space: pre\">write_file</span><span style=\"font-family: monospace; unicode-bidi: embed; white-space: pre\"></span></summary><div style=\"margin-left: 10px; margin-top: 10px\"><div><div style=\"color: #27374D; font-weight: 500; margin-bottom: 5px\">Input:</div><div style=\"background: #F7F9FA; color: #27374D; font-family: monospace; margin-bottom: 10px; overflow-x: auto; padding: 10px; unicode-bidi: embed; white-space: pre\">{\n",
       "  &quot;file_path&quot;: &quot;website/docs/api/Chat.mdx&quot;,\n",
       "  &quot;content&quot;: &quot;---\\ntitle: API Reference\\nsidebar_label: Chat Class\\n---\\n\\nimport Documentation from &#x27;@site/src/components/Documentation&#x27;;\\nimport chatlab_doc from &#x27;./chatlab_doc.json&#x27;;\\n\\n&lt;Documentation jsonData={chatlab_doc.Chat} /&gt;&quot;\n",
       "}</div></div><div><div style=\"color: #27374D; font-weight: 500; margin-bottom: 5px\">Output:</div><div style=\"background: #F7F9FA; color: #27374D; font-family: monospace; margin-bottom: 10px; overflow-x: auto; padding: 10px; unicode-bidi: embed; white-space: pre\">None</div></div></div></details></div>"
      ],
      "text/plain": [
       "<chatlab.display.ChatFunctionCall at 0x137a08d50>"
      ]
     },
     "metadata": {},
     "output_type": "display_data"
    },
    {
     "data": {
      "text/markdown": [
       "I have created a boilerplate MDX file called `Chat.mdx` in the `website/docs/api/` directory. This MDX file uses Docusaurus's MDX feature to import the `chatlab_doc.json` file. It then uses the `Documentation` component to generate the documentation for the `Chat` class from the data in the JSON file.\n",
       "\n",
       "```mdx\n",
       "---\n",
       "title: API Reference\n",
       "sidebar_label: Chat Class\n",
       "---\n",
       "\n",
       "import Documentation from '@site/src/components/Documentation';\n",
       "import chatlab_doc from './chatlab_doc.json';\n",
       "\n",
       "<Documentation jsonData={chatlab_doc.Chat} />\n",
       "```\n",
       "\n",
       "Please make sure the `Documentation` component is designed to accept jsonData as props and output documentation accordingly."
      ],
      "text/plain": [
       "I have created a boilerplate MDX file called `Chat.mdx` in the `website/docs/api/` directory. This MDX file uses Docusaurus's MDX feature to import the `chatlab_doc.json` file. It then uses the `Documentation` component to generate the documentation for the `Chat` class from the data in the JSON file.\n",
       "\n",
       "```mdx\n",
       "---\n",
       "title: API Reference\n",
       "sidebar_label: Chat Class\n",
       "---\n",
       "\n",
       "import Documentation from '@site/src/components/Documentation';\n",
       "import chatlab_doc from './chatlab_doc.json';\n",
       "\n",
       "<Documentation jsonData={chatlab_doc.Chat} />\n",
       "```\n",
       "\n",
       "Please make sure the `Documentation` component is designed to accept jsonData as props and output documentation accordingly."
      ]
     },
     "metadata": {
      "text/markdown": {
       "chatlab": {
        "default": true
       }
      }
     },
     "output_type": "display_data"
    }
   ],
   "source": [
    "message = \"\"\"\n",
    "Great, let's get started with creating a boilerplate `website/docs/api/Chat.mdx` that will read from this JSON file and generate the documentation for the `Chat` class in a nice format.\n",
    "\"\"\"\n",
    "\n",
    "await chat(message)"
   ]
  },
  {
   "cell_type": "code",
   "execution_count": 27,
   "metadata": {},
   "outputs": [
    {
     "data": {
      "text/markdown": [
       "Sure, I will now add the TypeScript code for a basic `Documentation` component in a file named `Documentation.tsx`. This component will receive JSON data as a prop and render it into a formatted documentation layout.\n",
       "\n",
       "Please note that the following component logic just provides a basic format. You might want to extend this component and add more styling or format according to your needs.\n",
       "\n",
       "```tsx\n",
       "// Documentation.tsx\n",
       "\n",
       "import React, { FunctionComponent } from 'react';\n",
       "\n",
       "type DocProps = {\n",
       "  jsonData: {\n",
       "    methods: {\n",
       "      name: string,\n",
       "      description: string,\n",
       "      parameters: {\n",
       "        name: string,\n",
       "        default: string | number | boolean | null,\n",
       "        annotation: string | null,\n",
       "      }[],\n",
       "      returns: string | null,\n",
       "    }[],\n",
       "    parent_classes: string[]\n",
       "  }\n",
       "};\n",
       "\n",
       "export const Documentation: FunctionComponent<DocProps> = ({ jsonData }) => {\n",
       "  return (\n",
       "    <div>\n",
       "      <h1>Class Chat</h1>\n",
       "      <p>Parent classes: {jsonData.parent_classes.join(', ')}</p>\n",
       "      {jsonData.methods.map((method, idx) => {\n",
       "        return (\n",
       "          <div key={idx}>\n",
       "            <h2>{method.name}</h2>\n",
       "            <p>{method.description}</p>\n",
       "            <h3>Parameters</h3>\n",
       "            <ul>\n",
       "              {method.parameters.map((param, idx) => {\n",
       "                return (\n",
       "                  <li key={idx}>\n",
       "                    <strong>{param.name}</strong>: {param.annotation || 'Not specified'} {param.default && `(default: ${param.default})`}\n",
       "                  </li>\n",
       "                );\n",
       "              })}\n",
       "            </ul>\n",
       "            <p>Returns: {method.returns || 'Not specified'}</p>\n",
       "          </div>\n",
       "        );\n",
       "      })}\n",
       "    </div>\n",
       "  );\n",
       "};\n",
       "```\n",
       "\n",
       "Let me write this code now."
      ],
      "text/plain": [
       "Sure, I will now add the TypeScript code for a basic `Documentation` component in a file named `Documentation.tsx`. This component will receive JSON data as a prop and render it into a formatted documentation layout.\n",
       "\n",
       "Please note that the following component logic just provides a basic format. You might want to extend this component and add more styling or format according to your needs.\n",
       "\n",
       "```tsx\n",
       "// Documentation.tsx\n",
       "\n",
       "import React, { FunctionComponent } from 'react';\n",
       "\n",
       "type DocProps = {\n",
       "  jsonData: {\n",
       "    methods: {\n",
       "      name: string,\n",
       "      description: string,\n",
       "      parameters: {\n",
       "        name: string,\n",
       "        default: string | number | boolean | null,\n",
       "        annotation: string | null,\n",
       "      }[],\n",
       "      returns: string | null,\n",
       "    }[],\n",
       "    parent_classes: string[]\n",
       "  }\n",
       "};\n",
       "\n",
       "export const Documentation: FunctionComponent<DocProps> = ({ jsonData }) => {\n",
       "  return (\n",
       "    <div>\n",
       "      <h1>Class Chat</h1>\n",
       "      <p>Parent classes: {jsonData.parent_classes.join(', ')}</p>\n",
       "      {jsonData.methods.map((method, idx) => {\n",
       "        return (\n",
       "          <div key={idx}>\n",
       "            <h2>{method.name}</h2>\n",
       "            <p>{method.description}</p>\n",
       "            <h3>Parameters</h3>\n",
       "            <ul>\n",
       "              {method.parameters.map((param, idx) => {\n",
       "                return (\n",
       "                  <li key={idx}>\n",
       "                    <strong>{param.name}</strong>: {param.annotation || 'Not specified'} {param.default && `(default: ${param.default})`}\n",
       "                  </li>\n",
       "                );\n",
       "              })}\n",
       "            </ul>\n",
       "            <p>Returns: {method.returns || 'Not specified'}</p>\n",
       "          </div>\n",
       "        );\n",
       "      })}\n",
       "    </div>\n",
       "  );\n",
       "};\n",
       "```\n",
       "\n",
       "Let me write this code now."
      ]
     },
     "metadata": {
      "text/markdown": {
       "chatlab": {
        "default": true
       }
      }
     },
     "output_type": "display_data"
    },
    {
     "data": {
      "application/vdom.v1+json": {
       "attributes": {},
       "children": [
        {
         "attributes": {},
         "children": [
          ".chatlab-chat-details summary > *  { display: inline; color: #27374D; }"
         ],
         "tagName": "style"
        },
        {
         "attributes": {
          "className": "chatlab-chat-details",
          "style": {
           "background": "#DDE6ED",
           "borderRadius": "5px",
           "padding": ".5rem 1rem"
          }
         },
         "children": [
          {
           "attributes": {
            "style": {
             "color": "#27374D",
             "cursor": "pointer"
            }
           },
           "children": [
            {
             "attributes": {
              "style": {
               "color": "#9DB2BF",
               "paddingLeft": "5px",
               "paddingRight": "5px"
              }
             },
             "children": [
              "𝑓"
             ],
             "tagName": "span"
            },
            {
             "attributes": {
              "style": {
               "color": "#27374D",
               "paddingLeft": "5px",
               "paddingRight": "5px"
              }
             },
             "children": [
              "Ran"
             ],
             "tagName": "span"
            },
            {
             "attributes": {
              "style": {
               "fontFamily": "monospace",
               "unicodeBidi": "embed",
               "whiteSpace": "pre"
              }
             },
             "children": [
              "write_file"
             ],
             "tagName": "span"
            },
            {
             "attributes": {
              "style": {
               "fontFamily": "monospace",
               "unicodeBidi": "embed",
               "whiteSpace": "pre"
              }
             },
             "children": [
              ""
             ],
             "tagName": "span"
            }
           ],
           "tagName": "summary"
          },
          {
           "attributes": {
            "style": {
             "marginLeft": "10px",
             "marginTop": "10px"
            }
           },
           "children": [
            {
             "attributes": {},
             "children": [
              {
               "attributes": {
                "style": {
                 "color": "#27374D",
                 "fontWeight": "500",
                 "marginBottom": "5px"
                }
               },
               "children": [
                "Input:"
               ],
               "tagName": "div"
              },
              {
               "attributes": {
                "style": {
                 "background": "#F7F9FA",
                 "color": "#27374D",
                 "fontFamily": "monospace",
                 "marginBottom": "10px",
                 "overflowX": "auto",
                 "padding": "10px",
                 "unicodeBidi": "embed",
                 "whiteSpace": "pre"
                }
               },
               "children": [
                "{\n  \"file_path\": \"website/src/components/Documentation.tsx\",\n  \"content\": \"import React, { FunctionComponent } from 'react';\\n\\ntype DocProps = {\\n  jsonData: {\\n    methods: {\\n      name: string,\\n      description: string,\\n      parameters: {\\n        name: string,\\n        default: string | number | boolean | null,\\n        annotation: string | null,\\n      }[],\\n      returns: string | null,\\n    }[],\\n    parent_classes: string[]\\n  }\\n};\\n\\nexport const Documentation: FunctionComponent<DocProps> = ({ jsonData }) => {\\n  return (\\n    <div>\\n      <h1>Class Chat</h1>\\n      <p>Parent classes: {jsonData.parent_classes.join(', ')}</p>\\n      {jsonData.methods.map((method, idx) => {\\n        return (\\n          <div key={idx}>\\n            <h2>{method.name}</h2>\\n            <p>{method.description}</p>\\n            <h3>Parameters</h3>\\n            <ul>\\n              {method.parameters.map((param, idx) => {\\n                return (\\n                  <li key={idx}>\\n                    <strong>{param.name}</strong>: {param.annotation || 'Not specified'} {param.default && `(default: ${param.default})`}\\n                  </li>\\n                );\\n              })}\\n            </ul>\\n            <p>Returns: {method.returns || 'Not specified'}</p>\\n          </div>\\n        );\\n      })}\\n    </div>\\n  );\\n};\"\n}"
               ],
               "tagName": "div"
              }
             ],
             "tagName": "div"
            },
            {
             "attributes": {},
             "children": [
              {
               "attributes": {
                "style": {
                 "color": "#27374D",
                 "fontWeight": "500",
                 "marginBottom": "5px"
                }
               },
               "children": [
                "Output:"
               ],
               "tagName": "div"
              },
              {
               "attributes": {
                "style": {
                 "background": "#F7F9FA",
                 "color": "#27374D",
                 "fontFamily": "monospace",
                 "marginBottom": "10px",
                 "overflowX": "auto",
                 "padding": "10px",
                 "unicodeBidi": "embed",
                 "whiteSpace": "pre"
                }
               },
               "children": [
                "None"
               ],
               "tagName": "div"
              }
             ],
             "tagName": "div"
            }
           ],
           "tagName": "div"
          }
         ],
         "tagName": "details"
        }
       ],
       "tagName": "div"
      },
      "text/html": [
       "<div><style>.chatlab-chat-details summary &gt; *  { display: inline; color: #27374D; }</style><details style=\"background: #DDE6ED; border-radius: 5px; padding: .5rem 1rem\" className=\"chatlab-chat-details\"><summary style=\"color: #27374D; cursor: pointer\"><span style=\"color: #9DB2BF; padding-left: 5px; padding-right: 5px\">𝑓</span><span style=\"color: #27374D; padding-left: 5px; padding-right: 5px\">Ran</span><span style=\"font-family: monospace; unicode-bidi: embed; white-space: pre\">write_file</span><span style=\"font-family: monospace; unicode-bidi: embed; white-space: pre\"></span></summary><div style=\"margin-left: 10px; margin-top: 10px\"><div><div style=\"color: #27374D; font-weight: 500; margin-bottom: 5px\">Input:</div><div style=\"background: #F7F9FA; color: #27374D; font-family: monospace; margin-bottom: 10px; overflow-x: auto; padding: 10px; unicode-bidi: embed; white-space: pre\">{\n",
       "  &quot;file_path&quot;: &quot;website/src/components/Documentation.tsx&quot;,\n",
       "  &quot;content&quot;: &quot;import React, { FunctionComponent } from &#x27;react&#x27;;\\n\\ntype DocProps = {\\n  jsonData: {\\n    methods: {\\n      name: string,\\n      description: string,\\n      parameters: {\\n        name: string,\\n        default: string | number | boolean | null,\\n        annotation: string | null,\\n      }[],\\n      returns: string | null,\\n    }[],\\n    parent_classes: string[]\\n  }\\n};\\n\\nexport const Documentation: FunctionComponent&lt;DocProps&gt; = ({ jsonData }) =&gt; {\\n  return (\\n    &lt;div&gt;\\n      &lt;h1&gt;Class Chat&lt;/h1&gt;\\n      &lt;p&gt;Parent classes: {jsonData.parent_classes.join(&#x27;, &#x27;)}&lt;/p&gt;\\n      {jsonData.methods.map((method, idx) =&gt; {\\n        return (\\n          &lt;div key={idx}&gt;\\n            &lt;h2&gt;{method.name}&lt;/h2&gt;\\n            &lt;p&gt;{method.description}&lt;/p&gt;\\n            &lt;h3&gt;Parameters&lt;/h3&gt;\\n            &lt;ul&gt;\\n              {method.parameters.map((param, idx) =&gt; {\\n                return (\\n                  &lt;li key={idx}&gt;\\n                    &lt;strong&gt;{param.name}&lt;/strong&gt;: {param.annotation || &#x27;Not specified&#x27;} {param.default &amp;&amp; `(default: ${param.default})`}\\n                  &lt;/li&gt;\\n                );\\n              })}\\n            &lt;/ul&gt;\\n            &lt;p&gt;Returns: {method.returns || &#x27;Not specified&#x27;}&lt;/p&gt;\\n          &lt;/div&gt;\\n        );\\n      })}\\n    &lt;/div&gt;\\n  );\\n};&quot;\n",
       "}</div></div><div><div style=\"color: #27374D; font-weight: 500; margin-bottom: 5px\">Output:</div><div style=\"background: #F7F9FA; color: #27374D; font-family: monospace; margin-bottom: 10px; overflow-x: auto; padding: 10px; unicode-bidi: embed; white-space: pre\">None</div></div></div></details></div>"
      ],
      "text/plain": [
       "<chatlab.display.ChatFunctionCall at 0x137ead690>"
      ]
     },
     "metadata": {},
     "output_type": "display_data"
    },
    {
     "data": {
      "text/markdown": [
       "I have created the `Documentation.tsx` component file in the `website/src/components/` directory. This React component will take in the `jsonData` prop and display the methods of the `Chat` class in a readable format. Each method will display its parameters and return type along with their default values and types if specified.\n",
       "\n",
       "The code looks like this:\n",
       "\n",
       "```jsx\n",
       "import React, { FunctionComponent } from 'react';\n",
       "\n",
       "type DocProps = {\n",
       "  jsonData: {\n",
       "    methods: {\n",
       "      name: string,\n",
       "      description: string,\n",
       "      parameters: {\n",
       "        name: string,\n",
       "        default: string | number | boolean | null,\n",
       "        annotation: string | null,\n",
       "      }[],\n",
       "      returns: string | null,\n",
       "    }[],\n",
       "    parent_classes: string[]\n",
       "  }\n",
       "};\n",
       "\n",
       "export const Documentation: FunctionComponent<DocProps> = ({ jsonData }) => {\n",
       "  return (\n",
       "    <div>\n",
       "      <h1>Class Chat</h1>\n",
       "      <p>Parent classes: {jsonData.parent_classes.join(', ')}</p>\n",
       "      {jsonData.methods.map((method, idx) => {\n",
       "        return (\n",
       "          <div key={idx}>\n",
       "            <h2>{method.name}</h2>\n",
       "            <p>{method.description}</p>\n",
       "            <h3>Parameters</h3>\n",
       "            <ul>\n",
       "              {method.parameters.map((param, idx) => {\n",
       "                return (\n",
       "                  <li key={idx}>\n",
       "                    <strong>{param.name}</strong>: {param.annotation || 'Not specified'} {param.default && `(default: ${param.default})`}\n",
       "                  </li>\n",
       "                );\n",
       "              })}\n",
       "            </ul>\n",
       "            <p>Returns: {method.returns || 'Not specified'}</p>\n",
       "          </div>\n",
       "        );\n",
       "      })}\n",
       "    </div>\n",
       "  );\n",
       "};\n",
       "```\n",
       "\n",
       "You may adjust this component and styling as per your requirements."
      ],
      "text/plain": [
       "I have created the `Documentation.tsx` component file in the `website/src/components/` directory. This React component will take in the `jsonData` prop and display the methods of the `Chat` class in a readable format. Each method will display its parameters and return type along with their default values and types if specified.\n",
       "\n",
       "The code looks like this:\n",
       "\n",
       "```jsx\n",
       "import React, { FunctionComponent } from 'react';\n",
       "\n",
       "type DocProps = {\n",
       "  jsonData: {\n",
       "    methods: {\n",
       "      name: string,\n",
       "      description: string,\n",
       "      parameters: {\n",
       "        name: string,\n",
       "        default: string | number | boolean | null,\n",
       "        annotation: string | null,\n",
       "      }[],\n",
       "      returns: string | null,\n",
       "    }[],\n",
       "    parent_classes: string[]\n",
       "  }\n",
       "};\n",
       "\n",
       "export const Documentation: FunctionComponent<DocProps> = ({ jsonData }) => {\n",
       "  return (\n",
       "    <div>\n",
       "      <h1>Class Chat</h1>\n",
       "      <p>Parent classes: {jsonData.parent_classes.join(', ')}</p>\n",
       "      {jsonData.methods.map((method, idx) => {\n",
       "        return (\n",
       "          <div key={idx}>\n",
       "            <h2>{method.name}</h2>\n",
       "            <p>{method.description}</p>\n",
       "            <h3>Parameters</h3>\n",
       "            <ul>\n",
       "              {method.parameters.map((param, idx) => {\n",
       "                return (\n",
       "                  <li key={idx}>\n",
       "                    <strong>{param.name}</strong>: {param.annotation || 'Not specified'} {param.default && `(default: ${param.default})`}\n",
       "                  </li>\n",
       "                );\n",
       "              })}\n",
       "            </ul>\n",
       "            <p>Returns: {method.returns || 'Not specified'}</p>\n",
       "          </div>\n",
       "        );\n",
       "      })}\n",
       "    </div>\n",
       "  );\n",
       "};\n",
       "```\n",
       "\n",
       "You may adjust this component and styling as per your requirements."
      ]
     },
     "metadata": {
      "text/markdown": {
       "chatlab": {
        "default": true
       }
      }
     },
     "output_type": "display_data"
    }
   ],
   "source": [
    "await chat(\"Looks like you'll have to write that component too. Note that we use Typescript around these parts.\")"
   ]
  },
  {
   "cell_type": "code",
   "execution_count": 20,
   "metadata": {},
   "outputs": [
    {
     "data": {
      "application/vdom.v1+json": {
       "attributes": {},
       "children": [
        {
         "attributes": {},
         "children": [
          ".chatlab-chat-details summary > *  { display: inline; color: #27374D; }"
         ],
         "tagName": "style"
        },
        {
         "attributes": {
          "className": "chatlab-chat-details",
          "style": {
           "background": "#DDE6ED",
           "borderRadius": "5px",
           "padding": ".5rem 1rem"
          }
         },
         "children": [
          {
           "attributes": {
            "style": {
             "color": "#27374D",
             "cursor": "pointer"
            }
           },
           "children": [
            {
             "attributes": {
              "style": {
               "color": "#9DB2BF",
               "paddingLeft": "5px",
               "paddingRight": "5px"
              }
             },
             "children": [
              "𝑓"
             ],
             "tagName": "span"
            },
            {
             "attributes": {
              "style": {
               "color": "#27374D",
               "paddingLeft": "5px",
               "paddingRight": "5px"
              }
             },
             "children": [
              "Ran"
             ],
             "tagName": "span"
            },
            {
             "attributes": {
              "style": {
               "fontFamily": "monospace",
               "unicodeBidi": "embed",
               "whiteSpace": "pre"
              }
             },
             "children": [
              "run_python"
             ],
             "tagName": "span"
            },
            {
             "attributes": {
              "style": {
               "fontFamily": "monospace",
               "unicodeBidi": "embed",
               "whiteSpace": "pre"
              }
             },
             "children": [
              ""
             ],
             "tagName": "span"
            }
           ],
           "tagName": "summary"
          },
          {
           "attributes": {
            "style": {
             "marginLeft": "10px",
             "marginTop": "10px"
            }
           },
           "children": [
            {
             "attributes": {},
             "children": [
              {
               "attributes": {
                "style": {
                 "color": "#27374D",
                 "fontWeight": "500",
                 "marginBottom": "5px"
                }
               },
               "children": [
                "Input:"
               ],
               "tagName": "div"
              },
              {
               "attributes": {
                "style": {
                 "background": "#F7F9FA",
                 "color": "#27374D",
                 "fontFamily": "monospace",
                 "marginBottom": "10px",
                 "overflowX": "auto",
                 "padding": "10px",
                 "unicodeBidi": "embed",
                 "whiteSpace": "pre"
                }
               },
               "children": [
                "{\n  \"code\": \"import json\\n\\nwith open('website/docs/api/chatlab_doc.json', 'r') as fp:\\n    doc_info = json.load(fp)\\n\\n# Get only one item for sample\\nsample = next(iter(doc_info.items()))\\nsample\"\n}"
               ],
               "tagName": "div"
              }
             ],
             "tagName": "div"
            },
            {
             "attributes": {},
             "children": [
              {
               "attributes": {
                "style": {
                 "color": "#27374D",
                 "fontWeight": "500",
                 "marginBottom": "5px"
                }
               },
               "children": [
                "Output:"
               ],
               "tagName": "div"
              },
              {
               "attributes": {
                "style": {
                 "background": "#F7F9FA",
                 "color": "#27374D",
                 "fontFamily": "monospace",
                 "marginBottom": "10px",
                 "overflowX": "auto",
                 "padding": "10px",
                 "unicodeBidi": "embed",
                 "whiteSpace": "pre"
                }
               },
               "children": [
                "OUTPUT:\n('Chat',\n [{'name': '_Chat__process_stream',\n   'description': None,\n   'parameters': [{'name': 'self', 'default': None, 'annotation': None},\n    {'name': 'resp',\n     'default': None,\n     'annotation': 'typing.Iterable[typing.Union[chatlab.messaging.StreamCompletion, chatlab.messaging.ChatCompletion]]'}]},\n  {'name': '__call__',\n   'description': 'Send messages to the chat model and display the response.',\n   'parameters': [{'name': 'self', 'default': None, 'annotation': None},\n    {'name': 'messages',\n     'default': None,\n     'annotation': 'typing.Union[chatlab.messaging.BasicMessage, chatlab.messaging.FunctionCallMessage, chatlab.messaging.FunctionResultMessage, str]'},\n    {'name': 'stream', 'default': True, 'annotation': \"<class 'bool'>\"}]},\n  {'name': '__init__',\n   'description': 'Initialize a Chat with an optional initial context of messages.\\n\\n>>> from chatlab import Chat, narrate\\n>>> convo = Chat(narrate(\"You are a large bird\"))\\n>>> convo.submit(\"What are you?\")\\nI am a large bird.',\n   'parameters': [{'name': 'self', 'default': None, 'annotation': None},\n    {'name': 'initial_context',\n     'default': None,\n     'annotation': 'typing.Union[chatlab.messaging.BasicMessage, chatlab.messaging.FunctionCallMessage, chatlab.messaging.FunctionResultMessage, str]'},\n    {'name': 'model', 'default': 'gpt-3.5-turbo-0613', 'annotation': None},\n    {'name': 'function_registry',\n     'default': None,\n     'annotation': 'typing.Optional[chatlab.registry.FunctionRegistry]'},\n    {'name': 'chat_functions',\n     'default': None,\n     'annotation': 'typing.Optional[typing.List[typing.Callable]]'},\n    {'name': 'allow_hallucinated_python',\n     'default': False,\n     'annotation': \"<class 'bool'>\"},\n    {'name': 'python_hallucination_function',\n     'default': None,\n     'annotation': 'typing.Optional[typing.Callable[[str], typing.Any]]'}]},\n  {'name': '__repr__',\n   'description': 'Return a representation of the ChatLab instance.',\n   'parameters': [{'name': 'self', 'default': None, 'annotation': None}]},\n  {'name': 'append',\n   'description': 'Append messages to the conversation history.\\n\\nNote: this does not send the messages on until `chat` is called.\\n\\nArgs:\\n    messages (str | Message): One or more messages to append to the conversation.',\n   'parameters': [{'name': 'self', 'default': None, 'annotation': None},\n    {'name': 'messages',\n     'default': None,\n     'annotation': 'typing.Union[chatlab.messaging.BasicMessage, chatlab.messaging.FunctionCallMessage, chatlab.messaging.FunctionResultMessage, str]'}]},\n  {'name': 'chat',\n   'description': 'Send messages to the chat model and display the response.\\n\\nDeprecated in 0.13.0, removed in 1.0.0. Use `submit` instead.\\n\\n\\n.. deprecated:: 0.13.0\\n   This will be removed in 1.0.0. Use `submit` instead.',\n   'parameters': [{'name': 'self', 'default': None, 'annotation': None},\n    {'name': 'messages',\n     'default': None,\n     'annotation': 'typing.Union[chatlab.messaging.BasicMessage, chatlab.messaging.FunctionCallMessage, chatlab.messaging.FunctionResultMessage, str]'}]},\n  {'name': 'clear_history',\n   'description': 'Clears the conversation history.',\n   'parameters': [{'name': 'self', 'default': None, 'annotation': None}]},\n  {'name': 'get_history',\n   'description': 'Returns the conversation history as a list of messages.',\n   'parameters': [{'name': 'self', 'default': None, 'annotation': None}]},\n  {'name': 'ipython_magic_submit',\n   'description': 'Submit a cell to the ChatLab instance.',\n   'parameters': [{'name': 'self', 'default': None, 'annotation': None},\n    {'name': 'line', 'default': None, 'annotation': None},\n    {'name': 'cell', 'default': None, 'annotation': 'typing.Optional[str]'}]},\n  {'name': 'make_magic',\n   'description': 'Register the chat as an IPython magic with the given name.\\n\\nIn [1]: chat = Chat()\\nIn [2]: chat.make_magic(\"chat\")\\nIn [3]: %%chat\\n   ...:\\n   ...: Lets chat!\\n   ...:\\nOut[3]: Sure, I\\'d be happy to chat! What\\'s on your mind?',\n   'parameters': [{'name': 'self', 'default': None, 'annotation': None},\n    {'name': 'name', 'default': None, 'annotation': None}]},\n  {'name': 'register',\n   'description': 'Register a function with the ChatLab instance.\\n\\nDeprecated in 1.0.0, removed in 2.0.0. Use `register_function` instead.',\n   'parameters': [{'name': 'self', 'default': None, 'annotation': None},\n    {'name': 'function', 'default': None, 'annotation': 'typing.Callable'},\n    {'name': 'parameter_schema',\n     'default': None,\n     'annotation': \"typing.Union[typing.Type[ForwardRef('BaseModel')], dict, NoneType]\"}]},\n  {'name': 'register_function',\n   'description': \"Register a function with the ChatLab instance.\\n\\nArgs:\\n    function (Callable): The function to register.\\n\\n    parameter_schema (BaseModel or dict): The pydantic model or JSON schema for the function's parameters.\",\n   'parameters': [{'name': 'self', 'default': None, 'annotation': None},\n    {'name': 'function', 'default': None, 'annotation': 'typing.Callable'},\n    {'name': 'parameter_schema',\n     'default': None,\n     'annotation': \"typing.Union[typing.Type[ForwardRef('BaseModel')], dict, NoneType]\"}]},\n  {'name': 'replace_hallucinated_python',\n   'description': \"Replace the hallucinated python function with a custom function.\\n\\nArgs:\\n    function (Callable): The function to register.\\n\\n    parameter_schema (BaseModel or dict): The pydantic model or JSON schema for the function's parameters.\",\n   'parameters': [{'name': 'self', 'default': None, 'annotation': None},\n    {'name': 'function', 'default': None, 'annotation': 'typing.Callable'},\n    {'name': 'parameter_schema',\n     'default': None,\n     'annotation': \"typing.Union[typing.Type[ForwardRef('BaseModel')], dict, NoneType]\"}]},\n  {'name': 'submit',\n   'description': 'Send messages to the chat model and display the response.\\n\\nSide effects:\\n    - Messages are sent to OpenAI Chat Models.\\n    - Response(s) are displayed in the output area as a combination of Markdown and chat function calls.\\n    - conversation.messages is updated with response(s).\\n\\nArgs:\\n    messages (str | Message): One or more messages to send to the chat, can be strings or Message objects.\\n\\n    stream (bool): Whether to stream chat into markdown or not. If False, the entire chat will be sent once.',\n   'parameters': [{'name': 'self', 'default': None, 'annotation': None},\n    {'name': 'messages',\n     'default': None,\n     'annotation': 'typing.Union[chatlab.messaging.BasicMessage, chatlab.messaging.FunctionCallMessage, chatlab.messaging.FunctionResultMessage, str]'},\n    {'name': 'stream', 'default': True, 'annotation': \"<class 'bool'>\"}]}])"
               ],
               "tagName": "div"
              }
             ],
             "tagName": "div"
            }
           ],
           "tagName": "div"
          }
         ],
         "tagName": "details"
        }
       ],
       "tagName": "div"
      },
      "text/html": [
       "<div><style>.chatlab-chat-details summary &gt; *  { display: inline; color: #27374D; }</style><details style=\"background: #DDE6ED; border-radius: 5px; padding: .5rem 1rem\" className=\"chatlab-chat-details\"><summary style=\"color: #27374D; cursor: pointer\"><span style=\"color: #9DB2BF; padding-left: 5px; padding-right: 5px\">𝑓</span><span style=\"color: #27374D; padding-left: 5px; padding-right: 5px\">Ran</span><span style=\"font-family: monospace; unicode-bidi: embed; white-space: pre\">run_python</span><span style=\"font-family: monospace; unicode-bidi: embed; white-space: pre\"></span></summary><div style=\"margin-left: 10px; margin-top: 10px\"><div><div style=\"color: #27374D; font-weight: 500; margin-bottom: 5px\">Input:</div><div style=\"background: #F7F9FA; color: #27374D; font-family: monospace; margin-bottom: 10px; overflow-x: auto; padding: 10px; unicode-bidi: embed; white-space: pre\">{\n",
       "  &quot;code&quot;: &quot;import json\\n\\nwith open(&#x27;website/docs/api/chatlab_doc.json&#x27;, &#x27;r&#x27;) as fp:\\n    doc_info = json.load(fp)\\n\\n# Get only one item for sample\\nsample = next(iter(doc_info.items()))\\nsample&quot;\n",
       "}</div></div><div><div style=\"color: #27374D; font-weight: 500; margin-bottom: 5px\">Output:</div><div style=\"background: #F7F9FA; color: #27374D; font-family: monospace; margin-bottom: 10px; overflow-x: auto; padding: 10px; unicode-bidi: embed; white-space: pre\">OUTPUT:\n",
       "(&#x27;Chat&#x27;,\n",
       " [{&#x27;name&#x27;: &#x27;_Chat__process_stream&#x27;,\n",
       "   &#x27;description&#x27;: None,\n",
       "   &#x27;parameters&#x27;: [{&#x27;name&#x27;: &#x27;self&#x27;, &#x27;default&#x27;: None, &#x27;annotation&#x27;: None},\n",
       "    {&#x27;name&#x27;: &#x27;resp&#x27;,\n",
       "     &#x27;default&#x27;: None,\n",
       "     &#x27;annotation&#x27;: &#x27;typing.Iterable[typing.Union[chatlab.messaging.StreamCompletion, chatlab.messaging.ChatCompletion]]&#x27;}]},\n",
       "  {&#x27;name&#x27;: &#x27;__call__&#x27;,\n",
       "   &#x27;description&#x27;: &#x27;Send messages to the chat model and display the response.&#x27;,\n",
       "   &#x27;parameters&#x27;: [{&#x27;name&#x27;: &#x27;self&#x27;, &#x27;default&#x27;: None, &#x27;annotation&#x27;: None},\n",
       "    {&#x27;name&#x27;: &#x27;messages&#x27;,\n",
       "     &#x27;default&#x27;: None,\n",
       "     &#x27;annotation&#x27;: &#x27;typing.Union[chatlab.messaging.BasicMessage, chatlab.messaging.FunctionCallMessage, chatlab.messaging.FunctionResultMessage, str]&#x27;},\n",
       "    {&#x27;name&#x27;: &#x27;stream&#x27;, &#x27;default&#x27;: True, &#x27;annotation&#x27;: &quot;&lt;class &#x27;bool&#x27;&gt;&quot;}]},\n",
       "  {&#x27;name&#x27;: &#x27;__init__&#x27;,\n",
       "   &#x27;description&#x27;: &#x27;Initialize a Chat with an optional initial context of messages.\\n\\n&gt;&gt;&gt; from chatlab import Chat, narrate\\n&gt;&gt;&gt; convo = Chat(narrate(&quot;You are a large bird&quot;))\\n&gt;&gt;&gt; convo.submit(&quot;What are you?&quot;)\\nI am a large bird.&#x27;,\n",
       "   &#x27;parameters&#x27;: [{&#x27;name&#x27;: &#x27;self&#x27;, &#x27;default&#x27;: None, &#x27;annotation&#x27;: None},\n",
       "    {&#x27;name&#x27;: &#x27;initial_context&#x27;,\n",
       "     &#x27;default&#x27;: None,\n",
       "     &#x27;annotation&#x27;: &#x27;typing.Union[chatlab.messaging.BasicMessage, chatlab.messaging.FunctionCallMessage, chatlab.messaging.FunctionResultMessage, str]&#x27;},\n",
       "    {&#x27;name&#x27;: &#x27;model&#x27;, &#x27;default&#x27;: &#x27;gpt-3.5-turbo-0613&#x27;, &#x27;annotation&#x27;: None},\n",
       "    {&#x27;name&#x27;: &#x27;function_registry&#x27;,\n",
       "     &#x27;default&#x27;: None,\n",
       "     &#x27;annotation&#x27;: &#x27;typing.Optional[chatlab.registry.FunctionRegistry]&#x27;},\n",
       "    {&#x27;name&#x27;: &#x27;chat_functions&#x27;,\n",
       "     &#x27;default&#x27;: None,\n",
       "     &#x27;annotation&#x27;: &#x27;typing.Optional[typing.List[typing.Callable]]&#x27;},\n",
       "    {&#x27;name&#x27;: &#x27;allow_hallucinated_python&#x27;,\n",
       "     &#x27;default&#x27;: False,\n",
       "     &#x27;annotation&#x27;: &quot;&lt;class &#x27;bool&#x27;&gt;&quot;},\n",
       "    {&#x27;name&#x27;: &#x27;python_hallucination_function&#x27;,\n",
       "     &#x27;default&#x27;: None,\n",
       "     &#x27;annotation&#x27;: &#x27;typing.Optional[typing.Callable[[str], typing.Any]]&#x27;}]},\n",
       "  {&#x27;name&#x27;: &#x27;__repr__&#x27;,\n",
       "   &#x27;description&#x27;: &#x27;Return a representation of the ChatLab instance.&#x27;,\n",
       "   &#x27;parameters&#x27;: [{&#x27;name&#x27;: &#x27;self&#x27;, &#x27;default&#x27;: None, &#x27;annotation&#x27;: None}]},\n",
       "  {&#x27;name&#x27;: &#x27;append&#x27;,\n",
       "   &#x27;description&#x27;: &#x27;Append messages to the conversation history.\\n\\nNote: this does not send the messages on until `chat` is called.\\n\\nArgs:\\n    messages (str | Message): One or more messages to append to the conversation.&#x27;,\n",
       "   &#x27;parameters&#x27;: [{&#x27;name&#x27;: &#x27;self&#x27;, &#x27;default&#x27;: None, &#x27;annotation&#x27;: None},\n",
       "    {&#x27;name&#x27;: &#x27;messages&#x27;,\n",
       "     &#x27;default&#x27;: None,\n",
       "     &#x27;annotation&#x27;: &#x27;typing.Union[chatlab.messaging.BasicMessage, chatlab.messaging.FunctionCallMessage, chatlab.messaging.FunctionResultMessage, str]&#x27;}]},\n",
       "  {&#x27;name&#x27;: &#x27;chat&#x27;,\n",
       "   &#x27;description&#x27;: &#x27;Send messages to the chat model and display the response.\\n\\nDeprecated in 0.13.0, removed in 1.0.0. Use `submit` instead.\\n\\n\\n.. deprecated:: 0.13.0\\n   This will be removed in 1.0.0. Use `submit` instead.&#x27;,\n",
       "   &#x27;parameters&#x27;: [{&#x27;name&#x27;: &#x27;self&#x27;, &#x27;default&#x27;: None, &#x27;annotation&#x27;: None},\n",
       "    {&#x27;name&#x27;: &#x27;messages&#x27;,\n",
       "     &#x27;default&#x27;: None,\n",
       "     &#x27;annotation&#x27;: &#x27;typing.Union[chatlab.messaging.BasicMessage, chatlab.messaging.FunctionCallMessage, chatlab.messaging.FunctionResultMessage, str]&#x27;}]},\n",
       "  {&#x27;name&#x27;: &#x27;clear_history&#x27;,\n",
       "   &#x27;description&#x27;: &#x27;Clears the conversation history.&#x27;,\n",
       "   &#x27;parameters&#x27;: [{&#x27;name&#x27;: &#x27;self&#x27;, &#x27;default&#x27;: None, &#x27;annotation&#x27;: None}]},\n",
       "  {&#x27;name&#x27;: &#x27;get_history&#x27;,\n",
       "   &#x27;description&#x27;: &#x27;Returns the conversation history as a list of messages.&#x27;,\n",
       "   &#x27;parameters&#x27;: [{&#x27;name&#x27;: &#x27;self&#x27;, &#x27;default&#x27;: None, &#x27;annotation&#x27;: None}]},\n",
       "  {&#x27;name&#x27;: &#x27;ipython_magic_submit&#x27;,\n",
       "   &#x27;description&#x27;: &#x27;Submit a cell to the ChatLab instance.&#x27;,\n",
       "   &#x27;parameters&#x27;: [{&#x27;name&#x27;: &#x27;self&#x27;, &#x27;default&#x27;: None, &#x27;annotation&#x27;: None},\n",
       "    {&#x27;name&#x27;: &#x27;line&#x27;, &#x27;default&#x27;: None, &#x27;annotation&#x27;: None},\n",
       "    {&#x27;name&#x27;: &#x27;cell&#x27;, &#x27;default&#x27;: None, &#x27;annotation&#x27;: &#x27;typing.Optional[str]&#x27;}]},\n",
       "  {&#x27;name&#x27;: &#x27;make_magic&#x27;,\n",
       "   &#x27;description&#x27;: &#x27;Register the chat as an IPython magic with the given name.\\n\\nIn [1]: chat = Chat()\\nIn [2]: chat.make_magic(&quot;chat&quot;)\\nIn [3]: %%chat\\n   ...:\\n   ...: Lets chat!\\n   ...:\\nOut[3]: Sure, I\\&#x27;d be happy to chat! What\\&#x27;s on your mind?&#x27;,\n",
       "   &#x27;parameters&#x27;: [{&#x27;name&#x27;: &#x27;self&#x27;, &#x27;default&#x27;: None, &#x27;annotation&#x27;: None},\n",
       "    {&#x27;name&#x27;: &#x27;name&#x27;, &#x27;default&#x27;: None, &#x27;annotation&#x27;: None}]},\n",
       "  {&#x27;name&#x27;: &#x27;register&#x27;,\n",
       "   &#x27;description&#x27;: &#x27;Register a function with the ChatLab instance.\\n\\nDeprecated in 1.0.0, removed in 2.0.0. Use `register_function` instead.&#x27;,\n",
       "   &#x27;parameters&#x27;: [{&#x27;name&#x27;: &#x27;self&#x27;, &#x27;default&#x27;: None, &#x27;annotation&#x27;: None},\n",
       "    {&#x27;name&#x27;: &#x27;function&#x27;, &#x27;default&#x27;: None, &#x27;annotation&#x27;: &#x27;typing.Callable&#x27;},\n",
       "    {&#x27;name&#x27;: &#x27;parameter_schema&#x27;,\n",
       "     &#x27;default&#x27;: None,\n",
       "     &#x27;annotation&#x27;: &quot;typing.Union[typing.Type[ForwardRef(&#x27;BaseModel&#x27;)], dict, NoneType]&quot;}]},\n",
       "  {&#x27;name&#x27;: &#x27;register_function&#x27;,\n",
       "   &#x27;description&#x27;: &quot;Register a function with the ChatLab instance.\\n\\nArgs:\\n    function (Callable): The function to register.\\n\\n    parameter_schema (BaseModel or dict): The pydantic model or JSON schema for the function&#x27;s parameters.&quot;,\n",
       "   &#x27;parameters&#x27;: [{&#x27;name&#x27;: &#x27;self&#x27;, &#x27;default&#x27;: None, &#x27;annotation&#x27;: None},\n",
       "    {&#x27;name&#x27;: &#x27;function&#x27;, &#x27;default&#x27;: None, &#x27;annotation&#x27;: &#x27;typing.Callable&#x27;},\n",
       "    {&#x27;name&#x27;: &#x27;parameter_schema&#x27;,\n",
       "     &#x27;default&#x27;: None,\n",
       "     &#x27;annotation&#x27;: &quot;typing.Union[typing.Type[ForwardRef(&#x27;BaseModel&#x27;)], dict, NoneType]&quot;}]},\n",
       "  {&#x27;name&#x27;: &#x27;replace_hallucinated_python&#x27;,\n",
       "   &#x27;description&#x27;: &quot;Replace the hallucinated python function with a custom function.\\n\\nArgs:\\n    function (Callable): The function to register.\\n\\n    parameter_schema (BaseModel or dict): The pydantic model or JSON schema for the function&#x27;s parameters.&quot;,\n",
       "   &#x27;parameters&#x27;: [{&#x27;name&#x27;: &#x27;self&#x27;, &#x27;default&#x27;: None, &#x27;annotation&#x27;: None},\n",
       "    {&#x27;name&#x27;: &#x27;function&#x27;, &#x27;default&#x27;: None, &#x27;annotation&#x27;: &#x27;typing.Callable&#x27;},\n",
       "    {&#x27;name&#x27;: &#x27;parameter_schema&#x27;,\n",
       "     &#x27;default&#x27;: None,\n",
       "     &#x27;annotation&#x27;: &quot;typing.Union[typing.Type[ForwardRef(&#x27;BaseModel&#x27;)], dict, NoneType]&quot;}]},\n",
       "  {&#x27;name&#x27;: &#x27;submit&#x27;,\n",
       "   &#x27;description&#x27;: &#x27;Send messages to the chat model and display the response.\\n\\nSide effects:\\n    - Messages are sent to OpenAI Chat Models.\\n    - Response(s) are displayed in the output area as a combination of Markdown and chat function calls.\\n    - conversation.messages is updated with response(s).\\n\\nArgs:\\n    messages (str | Message): One or more messages to send to the chat, can be strings or Message objects.\\n\\n    stream (bool): Whether to stream chat into markdown or not. If False, the entire chat will be sent once.&#x27;,\n",
       "   &#x27;parameters&#x27;: [{&#x27;name&#x27;: &#x27;self&#x27;, &#x27;default&#x27;: None, &#x27;annotation&#x27;: None},\n",
       "    {&#x27;name&#x27;: &#x27;messages&#x27;,\n",
       "     &#x27;default&#x27;: None,\n",
       "     &#x27;annotation&#x27;: &#x27;typing.Union[chatlab.messaging.BasicMessage, chatlab.messaging.FunctionCallMessage, chatlab.messaging.FunctionResultMessage, str]&#x27;},\n",
       "    {&#x27;name&#x27;: &#x27;stream&#x27;, &#x27;default&#x27;: True, &#x27;annotation&#x27;: &quot;&lt;class &#x27;bool&#x27;&gt;&quot;}]}])</div></div></div></details></div>"
      ],
      "text/plain": [
       "<chatlab.display.ChatFunctionCall at 0x127c2c890>"
      ]
     },
     "metadata": {},
     "output_type": "display_data"
    },
    {
     "data": {
      "text/markdown": [
       "The file `chatlab_doc.json` appears to be generated as expected. Here is the docstring information extracted for the `Chat` class from the `chatlab` module:\n",
       "\n",
       "```json\n",
       "{\n",
       "  \"Chat\": [\n",
       "    {\n",
       "      \"name\": \"_Chat__process_stream\",\n",
       "      \"description\": null,\n",
       "      \"parameters\": [\n",
       "        {\n",
       "          \"name\": \"self\",\n",
       "          \"default\": null,\n",
       "          \"annotation\": null\n",
       "        },\n",
       "        {\n",
       "          \"name\": \"resp\",\n",
       "          \"default\": null,\n",
       "          \"annotation\": \"typing.Iterable[typing.Union[chatlab.messaging.StreamCompletion, chatlab.messaging.ChatCompletion]]\"\n",
       "        }\n",
       "      ]\n",
       "    },\n",
       "    {\n",
       "      \"name\": \"__call__\",\n",
       "      \"description\": \"Send messages to the chat model and display the response.\",\n",
       "      \"parameters\": [\n",
       "        {\n",
       "          \"name\": \"self\",\n",
       "          \"default\": null,\n",
       "          \"annotation\": null\n",
       "        },\n",
       "        {\n",
       "          \"name\": \"messages\",\n",
       "          \"default\": null,\n",
       "          \"annotation\": \"typing.Union[chatlab.messaging.BasicMessage, chatlab.messaging.FunctionCallMessage, chatlab.messaging.FunctionResultMessage, str]\"\n",
       "        },\n",
       "        {\n",
       "          \"name\": \"stream\",\n",
       "          \"default\": true,\n",
       "          \"annotation\": \"<class 'bool'>\"\n",
       "        }\n",
       "      ]\n",
       "    }\n",
       "    ...\n",
       "  ]\n",
       "}\n",
       "```\n",
       "From this excerpt, you can see that each method in the `Chat` class is represented as an object with fields for the method's name, description (docstring), and parameters. Each parameter, in turn, is represented as an object with fields for the parameter's name, default value, and data type. The complete JSON file contains similar information for all other classes and functions in the `chatlab` module.\n",
       "\n",
       "Please note that some docstrings and descriptions could be `null` if they were not provided in the original Python code."
      ],
      "text/plain": [
       "The file `chatlab_doc.json` appears to be generated as expected. Here is the docstring information extracted for the `Chat` class from the `chatlab` module:\n",
       "\n",
       "```json\n",
       "{\n",
       "  \"Chat\": [\n",
       "    {\n",
       "      \"name\": \"_Chat__process_stream\",\n",
       "      \"description\": null,\n",
       "      \"parameters\": [\n",
       "        {\n",
       "          \"name\": \"self\",\n",
       "          \"default\": null,\n",
       "          \"annotation\": null\n",
       "        },\n",
       "        {\n",
       "          \"name\": \"resp\",\n",
       "          \"default\": null,\n",
       "          \"annotation\": \"typing.Iterable[typing.Union[chatlab.messaging.StreamCompletion, chatlab.messaging.ChatCompletion]]\"\n",
       "        }\n",
       "      ]\n",
       "    },\n",
       "    {\n",
       "      \"name\": \"__call__\",\n",
       "      \"description\": \"Send messages to the chat model and display the response.\",\n",
       "      \"parameters\": [\n",
       "        {\n",
       "          \"name\": \"self\",\n",
       "          \"default\": null,\n",
       "          \"annotation\": null\n",
       "        },\n",
       "        {\n",
       "          \"name\": \"messages\",\n",
       "          \"default\": null,\n",
       "          \"annotation\": \"typing.Union[chatlab.messaging.BasicMessage, chatlab.messaging.FunctionCallMessage, chatlab.messaging.FunctionResultMessage, str]\"\n",
       "        },\n",
       "        {\n",
       "          \"name\": \"stream\",\n",
       "          \"default\": true,\n",
       "          \"annotation\": \"<class 'bool'>\"\n",
       "        }\n",
       "      ]\n",
       "    }\n",
       "    ...\n",
       "  ]\n",
       "}\n",
       "```\n",
       "From this excerpt, you can see that each method in the `Chat` class is represented as an object with fields for the method's name, description (docstring), and parameters. Each parameter, in turn, is represented as an object with fields for the parameter's name, default value, and data type. The complete JSON file contains similar information for all other classes and functions in the `chatlab` module.\n",
       "\n",
       "Please note that some docstrings and descriptions could be `null` if they were not provided in the original Python code."
      ]
     },
     "metadata": {
      "text/markdown": {
       "chatlab": {
        "default": true
       }
      }
     },
     "output_type": "display_data"
    }
   ],
   "source": [
    "message = \"\"\"\n",
    "Based on where we're at now, update the `DOC_PLAN.md` and `DOC_SUMMARY.md`. Some critical feedback I have based on what I see:\n",
    "\n",
    "This is a great start. The entire class and methods are here and it will incentivize developers to include docstrings on every function.\n",
    "\n",
    "Since these are public facing docs, non-public methods on `_Chat_` should not be included here. That means that `__process_stream` should not be included but `__call__`, `__init__`, should be included as well as e.g. `clear_history`. Deprecated methods should also not be included.\n",
    "\n",
    "Formatting could be greatly improved by using a monospace font on types and parameters.\n",
    "\n",
    "\"\"\"\n",
    "\n",
    "await chat(message)"
   ]
  },
  {
   "cell_type": "code",
   "execution_count": 21,
   "metadata": {},
   "outputs": [
    {
     "data": {
      "text/markdown": [
       "As the frontend developer who would convert this JSON into a nice series of MDX pages in automation, I might need a few more pieces of data to make the documentation more valuable:\n",
       "\n",
       "1. __Type Links__: As you pointed out, references to other types in the current output, such as `BasicMessage`, are just names. It would be helpful to have links to the definition of these types. Linking these correctly might require some additional metadata or a different structure for the JSON data.\n",
       "\n",
       "2. __Parent Class__: If we are documenting a class that inherits from another class, it might be helpful to have information about the parent class and its methods. This information can make it easier to understand the context of what methods are being overridden or extended.\n",
       "\n",
       "3. __Return Type__: The return type of functions or methods can provide important information on their usage. It's usually beneficial to include the return type annotations in the API docs.\n",
       "\n",
       "4. __Examples__: While some docstrings might contain usage examples, it could be beneficial to have a specific field for this, particularly because examples are such an important learning resource for developers. Automatically gathering them might be tricky, but if they exist in a predictable format in docstrings or somewhere else, they could be included in the generated JSON.\n",
       "\n",
       "With these pieces of information, the generated MDX pages will have more context and hence will be much more useful. Just keep in mind that while some of these enhancements require changes in the script that generates the JSON file, others might require changes in the codebase to include this necessary information."
      ],
      "text/plain": [
       "As the frontend developer who would convert this JSON into a nice series of MDX pages in automation, I might need a few more pieces of data to make the documentation more valuable:\n",
       "\n",
       "1. __Type Links__: As you pointed out, references to other types in the current output, such as `BasicMessage`, are just names. It would be helpful to have links to the definition of these types. Linking these correctly might require some additional metadata or a different structure for the JSON data.\n",
       "\n",
       "2. __Parent Class__: If we are documenting a class that inherits from another class, it might be helpful to have information about the parent class and its methods. This information can make it easier to understand the context of what methods are being overridden or extended.\n",
       "\n",
       "3. __Return Type__: The return type of functions or methods can provide important information on their usage. It's usually beneficial to include the return type annotations in the API docs.\n",
       "\n",
       "4. __Examples__: While some docstrings might contain usage examples, it could be beneficial to have a specific field for this, particularly because examples are such an important learning resource for developers. Automatically gathering them might be tricky, but if they exist in a predictable format in docstrings or somewhere else, they could be included in the generated JSON.\n",
       "\n",
       "With these pieces of information, the generated MDX pages will have more context and hence will be much more useful. Just keep in mind that while some of these enhancements require changes in the script that generates the JSON file, others might require changes in the codebase to include this necessary information."
      ]
     },
     "metadata": {
      "text/markdown": {
       "chatlab": {
        "default": true
       }
      }
     },
     "output_type": "display_data"
    }
   ],
   "source": [
    "await chat(\n",
    "    \"It's dawning on me how much of the annotations will need linking between types, like with `BasicMessage`. Imagine you're the frontend developer now, tasked with converting this JSON into a nice series of MDX pages in automation. Could you get started with what's here or would you need more?\"\n",
    ")"
   ]
  },
  {
   "cell_type": "code",
   "execution_count": 22,
   "metadata": {},
   "outputs": [
    {
     "data": {
      "text/markdown": [
       "Let's go with the option 2. Let's continue improving the script that generates the documentation JSON file. Specifically, I will add the following features:\n",
       "\n",
       "1. The return type of functions/methods.\n",
       "2. The parent classes for a class.\n",
       "3. When a parameter type refers to a class defined in the `chatlab` package, include a field containing a link to that class.\n",
       "\n",
       "Here is an improved version of the script:\n",
       "\n",
       "```python\n",
       "import inspect\n",
       "import json\n",
       "from typing import Dict, Any\n",
       "import chatlab\n",
       "\n",
       "def create_class_link(cls):\n",
       "    return f\"https://yourwebsite/docs/api/{cls.__name__}\"\n",
       "\n",
       "def get_class_doc_info(cls):\n",
       "    methods = inspect.getmembers(cls, predicate=inspect.isfunction)\n",
       "    class_methods_info = []\n",
       "    parent_classes = [c.__name__ for c in inspect.getmro(cls)[1:]]\n",
       "\n",
       "    for method in methods:\n",
       "        method_sig = inspect.signature(method[1])\n",
       "        method_description = inspect.getdoc(method[1])\n",
       "        return_annotation = method_sig.return_annotation\n",
       "        return_annotation = return_annotation.__name__ if return_annotation != inspect._empty else None\n",
       "        \n",
       "        parameters_info = []\n",
       "        for param in method_sig.parameters.values():\n",
       "            param_dict = {'name': param.name,\n",
       "                          'default': param.default if param.default != param.empty else None,\n",
       "                          'annotation': create_class_link(param.annotation) if param.annotation != param.empty and inspect.isclass(param.annotation) else str(param.annotation) if param.annotation != param.empty else None}\n",
       "            parameters_info.append(param_dict)\n",
       "        \n",
       "        method_info_dict = {'name': method[0],\n",
       "                            'description': method_description,\n",
       "                            'parameters': parameters_info,\n",
       "                            'returns': return_annotation}\n",
       "        class_methods_info.append(method_info_dict)\n",
       "        \n",
       "    return {\n",
       "        \"methods\": class_methods_info,\n",
       "        \"parent_classes\": parent_classes\n",
       "    }\n",
       "\n",
       "def gen_doc_info(module):\n",
       "    classes = inspect.getmembers(module, predicate=inspect.isclass)\n",
       "    module_doc_info = {}\n",
       "    \n",
       "    for cls in classes:\n",
       "        class_name, class_obj = cls\n",
       "        class_info = get_class_doc_info(class_obj)\n",
       "        module_doc_info[class_name] = class_info\n",
       "    \n",
       "    return module_doc_info\n",
       "\n",
       "def main():\n",
       "    doc_info = gen_doc_info(chatlab)\n",
       "\n",
       "    with open('website/docs/api/chatlab_doc.json', 'w') as fp:\n",
       "        json.dump(doc_info, fp)\n",
       "\n",
       "if __name__ == \"__main__\":\n",
       "    main()\n",
       "```\n",
       "\n",
       "Each method in the JSON output will now have an additional `returns` field that indicates the return type, and each class will have a `parent_classes` field that lists the name of its parent classes. If a parameter's type annotation is a class defined in the `chatlab` module, the type annotation will be a link to that class. The link is just a placeholder for now and should be replaced with the actual URL of the class documentation in the MDX files. \n",
       "\n",
       "You need to replace `https://yourwebsite/docs/api/` with the actual URL of your documentation website to create functional links."
      ],
      "text/plain": [
       "Let's go with the option 2. Let's continue improving the script that generates the documentation JSON file. Specifically, I will add the following features:\n",
       "\n",
       "1. The return type of functions/methods.\n",
       "2. The parent classes for a class.\n",
       "3. When a parameter type refers to a class defined in the `chatlab` package, include a field containing a link to that class.\n",
       "\n",
       "Here is an improved version of the script:\n",
       "\n",
       "```python\n",
       "import inspect\n",
       "import json\n",
       "from typing import Dict, Any\n",
       "import chatlab\n",
       "\n",
       "def create_class_link(cls):\n",
       "    return f\"https://yourwebsite/docs/api/{cls.__name__}\"\n",
       "\n",
       "def get_class_doc_info(cls):\n",
       "    methods = inspect.getmembers(cls, predicate=inspect.isfunction)\n",
       "    class_methods_info = []\n",
       "    parent_classes = [c.__name__ for c in inspect.getmro(cls)[1:]]\n",
       "\n",
       "    for method in methods:\n",
       "        method_sig = inspect.signature(method[1])\n",
       "        method_description = inspect.getdoc(method[1])\n",
       "        return_annotation = method_sig.return_annotation\n",
       "        return_annotation = return_annotation.__name__ if return_annotation != inspect._empty else None\n",
       "        \n",
       "        parameters_info = []\n",
       "        for param in method_sig.parameters.values():\n",
       "            param_dict = {'name': param.name,\n",
       "                          'default': param.default if param.default != param.empty else None,\n",
       "                          'annotation': create_class_link(param.annotation) if param.annotation != param.empty and inspect.isclass(param.annotation) else str(param.annotation) if param.annotation != param.empty else None}\n",
       "            parameters_info.append(param_dict)\n",
       "        \n",
       "        method_info_dict = {'name': method[0],\n",
       "                            'description': method_description,\n",
       "                            'parameters': parameters_info,\n",
       "                            'returns': return_annotation}\n",
       "        class_methods_info.append(method_info_dict)\n",
       "        \n",
       "    return {\n",
       "        \"methods\": class_methods_info,\n",
       "        \"parent_classes\": parent_classes\n",
       "    }\n",
       "\n",
       "def gen_doc_info(module):\n",
       "    classes = inspect.getmembers(module, predicate=inspect.isclass)\n",
       "    module_doc_info = {}\n",
       "    \n",
       "    for cls in classes:\n",
       "        class_name, class_obj = cls\n",
       "        class_info = get_class_doc_info(class_obj)\n",
       "        module_doc_info[class_name] = class_info\n",
       "    \n",
       "    return module_doc_info\n",
       "\n",
       "def main():\n",
       "    doc_info = gen_doc_info(chatlab)\n",
       "\n",
       "    with open('website/docs/api/chatlab_doc.json', 'w') as fp:\n",
       "        json.dump(doc_info, fp)\n",
       "\n",
       "if __name__ == \"__main__\":\n",
       "    main()\n",
       "```\n",
       "\n",
       "Each method in the JSON output will now have an additional `returns` field that indicates the return type, and each class will have a `parent_classes` field that lists the name of its parent classes. If a parameter's type annotation is a class defined in the `chatlab` module, the type annotation will be a link to that class. The link is just a placeholder for now and should be replaced with the actual URL of the class documentation in the MDX files. \n",
       "\n",
       "You need to replace `https://yourwebsite/docs/api/` with the actual URL of your documentation website to create functional links."
      ]
     },
     "metadata": {
      "text/markdown": {
       "chatlab": {
        "default": true
       }
      }
     },
     "output_type": "display_data"
    }
   ],
   "source": [
    "await chat(\n",
    "    f\"\"\"Choose your own adventure:\n",
    "\n",
    "1. As the frontend developer, implement a first pass MDX for the `Chat` class that reads from this JSON file.\n",
    "\n",
    "2. As the backend developer, use the feedback from the frontend developer to improve doc generation.\n",
    "\n",
    "\"\"\"\n",
    ")"
   ]
  },
  {
   "cell_type": "code",
   "execution_count": 23,
   "metadata": {},
   "outputs": [
    {
     "data": {
      "application/vdom.v1+json": {
       "attributes": {},
       "children": [
        {
         "attributes": {},
         "children": [
          ".chatlab-chat-details summary > *  { display: inline; color: #27374D; }"
         ],
         "tagName": "style"
        },
        {
         "attributes": {
          "className": "chatlab-chat-details",
          "style": {
           "background": "#DDE6ED",
           "borderRadius": "5px",
           "padding": ".5rem 1rem"
          }
         },
         "children": [
          {
           "attributes": {
            "style": {
             "color": "#27374D",
             "cursor": "pointer"
            }
           },
           "children": [
            {
             "attributes": {
              "style": {
               "color": "#9DB2BF",
               "paddingLeft": "5px",
               "paddingRight": "5px"
              }
             },
             "children": [
              "𝑓"
             ],
             "tagName": "span"
            },
            {
             "attributes": {
              "style": {
               "color": "#27374D",
               "paddingLeft": "5px",
               "paddingRight": "5px"
              }
             },
             "children": [
              "Ran"
             ],
             "tagName": "span"
            },
            {
             "attributes": {
              "style": {
               "fontFamily": "monospace",
               "unicodeBidi": "embed",
               "whiteSpace": "pre"
              }
             },
             "children": [
              "write_file"
             ],
             "tagName": "span"
            },
            {
             "attributes": {
              "style": {
               "fontFamily": "monospace",
               "unicodeBidi": "embed",
               "whiteSpace": "pre"
              }
             },
             "children": [
              ""
             ],
             "tagName": "span"
            }
           ],
           "tagName": "summary"
          },
          {
           "attributes": {
            "style": {
             "marginLeft": "10px",
             "marginTop": "10px"
            }
           },
           "children": [
            {
             "attributes": {},
             "children": [
              {
               "attributes": {
                "style": {
                 "color": "#27374D",
                 "fontWeight": "500",
                 "marginBottom": "5px"
                }
               },
               "children": [
                "Input:"
               ],
               "tagName": "div"
              },
              {
               "attributes": {
                "style": {
                 "background": "#F7F9FA",
                 "color": "#27374D",
                 "fontFamily": "monospace",
                 "marginBottom": "10px",
                 "overflowX": "auto",
                 "padding": "10px",
                 "unicodeBidi": "embed",
                 "whiteSpace": "pre"
                }
               },
               "children": [
                "{\n  \"file_path\": \"generate_docs.py\",\n  \"content\": \"import inspect\\nimport json\\nfrom typing import Dict, Any\\nimport chatlab\\n\\n\\ndef get_class_doc_info(cls):\\n    methods = inspect.getmembers(cls, predicate=inspect.isfunction)\\n    class_methods_info = []\\n    parent_classes = [c.__name__ for c in inspect.getmro(cls)[1:]]\\n\\n    for method in methods:\\n        method_sig = inspect.signature(method[1])\\n        method_description = inspect.getdoc(method[1])\\n        return_annotation = method_sig.return_annotation\\n        return_annotation = return_annotation.__name__ if return_annotation != inspect._empty else None\\n        \\n        parameters_info = []\\n        for param in method_sig.parameters.values():\\n            param_dict = {'name': param.name,\\n                          'default': param.default if param.default != param.empty else None,\\n                          'annotation': str(param.annotation) if param.annotation != param.empty else None}\\n            parameters_info.append(param_dict)\\n        \\n        method_info_dict = {'name': method[0],\\n                            'description': method_description,\\n                            'parameters': parameters_info,\\n                            'returns': return_annotation}\\n        class_methods_info.append(method_info_dict)\\n    \\n    return {\\n        \\\"methods\\\": class_methods_info,\\n        \\\"parent_classes\\\": parent_classes\\n    }\\n\\ndef gen_doc_info(module):\\n    classes = inspect.getmembers(module, predicate=inspect.isclass)\\n    module_doc_info = {}\\n    \\n    for cls in classes:\\n        class_name, class_obj = cls\\n        class_info = get_class_doc_info(class_obj)\\n        module_doc_info[class_name] = class_info\\n    \\n    return module_doc_info\\n\\ndef main():\\n    doc_info = gen_doc_info(chatlab)\\n\\n    with open('website/docs/api/chatlab_doc.json', 'w') as fp:\\n        json.dump(doc_info, fp)\\n\\nif __name__ == \\\"__main__\\\":\\n    main()\\n\"\n}"
               ],
               "tagName": "div"
              }
             ],
             "tagName": "div"
            },
            {
             "attributes": {},
             "children": [
              {
               "attributes": {
                "style": {
                 "color": "#27374D",
                 "fontWeight": "500",
                 "marginBottom": "5px"
                }
               },
               "children": [
                "Output:"
               ],
               "tagName": "div"
              },
              {
               "attributes": {
                "style": {
                 "background": "#F7F9FA",
                 "color": "#27374D",
                 "fontFamily": "monospace",
                 "marginBottom": "10px",
                 "overflowX": "auto",
                 "padding": "10px",
                 "unicodeBidi": "embed",
                 "whiteSpace": "pre"
                }
               },
               "children": [
                "None"
               ],
               "tagName": "div"
              }
             ],
             "tagName": "div"
            }
           ],
           "tagName": "div"
          }
         ],
         "tagName": "details"
        }
       ],
       "tagName": "div"
      },
      "text/html": [
       "<div><style>.chatlab-chat-details summary &gt; *  { display: inline; color: #27374D; }</style><details style=\"background: #DDE6ED; border-radius: 5px; padding: .5rem 1rem\" className=\"chatlab-chat-details\"><summary style=\"color: #27374D; cursor: pointer\"><span style=\"color: #9DB2BF; padding-left: 5px; padding-right: 5px\">𝑓</span><span style=\"color: #27374D; padding-left: 5px; padding-right: 5px\">Ran</span><span style=\"font-family: monospace; unicode-bidi: embed; white-space: pre\">write_file</span><span style=\"font-family: monospace; unicode-bidi: embed; white-space: pre\"></span></summary><div style=\"margin-left: 10px; margin-top: 10px\"><div><div style=\"color: #27374D; font-weight: 500; margin-bottom: 5px\">Input:</div><div style=\"background: #F7F9FA; color: #27374D; font-family: monospace; margin-bottom: 10px; overflow-x: auto; padding: 10px; unicode-bidi: embed; white-space: pre\">{\n",
       "  &quot;file_path&quot;: &quot;generate_docs.py&quot;,\n",
       "  &quot;content&quot;: &quot;import inspect\\nimport json\\nfrom typing import Dict, Any\\nimport chatlab\\n\\n\\ndef get_class_doc_info(cls):\\n    methods = inspect.getmembers(cls, predicate=inspect.isfunction)\\n    class_methods_info = []\\n    parent_classes = [c.__name__ for c in inspect.getmro(cls)[1:]]\\n\\n    for method in methods:\\n        method_sig = inspect.signature(method[1])\\n        method_description = inspect.getdoc(method[1])\\n        return_annotation = method_sig.return_annotation\\n        return_annotation = return_annotation.__name__ if return_annotation != inspect._empty else None\\n        \\n        parameters_info = []\\n        for param in method_sig.parameters.values():\\n            param_dict = {&#x27;name&#x27;: param.name,\\n                          &#x27;default&#x27;: param.default if param.default != param.empty else None,\\n                          &#x27;annotation&#x27;: str(param.annotation) if param.annotation != param.empty else None}\\n            parameters_info.append(param_dict)\\n        \\n        method_info_dict = {&#x27;name&#x27;: method[0],\\n                            &#x27;description&#x27;: method_description,\\n                            &#x27;parameters&#x27;: parameters_info,\\n                            &#x27;returns&#x27;: return_annotation}\\n        class_methods_info.append(method_info_dict)\\n    \\n    return {\\n        \\&quot;methods\\&quot;: class_methods_info,\\n        \\&quot;parent_classes\\&quot;: parent_classes\\n    }\\n\\ndef gen_doc_info(module):\\n    classes = inspect.getmembers(module, predicate=inspect.isclass)\\n    module_doc_info = {}\\n    \\n    for cls in classes:\\n        class_name, class_obj = cls\\n        class_info = get_class_doc_info(class_obj)\\n        module_doc_info[class_name] = class_info\\n    \\n    return module_doc_info\\n\\ndef main():\\n    doc_info = gen_doc_info(chatlab)\\n\\n    with open(&#x27;website/docs/api/chatlab_doc.json&#x27;, &#x27;w&#x27;) as fp:\\n        json.dump(doc_info, fp)\\n\\nif __name__ == \\&quot;__main__\\&quot;:\\n    main()\\n&quot;\n",
       "}</div></div><div><div style=\"color: #27374D; font-weight: 500; margin-bottom: 5px\">Output:</div><div style=\"background: #F7F9FA; color: #27374D; font-family: monospace; margin-bottom: 10px; overflow-x: auto; padding: 10px; unicode-bidi: embed; white-space: pre\">None</div></div></div></details></div>"
      ],
      "text/plain": [
       "<chatlab.display.ChatFunctionCall at 0x13797e390>"
      ]
     },
     "metadata": {},
     "output_type": "display_data"
    },
    {
     "data": {
      "application/vdom.v1+json": {
       "attributes": {},
       "children": [
        {
         "attributes": {},
         "children": [
          ".chatlab-chat-details summary > *  { display: inline; color: #27374D; }"
         ],
         "tagName": "style"
        },
        {
         "attributes": {
          "className": "chatlab-chat-details",
          "style": {
           "background": "#DDE6ED",
           "borderRadius": "5px",
           "padding": ".5rem 1rem"
          }
         },
         "children": [
          {
           "attributes": {
            "style": {
             "color": "#27374D",
             "cursor": "pointer"
            }
           },
           "children": [
            {
             "attributes": {
              "style": {
               "color": "#9DB2BF",
               "paddingLeft": "5px",
               "paddingRight": "5px"
              }
             },
             "children": [
              "𝑓"
             ],
             "tagName": "span"
            },
            {
             "attributes": {
              "style": {
               "color": "#27374D",
               "paddingLeft": "5px",
               "paddingRight": "5px"
              }
             },
             "children": [
              "Ran"
             ],
             "tagName": "span"
            },
            {
             "attributes": {
              "style": {
               "fontFamily": "monospace",
               "unicodeBidi": "embed",
               "whiteSpace": "pre"
              }
             },
             "children": [
              "run_shell_command"
             ],
             "tagName": "span"
            },
            {
             "attributes": {
              "style": {
               "fontFamily": "monospace",
               "unicodeBidi": "embed",
               "whiteSpace": "pre"
              }
             },
             "children": [
              ""
             ],
             "tagName": "span"
            }
           ],
           "tagName": "summary"
          },
          {
           "attributes": {
            "style": {
             "marginLeft": "10px",
             "marginTop": "10px"
            }
           },
           "children": [
            {
             "attributes": {},
             "children": [
              {
               "attributes": {
                "style": {
                 "color": "#27374D",
                 "fontWeight": "500",
                 "marginBottom": "5px"
                }
               },
               "children": [
                "Input:"
               ],
               "tagName": "div"
              },
              {
               "attributes": {
                "style": {
                 "background": "#F7F9FA",
                 "color": "#27374D",
                 "fontFamily": "monospace",
                 "marginBottom": "10px",
                 "overflowX": "auto",
                 "padding": "10px",
                 "unicodeBidi": "embed",
                 "whiteSpace": "pre"
                }
               },
               "children": [
                "{\n  \"command\": \"poetry run python generate_docs.py\"\n}"
               ],
               "tagName": "div"
              }
             ],
             "tagName": "div"
            },
            {
             "attributes": {},
             "children": [
              {
               "attributes": {
                "style": {
                 "color": "#27374D",
                 "fontWeight": "500",
                 "marginBottom": "5px"
                }
               },
               "children": [
                "Output:"
               ],
               "tagName": "div"
              },
              {
               "attributes": {
                "style": {
                 "background": "#F7F9FA",
                 "color": "#27374D",
                 "fontFamily": "monospace",
                 "marginBottom": "10px",
                 "overflowX": "auto",
                 "padding": "10px",
                 "unicodeBidi": "embed",
                 "whiteSpace": "pre"
                }
               },
               "children": [
                "Return Code: 1\nstdout: ```\n\n```\nstderr: ```\nTraceback (most recent call last):\n  File \"/Users/kai/code/src/github.com/rgbkrk/chatlab/generate_docs.py\", line 54, in <module>\n    main()\n  File \"/Users/kai/code/src/github.com/rgbkrk/chatlab/generate_docs.py\", line 48, in main\n    doc_info = gen_doc_info(chatlab)\n               ^^^^^^^^^^^^^^^^^^^^^\n  File \"/Users/kai/code/src/github.com/rgbkrk/chatlab/generate_docs.py\", line 42, in gen_doc_info\n    class_info = get_class_doc_info(class_obj)\n                 ^^^^^^^^^^^^^^^^^^^^^^^^^^^^^\n  File \"/Users/kai/code/src/github.com/rgbkrk/chatlab/generate_docs.py\", line 16, in get_class_doc_info\n    return_annotation = return_annotation.__name__ if return_annotation != inspect._empty else None\n                        ^^^^^^^^^^^^^^^^^^^^^^^^^^\nAttributeError: 'NoneType' object has no attribute '__name__'. Did you mean: '__ne__'?\n```"
               ],
               "tagName": "div"
              }
             ],
             "tagName": "div"
            }
           ],
           "tagName": "div"
          }
         ],
         "tagName": "details"
        }
       ],
       "tagName": "div"
      },
      "text/html": [
       "<div><style>.chatlab-chat-details summary &gt; *  { display: inline; color: #27374D; }</style><details style=\"background: #DDE6ED; border-radius: 5px; padding: .5rem 1rem\" className=\"chatlab-chat-details\"><summary style=\"color: #27374D; cursor: pointer\"><span style=\"color: #9DB2BF; padding-left: 5px; padding-right: 5px\">𝑓</span><span style=\"color: #27374D; padding-left: 5px; padding-right: 5px\">Ran</span><span style=\"font-family: monospace; unicode-bidi: embed; white-space: pre\">run_shell_command</span><span style=\"font-family: monospace; unicode-bidi: embed; white-space: pre\"></span></summary><div style=\"margin-left: 10px; margin-top: 10px\"><div><div style=\"color: #27374D; font-weight: 500; margin-bottom: 5px\">Input:</div><div style=\"background: #F7F9FA; color: #27374D; font-family: monospace; margin-bottom: 10px; overflow-x: auto; padding: 10px; unicode-bidi: embed; white-space: pre\">{\n",
       "  &quot;command&quot;: &quot;poetry run python generate_docs.py&quot;\n",
       "}</div></div><div><div style=\"color: #27374D; font-weight: 500; margin-bottom: 5px\">Output:</div><div style=\"background: #F7F9FA; color: #27374D; font-family: monospace; margin-bottom: 10px; overflow-x: auto; padding: 10px; unicode-bidi: embed; white-space: pre\">Return Code: 1\n",
       "stdout: ```\n",
       "\n",
       "```\n",
       "stderr: ```\n",
       "Traceback (most recent call last):\n",
       "  File &quot;/Users/kai/code/src/github.com/rgbkrk/chatlab/generate_docs.py&quot;, line 54, in &lt;module&gt;\n",
       "    main()\n",
       "  File &quot;/Users/kai/code/src/github.com/rgbkrk/chatlab/generate_docs.py&quot;, line 48, in main\n",
       "    doc_info = gen_doc_info(chatlab)\n",
       "               ^^^^^^^^^^^^^^^^^^^^^\n",
       "  File &quot;/Users/kai/code/src/github.com/rgbkrk/chatlab/generate_docs.py&quot;, line 42, in gen_doc_info\n",
       "    class_info = get_class_doc_info(class_obj)\n",
       "                 ^^^^^^^^^^^^^^^^^^^^^^^^^^^^^\n",
       "  File &quot;/Users/kai/code/src/github.com/rgbkrk/chatlab/generate_docs.py&quot;, line 16, in get_class_doc_info\n",
       "    return_annotation = return_annotation.__name__ if return_annotation != inspect._empty else None\n",
       "                        ^^^^^^^^^^^^^^^^^^^^^^^^^^\n",
       "AttributeError: &#x27;NoneType&#x27; object has no attribute &#x27;__name__&#x27;. Did you mean: &#x27;__ne__&#x27;?\n",
       "```</div></div></div></details></div>"
      ],
      "text/plain": [
       "<chatlab.display.ChatFunctionCall at 0x1379df090>"
      ]
     },
     "metadata": {},
     "output_type": "display_data"
    },
    {
     "name": "stderr",
     "output_type": "stream",
     "text": [
      "Rate limited: Rate limit reached for 10KTPM-200RPM in organization org-AvW35q1q5Cvyc7XBAN0vTW9d on tokens per min. Limit: 10000 / min. Please try again in 6ms. Contact us through our help center at help.openai.com if you continue to have issues.. Waiting 5 seconds and trying again.\n"
     ]
    },
    {
     "data": {
      "text/markdown": [
       "Apologies for the error. Instead of accessing `__name__`, we should make sure that the `return_annotation` is a class. Here's the modified script:\n",
       "\n",
       "```python\n",
       "import inspect\n",
       "import json\n",
       "from typing import Dict, Any\n",
       "import chatlab\n",
       "\n",
       "def get_class_doc_info(cls):\n",
       "    methods = inspect.getmembers(cls, predicate=inspect.isfunction)\n",
       "    class_methods_info = []\n",
       "    parent_classes = [c.__name__ for c in inspect.getmro(cls)[1:]]\n",
       "\n",
       "    for method in methods:\n",
       "        method_sig = inspect.signature(method[1])\n",
       "        method_description = inspect.getdoc(method[1])\n",
       "        return_annotation = inspect.signature(method[1]).return_annotation\n",
       "        return_annotation = return_annotation.__name__ if inspect.isclass(return_annotation) else str(return_annotation) if return_annotation != inspect._empty else None\n",
       "        \n",
       "        parameters_info = []\n",
       "        for param in method_sig.parameters.values():\n",
       "            param_dict = {'name': param.name,\n",
       "                          'default': param.default if param.default != param.empty else None,\n",
       "                          'annotation': str(param.annotation) if param.annotation != param.empty else None}\n",
       "            parameters_info.append(param_dict)\n",
       "        \n",
       "        method_info_dict = {'name': method[0],\n",
       "                            'description': method_description,\n",
       "                            'parameters': parameters_info,\n",
       "                            'returns': return_annotation}\n",
       "        class_methods_info.append(method_info_dict)\n",
       "    \n",
       "    return {\n",
       "        \"methods\": class_methods_info,\n",
       "        \"parent_classes\": parent_classes\n",
       "    }\n",
       "\n",
       "def gen_doc_info(module):\n",
       "    classes = inspect.getmembers(module, predicate=inspect.isclass)\n",
       "    module_doc_info = {}\n",
       "    \n",
       "    for cls in classes:\n",
       "        class_name, class_obj = cls\n",
       "        class_info = get_class_doc_info(class_obj)\n",
       "        module_doc_info[class_name] = class_info\n",
       "    \n",
       "    return module_doc_info\n",
       "\n",
       "def main():\n",
       "    doc_info = gen_doc_info(chatlab)\n",
       "\n",
       "    with open('website/docs/api/chatlab_doc.json', 'w') as fp:\n",
       "        json.dump(doc_info, fp)\n",
       "\n",
       "if __name__ == \"__main__\":\n",
       "    main()\n",
       "```\n",
       "\n",
       "Let's update the script and run it again."
      ],
      "text/plain": [
       "Apologies for the error. Instead of accessing `__name__`, we should make sure that the `return_annotation` is a class. Here's the modified script:\n",
       "\n",
       "```python\n",
       "import inspect\n",
       "import json\n",
       "from typing import Dict, Any\n",
       "import chatlab\n",
       "\n",
       "def get_class_doc_info(cls):\n",
       "    methods = inspect.getmembers(cls, predicate=inspect.isfunction)\n",
       "    class_methods_info = []\n",
       "    parent_classes = [c.__name__ for c in inspect.getmro(cls)[1:]]\n",
       "\n",
       "    for method in methods:\n",
       "        method_sig = inspect.signature(method[1])\n",
       "        method_description = inspect.getdoc(method[1])\n",
       "        return_annotation = inspect.signature(method[1]).return_annotation\n",
       "        return_annotation = return_annotation.__name__ if inspect.isclass(return_annotation) else str(return_annotation) if return_annotation != inspect._empty else None\n",
       "        \n",
       "        parameters_info = []\n",
       "        for param in method_sig.parameters.values():\n",
       "            param_dict = {'name': param.name,\n",
       "                          'default': param.default if param.default != param.empty else None,\n",
       "                          'annotation': str(param.annotation) if param.annotation != param.empty else None}\n",
       "            parameters_info.append(param_dict)\n",
       "        \n",
       "        method_info_dict = {'name': method[0],\n",
       "                            'description': method_description,\n",
       "                            'parameters': parameters_info,\n",
       "                            'returns': return_annotation}\n",
       "        class_methods_info.append(method_info_dict)\n",
       "    \n",
       "    return {\n",
       "        \"methods\": class_methods_info,\n",
       "        \"parent_classes\": parent_classes\n",
       "    }\n",
       "\n",
       "def gen_doc_info(module):\n",
       "    classes = inspect.getmembers(module, predicate=inspect.isclass)\n",
       "    module_doc_info = {}\n",
       "    \n",
       "    for cls in classes:\n",
       "        class_name, class_obj = cls\n",
       "        class_info = get_class_doc_info(class_obj)\n",
       "        module_doc_info[class_name] = class_info\n",
       "    \n",
       "    return module_doc_info\n",
       "\n",
       "def main():\n",
       "    doc_info = gen_doc_info(chatlab)\n",
       "\n",
       "    with open('website/docs/api/chatlab_doc.json', 'w') as fp:\n",
       "        json.dump(doc_info, fp)\n",
       "\n",
       "if __name__ == \"__main__\":\n",
       "    main()\n",
       "```\n",
       "\n",
       "Let's update the script and run it again."
      ]
     },
     "metadata": {
      "text/markdown": {
       "chatlab": {
        "default": true
       }
      }
     },
     "output_type": "display_data"
    },
    {
     "data": {
      "application/vdom.v1+json": {
       "attributes": {},
       "children": [
        {
         "attributes": {},
         "children": [
          ".chatlab-chat-details summary > *  { display: inline; color: #27374D; }"
         ],
         "tagName": "style"
        },
        {
         "attributes": {
          "className": "chatlab-chat-details",
          "style": {
           "background": "#DDE6ED",
           "borderRadius": "5px",
           "padding": ".5rem 1rem"
          }
         },
         "children": [
          {
           "attributes": {
            "style": {
             "color": "#27374D",
             "cursor": "pointer"
            }
           },
           "children": [
            {
             "attributes": {
              "style": {
               "color": "#9DB2BF",
               "paddingLeft": "5px",
               "paddingRight": "5px"
              }
             },
             "children": [
              "𝑓"
             ],
             "tagName": "span"
            },
            {
             "attributes": {
              "style": {
               "color": "#27374D",
               "paddingLeft": "5px",
               "paddingRight": "5px"
              }
             },
             "children": [
              "Ran"
             ],
             "tagName": "span"
            },
            {
             "attributes": {
              "style": {
               "fontFamily": "monospace",
               "unicodeBidi": "embed",
               "whiteSpace": "pre"
              }
             },
             "children": [
              "write_file"
             ],
             "tagName": "span"
            },
            {
             "attributes": {
              "style": {
               "fontFamily": "monospace",
               "unicodeBidi": "embed",
               "whiteSpace": "pre"
              }
             },
             "children": [
              ""
             ],
             "tagName": "span"
            }
           ],
           "tagName": "summary"
          },
          {
           "attributes": {
            "style": {
             "marginLeft": "10px",
             "marginTop": "10px"
            }
           },
           "children": [
            {
             "attributes": {},
             "children": [
              {
               "attributes": {
                "style": {
                 "color": "#27374D",
                 "fontWeight": "500",
                 "marginBottom": "5px"
                }
               },
               "children": [
                "Input:"
               ],
               "tagName": "div"
              },
              {
               "attributes": {
                "style": {
                 "background": "#F7F9FA",
                 "color": "#27374D",
                 "fontFamily": "monospace",
                 "marginBottom": "10px",
                 "overflowX": "auto",
                 "padding": "10px",
                 "unicodeBidi": "embed",
                 "whiteSpace": "pre"
                }
               },
               "children": [
                "{\n  \"file_path\": \"generate_docs.py\",\n  \"content\": \"import inspect\\nimport json\\nfrom typing import Dict, Any\\nimport chatlab\\n\\n\\ndef get_class_doc_info(cls):\\n    methods = inspect.getmembers(cls, predicate=inspect.isfunction)\\n    class_methods_info = []\\n    parent_classes = [c.__name__ for c in inspect.getmro(cls)[1:]]\\n\\n    for method in methods:\\n        method_sig = inspect.signature(method[1])\\n        method_description = inspect.getdoc(method[1])\\n        return_annotation = inspect.signature(method[1]).return_annotation\\n        return_annotation = return_annotation.__name__ if inspect.isclass(return_annotation) else str(return_annotation) if return_annotation != inspect._empty else None\\n        \\n        parameters_info = []\\n        for param in method_sig.parameters.values():\\n            param_dict = {'name': param.name,\\n                          'default': param.default if param.default != param.empty else None,\\n                          'annotation': str(param.annotation) if param.annotation != param.empty else None}\\n            parameters_info.append(param_dict)\\n        \\n        method_info_dict = {'name': method[0],\\n                            'description': method_description,\\n                            'parameters': parameters_info,\\n                            'returns': return_annotation}\\n        class_methods_info.append(method_info_dict)\\n    \\n    return {\\n        \\\"methods\\\": class_methods_info,\\n        \\\"parent_classes\\\": parent_classes\\n    }\\n\\n\\ndef gen_doc_info(module):\\n    classes = inspect.getmembers(module, predicate=inspect.isclass)\\n    module_doc_info = {}\\n    \\n    for cls in classes:\\n        class_name, class_obj = cls\\n        class_info = get_class_doc_info(class_obj)\\n        module_doc_info[class_name] = class_info\\n    \\n    return module_doc_info\\n\\n\\ndef main():\\n    doc_info = gen_doc_info(chatlab)\\n\\n    with open('website/docs/api/chatlab_doc.json', 'w') as fp:\\n        json.dump(doc_info, fp)\\n\\nif __name__ == \\\"__main__\\\":\\n    main()\\n\"\n}"
               ],
               "tagName": "div"
              }
             ],
             "tagName": "div"
            },
            {
             "attributes": {},
             "children": [
              {
               "attributes": {
                "style": {
                 "color": "#27374D",
                 "fontWeight": "500",
                 "marginBottom": "5px"
                }
               },
               "children": [
                "Output:"
               ],
               "tagName": "div"
              },
              {
               "attributes": {
                "style": {
                 "background": "#F7F9FA",
                 "color": "#27374D",
                 "fontFamily": "monospace",
                 "marginBottom": "10px",
                 "overflowX": "auto",
                 "padding": "10px",
                 "unicodeBidi": "embed",
                 "whiteSpace": "pre"
                }
               },
               "children": [
                "None"
               ],
               "tagName": "div"
              }
             ],
             "tagName": "div"
            }
           ],
           "tagName": "div"
          }
         ],
         "tagName": "details"
        }
       ],
       "tagName": "div"
      },
      "text/html": [
       "<div><style>.chatlab-chat-details summary &gt; *  { display: inline; color: #27374D; }</style><details style=\"background: #DDE6ED; border-radius: 5px; padding: .5rem 1rem\" className=\"chatlab-chat-details\"><summary style=\"color: #27374D; cursor: pointer\"><span style=\"color: #9DB2BF; padding-left: 5px; padding-right: 5px\">𝑓</span><span style=\"color: #27374D; padding-left: 5px; padding-right: 5px\">Ran</span><span style=\"font-family: monospace; unicode-bidi: embed; white-space: pre\">write_file</span><span style=\"font-family: monospace; unicode-bidi: embed; white-space: pre\"></span></summary><div style=\"margin-left: 10px; margin-top: 10px\"><div><div style=\"color: #27374D; font-weight: 500; margin-bottom: 5px\">Input:</div><div style=\"background: #F7F9FA; color: #27374D; font-family: monospace; margin-bottom: 10px; overflow-x: auto; padding: 10px; unicode-bidi: embed; white-space: pre\">{\n",
       "  &quot;file_path&quot;: &quot;generate_docs.py&quot;,\n",
       "  &quot;content&quot;: &quot;import inspect\\nimport json\\nfrom typing import Dict, Any\\nimport chatlab\\n\\n\\ndef get_class_doc_info(cls):\\n    methods = inspect.getmembers(cls, predicate=inspect.isfunction)\\n    class_methods_info = []\\n    parent_classes = [c.__name__ for c in inspect.getmro(cls)[1:]]\\n\\n    for method in methods:\\n        method_sig = inspect.signature(method[1])\\n        method_description = inspect.getdoc(method[1])\\n        return_annotation = inspect.signature(method[1]).return_annotation\\n        return_annotation = return_annotation.__name__ if inspect.isclass(return_annotation) else str(return_annotation) if return_annotation != inspect._empty else None\\n        \\n        parameters_info = []\\n        for param in method_sig.parameters.values():\\n            param_dict = {&#x27;name&#x27;: param.name,\\n                          &#x27;default&#x27;: param.default if param.default != param.empty else None,\\n                          &#x27;annotation&#x27;: str(param.annotation) if param.annotation != param.empty else None}\\n            parameters_info.append(param_dict)\\n        \\n        method_info_dict = {&#x27;name&#x27;: method[0],\\n                            &#x27;description&#x27;: method_description,\\n                            &#x27;parameters&#x27;: parameters_info,\\n                            &#x27;returns&#x27;: return_annotation}\\n        class_methods_info.append(method_info_dict)\\n    \\n    return {\\n        \\&quot;methods\\&quot;: class_methods_info,\\n        \\&quot;parent_classes\\&quot;: parent_classes\\n    }\\n\\n\\ndef gen_doc_info(module):\\n    classes = inspect.getmembers(module, predicate=inspect.isclass)\\n    module_doc_info = {}\\n    \\n    for cls in classes:\\n        class_name, class_obj = cls\\n        class_info = get_class_doc_info(class_obj)\\n        module_doc_info[class_name] = class_info\\n    \\n    return module_doc_info\\n\\n\\ndef main():\\n    doc_info = gen_doc_info(chatlab)\\n\\n    with open(&#x27;website/docs/api/chatlab_doc.json&#x27;, &#x27;w&#x27;) as fp:\\n        json.dump(doc_info, fp)\\n\\nif __name__ == \\&quot;__main__\\&quot;:\\n    main()\\n&quot;\n",
       "}</div></div><div><div style=\"color: #27374D; font-weight: 500; margin-bottom: 5px\">Output:</div><div style=\"background: #F7F9FA; color: #27374D; font-family: monospace; margin-bottom: 10px; overflow-x: auto; padding: 10px; unicode-bidi: embed; white-space: pre\">None</div></div></div></details></div>"
      ],
      "text/plain": [
       "<chatlab.display.ChatFunctionCall at 0x1379c5a90>"
      ]
     },
     "metadata": {},
     "output_type": "display_data"
    },
    {
     "data": {
      "application/vdom.v1+json": {
       "attributes": {},
       "children": [
        {
         "attributes": {},
         "children": [
          ".chatlab-chat-details summary > *  { display: inline; color: #27374D; }"
         ],
         "tagName": "style"
        },
        {
         "attributes": {
          "className": "chatlab-chat-details",
          "style": {
           "background": "#DDE6ED",
           "borderRadius": "5px",
           "padding": ".5rem 1rem"
          }
         },
         "children": [
          {
           "attributes": {
            "style": {
             "color": "#27374D",
             "cursor": "pointer"
            }
           },
           "children": [
            {
             "attributes": {
              "style": {
               "color": "#9DB2BF",
               "paddingLeft": "5px",
               "paddingRight": "5px"
              }
             },
             "children": [
              "𝑓"
             ],
             "tagName": "span"
            },
            {
             "attributes": {
              "style": {
               "color": "#27374D",
               "paddingLeft": "5px",
               "paddingRight": "5px"
              }
             },
             "children": [
              "Ran"
             ],
             "tagName": "span"
            },
            {
             "attributes": {
              "style": {
               "fontFamily": "monospace",
               "unicodeBidi": "embed",
               "whiteSpace": "pre"
              }
             },
             "children": [
              "run_shell_command"
             ],
             "tagName": "span"
            },
            {
             "attributes": {
              "style": {
               "fontFamily": "monospace",
               "unicodeBidi": "embed",
               "whiteSpace": "pre"
              }
             },
             "children": [
              ""
             ],
             "tagName": "span"
            }
           ],
           "tagName": "summary"
          },
          {
           "attributes": {
            "style": {
             "marginLeft": "10px",
             "marginTop": "10px"
            }
           },
           "children": [
            {
             "attributes": {},
             "children": [
              {
               "attributes": {
                "style": {
                 "color": "#27374D",
                 "fontWeight": "500",
                 "marginBottom": "5px"
                }
               },
               "children": [
                "Input:"
               ],
               "tagName": "div"
              },
              {
               "attributes": {
                "style": {
                 "background": "#F7F9FA",
                 "color": "#27374D",
                 "fontFamily": "monospace",
                 "marginBottom": "10px",
                 "overflowX": "auto",
                 "padding": "10px",
                 "unicodeBidi": "embed",
                 "whiteSpace": "pre"
                }
               },
               "children": [
                "{\n  \"command\": \"poetry run python generate_docs.py\"\n}"
               ],
               "tagName": "div"
              }
             ],
             "tagName": "div"
            },
            {
             "attributes": {},
             "children": [
              {
               "attributes": {
                "style": {
                 "color": "#27374D",
                 "fontWeight": "500",
                 "marginBottom": "5px"
                }
               },
               "children": [
                "Output:"
               ],
               "tagName": "div"
              },
              {
               "attributes": {
                "style": {
                 "background": "#F7F9FA",
                 "color": "#27374D",
                 "fontFamily": "monospace",
                 "marginBottom": "10px",
                 "overflowX": "auto",
                 "padding": "10px",
                 "unicodeBidi": "embed",
                 "whiteSpace": "pre"
                }
               },
               "children": [
                "Return Code: 0\nstdout: ```\n\n```\nstderr: ```\n\n```"
               ],
               "tagName": "div"
              }
             ],
             "tagName": "div"
            }
           ],
           "tagName": "div"
          }
         ],
         "tagName": "details"
        }
       ],
       "tagName": "div"
      },
      "text/html": [
       "<div><style>.chatlab-chat-details summary &gt; *  { display: inline; color: #27374D; }</style><details style=\"background: #DDE6ED; border-radius: 5px; padding: .5rem 1rem\" className=\"chatlab-chat-details\"><summary style=\"color: #27374D; cursor: pointer\"><span style=\"color: #9DB2BF; padding-left: 5px; padding-right: 5px\">𝑓</span><span style=\"color: #27374D; padding-left: 5px; padding-right: 5px\">Ran</span><span style=\"font-family: monospace; unicode-bidi: embed; white-space: pre\">run_shell_command</span><span style=\"font-family: monospace; unicode-bidi: embed; white-space: pre\"></span></summary><div style=\"margin-left: 10px; margin-top: 10px\"><div><div style=\"color: #27374D; font-weight: 500; margin-bottom: 5px\">Input:</div><div style=\"background: #F7F9FA; color: #27374D; font-family: monospace; margin-bottom: 10px; overflow-x: auto; padding: 10px; unicode-bidi: embed; white-space: pre\">{\n",
       "  &quot;command&quot;: &quot;poetry run python generate_docs.py&quot;\n",
       "}</div></div><div><div style=\"color: #27374D; font-weight: 500; margin-bottom: 5px\">Output:</div><div style=\"background: #F7F9FA; color: #27374D; font-family: monospace; margin-bottom: 10px; overflow-x: auto; padding: 10px; unicode-bidi: embed; white-space: pre\">Return Code: 0\n",
       "stdout: ```\n",
       "\n",
       "```\n",
       "stderr: ```\n",
       "\n",
       "```</div></div></div></details></div>"
      ],
      "text/plain": [
       "<chatlab.display.ChatFunctionCall at 0x127ca70d0>"
      ]
     },
     "metadata": {},
     "output_type": "display_data"
    },
    {
     "name": "stderr",
     "output_type": "stream",
     "text": [
      "Rate limited: Rate limit reached for 10KTPM-200RPM in organization org-AvW35q1q5Cvyc7XBAN0vTW9d on tokens per min. Limit: 10000 / min. Please try again in 6ms. Contact us through our help center at help.openai.com if you continue to have issues.. Waiting 5 seconds and trying again.\n",
      "Rate limited: Rate limit reached for 10KTPM-200RPM in organization org-AvW35q1q5Cvyc7XBAN0vTW9d on tokens per min. Limit: 10000 / min. Please try again in 6ms. Contact us through our help center at help.openai.com if you continue to have issues.. Waiting 5 seconds and trying again.\n"
     ]
    },
    {
     "data": {
      "application/vdom.v1+json": {
       "attributes": {},
       "children": [
        {
         "attributes": {},
         "children": [
          ".chatlab-chat-details summary > *  { display: inline; color: #27374D; }"
         ],
         "tagName": "style"
        },
        {
         "attributes": {
          "className": "chatlab-chat-details",
          "style": {
           "background": "#DDE6ED",
           "borderRadius": "5px",
           "padding": ".5rem 1rem"
          }
         },
         "children": [
          {
           "attributes": {
            "style": {
             "color": "#27374D",
             "cursor": "pointer"
            }
           },
           "children": [
            {
             "attributes": {
              "style": {
               "color": "#9DB2BF",
               "paddingLeft": "5px",
               "paddingRight": "5px"
              }
             },
             "children": [
              "𝑓"
             ],
             "tagName": "span"
            },
            {
             "attributes": {
              "style": {
               "color": "#27374D",
               "paddingLeft": "5px",
               "paddingRight": "5px"
              }
             },
             "children": [
              "Ran"
             ],
             "tagName": "span"
            },
            {
             "attributes": {
              "style": {
               "fontFamily": "monospace",
               "unicodeBidi": "embed",
               "whiteSpace": "pre"
              }
             },
             "children": [
              "run_python"
             ],
             "tagName": "span"
            },
            {
             "attributes": {
              "style": {
               "fontFamily": "monospace",
               "unicodeBidi": "embed",
               "whiteSpace": "pre"
              }
             },
             "children": [
              ""
             ],
             "tagName": "span"
            }
           ],
           "tagName": "summary"
          },
          {
           "attributes": {
            "style": {
             "marginLeft": "10px",
             "marginTop": "10px"
            }
           },
           "children": [
            {
             "attributes": {},
             "children": [
              {
               "attributes": {
                "style": {
                 "color": "#27374D",
                 "fontWeight": "500",
                 "marginBottom": "5px"
                }
               },
               "children": [
                "Input:"
               ],
               "tagName": "div"
              },
              {
               "attributes": {
                "style": {
                 "background": "#F7F9FA",
                 "color": "#27374D",
                 "fontFamily": "monospace",
                 "marginBottom": "10px",
                 "overflowX": "auto",
                 "padding": "10px",
                 "unicodeBidi": "embed",
                 "whiteSpace": "pre"
                }
               },
               "children": [
                "{\n  \"code\": \"import json\\n\\nwith open('website/docs/api/chatlab_doc.json', 'r') as fp:\\n    doc_info = json.load(fp)\\n\\n# Get only one item for sample\\nsample = next(iter(doc_info.items()))\\nsample\"\n}"
               ],
               "tagName": "div"
              }
             ],
             "tagName": "div"
            },
            {
             "attributes": {},
             "children": [
              {
               "attributes": {
                "style": {
                 "color": "#27374D",
                 "fontWeight": "500",
                 "marginBottom": "5px"
                }
               },
               "children": [
                "Output:"
               ],
               "tagName": "div"
              },
              {
               "attributes": {
                "style": {
                 "background": "#F7F9FA",
                 "color": "#27374D",
                 "fontFamily": "monospace",
                 "marginBottom": "10px",
                 "overflowX": "auto",
                 "padding": "10px",
                 "unicodeBidi": "embed",
                 "whiteSpace": "pre"
                }
               },
               "children": [
                "OUTPUT:\n('Chat',\n {'methods': [{'name': '_Chat__process_stream',\n    'description': None,\n    'parameters': [{'name': 'self', 'default': None, 'annotation': None},\n     {'name': 'resp',\n      'default': None,\n      'annotation': 'typing.Iterable[typing.Union[chatlab.messaging.StreamCompletion, chatlab.messaging.ChatCompletion]]'}],\n    'returns': 'typing.Tuple[str, typing.Optional[chatlab.views.assistant_function_call.AssistantFunctionCallView]]'},\n   {'name': '__call__',\n    'description': 'Send messages to the chat model and display the response.',\n    'parameters': [{'name': 'self', 'default': None, 'annotation': None},\n     {'name': 'messages',\n      'default': None,\n      'annotation': 'typing.Union[chatlab.messaging.BasicMessage, chatlab.messaging.FunctionCallMessage, chatlab.messaging.FunctionResultMessage, str]'},\n     {'name': 'stream', 'default': True, 'annotation': \"<class 'bool'>\"}],\n    'returns': '_empty'},\n   {'name': '__init__',\n    'description': 'Initialize a Chat with an optional initial context of messages.\\n\\n>>> from chatlab import Chat, narrate\\n>>> convo = Chat(narrate(\"You are a large bird\"))\\n>>> convo.submit(\"What are you?\")\\nI am a large bird.',\n    'parameters': [{'name': 'self', 'default': None, 'annotation': None},\n     {'name': 'initial_context',\n      'default': None,\n      'annotation': 'typing.Union[chatlab.messaging.BasicMessage, chatlab.messaging.FunctionCallMessage, chatlab.messaging.FunctionResultMessage, str]'},\n     {'name': 'model', 'default': 'gpt-3.5-turbo-0613', 'annotation': None},\n     {'name': 'function_registry',\n      'default': None,\n      'annotation': 'typing.Optional[chatlab.registry.FunctionRegistry]'},\n     {'name': 'chat_functions',\n      'default': None,\n      'annotation': 'typing.Optional[typing.List[typing.Callable]]'},\n     {'name': 'allow_hallucinated_python',\n      'default': False,\n      'annotation': \"<class 'bool'>\"},\n     {'name': 'python_hallucination_function',\n      'default': None,\n      'annotation': 'typing.Optional[typing.Callable[[str], typing.Any]]'}],\n    'returns': '_empty'},\n   {'name': '__repr__',\n    'description': 'Return a representation of the ChatLab instance.',\n    'parameters': [{'name': 'self', 'default': None, 'annotation': None}],\n    'returns': '_empty'},\n   {'name': 'append',\n    'description': 'Append messages to the conversation history.\\n\\nNote: this does not send the messages on until `chat` is called.\\n\\nArgs:\\n    messages (str | Message): One or more messages to append to the conversation.',\n    'parameters': [{'name': 'self', 'default': None, 'annotation': None},\n     {'name': 'messages',\n      'default': None,\n      'annotation': 'typing.Union[chatlab.messaging.BasicMessage, chatlab.messaging.FunctionCallMessage, chatlab.messaging.FunctionResultMessage, str]'}],\n    'returns': '_empty'},\n   {'name': 'chat',\n    'description': 'Send messages to the chat model and display the response.\\n\\nDeprecated in 0.13.0, removed in 1.0.0. Use `submit` instead.\\n\\n\\n.. deprecated:: 0.13.0\\n   This will be removed in 1.0.0. Use `submit` instead.',\n    'parameters': [{'name': 'self', 'default': None, 'annotation': None},\n     {'name': 'messages',\n      'default': None,\n      'annotation': 'typing.Union[chatlab.messaging.BasicMessage, chatlab.messaging.FunctionCallMessage, chatlab.messaging.FunctionResultMessage, str]'}],\n    'returns': '_empty'},\n   {'name': 'clear_history',\n    'description': 'Clears the conversation history.',\n    'parameters': [{'name': 'self', 'default': None, 'annotation': None}],\n    'returns': '_empty'},\n   {'name': 'get_history',\n    'description': 'Returns the conversation history as a list of messages.',\n    'parameters': [{'name': 'self', 'default': None, 'annotation': None}],\n    'returns': '_empty'},\n   {'name': 'ipython_magic_submit',\n    'description': 'Submit a cell to the ChatLab instance.',\n    'parameters': [{'name': 'self', 'default': None, 'annotation': None},\n     {'name': 'line', 'default': None, 'annotation': None},\n     {'name': 'cell', 'default': None, 'annotation': 'typing.Optional[str]'}],\n    'returns': '_empty'},\n   {'name': 'make_magic',\n    'description': 'Register the chat as an IPython magic with the given name.\\n\\nIn [1]: chat = Chat()\\nIn [2]: chat.make_magic(\"chat\")\\nIn [3]: %%chat\\n   ...:\\n   ...: Lets chat!\\n   ...:\\nOut[3]: Sure, I\\'d be happy to chat! What\\'s on your mind?',\n    'parameters': [{'name': 'self', 'default': None, 'annotation': None},\n     {'name': 'name', 'default': None, 'annotation': None}],\n    'returns': '_empty'},\n   {'name': 'register',\n    'description': 'Register a function with the ChatLab instance.\\n\\nDeprecated in 1.0.0, removed in 2.0.0. Use `register_function` instead.',\n    'parameters': [{'name': 'self', 'default': None, 'annotation': None},\n     {'name': 'function', 'default': None, 'annotation': 'typing.Callable'},\n     {'name': 'parameter_schema',\n      'default': None,\n      'annotation': \"typing.Union[typing.Type[ForwardRef('BaseModel')], dict, NoneType]\"}],\n    'returns': '_empty'},\n   {'name': 'register_function',\n    'description': \"Register a function with the ChatLab instance.\\n\\nArgs:\\n    function (Callable): The function to register.\\n\\n    parameter_schema (BaseModel or dict): The pydantic model or JSON schema for the function's parameters.\",\n    'parameters': [{'name': 'self', 'default': None, 'annotation': None},\n     {'name': 'function', 'default': None, 'annotation': 'typing.Callable'},\n     {'name': 'parameter_schema',\n      'default': None,\n      'annotation': \"typing.Union[typing.Type[ForwardRef('BaseModel')], dict, NoneType]\"}],\n    'returns': '_empty'},\n   {'name': 'replace_hallucinated_python',\n    'description': \"Replace the hallucinated python function with a custom function.\\n\\nArgs:\\n    function (Callable): The function to register.\\n\\n    parameter_schema (BaseModel or dict): The pydantic model or JSON schema for the function's parameters.\",\n    'parameters': [{'name': 'self', 'default': None, 'annotation': None},\n     {'name': 'function', 'default': None, 'annotation': 'typing.Callable'},\n     {'name': 'parameter_schema',\n      'default': None,\n      'annotation': \"typing.Union[typing.Type[ForwardRef('BaseModel')], dict, NoneType]\"}],\n    'returns': '_empty'},\n   {'name': 'submit',\n    'description': 'Send messages to the chat model and display the response.\\n\\nSide effects:\\n    - Messages are sent to OpenAI Chat Models.\\n    - Response(s) are displayed in the output area as a combination of Markdown and chat function calls.\\n    - conversation.messages is updated with response(s).\\n\\nArgs:\\n    messages (str | Message): One or more messages to send to the chat, can be strings or Message objects.\\n\\n    stream (bool): Whether to stream chat into markdown or not. If False, the entire chat will be sent once.',\n    'parameters': [{'name': 'self', 'default': None, 'annotation': None},\n     {'name': 'messages',\n      'default': None,\n      'annotation': 'typing.Union[chatlab.messaging.BasicMessage, chatlab.messaging.FunctionCallMessage, chatlab.messaging.FunctionResultMessage, str]'},\n     {'name': 'stream', 'default': True, 'annotation': \"<class 'bool'>\"}],\n    'returns': '_empty'}],\n  'parent_classes': ['object']})"
               ],
               "tagName": "div"
              }
             ],
             "tagName": "div"
            }
           ],
           "tagName": "div"
          }
         ],
         "tagName": "details"
        }
       ],
       "tagName": "div"
      },
      "text/html": [
       "<div><style>.chatlab-chat-details summary &gt; *  { display: inline; color: #27374D; }</style><details style=\"background: #DDE6ED; border-radius: 5px; padding: .5rem 1rem\" className=\"chatlab-chat-details\"><summary style=\"color: #27374D; cursor: pointer\"><span style=\"color: #9DB2BF; padding-left: 5px; padding-right: 5px\">𝑓</span><span style=\"color: #27374D; padding-left: 5px; padding-right: 5px\">Ran</span><span style=\"font-family: monospace; unicode-bidi: embed; white-space: pre\">run_python</span><span style=\"font-family: monospace; unicode-bidi: embed; white-space: pre\"></span></summary><div style=\"margin-left: 10px; margin-top: 10px\"><div><div style=\"color: #27374D; font-weight: 500; margin-bottom: 5px\">Input:</div><div style=\"background: #F7F9FA; color: #27374D; font-family: monospace; margin-bottom: 10px; overflow-x: auto; padding: 10px; unicode-bidi: embed; white-space: pre\">{\n",
       "  &quot;code&quot;: &quot;import json\\n\\nwith open(&#x27;website/docs/api/chatlab_doc.json&#x27;, &#x27;r&#x27;) as fp:\\n    doc_info = json.load(fp)\\n\\n# Get only one item for sample\\nsample = next(iter(doc_info.items()))\\nsample&quot;\n",
       "}</div></div><div><div style=\"color: #27374D; font-weight: 500; margin-bottom: 5px\">Output:</div><div style=\"background: #F7F9FA; color: #27374D; font-family: monospace; margin-bottom: 10px; overflow-x: auto; padding: 10px; unicode-bidi: embed; white-space: pre\">OUTPUT:\n",
       "(&#x27;Chat&#x27;,\n",
       " {&#x27;methods&#x27;: [{&#x27;name&#x27;: &#x27;_Chat__process_stream&#x27;,\n",
       "    &#x27;description&#x27;: None,\n",
       "    &#x27;parameters&#x27;: [{&#x27;name&#x27;: &#x27;self&#x27;, &#x27;default&#x27;: None, &#x27;annotation&#x27;: None},\n",
       "     {&#x27;name&#x27;: &#x27;resp&#x27;,\n",
       "      &#x27;default&#x27;: None,\n",
       "      &#x27;annotation&#x27;: &#x27;typing.Iterable[typing.Union[chatlab.messaging.StreamCompletion, chatlab.messaging.ChatCompletion]]&#x27;}],\n",
       "    &#x27;returns&#x27;: &#x27;typing.Tuple[str, typing.Optional[chatlab.views.assistant_function_call.AssistantFunctionCallView]]&#x27;},\n",
       "   {&#x27;name&#x27;: &#x27;__call__&#x27;,\n",
       "    &#x27;description&#x27;: &#x27;Send messages to the chat model and display the response.&#x27;,\n",
       "    &#x27;parameters&#x27;: [{&#x27;name&#x27;: &#x27;self&#x27;, &#x27;default&#x27;: None, &#x27;annotation&#x27;: None},\n",
       "     {&#x27;name&#x27;: &#x27;messages&#x27;,\n",
       "      &#x27;default&#x27;: None,\n",
       "      &#x27;annotation&#x27;: &#x27;typing.Union[chatlab.messaging.BasicMessage, chatlab.messaging.FunctionCallMessage, chatlab.messaging.FunctionResultMessage, str]&#x27;},\n",
       "     {&#x27;name&#x27;: &#x27;stream&#x27;, &#x27;default&#x27;: True, &#x27;annotation&#x27;: &quot;&lt;class &#x27;bool&#x27;&gt;&quot;}],\n",
       "    &#x27;returns&#x27;: &#x27;_empty&#x27;},\n",
       "   {&#x27;name&#x27;: &#x27;__init__&#x27;,\n",
       "    &#x27;description&#x27;: &#x27;Initialize a Chat with an optional initial context of messages.\\n\\n&gt;&gt;&gt; from chatlab import Chat, narrate\\n&gt;&gt;&gt; convo = Chat(narrate(&quot;You are a large bird&quot;))\\n&gt;&gt;&gt; convo.submit(&quot;What are you?&quot;)\\nI am a large bird.&#x27;,\n",
       "    &#x27;parameters&#x27;: [{&#x27;name&#x27;: &#x27;self&#x27;, &#x27;default&#x27;: None, &#x27;annotation&#x27;: None},\n",
       "     {&#x27;name&#x27;: &#x27;initial_context&#x27;,\n",
       "      &#x27;default&#x27;: None,\n",
       "      &#x27;annotation&#x27;: &#x27;typing.Union[chatlab.messaging.BasicMessage, chatlab.messaging.FunctionCallMessage, chatlab.messaging.FunctionResultMessage, str]&#x27;},\n",
       "     {&#x27;name&#x27;: &#x27;model&#x27;, &#x27;default&#x27;: &#x27;gpt-3.5-turbo-0613&#x27;, &#x27;annotation&#x27;: None},\n",
       "     {&#x27;name&#x27;: &#x27;function_registry&#x27;,\n",
       "      &#x27;default&#x27;: None,\n",
       "      &#x27;annotation&#x27;: &#x27;typing.Optional[chatlab.registry.FunctionRegistry]&#x27;},\n",
       "     {&#x27;name&#x27;: &#x27;chat_functions&#x27;,\n",
       "      &#x27;default&#x27;: None,\n",
       "      &#x27;annotation&#x27;: &#x27;typing.Optional[typing.List[typing.Callable]]&#x27;},\n",
       "     {&#x27;name&#x27;: &#x27;allow_hallucinated_python&#x27;,\n",
       "      &#x27;default&#x27;: False,\n",
       "      &#x27;annotation&#x27;: &quot;&lt;class &#x27;bool&#x27;&gt;&quot;},\n",
       "     {&#x27;name&#x27;: &#x27;python_hallucination_function&#x27;,\n",
       "      &#x27;default&#x27;: None,\n",
       "      &#x27;annotation&#x27;: &#x27;typing.Optional[typing.Callable[[str], typing.Any]]&#x27;}],\n",
       "    &#x27;returns&#x27;: &#x27;_empty&#x27;},\n",
       "   {&#x27;name&#x27;: &#x27;__repr__&#x27;,\n",
       "    &#x27;description&#x27;: &#x27;Return a representation of the ChatLab instance.&#x27;,\n",
       "    &#x27;parameters&#x27;: [{&#x27;name&#x27;: &#x27;self&#x27;, &#x27;default&#x27;: None, &#x27;annotation&#x27;: None}],\n",
       "    &#x27;returns&#x27;: &#x27;_empty&#x27;},\n",
       "   {&#x27;name&#x27;: &#x27;append&#x27;,\n",
       "    &#x27;description&#x27;: &#x27;Append messages to the conversation history.\\n\\nNote: this does not send the messages on until `chat` is called.\\n\\nArgs:\\n    messages (str | Message): One or more messages to append to the conversation.&#x27;,\n",
       "    &#x27;parameters&#x27;: [{&#x27;name&#x27;: &#x27;self&#x27;, &#x27;default&#x27;: None, &#x27;annotation&#x27;: None},\n",
       "     {&#x27;name&#x27;: &#x27;messages&#x27;,\n",
       "      &#x27;default&#x27;: None,\n",
       "      &#x27;annotation&#x27;: &#x27;typing.Union[chatlab.messaging.BasicMessage, chatlab.messaging.FunctionCallMessage, chatlab.messaging.FunctionResultMessage, str]&#x27;}],\n",
       "    &#x27;returns&#x27;: &#x27;_empty&#x27;},\n",
       "   {&#x27;name&#x27;: &#x27;chat&#x27;,\n",
       "    &#x27;description&#x27;: &#x27;Send messages to the chat model and display the response.\\n\\nDeprecated in 0.13.0, removed in 1.0.0. Use `submit` instead.\\n\\n\\n.. deprecated:: 0.13.0\\n   This will be removed in 1.0.0. Use `submit` instead.&#x27;,\n",
       "    &#x27;parameters&#x27;: [{&#x27;name&#x27;: &#x27;self&#x27;, &#x27;default&#x27;: None, &#x27;annotation&#x27;: None},\n",
       "     {&#x27;name&#x27;: &#x27;messages&#x27;,\n",
       "      &#x27;default&#x27;: None,\n",
       "      &#x27;annotation&#x27;: &#x27;typing.Union[chatlab.messaging.BasicMessage, chatlab.messaging.FunctionCallMessage, chatlab.messaging.FunctionResultMessage, str]&#x27;}],\n",
       "    &#x27;returns&#x27;: &#x27;_empty&#x27;},\n",
       "   {&#x27;name&#x27;: &#x27;clear_history&#x27;,\n",
       "    &#x27;description&#x27;: &#x27;Clears the conversation history.&#x27;,\n",
       "    &#x27;parameters&#x27;: [{&#x27;name&#x27;: &#x27;self&#x27;, &#x27;default&#x27;: None, &#x27;annotation&#x27;: None}],\n",
       "    &#x27;returns&#x27;: &#x27;_empty&#x27;},\n",
       "   {&#x27;name&#x27;: &#x27;get_history&#x27;,\n",
       "    &#x27;description&#x27;: &#x27;Returns the conversation history as a list of messages.&#x27;,\n",
       "    &#x27;parameters&#x27;: [{&#x27;name&#x27;: &#x27;self&#x27;, &#x27;default&#x27;: None, &#x27;annotation&#x27;: None}],\n",
       "    &#x27;returns&#x27;: &#x27;_empty&#x27;},\n",
       "   {&#x27;name&#x27;: &#x27;ipython_magic_submit&#x27;,\n",
       "    &#x27;description&#x27;: &#x27;Submit a cell to the ChatLab instance.&#x27;,\n",
       "    &#x27;parameters&#x27;: [{&#x27;name&#x27;: &#x27;self&#x27;, &#x27;default&#x27;: None, &#x27;annotation&#x27;: None},\n",
       "     {&#x27;name&#x27;: &#x27;line&#x27;, &#x27;default&#x27;: None, &#x27;annotation&#x27;: None},\n",
       "     {&#x27;name&#x27;: &#x27;cell&#x27;, &#x27;default&#x27;: None, &#x27;annotation&#x27;: &#x27;typing.Optional[str]&#x27;}],\n",
       "    &#x27;returns&#x27;: &#x27;_empty&#x27;},\n",
       "   {&#x27;name&#x27;: &#x27;make_magic&#x27;,\n",
       "    &#x27;description&#x27;: &#x27;Register the chat as an IPython magic with the given name.\\n\\nIn [1]: chat = Chat()\\nIn [2]: chat.make_magic(&quot;chat&quot;)\\nIn [3]: %%chat\\n   ...:\\n   ...: Lets chat!\\n   ...:\\nOut[3]: Sure, I\\&#x27;d be happy to chat! What\\&#x27;s on your mind?&#x27;,\n",
       "    &#x27;parameters&#x27;: [{&#x27;name&#x27;: &#x27;self&#x27;, &#x27;default&#x27;: None, &#x27;annotation&#x27;: None},\n",
       "     {&#x27;name&#x27;: &#x27;name&#x27;, &#x27;default&#x27;: None, &#x27;annotation&#x27;: None}],\n",
       "    &#x27;returns&#x27;: &#x27;_empty&#x27;},\n",
       "   {&#x27;name&#x27;: &#x27;register&#x27;,\n",
       "    &#x27;description&#x27;: &#x27;Register a function with the ChatLab instance.\\n\\nDeprecated in 1.0.0, removed in 2.0.0. Use `register_function` instead.&#x27;,\n",
       "    &#x27;parameters&#x27;: [{&#x27;name&#x27;: &#x27;self&#x27;, &#x27;default&#x27;: None, &#x27;annotation&#x27;: None},\n",
       "     {&#x27;name&#x27;: &#x27;function&#x27;, &#x27;default&#x27;: None, &#x27;annotation&#x27;: &#x27;typing.Callable&#x27;},\n",
       "     {&#x27;name&#x27;: &#x27;parameter_schema&#x27;,\n",
       "      &#x27;default&#x27;: None,\n",
       "      &#x27;annotation&#x27;: &quot;typing.Union[typing.Type[ForwardRef(&#x27;BaseModel&#x27;)], dict, NoneType]&quot;}],\n",
       "    &#x27;returns&#x27;: &#x27;_empty&#x27;},\n",
       "   {&#x27;name&#x27;: &#x27;register_function&#x27;,\n",
       "    &#x27;description&#x27;: &quot;Register a function with the ChatLab instance.\\n\\nArgs:\\n    function (Callable): The function to register.\\n\\n    parameter_schema (BaseModel or dict): The pydantic model or JSON schema for the function&#x27;s parameters.&quot;,\n",
       "    &#x27;parameters&#x27;: [{&#x27;name&#x27;: &#x27;self&#x27;, &#x27;default&#x27;: None, &#x27;annotation&#x27;: None},\n",
       "     {&#x27;name&#x27;: &#x27;function&#x27;, &#x27;default&#x27;: None, &#x27;annotation&#x27;: &#x27;typing.Callable&#x27;},\n",
       "     {&#x27;name&#x27;: &#x27;parameter_schema&#x27;,\n",
       "      &#x27;default&#x27;: None,\n",
       "      &#x27;annotation&#x27;: &quot;typing.Union[typing.Type[ForwardRef(&#x27;BaseModel&#x27;)], dict, NoneType]&quot;}],\n",
       "    &#x27;returns&#x27;: &#x27;_empty&#x27;},\n",
       "   {&#x27;name&#x27;: &#x27;replace_hallucinated_python&#x27;,\n",
       "    &#x27;description&#x27;: &quot;Replace the hallucinated python function with a custom function.\\n\\nArgs:\\n    function (Callable): The function to register.\\n\\n    parameter_schema (BaseModel or dict): The pydantic model or JSON schema for the function&#x27;s parameters.&quot;,\n",
       "    &#x27;parameters&#x27;: [{&#x27;name&#x27;: &#x27;self&#x27;, &#x27;default&#x27;: None, &#x27;annotation&#x27;: None},\n",
       "     {&#x27;name&#x27;: &#x27;function&#x27;, &#x27;default&#x27;: None, &#x27;annotation&#x27;: &#x27;typing.Callable&#x27;},\n",
       "     {&#x27;name&#x27;: &#x27;parameter_schema&#x27;,\n",
       "      &#x27;default&#x27;: None,\n",
       "      &#x27;annotation&#x27;: &quot;typing.Union[typing.Type[ForwardRef(&#x27;BaseModel&#x27;)], dict, NoneType]&quot;}],\n",
       "    &#x27;returns&#x27;: &#x27;_empty&#x27;},\n",
       "   {&#x27;name&#x27;: &#x27;submit&#x27;,\n",
       "    &#x27;description&#x27;: &#x27;Send messages to the chat model and display the response.\\n\\nSide effects:\\n    - Messages are sent to OpenAI Chat Models.\\n    - Response(s) are displayed in the output area as a combination of Markdown and chat function calls.\\n    - conversation.messages is updated with response(s).\\n\\nArgs:\\n    messages (str | Message): One or more messages to send to the chat, can be strings or Message objects.\\n\\n    stream (bool): Whether to stream chat into markdown or not. If False, the entire chat will be sent once.&#x27;,\n",
       "    &#x27;parameters&#x27;: [{&#x27;name&#x27;: &#x27;self&#x27;, &#x27;default&#x27;: None, &#x27;annotation&#x27;: None},\n",
       "     {&#x27;name&#x27;: &#x27;messages&#x27;,\n",
       "      &#x27;default&#x27;: None,\n",
       "      &#x27;annotation&#x27;: &#x27;typing.Union[chatlab.messaging.BasicMessage, chatlab.messaging.FunctionCallMessage, chatlab.messaging.FunctionResultMessage, str]&#x27;},\n",
       "     {&#x27;name&#x27;: &#x27;stream&#x27;, &#x27;default&#x27;: True, &#x27;annotation&#x27;: &quot;&lt;class &#x27;bool&#x27;&gt;&quot;}],\n",
       "    &#x27;returns&#x27;: &#x27;_empty&#x27;}],\n",
       "  &#x27;parent_classes&#x27;: [&#x27;object&#x27;]})</div></div></div></details></div>"
      ],
      "text/plain": [
       "<chatlab.display.ChatFunctionCall at 0x127c695d0>"
      ]
     },
     "metadata": {},
     "output_type": "display_data"
    },
    {
     "name": "stderr",
     "output_type": "stream",
     "text": [
      "Rate limited: Rate limit reached for 10KTPM-200RPM in organization org-AvW35q1q5Cvyc7XBAN0vTW9d on tokens per min. Limit: 10000 / min. Please try again in 6ms. Contact us through our help center at help.openai.com if you continue to have issues.. Waiting 5 seconds and trying again.\n",
      "Rate limited: Rate limit reached for 10KTPM-200RPM in organization org-AvW35q1q5Cvyc7XBAN0vTW9d on tokens per min. Limit: 10000 / min. Please try again in 6ms. Contact us through our help center at help.openai.com if you continue to have issues.. Waiting 5 seconds and trying again.\n",
      "Rate limited: Rate limit reached for 10KTPM-200RPM in organization org-AvW35q1q5Cvyc7XBAN0vTW9d on tokens per min. Limit: 10000 / min. Please try again in 6ms. Contact us through our help center at help.openai.com if you continue to have issues.. Waiting 5 seconds and trying again.\n",
      "Rate limited: Rate limit reached for 10KTPM-200RPM in organization org-AvW35q1q5Cvyc7XBAN0vTW9d on tokens per min. Limit: 10000 / min. Please try again in 6ms. Contact us through our help center at help.openai.com if you continue to have issues.. Waiting 5 seconds and trying again.\n",
      "Rate limited: Rate limit reached for 10KTPM-200RPM in organization org-AvW35q1q5Cvyc7XBAN0vTW9d on tokens per min. Limit: 10000 / min. Please try again in 6ms. Contact us through our help center at help.openai.com if you continue to have issues.. Waiting 5 seconds and trying again.\n",
      "Rate limited: Rate limit reached for 10KTPM-200RPM in organization org-AvW35q1q5Cvyc7XBAN0vTW9d on tokens per min. Limit: 10000 / min. Please try again in 6ms. Contact us through our help center at help.openai.com if you continue to have issues.. Waiting 5 seconds and trying again.\n",
      "Rate limited: Rate limit reached for 10KTPM-200RPM in organization org-AvW35q1q5Cvyc7XBAN0vTW9d on tokens per min. Limit: 10000 / min. Please try again in 6ms. Contact us through our help center at help.openai.com if you continue to have issues.. Waiting 5 seconds and trying again.\n",
      "Rate limited: Rate limit reached for 10KTPM-200RPM in organization org-AvW35q1q5Cvyc7XBAN0vTW9d on tokens per min. Limit: 10000 / min. Please try again in 6ms. Contact us through our help center at help.openai.com if you continue to have issues.. Waiting 5 seconds and trying again.\n"
     ]
    },
    {
     "ename": "InvalidRequestError",
     "evalue": "This model's maximum context length is 8192 tokens. However, your messages resulted in 9422 tokens (8886 in the messages, 536 in the functions). Please reduce the length of the messages or functions.",
     "output_type": "error",
     "traceback": [
      "\u001b[0;31m---------------------------------------------------------------------------\u001b[0m",
      "\u001b[0;31mRateLimitError\u001b[0m                            Traceback (most recent call last)",
      "File \u001b[0;32m~/code/src/github.com/rgbkrk/chatlab/chatlab/chat.py:255\u001b[0m, in \u001b[0;36mChat.submit\u001b[0;34m(self, stream, *messages)\u001b[0m\n\u001b[1;32m    254\u001b[0m \u001b[39mtry\u001b[39;00m:\n\u001b[0;32m--> 255\u001b[0m     resp \u001b[39m=\u001b[39m openai\u001b[39m.\u001b[39;49mChatCompletion\u001b[39m.\u001b[39;49mcreate(\n\u001b[1;32m    256\u001b[0m         model\u001b[39m=\u001b[39;49m\u001b[39mself\u001b[39;49m\u001b[39m.\u001b[39;49mmodel,\n\u001b[1;32m    257\u001b[0m         messages\u001b[39m=\u001b[39;49mfull_messages,\n\u001b[1;32m    258\u001b[0m         \u001b[39m*\u001b[39;49m\u001b[39m*\u001b[39;49m\u001b[39mself\u001b[39;49m\u001b[39m.\u001b[39;49mfunction_registry\u001b[39m.\u001b[39;49mapi_manifest(),\n\u001b[1;32m    259\u001b[0m         stream\u001b[39m=\u001b[39;49mstream,\n\u001b[1;32m    260\u001b[0m     )\n\u001b[1;32m    261\u001b[0m \u001b[39mexcept\u001b[39;00m openai\u001b[39m.\u001b[39merror\u001b[39m.\u001b[39mRateLimitError \u001b[39mas\u001b[39;00m e:\n",
      "File \u001b[0;32m~/Library/Caches/pypoetry/virtualenvs/chatlab-3kMKfU-i-py3.11/lib/python3.11/site-packages/openai/api_resources/chat_completion.py:25\u001b[0m, in \u001b[0;36mChatCompletion.create\u001b[0;34m(cls, *args, **kwargs)\u001b[0m\n\u001b[1;32m     24\u001b[0m \u001b[39mtry\u001b[39;00m:\n\u001b[0;32m---> 25\u001b[0m     \u001b[39mreturn\u001b[39;00m \u001b[39msuper\u001b[39;49m()\u001b[39m.\u001b[39;49mcreate(\u001b[39m*\u001b[39;49margs, \u001b[39m*\u001b[39;49m\u001b[39m*\u001b[39;49mkwargs)\n\u001b[1;32m     26\u001b[0m \u001b[39mexcept\u001b[39;00m TryAgain \u001b[39mas\u001b[39;00m e:\n",
      "File \u001b[0;32m~/Library/Caches/pypoetry/virtualenvs/chatlab-3kMKfU-i-py3.11/lib/python3.11/site-packages/openai/api_resources/abstract/engine_api_resource.py:153\u001b[0m, in \u001b[0;36mEngineAPIResource.create\u001b[0;34m(cls, api_key, api_base, api_type, request_id, api_version, organization, **params)\u001b[0m\n\u001b[1;32m    138\u001b[0m (\n\u001b[1;32m    139\u001b[0m     deployment_id,\n\u001b[1;32m    140\u001b[0m     engine,\n\u001b[0;32m   (...)\u001b[0m\n\u001b[1;32m    150\u001b[0m     api_key, api_base, api_type, api_version, organization, \u001b[39m*\u001b[39m\u001b[39m*\u001b[39mparams\n\u001b[1;32m    151\u001b[0m )\n\u001b[0;32m--> 153\u001b[0m response, _, api_key \u001b[39m=\u001b[39m requestor\u001b[39m.\u001b[39;49mrequest(\n\u001b[1;32m    154\u001b[0m     \u001b[39m\"\u001b[39;49m\u001b[39mpost\u001b[39;49m\u001b[39m\"\u001b[39;49m,\n\u001b[1;32m    155\u001b[0m     url,\n\u001b[1;32m    156\u001b[0m     params\u001b[39m=\u001b[39;49mparams,\n\u001b[1;32m    157\u001b[0m     headers\u001b[39m=\u001b[39;49mheaders,\n\u001b[1;32m    158\u001b[0m     stream\u001b[39m=\u001b[39;49mstream,\n\u001b[1;32m    159\u001b[0m     request_id\u001b[39m=\u001b[39;49mrequest_id,\n\u001b[1;32m    160\u001b[0m     request_timeout\u001b[39m=\u001b[39;49mrequest_timeout,\n\u001b[1;32m    161\u001b[0m )\n\u001b[1;32m    163\u001b[0m \u001b[39mif\u001b[39;00m stream:\n\u001b[1;32m    164\u001b[0m     \u001b[39m# must be an iterator\u001b[39;00m\n",
      "File \u001b[0;32m~/Library/Caches/pypoetry/virtualenvs/chatlab-3kMKfU-i-py3.11/lib/python3.11/site-packages/openai/api_requestor.py:226\u001b[0m, in \u001b[0;36mAPIRequestor.request\u001b[0;34m(self, method, url, params, headers, files, stream, request_id, request_timeout)\u001b[0m\n\u001b[1;32m    216\u001b[0m result \u001b[39m=\u001b[39m \u001b[39mself\u001b[39m\u001b[39m.\u001b[39mrequest_raw(\n\u001b[1;32m    217\u001b[0m     method\u001b[39m.\u001b[39mlower(),\n\u001b[1;32m    218\u001b[0m     url,\n\u001b[0;32m   (...)\u001b[0m\n\u001b[1;32m    224\u001b[0m     request_timeout\u001b[39m=\u001b[39mrequest_timeout,\n\u001b[1;32m    225\u001b[0m )\n\u001b[0;32m--> 226\u001b[0m resp, got_stream \u001b[39m=\u001b[39m \u001b[39mself\u001b[39;49m\u001b[39m.\u001b[39;49m_interpret_response(result, stream)\n\u001b[1;32m    227\u001b[0m \u001b[39mreturn\u001b[39;00m resp, got_stream, \u001b[39mself\u001b[39m\u001b[39m.\u001b[39mapi_key\n",
      "File \u001b[0;32m~/Library/Caches/pypoetry/virtualenvs/chatlab-3kMKfU-i-py3.11/lib/python3.11/site-packages/openai/api_requestor.py:620\u001b[0m, in \u001b[0;36mAPIRequestor._interpret_response\u001b[0;34m(self, result, stream)\u001b[0m\n\u001b[1;32m    618\u001b[0m \u001b[39melse\u001b[39;00m:\n\u001b[1;32m    619\u001b[0m     \u001b[39mreturn\u001b[39;00m (\n\u001b[0;32m--> 620\u001b[0m         \u001b[39mself\u001b[39;49m\u001b[39m.\u001b[39;49m_interpret_response_line(\n\u001b[1;32m    621\u001b[0m             result\u001b[39m.\u001b[39;49mcontent\u001b[39m.\u001b[39;49mdecode(\u001b[39m\"\u001b[39;49m\u001b[39mutf-8\u001b[39;49m\u001b[39m\"\u001b[39;49m),\n\u001b[1;32m    622\u001b[0m             result\u001b[39m.\u001b[39;49mstatus_code,\n\u001b[1;32m    623\u001b[0m             result\u001b[39m.\u001b[39;49mheaders,\n\u001b[1;32m    624\u001b[0m             stream\u001b[39m=\u001b[39;49m\u001b[39mFalse\u001b[39;49;00m,\n\u001b[1;32m    625\u001b[0m         ),\n\u001b[1;32m    626\u001b[0m         \u001b[39mFalse\u001b[39;00m,\n\u001b[1;32m    627\u001b[0m     )\n",
      "File \u001b[0;32m~/Library/Caches/pypoetry/virtualenvs/chatlab-3kMKfU-i-py3.11/lib/python3.11/site-packages/openai/api_requestor.py:683\u001b[0m, in \u001b[0;36mAPIRequestor._interpret_response_line\u001b[0;34m(self, rbody, rcode, rheaders, stream)\u001b[0m\n\u001b[1;32m    682\u001b[0m \u001b[39mif\u001b[39;00m stream_error \u001b[39mor\u001b[39;00m \u001b[39mnot\u001b[39;00m \u001b[39m200\u001b[39m \u001b[39m<\u001b[39m\u001b[39m=\u001b[39m rcode \u001b[39m<\u001b[39m \u001b[39m300\u001b[39m:\n\u001b[0;32m--> 683\u001b[0m     \u001b[39mraise\u001b[39;00m \u001b[39mself\u001b[39m\u001b[39m.\u001b[39mhandle_error_response(\n\u001b[1;32m    684\u001b[0m         rbody, rcode, resp\u001b[39m.\u001b[39mdata, rheaders, stream_error\u001b[39m=\u001b[39mstream_error\n\u001b[1;32m    685\u001b[0m     )\n\u001b[1;32m    686\u001b[0m \u001b[39mreturn\u001b[39;00m resp\n",
      "\u001b[0;31mRateLimitError\u001b[0m: Rate limit reached for 10KTPM-200RPM in organization org-AvW35q1q5Cvyc7XBAN0vTW9d on tokens per min. Limit: 10000 / min. Please try again in 6ms. Contact us through our help center at help.openai.com if you continue to have issues.",
      "\nDuring handling of the above exception, another exception occurred:\n",
      "\u001b[0;31mRateLimitError\u001b[0m                            Traceback (most recent call last)",
      "File \u001b[0;32m~/code/src/github.com/rgbkrk/chatlab/chatlab/chat.py:255\u001b[0m, in \u001b[0;36mChat.submit\u001b[0;34m(self, stream, *messages)\u001b[0m\n\u001b[1;32m    254\u001b[0m \u001b[39mtry\u001b[39;00m:\n\u001b[0;32m--> 255\u001b[0m     resp \u001b[39m=\u001b[39m openai\u001b[39m.\u001b[39;49mChatCompletion\u001b[39m.\u001b[39;49mcreate(\n\u001b[1;32m    256\u001b[0m         model\u001b[39m=\u001b[39;49m\u001b[39mself\u001b[39;49m\u001b[39m.\u001b[39;49mmodel,\n\u001b[1;32m    257\u001b[0m         messages\u001b[39m=\u001b[39;49mfull_messages,\n\u001b[1;32m    258\u001b[0m         \u001b[39m*\u001b[39;49m\u001b[39m*\u001b[39;49m\u001b[39mself\u001b[39;49m\u001b[39m.\u001b[39;49mfunction_registry\u001b[39m.\u001b[39;49mapi_manifest(),\n\u001b[1;32m    259\u001b[0m         stream\u001b[39m=\u001b[39;49mstream,\n\u001b[1;32m    260\u001b[0m     )\n\u001b[1;32m    261\u001b[0m \u001b[39mexcept\u001b[39;00m openai\u001b[39m.\u001b[39merror\u001b[39m.\u001b[39mRateLimitError \u001b[39mas\u001b[39;00m e:\n",
      "File \u001b[0;32m~/Library/Caches/pypoetry/virtualenvs/chatlab-3kMKfU-i-py3.11/lib/python3.11/site-packages/openai/api_resources/chat_completion.py:25\u001b[0m, in \u001b[0;36mChatCompletion.create\u001b[0;34m(cls, *args, **kwargs)\u001b[0m\n\u001b[1;32m     24\u001b[0m \u001b[39mtry\u001b[39;00m:\n\u001b[0;32m---> 25\u001b[0m     \u001b[39mreturn\u001b[39;00m \u001b[39msuper\u001b[39;49m()\u001b[39m.\u001b[39;49mcreate(\u001b[39m*\u001b[39;49margs, \u001b[39m*\u001b[39;49m\u001b[39m*\u001b[39;49mkwargs)\n\u001b[1;32m     26\u001b[0m \u001b[39mexcept\u001b[39;00m TryAgain \u001b[39mas\u001b[39;00m e:\n",
      "File \u001b[0;32m~/Library/Caches/pypoetry/virtualenvs/chatlab-3kMKfU-i-py3.11/lib/python3.11/site-packages/openai/api_resources/abstract/engine_api_resource.py:153\u001b[0m, in \u001b[0;36mEngineAPIResource.create\u001b[0;34m(cls, api_key, api_base, api_type, request_id, api_version, organization, **params)\u001b[0m\n\u001b[1;32m    138\u001b[0m (\n\u001b[1;32m    139\u001b[0m     deployment_id,\n\u001b[1;32m    140\u001b[0m     engine,\n\u001b[0;32m   (...)\u001b[0m\n\u001b[1;32m    150\u001b[0m     api_key, api_base, api_type, api_version, organization, \u001b[39m*\u001b[39m\u001b[39m*\u001b[39mparams\n\u001b[1;32m    151\u001b[0m )\n\u001b[0;32m--> 153\u001b[0m response, _, api_key \u001b[39m=\u001b[39m requestor\u001b[39m.\u001b[39;49mrequest(\n\u001b[1;32m    154\u001b[0m     \u001b[39m\"\u001b[39;49m\u001b[39mpost\u001b[39;49m\u001b[39m\"\u001b[39;49m,\n\u001b[1;32m    155\u001b[0m     url,\n\u001b[1;32m    156\u001b[0m     params\u001b[39m=\u001b[39;49mparams,\n\u001b[1;32m    157\u001b[0m     headers\u001b[39m=\u001b[39;49mheaders,\n\u001b[1;32m    158\u001b[0m     stream\u001b[39m=\u001b[39;49mstream,\n\u001b[1;32m    159\u001b[0m     request_id\u001b[39m=\u001b[39;49mrequest_id,\n\u001b[1;32m    160\u001b[0m     request_timeout\u001b[39m=\u001b[39;49mrequest_timeout,\n\u001b[1;32m    161\u001b[0m )\n\u001b[1;32m    163\u001b[0m \u001b[39mif\u001b[39;00m stream:\n\u001b[1;32m    164\u001b[0m     \u001b[39m# must be an iterator\u001b[39;00m\n",
      "File \u001b[0;32m~/Library/Caches/pypoetry/virtualenvs/chatlab-3kMKfU-i-py3.11/lib/python3.11/site-packages/openai/api_requestor.py:226\u001b[0m, in \u001b[0;36mAPIRequestor.request\u001b[0;34m(self, method, url, params, headers, files, stream, request_id, request_timeout)\u001b[0m\n\u001b[1;32m    216\u001b[0m result \u001b[39m=\u001b[39m \u001b[39mself\u001b[39m\u001b[39m.\u001b[39mrequest_raw(\n\u001b[1;32m    217\u001b[0m     method\u001b[39m.\u001b[39mlower(),\n\u001b[1;32m    218\u001b[0m     url,\n\u001b[0;32m   (...)\u001b[0m\n\u001b[1;32m    224\u001b[0m     request_timeout\u001b[39m=\u001b[39mrequest_timeout,\n\u001b[1;32m    225\u001b[0m )\n\u001b[0;32m--> 226\u001b[0m resp, got_stream \u001b[39m=\u001b[39m \u001b[39mself\u001b[39;49m\u001b[39m.\u001b[39;49m_interpret_response(result, stream)\n\u001b[1;32m    227\u001b[0m \u001b[39mreturn\u001b[39;00m resp, got_stream, \u001b[39mself\u001b[39m\u001b[39m.\u001b[39mapi_key\n",
      "File \u001b[0;32m~/Library/Caches/pypoetry/virtualenvs/chatlab-3kMKfU-i-py3.11/lib/python3.11/site-packages/openai/api_requestor.py:620\u001b[0m, in \u001b[0;36mAPIRequestor._interpret_response\u001b[0;34m(self, result, stream)\u001b[0m\n\u001b[1;32m    618\u001b[0m \u001b[39melse\u001b[39;00m:\n\u001b[1;32m    619\u001b[0m     \u001b[39mreturn\u001b[39;00m (\n\u001b[0;32m--> 620\u001b[0m         \u001b[39mself\u001b[39;49m\u001b[39m.\u001b[39;49m_interpret_response_line(\n\u001b[1;32m    621\u001b[0m             result\u001b[39m.\u001b[39;49mcontent\u001b[39m.\u001b[39;49mdecode(\u001b[39m\"\u001b[39;49m\u001b[39mutf-8\u001b[39;49m\u001b[39m\"\u001b[39;49m),\n\u001b[1;32m    622\u001b[0m             result\u001b[39m.\u001b[39;49mstatus_code,\n\u001b[1;32m    623\u001b[0m             result\u001b[39m.\u001b[39;49mheaders,\n\u001b[1;32m    624\u001b[0m             stream\u001b[39m=\u001b[39;49m\u001b[39mFalse\u001b[39;49;00m,\n\u001b[1;32m    625\u001b[0m         ),\n\u001b[1;32m    626\u001b[0m         \u001b[39mFalse\u001b[39;00m,\n\u001b[1;32m    627\u001b[0m     )\n",
      "File \u001b[0;32m~/Library/Caches/pypoetry/virtualenvs/chatlab-3kMKfU-i-py3.11/lib/python3.11/site-packages/openai/api_requestor.py:683\u001b[0m, in \u001b[0;36mAPIRequestor._interpret_response_line\u001b[0;34m(self, rbody, rcode, rheaders, stream)\u001b[0m\n\u001b[1;32m    682\u001b[0m \u001b[39mif\u001b[39;00m stream_error \u001b[39mor\u001b[39;00m \u001b[39mnot\u001b[39;00m \u001b[39m200\u001b[39m \u001b[39m<\u001b[39m\u001b[39m=\u001b[39m rcode \u001b[39m<\u001b[39m \u001b[39m300\u001b[39m:\n\u001b[0;32m--> 683\u001b[0m     \u001b[39mraise\u001b[39;00m \u001b[39mself\u001b[39m\u001b[39m.\u001b[39mhandle_error_response(\n\u001b[1;32m    684\u001b[0m         rbody, rcode, resp\u001b[39m.\u001b[39mdata, rheaders, stream_error\u001b[39m=\u001b[39mstream_error\n\u001b[1;32m    685\u001b[0m     )\n\u001b[1;32m    686\u001b[0m \u001b[39mreturn\u001b[39;00m resp\n",
      "\u001b[0;31mRateLimitError\u001b[0m: Rate limit reached for 10KTPM-200RPM in organization org-AvW35q1q5Cvyc7XBAN0vTW9d on tokens per min. Limit: 10000 / min. Please try again in 6ms. Contact us through our help center at help.openai.com if you continue to have issues.",
      "\nDuring handling of the above exception, another exception occurred:\n",
      "\u001b[0;31mRateLimitError\u001b[0m                            Traceback (most recent call last)",
      "File \u001b[0;32m~/code/src/github.com/rgbkrk/chatlab/chatlab/chat.py:255\u001b[0m, in \u001b[0;36mChat.submit\u001b[0;34m(self, stream, *messages)\u001b[0m\n\u001b[1;32m    254\u001b[0m \u001b[39mtry\u001b[39;00m:\n\u001b[0;32m--> 255\u001b[0m     resp \u001b[39m=\u001b[39m openai\u001b[39m.\u001b[39;49mChatCompletion\u001b[39m.\u001b[39;49mcreate(\n\u001b[1;32m    256\u001b[0m         model\u001b[39m=\u001b[39;49m\u001b[39mself\u001b[39;49m\u001b[39m.\u001b[39;49mmodel,\n\u001b[1;32m    257\u001b[0m         messages\u001b[39m=\u001b[39;49mfull_messages,\n\u001b[1;32m    258\u001b[0m         \u001b[39m*\u001b[39;49m\u001b[39m*\u001b[39;49m\u001b[39mself\u001b[39;49m\u001b[39m.\u001b[39;49mfunction_registry\u001b[39m.\u001b[39;49mapi_manifest(),\n\u001b[1;32m    259\u001b[0m         stream\u001b[39m=\u001b[39;49mstream,\n\u001b[1;32m    260\u001b[0m     )\n\u001b[1;32m    261\u001b[0m \u001b[39mexcept\u001b[39;00m openai\u001b[39m.\u001b[39merror\u001b[39m.\u001b[39mRateLimitError \u001b[39mas\u001b[39;00m e:\n",
      "File \u001b[0;32m~/Library/Caches/pypoetry/virtualenvs/chatlab-3kMKfU-i-py3.11/lib/python3.11/site-packages/openai/api_resources/chat_completion.py:25\u001b[0m, in \u001b[0;36mChatCompletion.create\u001b[0;34m(cls, *args, **kwargs)\u001b[0m\n\u001b[1;32m     24\u001b[0m \u001b[39mtry\u001b[39;00m:\n\u001b[0;32m---> 25\u001b[0m     \u001b[39mreturn\u001b[39;00m \u001b[39msuper\u001b[39;49m()\u001b[39m.\u001b[39;49mcreate(\u001b[39m*\u001b[39;49margs, \u001b[39m*\u001b[39;49m\u001b[39m*\u001b[39;49mkwargs)\n\u001b[1;32m     26\u001b[0m \u001b[39mexcept\u001b[39;00m TryAgain \u001b[39mas\u001b[39;00m e:\n",
      "File \u001b[0;32m~/Library/Caches/pypoetry/virtualenvs/chatlab-3kMKfU-i-py3.11/lib/python3.11/site-packages/openai/api_resources/abstract/engine_api_resource.py:153\u001b[0m, in \u001b[0;36mEngineAPIResource.create\u001b[0;34m(cls, api_key, api_base, api_type, request_id, api_version, organization, **params)\u001b[0m\n\u001b[1;32m    138\u001b[0m (\n\u001b[1;32m    139\u001b[0m     deployment_id,\n\u001b[1;32m    140\u001b[0m     engine,\n\u001b[0;32m   (...)\u001b[0m\n\u001b[1;32m    150\u001b[0m     api_key, api_base, api_type, api_version, organization, \u001b[39m*\u001b[39m\u001b[39m*\u001b[39mparams\n\u001b[1;32m    151\u001b[0m )\n\u001b[0;32m--> 153\u001b[0m response, _, api_key \u001b[39m=\u001b[39m requestor\u001b[39m.\u001b[39;49mrequest(\n\u001b[1;32m    154\u001b[0m     \u001b[39m\"\u001b[39;49m\u001b[39mpost\u001b[39;49m\u001b[39m\"\u001b[39;49m,\n\u001b[1;32m    155\u001b[0m     url,\n\u001b[1;32m    156\u001b[0m     params\u001b[39m=\u001b[39;49mparams,\n\u001b[1;32m    157\u001b[0m     headers\u001b[39m=\u001b[39;49mheaders,\n\u001b[1;32m    158\u001b[0m     stream\u001b[39m=\u001b[39;49mstream,\n\u001b[1;32m    159\u001b[0m     request_id\u001b[39m=\u001b[39;49mrequest_id,\n\u001b[1;32m    160\u001b[0m     request_timeout\u001b[39m=\u001b[39;49mrequest_timeout,\n\u001b[1;32m    161\u001b[0m )\n\u001b[1;32m    163\u001b[0m \u001b[39mif\u001b[39;00m stream:\n\u001b[1;32m    164\u001b[0m     \u001b[39m# must be an iterator\u001b[39;00m\n",
      "File \u001b[0;32m~/Library/Caches/pypoetry/virtualenvs/chatlab-3kMKfU-i-py3.11/lib/python3.11/site-packages/openai/api_requestor.py:226\u001b[0m, in \u001b[0;36mAPIRequestor.request\u001b[0;34m(self, method, url, params, headers, files, stream, request_id, request_timeout)\u001b[0m\n\u001b[1;32m    216\u001b[0m result \u001b[39m=\u001b[39m \u001b[39mself\u001b[39m\u001b[39m.\u001b[39mrequest_raw(\n\u001b[1;32m    217\u001b[0m     method\u001b[39m.\u001b[39mlower(),\n\u001b[1;32m    218\u001b[0m     url,\n\u001b[0;32m   (...)\u001b[0m\n\u001b[1;32m    224\u001b[0m     request_timeout\u001b[39m=\u001b[39mrequest_timeout,\n\u001b[1;32m    225\u001b[0m )\n\u001b[0;32m--> 226\u001b[0m resp, got_stream \u001b[39m=\u001b[39m \u001b[39mself\u001b[39;49m\u001b[39m.\u001b[39;49m_interpret_response(result, stream)\n\u001b[1;32m    227\u001b[0m \u001b[39mreturn\u001b[39;00m resp, got_stream, \u001b[39mself\u001b[39m\u001b[39m.\u001b[39mapi_key\n",
      "File \u001b[0;32m~/Library/Caches/pypoetry/virtualenvs/chatlab-3kMKfU-i-py3.11/lib/python3.11/site-packages/openai/api_requestor.py:620\u001b[0m, in \u001b[0;36mAPIRequestor._interpret_response\u001b[0;34m(self, result, stream)\u001b[0m\n\u001b[1;32m    618\u001b[0m \u001b[39melse\u001b[39;00m:\n\u001b[1;32m    619\u001b[0m     \u001b[39mreturn\u001b[39;00m (\n\u001b[0;32m--> 620\u001b[0m         \u001b[39mself\u001b[39;49m\u001b[39m.\u001b[39;49m_interpret_response_line(\n\u001b[1;32m    621\u001b[0m             result\u001b[39m.\u001b[39;49mcontent\u001b[39m.\u001b[39;49mdecode(\u001b[39m\"\u001b[39;49m\u001b[39mutf-8\u001b[39;49m\u001b[39m\"\u001b[39;49m),\n\u001b[1;32m    622\u001b[0m             result\u001b[39m.\u001b[39;49mstatus_code,\n\u001b[1;32m    623\u001b[0m             result\u001b[39m.\u001b[39;49mheaders,\n\u001b[1;32m    624\u001b[0m             stream\u001b[39m=\u001b[39;49m\u001b[39mFalse\u001b[39;49;00m,\n\u001b[1;32m    625\u001b[0m         ),\n\u001b[1;32m    626\u001b[0m         \u001b[39mFalse\u001b[39;00m,\n\u001b[1;32m    627\u001b[0m     )\n",
      "File \u001b[0;32m~/Library/Caches/pypoetry/virtualenvs/chatlab-3kMKfU-i-py3.11/lib/python3.11/site-packages/openai/api_requestor.py:683\u001b[0m, in \u001b[0;36mAPIRequestor._interpret_response_line\u001b[0;34m(self, rbody, rcode, rheaders, stream)\u001b[0m\n\u001b[1;32m    682\u001b[0m \u001b[39mif\u001b[39;00m stream_error \u001b[39mor\u001b[39;00m \u001b[39mnot\u001b[39;00m \u001b[39m200\u001b[39m \u001b[39m<\u001b[39m\u001b[39m=\u001b[39m rcode \u001b[39m<\u001b[39m \u001b[39m300\u001b[39m:\n\u001b[0;32m--> 683\u001b[0m     \u001b[39mraise\u001b[39;00m \u001b[39mself\u001b[39m\u001b[39m.\u001b[39mhandle_error_response(\n\u001b[1;32m    684\u001b[0m         rbody, rcode, resp\u001b[39m.\u001b[39mdata, rheaders, stream_error\u001b[39m=\u001b[39mstream_error\n\u001b[1;32m    685\u001b[0m     )\n\u001b[1;32m    686\u001b[0m \u001b[39mreturn\u001b[39;00m resp\n",
      "\u001b[0;31mRateLimitError\u001b[0m: Rate limit reached for 10KTPM-200RPM in organization org-AvW35q1q5Cvyc7XBAN0vTW9d on tokens per min. Limit: 10000 / min. Please try again in 6ms. Contact us through our help center at help.openai.com if you continue to have issues.",
      "\nDuring handling of the above exception, another exception occurred:\n",
      "\u001b[0;31mRateLimitError\u001b[0m                            Traceback (most recent call last)",
      "File \u001b[0;32m~/code/src/github.com/rgbkrk/chatlab/chatlab/chat.py:255\u001b[0m, in \u001b[0;36mChat.submit\u001b[0;34m(self, stream, *messages)\u001b[0m\n\u001b[1;32m    254\u001b[0m \u001b[39mtry\u001b[39;00m:\n\u001b[0;32m--> 255\u001b[0m     resp \u001b[39m=\u001b[39m openai\u001b[39m.\u001b[39;49mChatCompletion\u001b[39m.\u001b[39;49mcreate(\n\u001b[1;32m    256\u001b[0m         model\u001b[39m=\u001b[39;49m\u001b[39mself\u001b[39;49m\u001b[39m.\u001b[39;49mmodel,\n\u001b[1;32m    257\u001b[0m         messages\u001b[39m=\u001b[39;49mfull_messages,\n\u001b[1;32m    258\u001b[0m         \u001b[39m*\u001b[39;49m\u001b[39m*\u001b[39;49m\u001b[39mself\u001b[39;49m\u001b[39m.\u001b[39;49mfunction_registry\u001b[39m.\u001b[39;49mapi_manifest(),\n\u001b[1;32m    259\u001b[0m         stream\u001b[39m=\u001b[39;49mstream,\n\u001b[1;32m    260\u001b[0m     )\n\u001b[1;32m    261\u001b[0m \u001b[39mexcept\u001b[39;00m openai\u001b[39m.\u001b[39merror\u001b[39m.\u001b[39mRateLimitError \u001b[39mas\u001b[39;00m e:\n",
      "File \u001b[0;32m~/Library/Caches/pypoetry/virtualenvs/chatlab-3kMKfU-i-py3.11/lib/python3.11/site-packages/openai/api_resources/chat_completion.py:25\u001b[0m, in \u001b[0;36mChatCompletion.create\u001b[0;34m(cls, *args, **kwargs)\u001b[0m\n\u001b[1;32m     24\u001b[0m \u001b[39mtry\u001b[39;00m:\n\u001b[0;32m---> 25\u001b[0m     \u001b[39mreturn\u001b[39;00m \u001b[39msuper\u001b[39;49m()\u001b[39m.\u001b[39;49mcreate(\u001b[39m*\u001b[39;49margs, \u001b[39m*\u001b[39;49m\u001b[39m*\u001b[39;49mkwargs)\n\u001b[1;32m     26\u001b[0m \u001b[39mexcept\u001b[39;00m TryAgain \u001b[39mas\u001b[39;00m e:\n",
      "File \u001b[0;32m~/Library/Caches/pypoetry/virtualenvs/chatlab-3kMKfU-i-py3.11/lib/python3.11/site-packages/openai/api_resources/abstract/engine_api_resource.py:153\u001b[0m, in \u001b[0;36mEngineAPIResource.create\u001b[0;34m(cls, api_key, api_base, api_type, request_id, api_version, organization, **params)\u001b[0m\n\u001b[1;32m    138\u001b[0m (\n\u001b[1;32m    139\u001b[0m     deployment_id,\n\u001b[1;32m    140\u001b[0m     engine,\n\u001b[0;32m   (...)\u001b[0m\n\u001b[1;32m    150\u001b[0m     api_key, api_base, api_type, api_version, organization, \u001b[39m*\u001b[39m\u001b[39m*\u001b[39mparams\n\u001b[1;32m    151\u001b[0m )\n\u001b[0;32m--> 153\u001b[0m response, _, api_key \u001b[39m=\u001b[39m requestor\u001b[39m.\u001b[39;49mrequest(\n\u001b[1;32m    154\u001b[0m     \u001b[39m\"\u001b[39;49m\u001b[39mpost\u001b[39;49m\u001b[39m\"\u001b[39;49m,\n\u001b[1;32m    155\u001b[0m     url,\n\u001b[1;32m    156\u001b[0m     params\u001b[39m=\u001b[39;49mparams,\n\u001b[1;32m    157\u001b[0m     headers\u001b[39m=\u001b[39;49mheaders,\n\u001b[1;32m    158\u001b[0m     stream\u001b[39m=\u001b[39;49mstream,\n\u001b[1;32m    159\u001b[0m     request_id\u001b[39m=\u001b[39;49mrequest_id,\n\u001b[1;32m    160\u001b[0m     request_timeout\u001b[39m=\u001b[39;49mrequest_timeout,\n\u001b[1;32m    161\u001b[0m )\n\u001b[1;32m    163\u001b[0m \u001b[39mif\u001b[39;00m stream:\n\u001b[1;32m    164\u001b[0m     \u001b[39m# must be an iterator\u001b[39;00m\n",
      "File \u001b[0;32m~/Library/Caches/pypoetry/virtualenvs/chatlab-3kMKfU-i-py3.11/lib/python3.11/site-packages/openai/api_requestor.py:226\u001b[0m, in \u001b[0;36mAPIRequestor.request\u001b[0;34m(self, method, url, params, headers, files, stream, request_id, request_timeout)\u001b[0m\n\u001b[1;32m    216\u001b[0m result \u001b[39m=\u001b[39m \u001b[39mself\u001b[39m\u001b[39m.\u001b[39mrequest_raw(\n\u001b[1;32m    217\u001b[0m     method\u001b[39m.\u001b[39mlower(),\n\u001b[1;32m    218\u001b[0m     url,\n\u001b[0;32m   (...)\u001b[0m\n\u001b[1;32m    224\u001b[0m     request_timeout\u001b[39m=\u001b[39mrequest_timeout,\n\u001b[1;32m    225\u001b[0m )\n\u001b[0;32m--> 226\u001b[0m resp, got_stream \u001b[39m=\u001b[39m \u001b[39mself\u001b[39;49m\u001b[39m.\u001b[39;49m_interpret_response(result, stream)\n\u001b[1;32m    227\u001b[0m \u001b[39mreturn\u001b[39;00m resp, got_stream, \u001b[39mself\u001b[39m\u001b[39m.\u001b[39mapi_key\n",
      "File \u001b[0;32m~/Library/Caches/pypoetry/virtualenvs/chatlab-3kMKfU-i-py3.11/lib/python3.11/site-packages/openai/api_requestor.py:620\u001b[0m, in \u001b[0;36mAPIRequestor._interpret_response\u001b[0;34m(self, result, stream)\u001b[0m\n\u001b[1;32m    618\u001b[0m \u001b[39melse\u001b[39;00m:\n\u001b[1;32m    619\u001b[0m     \u001b[39mreturn\u001b[39;00m (\n\u001b[0;32m--> 620\u001b[0m         \u001b[39mself\u001b[39;49m\u001b[39m.\u001b[39;49m_interpret_response_line(\n\u001b[1;32m    621\u001b[0m             result\u001b[39m.\u001b[39;49mcontent\u001b[39m.\u001b[39;49mdecode(\u001b[39m\"\u001b[39;49m\u001b[39mutf-8\u001b[39;49m\u001b[39m\"\u001b[39;49m),\n\u001b[1;32m    622\u001b[0m             result\u001b[39m.\u001b[39;49mstatus_code,\n\u001b[1;32m    623\u001b[0m             result\u001b[39m.\u001b[39;49mheaders,\n\u001b[1;32m    624\u001b[0m             stream\u001b[39m=\u001b[39;49m\u001b[39mFalse\u001b[39;49;00m,\n\u001b[1;32m    625\u001b[0m         ),\n\u001b[1;32m    626\u001b[0m         \u001b[39mFalse\u001b[39;00m,\n\u001b[1;32m    627\u001b[0m     )\n",
      "File \u001b[0;32m~/Library/Caches/pypoetry/virtualenvs/chatlab-3kMKfU-i-py3.11/lib/python3.11/site-packages/openai/api_requestor.py:683\u001b[0m, in \u001b[0;36mAPIRequestor._interpret_response_line\u001b[0;34m(self, rbody, rcode, rheaders, stream)\u001b[0m\n\u001b[1;32m    682\u001b[0m \u001b[39mif\u001b[39;00m stream_error \u001b[39mor\u001b[39;00m \u001b[39mnot\u001b[39;00m \u001b[39m200\u001b[39m \u001b[39m<\u001b[39m\u001b[39m=\u001b[39m rcode \u001b[39m<\u001b[39m \u001b[39m300\u001b[39m:\n\u001b[0;32m--> 683\u001b[0m     \u001b[39mraise\u001b[39;00m \u001b[39mself\u001b[39m\u001b[39m.\u001b[39mhandle_error_response(\n\u001b[1;32m    684\u001b[0m         rbody, rcode, resp\u001b[39m.\u001b[39mdata, rheaders, stream_error\u001b[39m=\u001b[39mstream_error\n\u001b[1;32m    685\u001b[0m     )\n\u001b[1;32m    686\u001b[0m \u001b[39mreturn\u001b[39;00m resp\n",
      "\u001b[0;31mRateLimitError\u001b[0m: Rate limit reached for 10KTPM-200RPM in organization org-AvW35q1q5Cvyc7XBAN0vTW9d on tokens per min. Limit: 10000 / min. Please try again in 6ms. Contact us through our help center at help.openai.com if you continue to have issues.",
      "\nDuring handling of the above exception, another exception occurred:\n",
      "\u001b[0;31mRateLimitError\u001b[0m                            Traceback (most recent call last)",
      "File \u001b[0;32m~/code/src/github.com/rgbkrk/chatlab/chatlab/chat.py:255\u001b[0m, in \u001b[0;36mChat.submit\u001b[0;34m(self, stream, *messages)\u001b[0m\n\u001b[1;32m    254\u001b[0m \u001b[39mtry\u001b[39;00m:\n\u001b[0;32m--> 255\u001b[0m     resp \u001b[39m=\u001b[39m openai\u001b[39m.\u001b[39;49mChatCompletion\u001b[39m.\u001b[39;49mcreate(\n\u001b[1;32m    256\u001b[0m         model\u001b[39m=\u001b[39;49m\u001b[39mself\u001b[39;49m\u001b[39m.\u001b[39;49mmodel,\n\u001b[1;32m    257\u001b[0m         messages\u001b[39m=\u001b[39;49mfull_messages,\n\u001b[1;32m    258\u001b[0m         \u001b[39m*\u001b[39;49m\u001b[39m*\u001b[39;49m\u001b[39mself\u001b[39;49m\u001b[39m.\u001b[39;49mfunction_registry\u001b[39m.\u001b[39;49mapi_manifest(),\n\u001b[1;32m    259\u001b[0m         stream\u001b[39m=\u001b[39;49mstream,\n\u001b[1;32m    260\u001b[0m     )\n\u001b[1;32m    261\u001b[0m \u001b[39mexcept\u001b[39;00m openai\u001b[39m.\u001b[39merror\u001b[39m.\u001b[39mRateLimitError \u001b[39mas\u001b[39;00m e:\n",
      "File \u001b[0;32m~/Library/Caches/pypoetry/virtualenvs/chatlab-3kMKfU-i-py3.11/lib/python3.11/site-packages/openai/api_resources/chat_completion.py:25\u001b[0m, in \u001b[0;36mChatCompletion.create\u001b[0;34m(cls, *args, **kwargs)\u001b[0m\n\u001b[1;32m     24\u001b[0m \u001b[39mtry\u001b[39;00m:\n\u001b[0;32m---> 25\u001b[0m     \u001b[39mreturn\u001b[39;00m \u001b[39msuper\u001b[39;49m()\u001b[39m.\u001b[39;49mcreate(\u001b[39m*\u001b[39;49margs, \u001b[39m*\u001b[39;49m\u001b[39m*\u001b[39;49mkwargs)\n\u001b[1;32m     26\u001b[0m \u001b[39mexcept\u001b[39;00m TryAgain \u001b[39mas\u001b[39;00m e:\n",
      "File \u001b[0;32m~/Library/Caches/pypoetry/virtualenvs/chatlab-3kMKfU-i-py3.11/lib/python3.11/site-packages/openai/api_resources/abstract/engine_api_resource.py:153\u001b[0m, in \u001b[0;36mEngineAPIResource.create\u001b[0;34m(cls, api_key, api_base, api_type, request_id, api_version, organization, **params)\u001b[0m\n\u001b[1;32m    138\u001b[0m (\n\u001b[1;32m    139\u001b[0m     deployment_id,\n\u001b[1;32m    140\u001b[0m     engine,\n\u001b[0;32m   (...)\u001b[0m\n\u001b[1;32m    150\u001b[0m     api_key, api_base, api_type, api_version, organization, \u001b[39m*\u001b[39m\u001b[39m*\u001b[39mparams\n\u001b[1;32m    151\u001b[0m )\n\u001b[0;32m--> 153\u001b[0m response, _, api_key \u001b[39m=\u001b[39m requestor\u001b[39m.\u001b[39;49mrequest(\n\u001b[1;32m    154\u001b[0m     \u001b[39m\"\u001b[39;49m\u001b[39mpost\u001b[39;49m\u001b[39m\"\u001b[39;49m,\n\u001b[1;32m    155\u001b[0m     url,\n\u001b[1;32m    156\u001b[0m     params\u001b[39m=\u001b[39;49mparams,\n\u001b[1;32m    157\u001b[0m     headers\u001b[39m=\u001b[39;49mheaders,\n\u001b[1;32m    158\u001b[0m     stream\u001b[39m=\u001b[39;49mstream,\n\u001b[1;32m    159\u001b[0m     request_id\u001b[39m=\u001b[39;49mrequest_id,\n\u001b[1;32m    160\u001b[0m     request_timeout\u001b[39m=\u001b[39;49mrequest_timeout,\n\u001b[1;32m    161\u001b[0m )\n\u001b[1;32m    163\u001b[0m \u001b[39mif\u001b[39;00m stream:\n\u001b[1;32m    164\u001b[0m     \u001b[39m# must be an iterator\u001b[39;00m\n",
      "File \u001b[0;32m~/Library/Caches/pypoetry/virtualenvs/chatlab-3kMKfU-i-py3.11/lib/python3.11/site-packages/openai/api_requestor.py:226\u001b[0m, in \u001b[0;36mAPIRequestor.request\u001b[0;34m(self, method, url, params, headers, files, stream, request_id, request_timeout)\u001b[0m\n\u001b[1;32m    216\u001b[0m result \u001b[39m=\u001b[39m \u001b[39mself\u001b[39m\u001b[39m.\u001b[39mrequest_raw(\n\u001b[1;32m    217\u001b[0m     method\u001b[39m.\u001b[39mlower(),\n\u001b[1;32m    218\u001b[0m     url,\n\u001b[0;32m   (...)\u001b[0m\n\u001b[1;32m    224\u001b[0m     request_timeout\u001b[39m=\u001b[39mrequest_timeout,\n\u001b[1;32m    225\u001b[0m )\n\u001b[0;32m--> 226\u001b[0m resp, got_stream \u001b[39m=\u001b[39m \u001b[39mself\u001b[39;49m\u001b[39m.\u001b[39;49m_interpret_response(result, stream)\n\u001b[1;32m    227\u001b[0m \u001b[39mreturn\u001b[39;00m resp, got_stream, \u001b[39mself\u001b[39m\u001b[39m.\u001b[39mapi_key\n",
      "File \u001b[0;32m~/Library/Caches/pypoetry/virtualenvs/chatlab-3kMKfU-i-py3.11/lib/python3.11/site-packages/openai/api_requestor.py:620\u001b[0m, in \u001b[0;36mAPIRequestor._interpret_response\u001b[0;34m(self, result, stream)\u001b[0m\n\u001b[1;32m    618\u001b[0m \u001b[39melse\u001b[39;00m:\n\u001b[1;32m    619\u001b[0m     \u001b[39mreturn\u001b[39;00m (\n\u001b[0;32m--> 620\u001b[0m         \u001b[39mself\u001b[39;49m\u001b[39m.\u001b[39;49m_interpret_response_line(\n\u001b[1;32m    621\u001b[0m             result\u001b[39m.\u001b[39;49mcontent\u001b[39m.\u001b[39;49mdecode(\u001b[39m\"\u001b[39;49m\u001b[39mutf-8\u001b[39;49m\u001b[39m\"\u001b[39;49m),\n\u001b[1;32m    622\u001b[0m             result\u001b[39m.\u001b[39;49mstatus_code,\n\u001b[1;32m    623\u001b[0m             result\u001b[39m.\u001b[39;49mheaders,\n\u001b[1;32m    624\u001b[0m             stream\u001b[39m=\u001b[39;49m\u001b[39mFalse\u001b[39;49;00m,\n\u001b[1;32m    625\u001b[0m         ),\n\u001b[1;32m    626\u001b[0m         \u001b[39mFalse\u001b[39;00m,\n\u001b[1;32m    627\u001b[0m     )\n",
      "File \u001b[0;32m~/Library/Caches/pypoetry/virtualenvs/chatlab-3kMKfU-i-py3.11/lib/python3.11/site-packages/openai/api_requestor.py:683\u001b[0m, in \u001b[0;36mAPIRequestor._interpret_response_line\u001b[0;34m(self, rbody, rcode, rheaders, stream)\u001b[0m\n\u001b[1;32m    682\u001b[0m \u001b[39mif\u001b[39;00m stream_error \u001b[39mor\u001b[39;00m \u001b[39mnot\u001b[39;00m \u001b[39m200\u001b[39m \u001b[39m<\u001b[39m\u001b[39m=\u001b[39m rcode \u001b[39m<\u001b[39m \u001b[39m300\u001b[39m:\n\u001b[0;32m--> 683\u001b[0m     \u001b[39mraise\u001b[39;00m \u001b[39mself\u001b[39m\u001b[39m.\u001b[39mhandle_error_response(\n\u001b[1;32m    684\u001b[0m         rbody, rcode, resp\u001b[39m.\u001b[39mdata, rheaders, stream_error\u001b[39m=\u001b[39mstream_error\n\u001b[1;32m    685\u001b[0m     )\n\u001b[1;32m    686\u001b[0m \u001b[39mreturn\u001b[39;00m resp\n",
      "\u001b[0;31mRateLimitError\u001b[0m: Rate limit reached for 10KTPM-200RPM in organization org-AvW35q1q5Cvyc7XBAN0vTW9d on tokens per min. Limit: 10000 / min. Please try again in 6ms. Contact us through our help center at help.openai.com if you continue to have issues.",
      "\nDuring handling of the above exception, another exception occurred:\n",
      "\u001b[0;31mRateLimitError\u001b[0m                            Traceback (most recent call last)",
      "File \u001b[0;32m~/code/src/github.com/rgbkrk/chatlab/chatlab/chat.py:255\u001b[0m, in \u001b[0;36mChat.submit\u001b[0;34m(self, stream, *messages)\u001b[0m\n\u001b[1;32m    254\u001b[0m \u001b[39mtry\u001b[39;00m:\n\u001b[0;32m--> 255\u001b[0m     resp \u001b[39m=\u001b[39m openai\u001b[39m.\u001b[39;49mChatCompletion\u001b[39m.\u001b[39;49mcreate(\n\u001b[1;32m    256\u001b[0m         model\u001b[39m=\u001b[39;49m\u001b[39mself\u001b[39;49m\u001b[39m.\u001b[39;49mmodel,\n\u001b[1;32m    257\u001b[0m         messages\u001b[39m=\u001b[39;49mfull_messages,\n\u001b[1;32m    258\u001b[0m         \u001b[39m*\u001b[39;49m\u001b[39m*\u001b[39;49m\u001b[39mself\u001b[39;49m\u001b[39m.\u001b[39;49mfunction_registry\u001b[39m.\u001b[39;49mapi_manifest(),\n\u001b[1;32m    259\u001b[0m         stream\u001b[39m=\u001b[39;49mstream,\n\u001b[1;32m    260\u001b[0m     )\n\u001b[1;32m    261\u001b[0m \u001b[39mexcept\u001b[39;00m openai\u001b[39m.\u001b[39merror\u001b[39m.\u001b[39mRateLimitError \u001b[39mas\u001b[39;00m e:\n",
      "File \u001b[0;32m~/Library/Caches/pypoetry/virtualenvs/chatlab-3kMKfU-i-py3.11/lib/python3.11/site-packages/openai/api_resources/chat_completion.py:25\u001b[0m, in \u001b[0;36mChatCompletion.create\u001b[0;34m(cls, *args, **kwargs)\u001b[0m\n\u001b[1;32m     24\u001b[0m \u001b[39mtry\u001b[39;00m:\n\u001b[0;32m---> 25\u001b[0m     \u001b[39mreturn\u001b[39;00m \u001b[39msuper\u001b[39;49m()\u001b[39m.\u001b[39;49mcreate(\u001b[39m*\u001b[39;49margs, \u001b[39m*\u001b[39;49m\u001b[39m*\u001b[39;49mkwargs)\n\u001b[1;32m     26\u001b[0m \u001b[39mexcept\u001b[39;00m TryAgain \u001b[39mas\u001b[39;00m e:\n",
      "File \u001b[0;32m~/Library/Caches/pypoetry/virtualenvs/chatlab-3kMKfU-i-py3.11/lib/python3.11/site-packages/openai/api_resources/abstract/engine_api_resource.py:153\u001b[0m, in \u001b[0;36mEngineAPIResource.create\u001b[0;34m(cls, api_key, api_base, api_type, request_id, api_version, organization, **params)\u001b[0m\n\u001b[1;32m    138\u001b[0m (\n\u001b[1;32m    139\u001b[0m     deployment_id,\n\u001b[1;32m    140\u001b[0m     engine,\n\u001b[0;32m   (...)\u001b[0m\n\u001b[1;32m    150\u001b[0m     api_key, api_base, api_type, api_version, organization, \u001b[39m*\u001b[39m\u001b[39m*\u001b[39mparams\n\u001b[1;32m    151\u001b[0m )\n\u001b[0;32m--> 153\u001b[0m response, _, api_key \u001b[39m=\u001b[39m requestor\u001b[39m.\u001b[39;49mrequest(\n\u001b[1;32m    154\u001b[0m     \u001b[39m\"\u001b[39;49m\u001b[39mpost\u001b[39;49m\u001b[39m\"\u001b[39;49m,\n\u001b[1;32m    155\u001b[0m     url,\n\u001b[1;32m    156\u001b[0m     params\u001b[39m=\u001b[39;49mparams,\n\u001b[1;32m    157\u001b[0m     headers\u001b[39m=\u001b[39;49mheaders,\n\u001b[1;32m    158\u001b[0m     stream\u001b[39m=\u001b[39;49mstream,\n\u001b[1;32m    159\u001b[0m     request_id\u001b[39m=\u001b[39;49mrequest_id,\n\u001b[1;32m    160\u001b[0m     request_timeout\u001b[39m=\u001b[39;49mrequest_timeout,\n\u001b[1;32m    161\u001b[0m )\n\u001b[1;32m    163\u001b[0m \u001b[39mif\u001b[39;00m stream:\n\u001b[1;32m    164\u001b[0m     \u001b[39m# must be an iterator\u001b[39;00m\n",
      "File \u001b[0;32m~/Library/Caches/pypoetry/virtualenvs/chatlab-3kMKfU-i-py3.11/lib/python3.11/site-packages/openai/api_requestor.py:226\u001b[0m, in \u001b[0;36mAPIRequestor.request\u001b[0;34m(self, method, url, params, headers, files, stream, request_id, request_timeout)\u001b[0m\n\u001b[1;32m    216\u001b[0m result \u001b[39m=\u001b[39m \u001b[39mself\u001b[39m\u001b[39m.\u001b[39mrequest_raw(\n\u001b[1;32m    217\u001b[0m     method\u001b[39m.\u001b[39mlower(),\n\u001b[1;32m    218\u001b[0m     url,\n\u001b[0;32m   (...)\u001b[0m\n\u001b[1;32m    224\u001b[0m     request_timeout\u001b[39m=\u001b[39mrequest_timeout,\n\u001b[1;32m    225\u001b[0m )\n\u001b[0;32m--> 226\u001b[0m resp, got_stream \u001b[39m=\u001b[39m \u001b[39mself\u001b[39;49m\u001b[39m.\u001b[39;49m_interpret_response(result, stream)\n\u001b[1;32m    227\u001b[0m \u001b[39mreturn\u001b[39;00m resp, got_stream, \u001b[39mself\u001b[39m\u001b[39m.\u001b[39mapi_key\n",
      "File \u001b[0;32m~/Library/Caches/pypoetry/virtualenvs/chatlab-3kMKfU-i-py3.11/lib/python3.11/site-packages/openai/api_requestor.py:620\u001b[0m, in \u001b[0;36mAPIRequestor._interpret_response\u001b[0;34m(self, result, stream)\u001b[0m\n\u001b[1;32m    618\u001b[0m \u001b[39melse\u001b[39;00m:\n\u001b[1;32m    619\u001b[0m     \u001b[39mreturn\u001b[39;00m (\n\u001b[0;32m--> 620\u001b[0m         \u001b[39mself\u001b[39;49m\u001b[39m.\u001b[39;49m_interpret_response_line(\n\u001b[1;32m    621\u001b[0m             result\u001b[39m.\u001b[39;49mcontent\u001b[39m.\u001b[39;49mdecode(\u001b[39m\"\u001b[39;49m\u001b[39mutf-8\u001b[39;49m\u001b[39m\"\u001b[39;49m),\n\u001b[1;32m    622\u001b[0m             result\u001b[39m.\u001b[39;49mstatus_code,\n\u001b[1;32m    623\u001b[0m             result\u001b[39m.\u001b[39;49mheaders,\n\u001b[1;32m    624\u001b[0m             stream\u001b[39m=\u001b[39;49m\u001b[39mFalse\u001b[39;49;00m,\n\u001b[1;32m    625\u001b[0m         ),\n\u001b[1;32m    626\u001b[0m         \u001b[39mFalse\u001b[39;00m,\n\u001b[1;32m    627\u001b[0m     )\n",
      "File \u001b[0;32m~/Library/Caches/pypoetry/virtualenvs/chatlab-3kMKfU-i-py3.11/lib/python3.11/site-packages/openai/api_requestor.py:683\u001b[0m, in \u001b[0;36mAPIRequestor._interpret_response_line\u001b[0;34m(self, rbody, rcode, rheaders, stream)\u001b[0m\n\u001b[1;32m    682\u001b[0m \u001b[39mif\u001b[39;00m stream_error \u001b[39mor\u001b[39;00m \u001b[39mnot\u001b[39;00m \u001b[39m200\u001b[39m \u001b[39m<\u001b[39m\u001b[39m=\u001b[39m rcode \u001b[39m<\u001b[39m \u001b[39m300\u001b[39m:\n\u001b[0;32m--> 683\u001b[0m     \u001b[39mraise\u001b[39;00m \u001b[39mself\u001b[39m\u001b[39m.\u001b[39mhandle_error_response(\n\u001b[1;32m    684\u001b[0m         rbody, rcode, resp\u001b[39m.\u001b[39mdata, rheaders, stream_error\u001b[39m=\u001b[39mstream_error\n\u001b[1;32m    685\u001b[0m     )\n\u001b[1;32m    686\u001b[0m \u001b[39mreturn\u001b[39;00m resp\n",
      "\u001b[0;31mRateLimitError\u001b[0m: Rate limit reached for 10KTPM-200RPM in organization org-AvW35q1q5Cvyc7XBAN0vTW9d on tokens per min. Limit: 10000 / min. Please try again in 6ms. Contact us through our help center at help.openai.com if you continue to have issues.",
      "\nDuring handling of the above exception, another exception occurred:\n",
      "\u001b[0;31mRateLimitError\u001b[0m                            Traceback (most recent call last)",
      "File \u001b[0;32m~/code/src/github.com/rgbkrk/chatlab/chatlab/chat.py:255\u001b[0m, in \u001b[0;36mChat.submit\u001b[0;34m(self, stream, *messages)\u001b[0m\n\u001b[1;32m    254\u001b[0m \u001b[39mtry\u001b[39;00m:\n\u001b[0;32m--> 255\u001b[0m     resp \u001b[39m=\u001b[39m openai\u001b[39m.\u001b[39;49mChatCompletion\u001b[39m.\u001b[39;49mcreate(\n\u001b[1;32m    256\u001b[0m         model\u001b[39m=\u001b[39;49m\u001b[39mself\u001b[39;49m\u001b[39m.\u001b[39;49mmodel,\n\u001b[1;32m    257\u001b[0m         messages\u001b[39m=\u001b[39;49mfull_messages,\n\u001b[1;32m    258\u001b[0m         \u001b[39m*\u001b[39;49m\u001b[39m*\u001b[39;49m\u001b[39mself\u001b[39;49m\u001b[39m.\u001b[39;49mfunction_registry\u001b[39m.\u001b[39;49mapi_manifest(),\n\u001b[1;32m    259\u001b[0m         stream\u001b[39m=\u001b[39;49mstream,\n\u001b[1;32m    260\u001b[0m     )\n\u001b[1;32m    261\u001b[0m \u001b[39mexcept\u001b[39;00m openai\u001b[39m.\u001b[39merror\u001b[39m.\u001b[39mRateLimitError \u001b[39mas\u001b[39;00m e:\n",
      "File \u001b[0;32m~/Library/Caches/pypoetry/virtualenvs/chatlab-3kMKfU-i-py3.11/lib/python3.11/site-packages/openai/api_resources/chat_completion.py:25\u001b[0m, in \u001b[0;36mChatCompletion.create\u001b[0;34m(cls, *args, **kwargs)\u001b[0m\n\u001b[1;32m     24\u001b[0m \u001b[39mtry\u001b[39;00m:\n\u001b[0;32m---> 25\u001b[0m     \u001b[39mreturn\u001b[39;00m \u001b[39msuper\u001b[39;49m()\u001b[39m.\u001b[39;49mcreate(\u001b[39m*\u001b[39;49margs, \u001b[39m*\u001b[39;49m\u001b[39m*\u001b[39;49mkwargs)\n\u001b[1;32m     26\u001b[0m \u001b[39mexcept\u001b[39;00m TryAgain \u001b[39mas\u001b[39;00m e:\n",
      "File \u001b[0;32m~/Library/Caches/pypoetry/virtualenvs/chatlab-3kMKfU-i-py3.11/lib/python3.11/site-packages/openai/api_resources/abstract/engine_api_resource.py:153\u001b[0m, in \u001b[0;36mEngineAPIResource.create\u001b[0;34m(cls, api_key, api_base, api_type, request_id, api_version, organization, **params)\u001b[0m\n\u001b[1;32m    138\u001b[0m (\n\u001b[1;32m    139\u001b[0m     deployment_id,\n\u001b[1;32m    140\u001b[0m     engine,\n\u001b[0;32m   (...)\u001b[0m\n\u001b[1;32m    150\u001b[0m     api_key, api_base, api_type, api_version, organization, \u001b[39m*\u001b[39m\u001b[39m*\u001b[39mparams\n\u001b[1;32m    151\u001b[0m )\n\u001b[0;32m--> 153\u001b[0m response, _, api_key \u001b[39m=\u001b[39m requestor\u001b[39m.\u001b[39;49mrequest(\n\u001b[1;32m    154\u001b[0m     \u001b[39m\"\u001b[39;49m\u001b[39mpost\u001b[39;49m\u001b[39m\"\u001b[39;49m,\n\u001b[1;32m    155\u001b[0m     url,\n\u001b[1;32m    156\u001b[0m     params\u001b[39m=\u001b[39;49mparams,\n\u001b[1;32m    157\u001b[0m     headers\u001b[39m=\u001b[39;49mheaders,\n\u001b[1;32m    158\u001b[0m     stream\u001b[39m=\u001b[39;49mstream,\n\u001b[1;32m    159\u001b[0m     request_id\u001b[39m=\u001b[39;49mrequest_id,\n\u001b[1;32m    160\u001b[0m     request_timeout\u001b[39m=\u001b[39;49mrequest_timeout,\n\u001b[1;32m    161\u001b[0m )\n\u001b[1;32m    163\u001b[0m \u001b[39mif\u001b[39;00m stream:\n\u001b[1;32m    164\u001b[0m     \u001b[39m# must be an iterator\u001b[39;00m\n",
      "File \u001b[0;32m~/Library/Caches/pypoetry/virtualenvs/chatlab-3kMKfU-i-py3.11/lib/python3.11/site-packages/openai/api_requestor.py:226\u001b[0m, in \u001b[0;36mAPIRequestor.request\u001b[0;34m(self, method, url, params, headers, files, stream, request_id, request_timeout)\u001b[0m\n\u001b[1;32m    216\u001b[0m result \u001b[39m=\u001b[39m \u001b[39mself\u001b[39m\u001b[39m.\u001b[39mrequest_raw(\n\u001b[1;32m    217\u001b[0m     method\u001b[39m.\u001b[39mlower(),\n\u001b[1;32m    218\u001b[0m     url,\n\u001b[0;32m   (...)\u001b[0m\n\u001b[1;32m    224\u001b[0m     request_timeout\u001b[39m=\u001b[39mrequest_timeout,\n\u001b[1;32m    225\u001b[0m )\n\u001b[0;32m--> 226\u001b[0m resp, got_stream \u001b[39m=\u001b[39m \u001b[39mself\u001b[39;49m\u001b[39m.\u001b[39;49m_interpret_response(result, stream)\n\u001b[1;32m    227\u001b[0m \u001b[39mreturn\u001b[39;00m resp, got_stream, \u001b[39mself\u001b[39m\u001b[39m.\u001b[39mapi_key\n",
      "File \u001b[0;32m~/Library/Caches/pypoetry/virtualenvs/chatlab-3kMKfU-i-py3.11/lib/python3.11/site-packages/openai/api_requestor.py:620\u001b[0m, in \u001b[0;36mAPIRequestor._interpret_response\u001b[0;34m(self, result, stream)\u001b[0m\n\u001b[1;32m    618\u001b[0m \u001b[39melse\u001b[39;00m:\n\u001b[1;32m    619\u001b[0m     \u001b[39mreturn\u001b[39;00m (\n\u001b[0;32m--> 620\u001b[0m         \u001b[39mself\u001b[39;49m\u001b[39m.\u001b[39;49m_interpret_response_line(\n\u001b[1;32m    621\u001b[0m             result\u001b[39m.\u001b[39;49mcontent\u001b[39m.\u001b[39;49mdecode(\u001b[39m\"\u001b[39;49m\u001b[39mutf-8\u001b[39;49m\u001b[39m\"\u001b[39;49m),\n\u001b[1;32m    622\u001b[0m             result\u001b[39m.\u001b[39;49mstatus_code,\n\u001b[1;32m    623\u001b[0m             result\u001b[39m.\u001b[39;49mheaders,\n\u001b[1;32m    624\u001b[0m             stream\u001b[39m=\u001b[39;49m\u001b[39mFalse\u001b[39;49;00m,\n\u001b[1;32m    625\u001b[0m         ),\n\u001b[1;32m    626\u001b[0m         \u001b[39mFalse\u001b[39;00m,\n\u001b[1;32m    627\u001b[0m     )\n",
      "File \u001b[0;32m~/Library/Caches/pypoetry/virtualenvs/chatlab-3kMKfU-i-py3.11/lib/python3.11/site-packages/openai/api_requestor.py:683\u001b[0m, in \u001b[0;36mAPIRequestor._interpret_response_line\u001b[0;34m(self, rbody, rcode, rheaders, stream)\u001b[0m\n\u001b[1;32m    682\u001b[0m \u001b[39mif\u001b[39;00m stream_error \u001b[39mor\u001b[39;00m \u001b[39mnot\u001b[39;00m \u001b[39m200\u001b[39m \u001b[39m<\u001b[39m\u001b[39m=\u001b[39m rcode \u001b[39m<\u001b[39m \u001b[39m300\u001b[39m:\n\u001b[0;32m--> 683\u001b[0m     \u001b[39mraise\u001b[39;00m \u001b[39mself\u001b[39m\u001b[39m.\u001b[39mhandle_error_response(\n\u001b[1;32m    684\u001b[0m         rbody, rcode, resp\u001b[39m.\u001b[39mdata, rheaders, stream_error\u001b[39m=\u001b[39mstream_error\n\u001b[1;32m    685\u001b[0m     )\n\u001b[1;32m    686\u001b[0m \u001b[39mreturn\u001b[39;00m resp\n",
      "\u001b[0;31mRateLimitError\u001b[0m: Rate limit reached for 10KTPM-200RPM in organization org-AvW35q1q5Cvyc7XBAN0vTW9d on tokens per min. Limit: 10000 / min. Please try again in 6ms. Contact us through our help center at help.openai.com if you continue to have issues.",
      "\nDuring handling of the above exception, another exception occurred:\n",
      "\u001b[0;31mRateLimitError\u001b[0m                            Traceback (most recent call last)",
      "File \u001b[0;32m~/code/src/github.com/rgbkrk/chatlab/chatlab/chat.py:255\u001b[0m, in \u001b[0;36mChat.submit\u001b[0;34m(self, stream, *messages)\u001b[0m\n\u001b[1;32m    254\u001b[0m \u001b[39mtry\u001b[39;00m:\n\u001b[0;32m--> 255\u001b[0m     resp \u001b[39m=\u001b[39m openai\u001b[39m.\u001b[39;49mChatCompletion\u001b[39m.\u001b[39;49mcreate(\n\u001b[1;32m    256\u001b[0m         model\u001b[39m=\u001b[39;49m\u001b[39mself\u001b[39;49m\u001b[39m.\u001b[39;49mmodel,\n\u001b[1;32m    257\u001b[0m         messages\u001b[39m=\u001b[39;49mfull_messages,\n\u001b[1;32m    258\u001b[0m         \u001b[39m*\u001b[39;49m\u001b[39m*\u001b[39;49m\u001b[39mself\u001b[39;49m\u001b[39m.\u001b[39;49mfunction_registry\u001b[39m.\u001b[39;49mapi_manifest(),\n\u001b[1;32m    259\u001b[0m         stream\u001b[39m=\u001b[39;49mstream,\n\u001b[1;32m    260\u001b[0m     )\n\u001b[1;32m    261\u001b[0m \u001b[39mexcept\u001b[39;00m openai\u001b[39m.\u001b[39merror\u001b[39m.\u001b[39mRateLimitError \u001b[39mas\u001b[39;00m e:\n",
      "File \u001b[0;32m~/Library/Caches/pypoetry/virtualenvs/chatlab-3kMKfU-i-py3.11/lib/python3.11/site-packages/openai/api_resources/chat_completion.py:25\u001b[0m, in \u001b[0;36mChatCompletion.create\u001b[0;34m(cls, *args, **kwargs)\u001b[0m\n\u001b[1;32m     24\u001b[0m \u001b[39mtry\u001b[39;00m:\n\u001b[0;32m---> 25\u001b[0m     \u001b[39mreturn\u001b[39;00m \u001b[39msuper\u001b[39;49m()\u001b[39m.\u001b[39;49mcreate(\u001b[39m*\u001b[39;49margs, \u001b[39m*\u001b[39;49m\u001b[39m*\u001b[39;49mkwargs)\n\u001b[1;32m     26\u001b[0m \u001b[39mexcept\u001b[39;00m TryAgain \u001b[39mas\u001b[39;00m e:\n",
      "File \u001b[0;32m~/Library/Caches/pypoetry/virtualenvs/chatlab-3kMKfU-i-py3.11/lib/python3.11/site-packages/openai/api_resources/abstract/engine_api_resource.py:153\u001b[0m, in \u001b[0;36mEngineAPIResource.create\u001b[0;34m(cls, api_key, api_base, api_type, request_id, api_version, organization, **params)\u001b[0m\n\u001b[1;32m    138\u001b[0m (\n\u001b[1;32m    139\u001b[0m     deployment_id,\n\u001b[1;32m    140\u001b[0m     engine,\n\u001b[0;32m   (...)\u001b[0m\n\u001b[1;32m    150\u001b[0m     api_key, api_base, api_type, api_version, organization, \u001b[39m*\u001b[39m\u001b[39m*\u001b[39mparams\n\u001b[1;32m    151\u001b[0m )\n\u001b[0;32m--> 153\u001b[0m response, _, api_key \u001b[39m=\u001b[39m requestor\u001b[39m.\u001b[39;49mrequest(\n\u001b[1;32m    154\u001b[0m     \u001b[39m\"\u001b[39;49m\u001b[39mpost\u001b[39;49m\u001b[39m\"\u001b[39;49m,\n\u001b[1;32m    155\u001b[0m     url,\n\u001b[1;32m    156\u001b[0m     params\u001b[39m=\u001b[39;49mparams,\n\u001b[1;32m    157\u001b[0m     headers\u001b[39m=\u001b[39;49mheaders,\n\u001b[1;32m    158\u001b[0m     stream\u001b[39m=\u001b[39;49mstream,\n\u001b[1;32m    159\u001b[0m     request_id\u001b[39m=\u001b[39;49mrequest_id,\n\u001b[1;32m    160\u001b[0m     request_timeout\u001b[39m=\u001b[39;49mrequest_timeout,\n\u001b[1;32m    161\u001b[0m )\n\u001b[1;32m    163\u001b[0m \u001b[39mif\u001b[39;00m stream:\n\u001b[1;32m    164\u001b[0m     \u001b[39m# must be an iterator\u001b[39;00m\n",
      "File \u001b[0;32m~/Library/Caches/pypoetry/virtualenvs/chatlab-3kMKfU-i-py3.11/lib/python3.11/site-packages/openai/api_requestor.py:226\u001b[0m, in \u001b[0;36mAPIRequestor.request\u001b[0;34m(self, method, url, params, headers, files, stream, request_id, request_timeout)\u001b[0m\n\u001b[1;32m    216\u001b[0m result \u001b[39m=\u001b[39m \u001b[39mself\u001b[39m\u001b[39m.\u001b[39mrequest_raw(\n\u001b[1;32m    217\u001b[0m     method\u001b[39m.\u001b[39mlower(),\n\u001b[1;32m    218\u001b[0m     url,\n\u001b[0;32m   (...)\u001b[0m\n\u001b[1;32m    224\u001b[0m     request_timeout\u001b[39m=\u001b[39mrequest_timeout,\n\u001b[1;32m    225\u001b[0m )\n\u001b[0;32m--> 226\u001b[0m resp, got_stream \u001b[39m=\u001b[39m \u001b[39mself\u001b[39;49m\u001b[39m.\u001b[39;49m_interpret_response(result, stream)\n\u001b[1;32m    227\u001b[0m \u001b[39mreturn\u001b[39;00m resp, got_stream, \u001b[39mself\u001b[39m\u001b[39m.\u001b[39mapi_key\n",
      "File \u001b[0;32m~/Library/Caches/pypoetry/virtualenvs/chatlab-3kMKfU-i-py3.11/lib/python3.11/site-packages/openai/api_requestor.py:620\u001b[0m, in \u001b[0;36mAPIRequestor._interpret_response\u001b[0;34m(self, result, stream)\u001b[0m\n\u001b[1;32m    618\u001b[0m \u001b[39melse\u001b[39;00m:\n\u001b[1;32m    619\u001b[0m     \u001b[39mreturn\u001b[39;00m (\n\u001b[0;32m--> 620\u001b[0m         \u001b[39mself\u001b[39;49m\u001b[39m.\u001b[39;49m_interpret_response_line(\n\u001b[1;32m    621\u001b[0m             result\u001b[39m.\u001b[39;49mcontent\u001b[39m.\u001b[39;49mdecode(\u001b[39m\"\u001b[39;49m\u001b[39mutf-8\u001b[39;49m\u001b[39m\"\u001b[39;49m),\n\u001b[1;32m    622\u001b[0m             result\u001b[39m.\u001b[39;49mstatus_code,\n\u001b[1;32m    623\u001b[0m             result\u001b[39m.\u001b[39;49mheaders,\n\u001b[1;32m    624\u001b[0m             stream\u001b[39m=\u001b[39;49m\u001b[39mFalse\u001b[39;49;00m,\n\u001b[1;32m    625\u001b[0m         ),\n\u001b[1;32m    626\u001b[0m         \u001b[39mFalse\u001b[39;00m,\n\u001b[1;32m    627\u001b[0m     )\n",
      "File \u001b[0;32m~/Library/Caches/pypoetry/virtualenvs/chatlab-3kMKfU-i-py3.11/lib/python3.11/site-packages/openai/api_requestor.py:683\u001b[0m, in \u001b[0;36mAPIRequestor._interpret_response_line\u001b[0;34m(self, rbody, rcode, rheaders, stream)\u001b[0m\n\u001b[1;32m    682\u001b[0m \u001b[39mif\u001b[39;00m stream_error \u001b[39mor\u001b[39;00m \u001b[39mnot\u001b[39;00m \u001b[39m200\u001b[39m \u001b[39m<\u001b[39m\u001b[39m=\u001b[39m rcode \u001b[39m<\u001b[39m \u001b[39m300\u001b[39m:\n\u001b[0;32m--> 683\u001b[0m     \u001b[39mraise\u001b[39;00m \u001b[39mself\u001b[39m\u001b[39m.\u001b[39mhandle_error_response(\n\u001b[1;32m    684\u001b[0m         rbody, rcode, resp\u001b[39m.\u001b[39mdata, rheaders, stream_error\u001b[39m=\u001b[39mstream_error\n\u001b[1;32m    685\u001b[0m     )\n\u001b[1;32m    686\u001b[0m \u001b[39mreturn\u001b[39;00m resp\n",
      "\u001b[0;31mRateLimitError\u001b[0m: Rate limit reached for 10KTPM-200RPM in organization org-AvW35q1q5Cvyc7XBAN0vTW9d on tokens per min. Limit: 10000 / min. Please try again in 6ms. Contact us through our help center at help.openai.com if you continue to have issues.",
      "\nDuring handling of the above exception, another exception occurred:\n",
      "\u001b[0;31mRateLimitError\u001b[0m                            Traceback (most recent call last)",
      "File \u001b[0;32m~/code/src/github.com/rgbkrk/chatlab/chatlab/chat.py:255\u001b[0m, in \u001b[0;36mChat.submit\u001b[0;34m(self, stream, *messages)\u001b[0m\n\u001b[1;32m    254\u001b[0m \u001b[39mtry\u001b[39;00m:\n\u001b[0;32m--> 255\u001b[0m     resp \u001b[39m=\u001b[39m openai\u001b[39m.\u001b[39;49mChatCompletion\u001b[39m.\u001b[39;49mcreate(\n\u001b[1;32m    256\u001b[0m         model\u001b[39m=\u001b[39;49m\u001b[39mself\u001b[39;49m\u001b[39m.\u001b[39;49mmodel,\n\u001b[1;32m    257\u001b[0m         messages\u001b[39m=\u001b[39;49mfull_messages,\n\u001b[1;32m    258\u001b[0m         \u001b[39m*\u001b[39;49m\u001b[39m*\u001b[39;49m\u001b[39mself\u001b[39;49m\u001b[39m.\u001b[39;49mfunction_registry\u001b[39m.\u001b[39;49mapi_manifest(),\n\u001b[1;32m    259\u001b[0m         stream\u001b[39m=\u001b[39;49mstream,\n\u001b[1;32m    260\u001b[0m     )\n\u001b[1;32m    261\u001b[0m \u001b[39mexcept\u001b[39;00m openai\u001b[39m.\u001b[39merror\u001b[39m.\u001b[39mRateLimitError \u001b[39mas\u001b[39;00m e:\n",
      "File \u001b[0;32m~/Library/Caches/pypoetry/virtualenvs/chatlab-3kMKfU-i-py3.11/lib/python3.11/site-packages/openai/api_resources/chat_completion.py:25\u001b[0m, in \u001b[0;36mChatCompletion.create\u001b[0;34m(cls, *args, **kwargs)\u001b[0m\n\u001b[1;32m     24\u001b[0m \u001b[39mtry\u001b[39;00m:\n\u001b[0;32m---> 25\u001b[0m     \u001b[39mreturn\u001b[39;00m \u001b[39msuper\u001b[39;49m()\u001b[39m.\u001b[39;49mcreate(\u001b[39m*\u001b[39;49margs, \u001b[39m*\u001b[39;49m\u001b[39m*\u001b[39;49mkwargs)\n\u001b[1;32m     26\u001b[0m \u001b[39mexcept\u001b[39;00m TryAgain \u001b[39mas\u001b[39;00m e:\n",
      "File \u001b[0;32m~/Library/Caches/pypoetry/virtualenvs/chatlab-3kMKfU-i-py3.11/lib/python3.11/site-packages/openai/api_resources/abstract/engine_api_resource.py:153\u001b[0m, in \u001b[0;36mEngineAPIResource.create\u001b[0;34m(cls, api_key, api_base, api_type, request_id, api_version, organization, **params)\u001b[0m\n\u001b[1;32m    138\u001b[0m (\n\u001b[1;32m    139\u001b[0m     deployment_id,\n\u001b[1;32m    140\u001b[0m     engine,\n\u001b[0;32m   (...)\u001b[0m\n\u001b[1;32m    150\u001b[0m     api_key, api_base, api_type, api_version, organization, \u001b[39m*\u001b[39m\u001b[39m*\u001b[39mparams\n\u001b[1;32m    151\u001b[0m )\n\u001b[0;32m--> 153\u001b[0m response, _, api_key \u001b[39m=\u001b[39m requestor\u001b[39m.\u001b[39;49mrequest(\n\u001b[1;32m    154\u001b[0m     \u001b[39m\"\u001b[39;49m\u001b[39mpost\u001b[39;49m\u001b[39m\"\u001b[39;49m,\n\u001b[1;32m    155\u001b[0m     url,\n\u001b[1;32m    156\u001b[0m     params\u001b[39m=\u001b[39;49mparams,\n\u001b[1;32m    157\u001b[0m     headers\u001b[39m=\u001b[39;49mheaders,\n\u001b[1;32m    158\u001b[0m     stream\u001b[39m=\u001b[39;49mstream,\n\u001b[1;32m    159\u001b[0m     request_id\u001b[39m=\u001b[39;49mrequest_id,\n\u001b[1;32m    160\u001b[0m     request_timeout\u001b[39m=\u001b[39;49mrequest_timeout,\n\u001b[1;32m    161\u001b[0m )\n\u001b[1;32m    163\u001b[0m \u001b[39mif\u001b[39;00m stream:\n\u001b[1;32m    164\u001b[0m     \u001b[39m# must be an iterator\u001b[39;00m\n",
      "File \u001b[0;32m~/Library/Caches/pypoetry/virtualenvs/chatlab-3kMKfU-i-py3.11/lib/python3.11/site-packages/openai/api_requestor.py:226\u001b[0m, in \u001b[0;36mAPIRequestor.request\u001b[0;34m(self, method, url, params, headers, files, stream, request_id, request_timeout)\u001b[0m\n\u001b[1;32m    216\u001b[0m result \u001b[39m=\u001b[39m \u001b[39mself\u001b[39m\u001b[39m.\u001b[39mrequest_raw(\n\u001b[1;32m    217\u001b[0m     method\u001b[39m.\u001b[39mlower(),\n\u001b[1;32m    218\u001b[0m     url,\n\u001b[0;32m   (...)\u001b[0m\n\u001b[1;32m    224\u001b[0m     request_timeout\u001b[39m=\u001b[39mrequest_timeout,\n\u001b[1;32m    225\u001b[0m )\n\u001b[0;32m--> 226\u001b[0m resp, got_stream \u001b[39m=\u001b[39m \u001b[39mself\u001b[39;49m\u001b[39m.\u001b[39;49m_interpret_response(result, stream)\n\u001b[1;32m    227\u001b[0m \u001b[39mreturn\u001b[39;00m resp, got_stream, \u001b[39mself\u001b[39m\u001b[39m.\u001b[39mapi_key\n",
      "File \u001b[0;32m~/Library/Caches/pypoetry/virtualenvs/chatlab-3kMKfU-i-py3.11/lib/python3.11/site-packages/openai/api_requestor.py:620\u001b[0m, in \u001b[0;36mAPIRequestor._interpret_response\u001b[0;34m(self, result, stream)\u001b[0m\n\u001b[1;32m    618\u001b[0m \u001b[39melse\u001b[39;00m:\n\u001b[1;32m    619\u001b[0m     \u001b[39mreturn\u001b[39;00m (\n\u001b[0;32m--> 620\u001b[0m         \u001b[39mself\u001b[39;49m\u001b[39m.\u001b[39;49m_interpret_response_line(\n\u001b[1;32m    621\u001b[0m             result\u001b[39m.\u001b[39;49mcontent\u001b[39m.\u001b[39;49mdecode(\u001b[39m\"\u001b[39;49m\u001b[39mutf-8\u001b[39;49m\u001b[39m\"\u001b[39;49m),\n\u001b[1;32m    622\u001b[0m             result\u001b[39m.\u001b[39;49mstatus_code,\n\u001b[1;32m    623\u001b[0m             result\u001b[39m.\u001b[39;49mheaders,\n\u001b[1;32m    624\u001b[0m             stream\u001b[39m=\u001b[39;49m\u001b[39mFalse\u001b[39;49;00m,\n\u001b[1;32m    625\u001b[0m         ),\n\u001b[1;32m    626\u001b[0m         \u001b[39mFalse\u001b[39;00m,\n\u001b[1;32m    627\u001b[0m     )\n",
      "File \u001b[0;32m~/Library/Caches/pypoetry/virtualenvs/chatlab-3kMKfU-i-py3.11/lib/python3.11/site-packages/openai/api_requestor.py:683\u001b[0m, in \u001b[0;36mAPIRequestor._interpret_response_line\u001b[0;34m(self, rbody, rcode, rheaders, stream)\u001b[0m\n\u001b[1;32m    682\u001b[0m \u001b[39mif\u001b[39;00m stream_error \u001b[39mor\u001b[39;00m \u001b[39mnot\u001b[39;00m \u001b[39m200\u001b[39m \u001b[39m<\u001b[39m\u001b[39m=\u001b[39m rcode \u001b[39m<\u001b[39m \u001b[39m300\u001b[39m:\n\u001b[0;32m--> 683\u001b[0m     \u001b[39mraise\u001b[39;00m \u001b[39mself\u001b[39m\u001b[39m.\u001b[39mhandle_error_response(\n\u001b[1;32m    684\u001b[0m         rbody, rcode, resp\u001b[39m.\u001b[39mdata, rheaders, stream_error\u001b[39m=\u001b[39mstream_error\n\u001b[1;32m    685\u001b[0m     )\n\u001b[1;32m    686\u001b[0m \u001b[39mreturn\u001b[39;00m resp\n",
      "\u001b[0;31mRateLimitError\u001b[0m: Rate limit reached for 10KTPM-200RPM in organization org-AvW35q1q5Cvyc7XBAN0vTW9d on tokens per min. Limit: 10000 / min. Please try again in 6ms. Contact us through our help center at help.openai.com if you continue to have issues.",
      "\nDuring handling of the above exception, another exception occurred:\n",
      "\u001b[0;31mRateLimitError\u001b[0m                            Traceback (most recent call last)",
      "File \u001b[0;32m~/code/src/github.com/rgbkrk/chatlab/chatlab/chat.py:255\u001b[0m, in \u001b[0;36mChat.submit\u001b[0;34m(self, stream, *messages)\u001b[0m\n\u001b[1;32m    254\u001b[0m \u001b[39mtry\u001b[39;00m:\n\u001b[0;32m--> 255\u001b[0m     resp \u001b[39m=\u001b[39m openai\u001b[39m.\u001b[39;49mChatCompletion\u001b[39m.\u001b[39;49mcreate(\n\u001b[1;32m    256\u001b[0m         model\u001b[39m=\u001b[39;49m\u001b[39mself\u001b[39;49m\u001b[39m.\u001b[39;49mmodel,\n\u001b[1;32m    257\u001b[0m         messages\u001b[39m=\u001b[39;49mfull_messages,\n\u001b[1;32m    258\u001b[0m         \u001b[39m*\u001b[39;49m\u001b[39m*\u001b[39;49m\u001b[39mself\u001b[39;49m\u001b[39m.\u001b[39;49mfunction_registry\u001b[39m.\u001b[39;49mapi_manifest(),\n\u001b[1;32m    259\u001b[0m         stream\u001b[39m=\u001b[39;49mstream,\n\u001b[1;32m    260\u001b[0m     )\n\u001b[1;32m    261\u001b[0m \u001b[39mexcept\u001b[39;00m openai\u001b[39m.\u001b[39merror\u001b[39m.\u001b[39mRateLimitError \u001b[39mas\u001b[39;00m e:\n",
      "File \u001b[0;32m~/Library/Caches/pypoetry/virtualenvs/chatlab-3kMKfU-i-py3.11/lib/python3.11/site-packages/openai/api_resources/chat_completion.py:25\u001b[0m, in \u001b[0;36mChatCompletion.create\u001b[0;34m(cls, *args, **kwargs)\u001b[0m\n\u001b[1;32m     24\u001b[0m \u001b[39mtry\u001b[39;00m:\n\u001b[0;32m---> 25\u001b[0m     \u001b[39mreturn\u001b[39;00m \u001b[39msuper\u001b[39;49m()\u001b[39m.\u001b[39;49mcreate(\u001b[39m*\u001b[39;49margs, \u001b[39m*\u001b[39;49m\u001b[39m*\u001b[39;49mkwargs)\n\u001b[1;32m     26\u001b[0m \u001b[39mexcept\u001b[39;00m TryAgain \u001b[39mas\u001b[39;00m e:\n",
      "File \u001b[0;32m~/Library/Caches/pypoetry/virtualenvs/chatlab-3kMKfU-i-py3.11/lib/python3.11/site-packages/openai/api_resources/abstract/engine_api_resource.py:153\u001b[0m, in \u001b[0;36mEngineAPIResource.create\u001b[0;34m(cls, api_key, api_base, api_type, request_id, api_version, organization, **params)\u001b[0m\n\u001b[1;32m    138\u001b[0m (\n\u001b[1;32m    139\u001b[0m     deployment_id,\n\u001b[1;32m    140\u001b[0m     engine,\n\u001b[0;32m   (...)\u001b[0m\n\u001b[1;32m    150\u001b[0m     api_key, api_base, api_type, api_version, organization, \u001b[39m*\u001b[39m\u001b[39m*\u001b[39mparams\n\u001b[1;32m    151\u001b[0m )\n\u001b[0;32m--> 153\u001b[0m response, _, api_key \u001b[39m=\u001b[39m requestor\u001b[39m.\u001b[39;49mrequest(\n\u001b[1;32m    154\u001b[0m     \u001b[39m\"\u001b[39;49m\u001b[39mpost\u001b[39;49m\u001b[39m\"\u001b[39;49m,\n\u001b[1;32m    155\u001b[0m     url,\n\u001b[1;32m    156\u001b[0m     params\u001b[39m=\u001b[39;49mparams,\n\u001b[1;32m    157\u001b[0m     headers\u001b[39m=\u001b[39;49mheaders,\n\u001b[1;32m    158\u001b[0m     stream\u001b[39m=\u001b[39;49mstream,\n\u001b[1;32m    159\u001b[0m     request_id\u001b[39m=\u001b[39;49mrequest_id,\n\u001b[1;32m    160\u001b[0m     request_timeout\u001b[39m=\u001b[39;49mrequest_timeout,\n\u001b[1;32m    161\u001b[0m )\n\u001b[1;32m    163\u001b[0m \u001b[39mif\u001b[39;00m stream:\n\u001b[1;32m    164\u001b[0m     \u001b[39m# must be an iterator\u001b[39;00m\n",
      "File \u001b[0;32m~/Library/Caches/pypoetry/virtualenvs/chatlab-3kMKfU-i-py3.11/lib/python3.11/site-packages/openai/api_requestor.py:226\u001b[0m, in \u001b[0;36mAPIRequestor.request\u001b[0;34m(self, method, url, params, headers, files, stream, request_id, request_timeout)\u001b[0m\n\u001b[1;32m    216\u001b[0m result \u001b[39m=\u001b[39m \u001b[39mself\u001b[39m\u001b[39m.\u001b[39mrequest_raw(\n\u001b[1;32m    217\u001b[0m     method\u001b[39m.\u001b[39mlower(),\n\u001b[1;32m    218\u001b[0m     url,\n\u001b[0;32m   (...)\u001b[0m\n\u001b[1;32m    224\u001b[0m     request_timeout\u001b[39m=\u001b[39mrequest_timeout,\n\u001b[1;32m    225\u001b[0m )\n\u001b[0;32m--> 226\u001b[0m resp, got_stream \u001b[39m=\u001b[39m \u001b[39mself\u001b[39;49m\u001b[39m.\u001b[39;49m_interpret_response(result, stream)\n\u001b[1;32m    227\u001b[0m \u001b[39mreturn\u001b[39;00m resp, got_stream, \u001b[39mself\u001b[39m\u001b[39m.\u001b[39mapi_key\n",
      "File \u001b[0;32m~/Library/Caches/pypoetry/virtualenvs/chatlab-3kMKfU-i-py3.11/lib/python3.11/site-packages/openai/api_requestor.py:620\u001b[0m, in \u001b[0;36mAPIRequestor._interpret_response\u001b[0;34m(self, result, stream)\u001b[0m\n\u001b[1;32m    618\u001b[0m \u001b[39melse\u001b[39;00m:\n\u001b[1;32m    619\u001b[0m     \u001b[39mreturn\u001b[39;00m (\n\u001b[0;32m--> 620\u001b[0m         \u001b[39mself\u001b[39;49m\u001b[39m.\u001b[39;49m_interpret_response_line(\n\u001b[1;32m    621\u001b[0m             result\u001b[39m.\u001b[39;49mcontent\u001b[39m.\u001b[39;49mdecode(\u001b[39m\"\u001b[39;49m\u001b[39mutf-8\u001b[39;49m\u001b[39m\"\u001b[39;49m),\n\u001b[1;32m    622\u001b[0m             result\u001b[39m.\u001b[39;49mstatus_code,\n\u001b[1;32m    623\u001b[0m             result\u001b[39m.\u001b[39;49mheaders,\n\u001b[1;32m    624\u001b[0m             stream\u001b[39m=\u001b[39;49m\u001b[39mFalse\u001b[39;49;00m,\n\u001b[1;32m    625\u001b[0m         ),\n\u001b[1;32m    626\u001b[0m         \u001b[39mFalse\u001b[39;00m,\n\u001b[1;32m    627\u001b[0m     )\n",
      "File \u001b[0;32m~/Library/Caches/pypoetry/virtualenvs/chatlab-3kMKfU-i-py3.11/lib/python3.11/site-packages/openai/api_requestor.py:683\u001b[0m, in \u001b[0;36mAPIRequestor._interpret_response_line\u001b[0;34m(self, rbody, rcode, rheaders, stream)\u001b[0m\n\u001b[1;32m    682\u001b[0m \u001b[39mif\u001b[39;00m stream_error \u001b[39mor\u001b[39;00m \u001b[39mnot\u001b[39;00m \u001b[39m200\u001b[39m \u001b[39m<\u001b[39m\u001b[39m=\u001b[39m rcode \u001b[39m<\u001b[39m \u001b[39m300\u001b[39m:\n\u001b[0;32m--> 683\u001b[0m     \u001b[39mraise\u001b[39;00m \u001b[39mself\u001b[39m\u001b[39m.\u001b[39mhandle_error_response(\n\u001b[1;32m    684\u001b[0m         rbody, rcode, resp\u001b[39m.\u001b[39mdata, rheaders, stream_error\u001b[39m=\u001b[39mstream_error\n\u001b[1;32m    685\u001b[0m     )\n\u001b[1;32m    686\u001b[0m \u001b[39mreturn\u001b[39;00m resp\n",
      "\u001b[0;31mRateLimitError\u001b[0m: Rate limit reached for 10KTPM-200RPM in organization org-AvW35q1q5Cvyc7XBAN0vTW9d on tokens per min. Limit: 10000 / min. Please try again in 6ms. Contact us through our help center at help.openai.com if you continue to have issues.",
      "\nDuring handling of the above exception, another exception occurred:\n",
      "\u001b[0;31mRateLimitError\u001b[0m                            Traceback (most recent call last)",
      "File \u001b[0;32m~/code/src/github.com/rgbkrk/chatlab/chatlab/chat.py:255\u001b[0m, in \u001b[0;36mChat.submit\u001b[0;34m(self, stream, *messages)\u001b[0m\n\u001b[1;32m    254\u001b[0m \u001b[39mtry\u001b[39;00m:\n\u001b[0;32m--> 255\u001b[0m     resp \u001b[39m=\u001b[39m openai\u001b[39m.\u001b[39;49mChatCompletion\u001b[39m.\u001b[39;49mcreate(\n\u001b[1;32m    256\u001b[0m         model\u001b[39m=\u001b[39;49m\u001b[39mself\u001b[39;49m\u001b[39m.\u001b[39;49mmodel,\n\u001b[1;32m    257\u001b[0m         messages\u001b[39m=\u001b[39;49mfull_messages,\n\u001b[1;32m    258\u001b[0m         \u001b[39m*\u001b[39;49m\u001b[39m*\u001b[39;49m\u001b[39mself\u001b[39;49m\u001b[39m.\u001b[39;49mfunction_registry\u001b[39m.\u001b[39;49mapi_manifest(),\n\u001b[1;32m    259\u001b[0m         stream\u001b[39m=\u001b[39;49mstream,\n\u001b[1;32m    260\u001b[0m     )\n\u001b[1;32m    261\u001b[0m \u001b[39mexcept\u001b[39;00m openai\u001b[39m.\u001b[39merror\u001b[39m.\u001b[39mRateLimitError \u001b[39mas\u001b[39;00m e:\n",
      "File \u001b[0;32m~/Library/Caches/pypoetry/virtualenvs/chatlab-3kMKfU-i-py3.11/lib/python3.11/site-packages/openai/api_resources/chat_completion.py:25\u001b[0m, in \u001b[0;36mChatCompletion.create\u001b[0;34m(cls, *args, **kwargs)\u001b[0m\n\u001b[1;32m     24\u001b[0m \u001b[39mtry\u001b[39;00m:\n\u001b[0;32m---> 25\u001b[0m     \u001b[39mreturn\u001b[39;00m \u001b[39msuper\u001b[39;49m()\u001b[39m.\u001b[39;49mcreate(\u001b[39m*\u001b[39;49margs, \u001b[39m*\u001b[39;49m\u001b[39m*\u001b[39;49mkwargs)\n\u001b[1;32m     26\u001b[0m \u001b[39mexcept\u001b[39;00m TryAgain \u001b[39mas\u001b[39;00m e:\n",
      "File \u001b[0;32m~/Library/Caches/pypoetry/virtualenvs/chatlab-3kMKfU-i-py3.11/lib/python3.11/site-packages/openai/api_resources/abstract/engine_api_resource.py:153\u001b[0m, in \u001b[0;36mEngineAPIResource.create\u001b[0;34m(cls, api_key, api_base, api_type, request_id, api_version, organization, **params)\u001b[0m\n\u001b[1;32m    138\u001b[0m (\n\u001b[1;32m    139\u001b[0m     deployment_id,\n\u001b[1;32m    140\u001b[0m     engine,\n\u001b[0;32m   (...)\u001b[0m\n\u001b[1;32m    150\u001b[0m     api_key, api_base, api_type, api_version, organization, \u001b[39m*\u001b[39m\u001b[39m*\u001b[39mparams\n\u001b[1;32m    151\u001b[0m )\n\u001b[0;32m--> 153\u001b[0m response, _, api_key \u001b[39m=\u001b[39m requestor\u001b[39m.\u001b[39;49mrequest(\n\u001b[1;32m    154\u001b[0m     \u001b[39m\"\u001b[39;49m\u001b[39mpost\u001b[39;49m\u001b[39m\"\u001b[39;49m,\n\u001b[1;32m    155\u001b[0m     url,\n\u001b[1;32m    156\u001b[0m     params\u001b[39m=\u001b[39;49mparams,\n\u001b[1;32m    157\u001b[0m     headers\u001b[39m=\u001b[39;49mheaders,\n\u001b[1;32m    158\u001b[0m     stream\u001b[39m=\u001b[39;49mstream,\n\u001b[1;32m    159\u001b[0m     request_id\u001b[39m=\u001b[39;49mrequest_id,\n\u001b[1;32m    160\u001b[0m     request_timeout\u001b[39m=\u001b[39;49mrequest_timeout,\n\u001b[1;32m    161\u001b[0m )\n\u001b[1;32m    163\u001b[0m \u001b[39mif\u001b[39;00m stream:\n\u001b[1;32m    164\u001b[0m     \u001b[39m# must be an iterator\u001b[39;00m\n",
      "File \u001b[0;32m~/Library/Caches/pypoetry/virtualenvs/chatlab-3kMKfU-i-py3.11/lib/python3.11/site-packages/openai/api_requestor.py:226\u001b[0m, in \u001b[0;36mAPIRequestor.request\u001b[0;34m(self, method, url, params, headers, files, stream, request_id, request_timeout)\u001b[0m\n\u001b[1;32m    216\u001b[0m result \u001b[39m=\u001b[39m \u001b[39mself\u001b[39m\u001b[39m.\u001b[39mrequest_raw(\n\u001b[1;32m    217\u001b[0m     method\u001b[39m.\u001b[39mlower(),\n\u001b[1;32m    218\u001b[0m     url,\n\u001b[0;32m   (...)\u001b[0m\n\u001b[1;32m    224\u001b[0m     request_timeout\u001b[39m=\u001b[39mrequest_timeout,\n\u001b[1;32m    225\u001b[0m )\n\u001b[0;32m--> 226\u001b[0m resp, got_stream \u001b[39m=\u001b[39m \u001b[39mself\u001b[39;49m\u001b[39m.\u001b[39;49m_interpret_response(result, stream)\n\u001b[1;32m    227\u001b[0m \u001b[39mreturn\u001b[39;00m resp, got_stream, \u001b[39mself\u001b[39m\u001b[39m.\u001b[39mapi_key\n",
      "File \u001b[0;32m~/Library/Caches/pypoetry/virtualenvs/chatlab-3kMKfU-i-py3.11/lib/python3.11/site-packages/openai/api_requestor.py:620\u001b[0m, in \u001b[0;36mAPIRequestor._interpret_response\u001b[0;34m(self, result, stream)\u001b[0m\n\u001b[1;32m    618\u001b[0m \u001b[39melse\u001b[39;00m:\n\u001b[1;32m    619\u001b[0m     \u001b[39mreturn\u001b[39;00m (\n\u001b[0;32m--> 620\u001b[0m         \u001b[39mself\u001b[39;49m\u001b[39m.\u001b[39;49m_interpret_response_line(\n\u001b[1;32m    621\u001b[0m             result\u001b[39m.\u001b[39;49mcontent\u001b[39m.\u001b[39;49mdecode(\u001b[39m\"\u001b[39;49m\u001b[39mutf-8\u001b[39;49m\u001b[39m\"\u001b[39;49m),\n\u001b[1;32m    622\u001b[0m             result\u001b[39m.\u001b[39;49mstatus_code,\n\u001b[1;32m    623\u001b[0m             result\u001b[39m.\u001b[39;49mheaders,\n\u001b[1;32m    624\u001b[0m             stream\u001b[39m=\u001b[39;49m\u001b[39mFalse\u001b[39;49;00m,\n\u001b[1;32m    625\u001b[0m         ),\n\u001b[1;32m    626\u001b[0m         \u001b[39mFalse\u001b[39;00m,\n\u001b[1;32m    627\u001b[0m     )\n",
      "File \u001b[0;32m~/Library/Caches/pypoetry/virtualenvs/chatlab-3kMKfU-i-py3.11/lib/python3.11/site-packages/openai/api_requestor.py:683\u001b[0m, in \u001b[0;36mAPIRequestor._interpret_response_line\u001b[0;34m(self, rbody, rcode, rheaders, stream)\u001b[0m\n\u001b[1;32m    682\u001b[0m \u001b[39mif\u001b[39;00m stream_error \u001b[39mor\u001b[39;00m \u001b[39mnot\u001b[39;00m \u001b[39m200\u001b[39m \u001b[39m<\u001b[39m\u001b[39m=\u001b[39m rcode \u001b[39m<\u001b[39m \u001b[39m300\u001b[39m:\n\u001b[0;32m--> 683\u001b[0m     \u001b[39mraise\u001b[39;00m \u001b[39mself\u001b[39m\u001b[39m.\u001b[39mhandle_error_response(\n\u001b[1;32m    684\u001b[0m         rbody, rcode, resp\u001b[39m.\u001b[39mdata, rheaders, stream_error\u001b[39m=\u001b[39mstream_error\n\u001b[1;32m    685\u001b[0m     )\n\u001b[1;32m    686\u001b[0m \u001b[39mreturn\u001b[39;00m resp\n",
      "\u001b[0;31mRateLimitError\u001b[0m: Rate limit reached for 10KTPM-200RPM in organization org-AvW35q1q5Cvyc7XBAN0vTW9d on tokens per min. Limit: 10000 / min. Please try again in 6ms. Contact us through our help center at help.openai.com if you continue to have issues.",
      "\nDuring handling of the above exception, another exception occurred:\n",
      "\u001b[0;31mInvalidRequestError\u001b[0m                       Traceback (most recent call last)",
      "Cell \u001b[0;32mIn[23], line 1\u001b[0m\n\u001b[0;32m----> 1\u001b[0m \u001b[39mawait\u001b[39;00m chat(\u001b[39m\"\u001b[39m\u001b[39mTake out the linking idea, you generated a lot of junk.\u001b[39m\u001b[39m\"\u001b[39m)\n",
      "File \u001b[0;32m~/code/src/github.com/rgbkrk/chatlab/chatlab/chat.py:167\u001b[0m, in \u001b[0;36mChat.__call__\u001b[0;34m(self, stream, *messages)\u001b[0m\n\u001b[1;32m    165\u001b[0m \u001b[39masync\u001b[39;00m \u001b[39mdef\u001b[39;00m \u001b[39m__call__\u001b[39m(\u001b[39mself\u001b[39m, \u001b[39m*\u001b[39mmessages: Union[Message, \u001b[39mstr\u001b[39m], stream: \u001b[39mbool\u001b[39m \u001b[39m=\u001b[39m \u001b[39mTrue\u001b[39;00m):\n\u001b[1;32m    166\u001b[0m \u001b[39m    \u001b[39m\u001b[39m\"\"\"Send messages to the chat model and display the response.\"\"\"\u001b[39;00m\n\u001b[0;32m--> 167\u001b[0m     \u001b[39mreturn\u001b[39;00m \u001b[39mawait\u001b[39;00m \u001b[39mself\u001b[39m\u001b[39m.\u001b[39msubmit(\u001b[39m*\u001b[39mmessages, stream\u001b[39m=\u001b[39mstream)\n",
      "File \u001b[0;32m~/code/src/github.com/rgbkrk/chatlab/chatlab/chat.py:295\u001b[0m, in \u001b[0;36mChat.submit\u001b[0;34m(self, stream, *messages)\u001b[0m\n\u001b[1;32m    292\u001b[0m     \u001b[39mself\u001b[39m\u001b[39m.\u001b[39mappend(fn_message)\n\u001b[1;32m    294\u001b[0m     \u001b[39m# Reply back to the LLM with the result of the function call, allow it to continue\u001b[39;00m\n\u001b[0;32m--> 295\u001b[0m     \u001b[39mawait\u001b[39;00m \u001b[39mself\u001b[39m\u001b[39m.\u001b[39msubmit(stream\u001b[39m=\u001b[39mstream)\n\u001b[1;32m    296\u001b[0m     \u001b[39mreturn\u001b[39;00m\n\u001b[1;32m    298\u001b[0m \u001b[39m# All other finish reasons are valid for regular assistant messages\u001b[39;00m\n",
      "File \u001b[0;32m~/code/src/github.com/rgbkrk/chatlab/chatlab/chat.py:295\u001b[0m, in \u001b[0;36mChat.submit\u001b[0;34m(self, stream, *messages)\u001b[0m\n\u001b[1;32m    292\u001b[0m     \u001b[39mself\u001b[39m\u001b[39m.\u001b[39mappend(fn_message)\n\u001b[1;32m    294\u001b[0m     \u001b[39m# Reply back to the LLM with the result of the function call, allow it to continue\u001b[39;00m\n\u001b[0;32m--> 295\u001b[0m     \u001b[39mawait\u001b[39;00m \u001b[39mself\u001b[39m\u001b[39m.\u001b[39msubmit(stream\u001b[39m=\u001b[39mstream)\n\u001b[1;32m    296\u001b[0m     \u001b[39mreturn\u001b[39;00m\n\u001b[1;32m    298\u001b[0m \u001b[39m# All other finish reasons are valid for regular assistant messages\u001b[39;00m\n",
      "File \u001b[0;32m~/code/src/github.com/rgbkrk/chatlab/chatlab/chat.py:264\u001b[0m, in \u001b[0;36mChat.submit\u001b[0;34m(self, stream, *messages)\u001b[0m\n\u001b[1;32m    262\u001b[0m     logger\u001b[39m.\u001b[39merror(\u001b[39mf\u001b[39m\u001b[39m\"\u001b[39m\u001b[39mRate limited: \u001b[39m\u001b[39m{\u001b[39;00me\u001b[39m}\u001b[39;00m\u001b[39m. Waiting 5 seconds and trying again.\u001b[39m\u001b[39m\"\u001b[39m)\n\u001b[1;32m    263\u001b[0m     \u001b[39mawait\u001b[39;00m asyncio\u001b[39m.\u001b[39msleep(\u001b[39m5\u001b[39m)\n\u001b[0;32m--> 264\u001b[0m     \u001b[39mawait\u001b[39;00m \u001b[39mself\u001b[39m\u001b[39m.\u001b[39msubmit(\u001b[39m*\u001b[39mmessages, stream\u001b[39m=\u001b[39mstream)\n\u001b[1;32m    266\u001b[0m     \u001b[39mreturn\u001b[39;00m\n\u001b[1;32m    268\u001b[0m \u001b[39mself\u001b[39m\u001b[39m.\u001b[39mappend(\u001b[39m*\u001b[39mmessages)\n",
      "    \u001b[0;31m[... skipping similar frames: Chat.submit at line 295 (2 times)]\u001b[0m\n",
      "File \u001b[0;32m~/code/src/github.com/rgbkrk/chatlab/chatlab/chat.py:264\u001b[0m, in \u001b[0;36mChat.submit\u001b[0;34m(self, stream, *messages)\u001b[0m\n\u001b[1;32m    262\u001b[0m     logger\u001b[39m.\u001b[39merror(\u001b[39mf\u001b[39m\u001b[39m\"\u001b[39m\u001b[39mRate limited: \u001b[39m\u001b[39m{\u001b[39;00me\u001b[39m}\u001b[39;00m\u001b[39m. Waiting 5 seconds and trying again.\u001b[39m\u001b[39m\"\u001b[39m)\n\u001b[1;32m    263\u001b[0m     \u001b[39mawait\u001b[39;00m asyncio\u001b[39m.\u001b[39msleep(\u001b[39m5\u001b[39m)\n\u001b[0;32m--> 264\u001b[0m     \u001b[39mawait\u001b[39;00m \u001b[39mself\u001b[39m\u001b[39m.\u001b[39msubmit(\u001b[39m*\u001b[39mmessages, stream\u001b[39m=\u001b[39mstream)\n\u001b[1;32m    266\u001b[0m     \u001b[39mreturn\u001b[39;00m\n\u001b[1;32m    268\u001b[0m \u001b[39mself\u001b[39m\u001b[39m.\u001b[39mappend(\u001b[39m*\u001b[39mmessages)\n",
      "    \u001b[0;31m[... skipping similar frames: Chat.submit at line 264 (1 times)]\u001b[0m\n",
      "File \u001b[0;32m~/code/src/github.com/rgbkrk/chatlab/chatlab/chat.py:295\u001b[0m, in \u001b[0;36mChat.submit\u001b[0;34m(self, stream, *messages)\u001b[0m\n\u001b[1;32m    292\u001b[0m     \u001b[39mself\u001b[39m\u001b[39m.\u001b[39mappend(fn_message)\n\u001b[1;32m    294\u001b[0m     \u001b[39m# Reply back to the LLM with the result of the function call, allow it to continue\u001b[39;00m\n\u001b[0;32m--> 295\u001b[0m     \u001b[39mawait\u001b[39;00m \u001b[39mself\u001b[39m\u001b[39m.\u001b[39msubmit(stream\u001b[39m=\u001b[39mstream)\n\u001b[1;32m    296\u001b[0m     \u001b[39mreturn\u001b[39;00m\n\u001b[1;32m    298\u001b[0m \u001b[39m# All other finish reasons are valid for regular assistant messages\u001b[39;00m\n",
      "    \u001b[0;31m[... skipping similar frames: Chat.submit at line 264 (7 times)]\u001b[0m\n",
      "File \u001b[0;32m~/code/src/github.com/rgbkrk/chatlab/chatlab/chat.py:264\u001b[0m, in \u001b[0;36mChat.submit\u001b[0;34m(self, stream, *messages)\u001b[0m\n\u001b[1;32m    262\u001b[0m     logger\u001b[39m.\u001b[39merror(\u001b[39mf\u001b[39m\u001b[39m\"\u001b[39m\u001b[39mRate limited: \u001b[39m\u001b[39m{\u001b[39;00me\u001b[39m}\u001b[39;00m\u001b[39m. Waiting 5 seconds and trying again.\u001b[39m\u001b[39m\"\u001b[39m)\n\u001b[1;32m    263\u001b[0m     \u001b[39mawait\u001b[39;00m asyncio\u001b[39m.\u001b[39msleep(\u001b[39m5\u001b[39m)\n\u001b[0;32m--> 264\u001b[0m     \u001b[39mawait\u001b[39;00m \u001b[39mself\u001b[39m\u001b[39m.\u001b[39msubmit(\u001b[39m*\u001b[39mmessages, stream\u001b[39m=\u001b[39mstream)\n\u001b[1;32m    266\u001b[0m     \u001b[39mreturn\u001b[39;00m\n\u001b[1;32m    268\u001b[0m \u001b[39mself\u001b[39m\u001b[39m.\u001b[39mappend(\u001b[39m*\u001b[39mmessages)\n",
      "File \u001b[0;32m~/code/src/github.com/rgbkrk/chatlab/chatlab/chat.py:255\u001b[0m, in \u001b[0;36mChat.submit\u001b[0;34m(self, stream, *messages)\u001b[0m\n\u001b[1;32m    252\u001b[0m         full_messages\u001b[39m.\u001b[39mappend(message)\n\u001b[1;32m    254\u001b[0m \u001b[39mtry\u001b[39;00m:\n\u001b[0;32m--> 255\u001b[0m     resp \u001b[39m=\u001b[39m openai\u001b[39m.\u001b[39;49mChatCompletion\u001b[39m.\u001b[39;49mcreate(\n\u001b[1;32m    256\u001b[0m         model\u001b[39m=\u001b[39;49m\u001b[39mself\u001b[39;49m\u001b[39m.\u001b[39;49mmodel,\n\u001b[1;32m    257\u001b[0m         messages\u001b[39m=\u001b[39;49mfull_messages,\n\u001b[1;32m    258\u001b[0m         \u001b[39m*\u001b[39;49m\u001b[39m*\u001b[39;49m\u001b[39mself\u001b[39;49m\u001b[39m.\u001b[39;49mfunction_registry\u001b[39m.\u001b[39;49mapi_manifest(),\n\u001b[1;32m    259\u001b[0m         stream\u001b[39m=\u001b[39;49mstream,\n\u001b[1;32m    260\u001b[0m     )\n\u001b[1;32m    261\u001b[0m \u001b[39mexcept\u001b[39;00m openai\u001b[39m.\u001b[39merror\u001b[39m.\u001b[39mRateLimitError \u001b[39mas\u001b[39;00m e:\n\u001b[1;32m    262\u001b[0m     logger\u001b[39m.\u001b[39merror(\u001b[39mf\u001b[39m\u001b[39m\"\u001b[39m\u001b[39mRate limited: \u001b[39m\u001b[39m{\u001b[39;00me\u001b[39m}\u001b[39;00m\u001b[39m. Waiting 5 seconds and trying again.\u001b[39m\u001b[39m\"\u001b[39m)\n",
      "File \u001b[0;32m~/Library/Caches/pypoetry/virtualenvs/chatlab-3kMKfU-i-py3.11/lib/python3.11/site-packages/openai/api_resources/chat_completion.py:25\u001b[0m, in \u001b[0;36mChatCompletion.create\u001b[0;34m(cls, *args, **kwargs)\u001b[0m\n\u001b[1;32m     23\u001b[0m \u001b[39mwhile\u001b[39;00m \u001b[39mTrue\u001b[39;00m:\n\u001b[1;32m     24\u001b[0m     \u001b[39mtry\u001b[39;00m:\n\u001b[0;32m---> 25\u001b[0m         \u001b[39mreturn\u001b[39;00m \u001b[39msuper\u001b[39;49m()\u001b[39m.\u001b[39;49mcreate(\u001b[39m*\u001b[39;49margs, \u001b[39m*\u001b[39;49m\u001b[39m*\u001b[39;49mkwargs)\n\u001b[1;32m     26\u001b[0m     \u001b[39mexcept\u001b[39;00m TryAgain \u001b[39mas\u001b[39;00m e:\n\u001b[1;32m     27\u001b[0m         \u001b[39mif\u001b[39;00m timeout \u001b[39mis\u001b[39;00m \u001b[39mnot\u001b[39;00m \u001b[39mNone\u001b[39;00m \u001b[39mand\u001b[39;00m time\u001b[39m.\u001b[39mtime() \u001b[39m>\u001b[39m start \u001b[39m+\u001b[39m timeout:\n",
      "File \u001b[0;32m~/Library/Caches/pypoetry/virtualenvs/chatlab-3kMKfU-i-py3.11/lib/python3.11/site-packages/openai/api_resources/abstract/engine_api_resource.py:153\u001b[0m, in \u001b[0;36mEngineAPIResource.create\u001b[0;34m(cls, api_key, api_base, api_type, request_id, api_version, organization, **params)\u001b[0m\n\u001b[1;32m    127\u001b[0m \u001b[39m@classmethod\u001b[39m\n\u001b[1;32m    128\u001b[0m \u001b[39mdef\u001b[39;00m \u001b[39mcreate\u001b[39m(\n\u001b[1;32m    129\u001b[0m     \u001b[39mcls\u001b[39m,\n\u001b[0;32m   (...)\u001b[0m\n\u001b[1;32m    136\u001b[0m     \u001b[39m*\u001b[39m\u001b[39m*\u001b[39mparams,\n\u001b[1;32m    137\u001b[0m ):\n\u001b[1;32m    138\u001b[0m     (\n\u001b[1;32m    139\u001b[0m         deployment_id,\n\u001b[1;32m    140\u001b[0m         engine,\n\u001b[0;32m   (...)\u001b[0m\n\u001b[1;32m    150\u001b[0m         api_key, api_base, api_type, api_version, organization, \u001b[39m*\u001b[39m\u001b[39m*\u001b[39mparams\n\u001b[1;32m    151\u001b[0m     )\n\u001b[0;32m--> 153\u001b[0m     response, _, api_key \u001b[39m=\u001b[39m requestor\u001b[39m.\u001b[39;49mrequest(\n\u001b[1;32m    154\u001b[0m         \u001b[39m\"\u001b[39;49m\u001b[39mpost\u001b[39;49m\u001b[39m\"\u001b[39;49m,\n\u001b[1;32m    155\u001b[0m         url,\n\u001b[1;32m    156\u001b[0m         params\u001b[39m=\u001b[39;49mparams,\n\u001b[1;32m    157\u001b[0m         headers\u001b[39m=\u001b[39;49mheaders,\n\u001b[1;32m    158\u001b[0m         stream\u001b[39m=\u001b[39;49mstream,\n\u001b[1;32m    159\u001b[0m         request_id\u001b[39m=\u001b[39;49mrequest_id,\n\u001b[1;32m    160\u001b[0m         request_timeout\u001b[39m=\u001b[39;49mrequest_timeout,\n\u001b[1;32m    161\u001b[0m     )\n\u001b[1;32m    163\u001b[0m     \u001b[39mif\u001b[39;00m stream:\n\u001b[1;32m    164\u001b[0m         \u001b[39m# must be an iterator\u001b[39;00m\n\u001b[1;32m    165\u001b[0m         \u001b[39massert\u001b[39;00m \u001b[39mnot\u001b[39;00m \u001b[39misinstance\u001b[39m(response, OpenAIResponse)\n",
      "File \u001b[0;32m~/Library/Caches/pypoetry/virtualenvs/chatlab-3kMKfU-i-py3.11/lib/python3.11/site-packages/openai/api_requestor.py:226\u001b[0m, in \u001b[0;36mAPIRequestor.request\u001b[0;34m(self, method, url, params, headers, files, stream, request_id, request_timeout)\u001b[0m\n\u001b[1;32m    205\u001b[0m \u001b[39mdef\u001b[39;00m \u001b[39mrequest\u001b[39m(\n\u001b[1;32m    206\u001b[0m     \u001b[39mself\u001b[39m,\n\u001b[1;32m    207\u001b[0m     method,\n\u001b[0;32m   (...)\u001b[0m\n\u001b[1;32m    214\u001b[0m     request_timeout: Optional[Union[\u001b[39mfloat\u001b[39m, Tuple[\u001b[39mfloat\u001b[39m, \u001b[39mfloat\u001b[39m]]] \u001b[39m=\u001b[39m \u001b[39mNone\u001b[39;00m,\n\u001b[1;32m    215\u001b[0m ) \u001b[39m-\u001b[39m\u001b[39m>\u001b[39m Tuple[Union[OpenAIResponse, Iterator[OpenAIResponse]], \u001b[39mbool\u001b[39m, \u001b[39mstr\u001b[39m]:\n\u001b[1;32m    216\u001b[0m     result \u001b[39m=\u001b[39m \u001b[39mself\u001b[39m\u001b[39m.\u001b[39mrequest_raw(\n\u001b[1;32m    217\u001b[0m         method\u001b[39m.\u001b[39mlower(),\n\u001b[1;32m    218\u001b[0m         url,\n\u001b[0;32m   (...)\u001b[0m\n\u001b[1;32m    224\u001b[0m         request_timeout\u001b[39m=\u001b[39mrequest_timeout,\n\u001b[1;32m    225\u001b[0m     )\n\u001b[0;32m--> 226\u001b[0m     resp, got_stream \u001b[39m=\u001b[39m \u001b[39mself\u001b[39;49m\u001b[39m.\u001b[39;49m_interpret_response(result, stream)\n\u001b[1;32m    227\u001b[0m     \u001b[39mreturn\u001b[39;00m resp, got_stream, \u001b[39mself\u001b[39m\u001b[39m.\u001b[39mapi_key\n",
      "File \u001b[0;32m~/Library/Caches/pypoetry/virtualenvs/chatlab-3kMKfU-i-py3.11/lib/python3.11/site-packages/openai/api_requestor.py:620\u001b[0m, in \u001b[0;36mAPIRequestor._interpret_response\u001b[0;34m(self, result, stream)\u001b[0m\n\u001b[1;32m    612\u001b[0m     \u001b[39mreturn\u001b[39;00m (\n\u001b[1;32m    613\u001b[0m         \u001b[39mself\u001b[39m\u001b[39m.\u001b[39m_interpret_response_line(\n\u001b[1;32m    614\u001b[0m             line, result\u001b[39m.\u001b[39mstatus_code, result\u001b[39m.\u001b[39mheaders, stream\u001b[39m=\u001b[39m\u001b[39mTrue\u001b[39;00m\n\u001b[1;32m    615\u001b[0m         )\n\u001b[1;32m    616\u001b[0m         \u001b[39mfor\u001b[39;00m line \u001b[39min\u001b[39;00m parse_stream(result\u001b[39m.\u001b[39miter_lines())\n\u001b[1;32m    617\u001b[0m     ), \u001b[39mTrue\u001b[39;00m\n\u001b[1;32m    618\u001b[0m \u001b[39melse\u001b[39;00m:\n\u001b[1;32m    619\u001b[0m     \u001b[39mreturn\u001b[39;00m (\n\u001b[0;32m--> 620\u001b[0m         \u001b[39mself\u001b[39;49m\u001b[39m.\u001b[39;49m_interpret_response_line(\n\u001b[1;32m    621\u001b[0m             result\u001b[39m.\u001b[39;49mcontent\u001b[39m.\u001b[39;49mdecode(\u001b[39m\"\u001b[39;49m\u001b[39mutf-8\u001b[39;49m\u001b[39m\"\u001b[39;49m),\n\u001b[1;32m    622\u001b[0m             result\u001b[39m.\u001b[39;49mstatus_code,\n\u001b[1;32m    623\u001b[0m             result\u001b[39m.\u001b[39;49mheaders,\n\u001b[1;32m    624\u001b[0m             stream\u001b[39m=\u001b[39;49m\u001b[39mFalse\u001b[39;49;00m,\n\u001b[1;32m    625\u001b[0m         ),\n\u001b[1;32m    626\u001b[0m         \u001b[39mFalse\u001b[39;00m,\n\u001b[1;32m    627\u001b[0m     )\n",
      "File \u001b[0;32m~/Library/Caches/pypoetry/virtualenvs/chatlab-3kMKfU-i-py3.11/lib/python3.11/site-packages/openai/api_requestor.py:683\u001b[0m, in \u001b[0;36mAPIRequestor._interpret_response_line\u001b[0;34m(self, rbody, rcode, rheaders, stream)\u001b[0m\n\u001b[1;32m    681\u001b[0m stream_error \u001b[39m=\u001b[39m stream \u001b[39mand\u001b[39;00m \u001b[39m\"\u001b[39m\u001b[39merror\u001b[39m\u001b[39m\"\u001b[39m \u001b[39min\u001b[39;00m resp\u001b[39m.\u001b[39mdata\n\u001b[1;32m    682\u001b[0m \u001b[39mif\u001b[39;00m stream_error \u001b[39mor\u001b[39;00m \u001b[39mnot\u001b[39;00m \u001b[39m200\u001b[39m \u001b[39m<\u001b[39m\u001b[39m=\u001b[39m rcode \u001b[39m<\u001b[39m \u001b[39m300\u001b[39m:\n\u001b[0;32m--> 683\u001b[0m     \u001b[39mraise\u001b[39;00m \u001b[39mself\u001b[39m\u001b[39m.\u001b[39mhandle_error_response(\n\u001b[1;32m    684\u001b[0m         rbody, rcode, resp\u001b[39m.\u001b[39mdata, rheaders, stream_error\u001b[39m=\u001b[39mstream_error\n\u001b[1;32m    685\u001b[0m     )\n\u001b[1;32m    686\u001b[0m \u001b[39mreturn\u001b[39;00m resp\n",
      "\u001b[0;31mInvalidRequestError\u001b[0m: This model's maximum context length is 8192 tokens. However, your messages resulted in 9422 tokens (8886 in the messages, 536 in the functions). Please reduce the length of the messages or functions."
     ]
    }
   ],
   "source": [
    "await chat(\"Take out the linking idea, you generated a lot of junk.\")"
   ]
  }
 ],
 "metadata": {
  "kernelspec": {
   "display_name": "chatlab-3kMKfU-i-py3.11",
   "language": "python",
   "name": "python3"
  },
  "language_info": {
   "codemirror_mode": {
    "name": "ipython",
    "version": 3
   },
   "file_extension": ".py",
   "mimetype": "text/x-python",
   "name": "python",
   "nbconvert_exporter": "python",
   "pygments_lexer": "ipython3",
   "version": "3.11.1"
  },
  "orig_nbformat": 4
 },
 "nbformat": 4,
 "nbformat_minor": 2
}
