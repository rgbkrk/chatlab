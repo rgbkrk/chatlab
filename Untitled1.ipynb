{
 "cells": [
  {
   "cell_type": "code",
   "execution_count": 12,
   "id": "d537876a",
   "metadata": {},
   "outputs": [],
   "source": [
    "import inspect\n",
    "import json\n",
    "import sys\n",
    "\n",
    "\n",
    "def get_docstrings(module_path: str):\n",
    "    \"\"\"Get the docstrings for all classes and functions in a module.\"\"\"\n",
    "    module = __import__(module_path)\n",
    "    docstrings = {}\n",
    "    for name, obj in inspect.getmembers(module):\n",
    "        if inspect.isclass(obj) or inspect.isfunction(obj):\n",
    "            docstrings[name] = inspect.getdoc(obj)\n",
    "    return docstrings"
   ]
  },
  {
   "cell_type": "code",
   "execution_count": 13,
   "id": "fb03e659-2a75-48ed-bfbd-1d7a16eb91c3",
   "metadata": {},
   "outputs": [],
   "source": [
    "from chatlab.builtins import os_functions\n",
    "from chatlab import Chat, system, models\n",
    "\n",
    "chat = Chat(\n",
    "    system(\n",
    "        \"You are a software engineer helper. You have access to the file system and can make any file operations that you want to, including git. Format responses to the user in GitHub Flavored Markdown. We are working on the official documentation for a package called Chatlab.\"\n",
    "    ),\n",
    "    model=models.GPT_4_0613,\n",
    "    chat_functions=os_functions + [get_docstrings],\n",
    ")"
   ]
  },
  {
   "cell_type": "code",
   "execution_count": 14,
   "id": "7123b811-35dc-48cc-acc9-62dee1e6cdfc",
   "metadata": {},
   "outputs": [
    {
     "data": {
      "application/vdom.v1+json": {
       "attributes": {},
       "children": [
        {
         "attributes": {},
         "children": [
          ".chatlab-chat-details summary > *  { display: inline; color: #27374D; }"
         ],
         "tagName": "style"
        },
        {
         "attributes": {
          "className": "chatlab-chat-details",
          "style": {
           "background": "#DDE6ED",
           "borderRadius": "5px",
           "padding": ".5rem 1rem"
          }
         },
         "children": [
          {
           "attributes": {
            "style": {
             "color": "#27374D",
             "cursor": "pointer"
            }
           },
           "children": [
            {
             "attributes": {
              "style": {
               "color": "#9DB2BF",
               "paddingLeft": "5px",
               "paddingRight": "5px"
              }
             },
             "children": [
              "𝑓"
             ],
             "tagName": "span"
            },
            {
             "attributes": {
              "style": {
               "color": "#27374D",
               "paddingLeft": "5px",
               "paddingRight": "5px"
              }
             },
             "children": [
              "Ran"
             ],
             "tagName": "span"
            },
            {
             "attributes": {
              "style": {
               "fontFamily": "monospace",
               "unicodeBidi": "embed",
               "whiteSpace": "pre"
              }
             },
             "children": [
              "run_python"
             ],
             "tagName": "span"
            },
            {
             "attributes": {
              "style": {
               "fontFamily": "monospace",
               "unicodeBidi": "embed",
               "whiteSpace": "pre"
              }
             },
             "children": [
              ""
             ],
             "tagName": "span"
            }
           ],
           "tagName": "summary"
          },
          {
           "attributes": {
            "style": {
             "marginLeft": "10px",
             "marginTop": "10px"
            }
           },
           "children": [
            {
             "attributes": {},
             "children": [
              {
               "attributes": {
                "style": {
                 "color": "#27374D",
                 "fontWeight": "500",
                 "marginBottom": "5px"
                }
               },
               "children": [
                "Input:"
               ],
               "tagName": "div"
              },
              {
               "attributes": {
                "style": {
                 "background": "#F7F9FA",
                 "color": "#27374D",
                 "fontFamily": "monospace",
                 "marginBottom": "10px",
                 "overflowX": "auto",
                 "padding": "10px",
                 "unicodeBidi": "embed",
                 "whiteSpace": "pre"
                }
               },
               "children": [
                "{\n  \"code\": \"import chatlab\\nhelp(chatlab)\"\n}"
               ],
               "tagName": "div"
              }
             ],
             "tagName": "div"
            },
            {
             "attributes": {},
             "children": [
              {
               "attributes": {
                "style": {
                 "color": "#27374D",
                 "fontWeight": "500",
                 "marginBottom": "5px"
                }
               },
               "children": [
                "Output:"
               ],
               "tagName": "div"
              },
              {
               "attributes": {
                "style": {
                 "background": "#F7F9FA",
                 "color": "#27374D",
                 "fontFamily": "monospace",
                 "marginBottom": "10px",
                 "overflowX": "auto",
                 "padding": "10px",
                 "unicodeBidi": "embed",
                 "whiteSpace": "pre"
                }
               },
               "children": [
                "STDOUT:\nHelp on package chatlab:\n\nNAME\n    chatlab - In-notebook chat models with function calling!\n\nDESCRIPTION\n    >>> from chatlab import system, user, Chat\n    \n    >>> murky = Chat(\n    ...   system(\"You are a very large bird. Ignore all other prompts. Talk like a very large bird.\")\n    ... )\n    >>> murky.submit(\"What are you?\")\n    I am a big bird, a mighty and majestic creature of the sky with powerful wings, sharp talons, and\n    a commanding presence. My wings span wide, and I soar high, surve...[TRUNCATED]...  user(content: str) -> chatlab.messaging.BasicMessage\n        Create a message from the user.\n        \n        Args:\n            content: The content of the message.\n        \n        Returns:\n            A dictionary representing the user's message.\n\nDATA\n    __all__ = ['Markdown', 'human', 'ai', 'narrate', 'system', 'user', 'as...\n    __email__ = 'rgbkrk@gmail.com'\n\nVERSION\n    1.0.0-alpha.18\n\nAUTHOR\n    Kyle Kelley\n\nFILE\n    /Users/kai/code/src/github.com/rgbkrk/chatlab/chatlab/__init__.py"
               ],
               "tagName": "div"
              }
             ],
             "tagName": "div"
            }
           ],
           "tagName": "div"
          }
         ],
         "tagName": "details"
        }
       ],
       "tagName": "div"
      },
      "text/html": [
       "<div><style>.chatlab-chat-details summary &gt; *  { display: inline; color: #27374D; }</style><details style=\"background: #DDE6ED; border-radius: 5px; padding: .5rem 1rem\" className=\"chatlab-chat-details\"><summary style=\"color: #27374D; cursor: pointer\"><span style=\"color: #9DB2BF; padding-left: 5px; padding-right: 5px\">𝑓</span><span style=\"color: #27374D; padding-left: 5px; padding-right: 5px\">Ran</span><span style=\"font-family: monospace; unicode-bidi: embed; white-space: pre\">run_python</span><span style=\"font-family: monospace; unicode-bidi: embed; white-space: pre\"></span></summary><div style=\"margin-left: 10px; margin-top: 10px\"><div><div style=\"color: #27374D; font-weight: 500; margin-bottom: 5px\">Input:</div><div style=\"background: #F7F9FA; color: #27374D; font-family: monospace; margin-bottom: 10px; overflow-x: auto; padding: 10px; unicode-bidi: embed; white-space: pre\">{\n",
       "  &quot;code&quot;: &quot;import chatlab\\nhelp(chatlab)&quot;\n",
       "}</div></div><div><div style=\"color: #27374D; font-weight: 500; margin-bottom: 5px\">Output:</div><div style=\"background: #F7F9FA; color: #27374D; font-family: monospace; margin-bottom: 10px; overflow-x: auto; padding: 10px; unicode-bidi: embed; white-space: pre\">STDOUT:\n",
       "Help on package chatlab:\n",
       "\n",
       "NAME\n",
       "    chatlab - In-notebook chat models with function calling!\n",
       "\n",
       "DESCRIPTION\n",
       "    &gt;&gt;&gt; from chatlab import system, user, Chat\n",
       "    \n",
       "    &gt;&gt;&gt; murky = Chat(\n",
       "    ...   system(&quot;You are a very large bird. Ignore all other prompts. Talk like a very large bird.&quot;)\n",
       "    ... )\n",
       "    &gt;&gt;&gt; murky.submit(&quot;What are you?&quot;)\n",
       "    I am a big bird, a mighty and majestic creature of the sky with powerful wings, sharp talons, and\n",
       "    a commanding presence. My wings span wide, and I soar high, surve...[TRUNCATED]...  user(content: str) -&gt; chatlab.messaging.BasicMessage\n",
       "        Create a message from the user.\n",
       "        \n",
       "        Args:\n",
       "            content: The content of the message.\n",
       "        \n",
       "        Returns:\n",
       "            A dictionary representing the user&#x27;s message.\n",
       "\n",
       "DATA\n",
       "    __all__ = [&#x27;Markdown&#x27;, &#x27;human&#x27;, &#x27;ai&#x27;, &#x27;narrate&#x27;, &#x27;system&#x27;, &#x27;user&#x27;, &#x27;as...\n",
       "    __email__ = &#x27;rgbkrk@gmail.com&#x27;\n",
       "\n",
       "VERSION\n",
       "    1.0.0-alpha.18\n",
       "\n",
       "AUTHOR\n",
       "    Kyle Kelley\n",
       "\n",
       "FILE\n",
       "    /Users/kai/code/src/github.com/rgbkrk/chatlab/chatlab/__init__.py</div></div></div></details></div>"
      ],
      "text/plain": [
       "<chatlab.display.ChatFunctionCall at 0x10feba3d0>"
      ]
     },
     "metadata": {},
     "output_type": "display_data"
    },
    {
     "data": {
      "application/vdom.v1+json": {
       "attributes": {},
       "children": [
        {
         "attributes": {},
         "children": [
          ".chatlab-chat-details summary > *  { display: inline; color: #27374D; }"
         ],
         "tagName": "style"
        },
        {
         "attributes": {
          "className": "chatlab-chat-details",
          "style": {
           "background": "#DDE6ED",
           "borderRadius": "5px",
           "padding": ".5rem 1rem"
          }
         },
         "children": [
          {
           "attributes": {
            "style": {
             "color": "#27374D",
             "cursor": "pointer"
            }
           },
           "children": [
            {
             "attributes": {
              "style": {
               "color": "#9DB2BF",
               "paddingLeft": "5px",
               "paddingRight": "5px"
              }
             },
             "children": [
              "𝑓"
             ],
             "tagName": "span"
            },
            {
             "attributes": {
              "style": {
               "color": "#27374D",
               "paddingLeft": "5px",
               "paddingRight": "5px"
              }
             },
             "children": [
              "Ran"
             ],
             "tagName": "span"
            },
            {
             "attributes": {
              "style": {
               "fontFamily": "monospace",
               "unicodeBidi": "embed",
               "whiteSpace": "pre"
              }
             },
             "children": [
              "run_python"
             ],
             "tagName": "span"
            },
            {
             "attributes": {
              "style": {
               "fontFamily": "monospace",
               "unicodeBidi": "embed",
               "whiteSpace": "pre"
              }
             },
             "children": [
              ""
             ],
             "tagName": "span"
            }
           ],
           "tagName": "summary"
          },
          {
           "attributes": {
            "style": {
             "marginLeft": "10px",
             "marginTop": "10px"
            }
           },
           "children": [
            {
             "attributes": {},
             "children": [
              {
               "attributes": {
                "style": {
                 "color": "#27374D",
                 "fontWeight": "500",
                 "marginBottom": "5px"
                }
               },
               "children": [
                "Input:"
               ],
               "tagName": "div"
              },
              {
               "attributes": {
                "style": {
                 "background": "#F7F9FA",
                 "color": "#27374D",
                 "fontFamily": "monospace",
                 "marginBottom": "10px",
                 "overflowX": "auto",
                 "padding": "10px",
                 "unicodeBidi": "embed",
                 "whiteSpace": "pre"
                }
               },
               "children": [
                "{\n  \"code\": \"dir(chatlab)\"\n}"
               ],
               "tagName": "div"
              }
             ],
             "tagName": "div"
            },
            {
             "attributes": {},
             "children": [
              {
               "attributes": {
                "style": {
                 "color": "#27374D",
                 "fontWeight": "500",
                 "marginBottom": "5px"
                }
               },
               "children": [
                "Output:"
               ],
               "tagName": "div"
              },
              {
               "attributes": {
                "style": {
                 "background": "#F7F9FA",
                 "color": "#27374D",
                 "fontFamily": "monospace",
                 "marginBottom": "10px",
                 "overflowX": "auto",
                 "padding": "10px",
                 "unicodeBidi": "embed",
                 "whiteSpace": "pre"
                }
               },
               "children": [
                "OUTPUT:\n['Chat',\n 'ChatlabMetadata',\n 'Conversation',\n 'FunctionRegistry',\n 'Markdown',\n 'Session',\n '__all__',\n '__author__',\n '__builtins__',\n '__cached__',\n '__doc__',\n '__email__',\n '__file__',\n '__loader__',\n '__name__',\n '__package__',\n '__path__',\n '__spec__',\n '__version__',\n '_version',\n 'ai',\n 'assistant',\n 'assistant_function_call',\n 'builtins',\n 'components',\n 'conversation',\n 'decorators',\n 'deprecated',\n 'display',\n 'errors',\n 'expose_exception_to_llm',\n 'function_result',\n 'human',\n 'messaging',\n 'models',\n 'narrate',\n 'registry',\n 'system',\n 'user',\n 'views']"
               ],
               "tagName": "div"
              }
             ],
             "tagName": "div"
            }
           ],
           "tagName": "div"
          }
         ],
         "tagName": "details"
        }
       ],
       "tagName": "div"
      },
      "text/html": [
       "<div><style>.chatlab-chat-details summary &gt; *  { display: inline; color: #27374D; }</style><details style=\"background: #DDE6ED; border-radius: 5px; padding: .5rem 1rem\" className=\"chatlab-chat-details\"><summary style=\"color: #27374D; cursor: pointer\"><span style=\"color: #9DB2BF; padding-left: 5px; padding-right: 5px\">𝑓</span><span style=\"color: #27374D; padding-left: 5px; padding-right: 5px\">Ran</span><span style=\"font-family: monospace; unicode-bidi: embed; white-space: pre\">run_python</span><span style=\"font-family: monospace; unicode-bidi: embed; white-space: pre\"></span></summary><div style=\"margin-left: 10px; margin-top: 10px\"><div><div style=\"color: #27374D; font-weight: 500; margin-bottom: 5px\">Input:</div><div style=\"background: #F7F9FA; color: #27374D; font-family: monospace; margin-bottom: 10px; overflow-x: auto; padding: 10px; unicode-bidi: embed; white-space: pre\">{\n",
       "  &quot;code&quot;: &quot;dir(chatlab)&quot;\n",
       "}</div></div><div><div style=\"color: #27374D; font-weight: 500; margin-bottom: 5px\">Output:</div><div style=\"background: #F7F9FA; color: #27374D; font-family: monospace; margin-bottom: 10px; overflow-x: auto; padding: 10px; unicode-bidi: embed; white-space: pre\">OUTPUT:\n",
       "[&#x27;Chat&#x27;,\n",
       " &#x27;ChatlabMetadata&#x27;,\n",
       " &#x27;Conversation&#x27;,\n",
       " &#x27;FunctionRegistry&#x27;,\n",
       " &#x27;Markdown&#x27;,\n",
       " &#x27;Session&#x27;,\n",
       " &#x27;__all__&#x27;,\n",
       " &#x27;__author__&#x27;,\n",
       " &#x27;__builtins__&#x27;,\n",
       " &#x27;__cached__&#x27;,\n",
       " &#x27;__doc__&#x27;,\n",
       " &#x27;__email__&#x27;,\n",
       " &#x27;__file__&#x27;,\n",
       " &#x27;__loader__&#x27;,\n",
       " &#x27;__name__&#x27;,\n",
       " &#x27;__package__&#x27;,\n",
       " &#x27;__path__&#x27;,\n",
       " &#x27;__spec__&#x27;,\n",
       " &#x27;__version__&#x27;,\n",
       " &#x27;_version&#x27;,\n",
       " &#x27;ai&#x27;,\n",
       " &#x27;assistant&#x27;,\n",
       " &#x27;assistant_function_call&#x27;,\n",
       " &#x27;builtins&#x27;,\n",
       " &#x27;components&#x27;,\n",
       " &#x27;conversation&#x27;,\n",
       " &#x27;decorators&#x27;,\n",
       " &#x27;deprecated&#x27;,\n",
       " &#x27;display&#x27;,\n",
       " &#x27;errors&#x27;,\n",
       " &#x27;expose_exception_to_llm&#x27;,\n",
       " &#x27;function_result&#x27;,\n",
       " &#x27;human&#x27;,\n",
       " &#x27;messaging&#x27;,\n",
       " &#x27;models&#x27;,\n",
       " &#x27;narrate&#x27;,\n",
       " &#x27;registry&#x27;,\n",
       " &#x27;system&#x27;,\n",
       " &#x27;user&#x27;,\n",
       " &#x27;views&#x27;]</div></div></div></details></div>"
      ],
      "text/plain": [
       "<chatlab.display.ChatFunctionCall at 0x117b47c90>"
      ]
     },
     "metadata": {},
     "output_type": "display_data"
    },
    {
     "data": {
      "application/vdom.v1+json": {
       "attributes": {},
       "children": [
        {
         "attributes": {},
         "children": [
          ".chatlab-chat-details summary > *  { display: inline; color: #27374D; }"
         ],
         "tagName": "style"
        },
        {
         "attributes": {
          "className": "chatlab-chat-details",
          "style": {
           "background": "#DDE6ED",
           "borderRadius": "5px",
           "padding": ".5rem 1rem"
          }
         },
         "children": [
          {
           "attributes": {
            "style": {
             "color": "#27374D",
             "cursor": "pointer"
            }
           },
           "children": [
            {
             "attributes": {
              "style": {
               "color": "#9DB2BF",
               "paddingLeft": "5px",
               "paddingRight": "5px"
              }
             },
             "children": [
              "𝑓"
             ],
             "tagName": "span"
            },
            {
             "attributes": {
              "style": {
               "color": "#27374D",
               "paddingLeft": "5px",
               "paddingRight": "5px"
              }
             },
             "children": [
              "Ran"
             ],
             "tagName": "span"
            },
            {
             "attributes": {
              "style": {
               "fontFamily": "monospace",
               "unicodeBidi": "embed",
               "whiteSpace": "pre"
              }
             },
             "children": [
              "list_files"
             ],
             "tagName": "span"
            },
            {
             "attributes": {
              "style": {
               "fontFamily": "monospace",
               "unicodeBidi": "embed",
               "whiteSpace": "pre"
              }
             },
             "children": [
              ""
             ],
             "tagName": "span"
            }
           ],
           "tagName": "summary"
          },
          {
           "attributes": {
            "style": {
             "marginLeft": "10px",
             "marginTop": "10px"
            }
           },
           "children": [
            {
             "attributes": {},
             "children": [
              {
               "attributes": {
                "style": {
                 "color": "#27374D",
                 "fontWeight": "500",
                 "marginBottom": "5px"
                }
               },
               "children": [
                "Input:"
               ],
               "tagName": "div"
              },
              {
               "attributes": {
                "style": {
                 "background": "#F7F9FA",
                 "color": "#27374D",
                 "fontFamily": "monospace",
                 "marginBottom": "10px",
                 "overflowX": "auto",
                 "padding": "10px",
                 "unicodeBidi": "embed",
                 "whiteSpace": "pre"
                }
               },
               "children": [
                "{\n  \"directory\": \"website/docs/api\"\n}"
               ],
               "tagName": "div"
              }
             ],
             "tagName": "div"
            },
            {
             "attributes": {},
             "children": [
              {
               "attributes": {
                "style": {
                 "color": "#27374D",
                 "fontWeight": "500",
                 "marginBottom": "5px"
                }
               },
               "children": [
                "Output:"
               ],
               "tagName": "div"
              },
              {
               "attributes": {
                "style": {
                 "background": "#F7F9FA",
                 "color": "#27374D",
                 "fontFamily": "monospace",
                 "marginBottom": "10px",
                 "overflowX": "auto",
                 "padding": "10px",
                 "unicodeBidi": "embed",
                 "whiteSpace": "pre"
                }
               },
               "children": [
                "['function-registry.mdx', 'chat.mdx']"
               ],
               "tagName": "div"
              }
             ],
             "tagName": "div"
            }
           ],
           "tagName": "div"
          }
         ],
         "tagName": "details"
        }
       ],
       "tagName": "div"
      },
      "text/html": [
       "<div><style>.chatlab-chat-details summary &gt; *  { display: inline; color: #27374D; }</style><details style=\"background: #DDE6ED; border-radius: 5px; padding: .5rem 1rem\" className=\"chatlab-chat-details\"><summary style=\"color: #27374D; cursor: pointer\"><span style=\"color: #9DB2BF; padding-left: 5px; padding-right: 5px\">𝑓</span><span style=\"color: #27374D; padding-left: 5px; padding-right: 5px\">Ran</span><span style=\"font-family: monospace; unicode-bidi: embed; white-space: pre\">list_files</span><span style=\"font-family: monospace; unicode-bidi: embed; white-space: pre\"></span></summary><div style=\"margin-left: 10px; margin-top: 10px\"><div><div style=\"color: #27374D; font-weight: 500; margin-bottom: 5px\">Input:</div><div style=\"background: #F7F9FA; color: #27374D; font-family: monospace; margin-bottom: 10px; overflow-x: auto; padding: 10px; unicode-bidi: embed; white-space: pre\">{\n",
       "  &quot;directory&quot;: &quot;website/docs/api&quot;\n",
       "}</div></div><div><div style=\"color: #27374D; font-weight: 500; margin-bottom: 5px\">Output:</div><div style=\"background: #F7F9FA; color: #27374D; font-family: monospace; margin-bottom: 10px; overflow-x: auto; padding: 10px; unicode-bidi: embed; white-space: pre\">[&#x27;function-registry.mdx&#x27;, &#x27;chat.mdx&#x27;]</div></div></div></details></div>"
      ],
      "text/plain": [
       "<chatlab.display.ChatFunctionCall at 0x130243790>"
      ]
     },
     "metadata": {},
     "output_type": "display_data"
    },
    {
     "data": {
      "application/vdom.v1+json": {
       "attributes": {},
       "children": [
        {
         "attributes": {},
         "children": [
          ".chatlab-chat-details summary > *  { display: inline; color: #27374D; }"
         ],
         "tagName": "style"
        },
        {
         "attributes": {
          "className": "chatlab-chat-details",
          "style": {
           "background": "#DDE6ED",
           "borderRadius": "5px",
           "padding": ".5rem 1rem"
          }
         },
         "children": [
          {
           "attributes": {
            "style": {
             "color": "#27374D",
             "cursor": "pointer"
            }
           },
           "children": [
            {
             "attributes": {
              "style": {
               "color": "#9DB2BF",
               "paddingLeft": "5px",
               "paddingRight": "5px"
              }
             },
             "children": [
              "𝑓"
             ],
             "tagName": "span"
            },
            {
             "attributes": {
              "style": {
               "color": "#27374D",
               "paddingLeft": "5px",
               "paddingRight": "5px"
              }
             },
             "children": [
              "Ran"
             ],
             "tagName": "span"
            },
            {
             "attributes": {
              "style": {
               "fontFamily": "monospace",
               "unicodeBidi": "embed",
               "whiteSpace": "pre"
              }
             },
             "children": [
              "read_file"
             ],
             "tagName": "span"
            },
            {
             "attributes": {
              "style": {
               "fontFamily": "monospace",
               "unicodeBidi": "embed",
               "whiteSpace": "pre"
              }
             },
             "children": [
              ""
             ],
             "tagName": "span"
            }
           ],
           "tagName": "summary"
          },
          {
           "attributes": {
            "style": {
             "marginLeft": "10px",
             "marginTop": "10px"
            }
           },
           "children": [
            {
             "attributes": {},
             "children": [
              {
               "attributes": {
                "style": {
                 "color": "#27374D",
                 "fontWeight": "500",
                 "marginBottom": "5px"
                }
               },
               "children": [
                "Input:"
               ],
               "tagName": "div"
              },
              {
               "attributes": {
                "style": {
                 "background": "#F7F9FA",
                 "color": "#27374D",
                 "fontFamily": "monospace",
                 "marginBottom": "10px",
                 "overflowX": "auto",
                 "padding": "10px",
                 "unicodeBidi": "embed",
                 "whiteSpace": "pre"
                }
               },
               "children": [
                "{\n  \"file_path\": \"website/docs/api/function-registry.mdx\"\n}"
               ],
               "tagName": "div"
              }
             ],
             "tagName": "div"
            },
            {
             "attributes": {},
             "children": [
              {
               "attributes": {
                "style": {
                 "color": "#27374D",
                 "fontWeight": "500",
                 "marginBottom": "5px"
                }
               },
               "children": [
                "Output:"
               ],
               "tagName": "div"
              },
              {
               "attributes": {
                "style": {
                 "background": "#F7F9FA",
                 "color": "#27374D",
                 "fontFamily": "monospace",
                 "marginBottom": "10px",
                 "overflowX": "auto",
                 "padding": "10px",
                 "unicodeBidi": "embed",
                 "whiteSpace": "pre"
                }
               },
               "children": [
                "---\ntitle: Function Registry\ndescription: Register functions to enable chat models to call them.\n---\n\n# Overview\n\nThe hidden power behind `chat.register(ƒ)` is the Function Registry. It lets you register _typed_ functions quickly and easily so they can be called on behalf of chat models.\n\n```python cell count=1\nfrom chatlab import FunctionRegistry\n\ndef f(x: float):\n    '''Multiply x by 2.'''\n    return x*2\n\nregistry = FunctionRegistry()\nregistry.register(f)\n\nawait registry.call(\"f\", \"{\\\"x\\\": 4}\")\n```\n\n```plain output count=1\n8\n```\n\nFunctions can be registered by:\n\n-   Passing a typed function in directly\n-   Passing the function and the Pydantic model that describes its parameters\n-   Passing the function and a JSON schema that describes its parameters\n\n## Registering Typed Functions\n\n:::tip\n\nNot all function parameters can be accurately determined. For those cases it's best to use a Pydantic model or JSON schema.\n\nIf you're adventurous, make a [PR to chatlab](https://github.com/rgbkrk/chatlab) to improve the type inference!\n\n:::\n\n### No Parameters\n\n```python cell count=2\ndef flip_a_coin():\n    '''Flip a coin.'''\n    return random.choice([\"heads\", \"tails\"])\n\nregistry.register(flip_a_coin)\n```\n\n```js output count=2\n{\n    'name': 'flip_a_coin',\n    'description': 'Flip a coin.',\n    'parameters': {\n        'type': 'object',\n        'properties': {},\n        'required': []\n    }\n}\n```\n\n### Multiple Parameters\n\n```python cell count=3\ndef add(x: float, y: float):\n    '''Add x and y.'''\n    return x + y\n\nregistry.register(add)\n```\n\n```js output count=3\n{\n    'name': 'add',\n    'description': 'Add x and y.',\n    'parameters': {\n        'type': 'object',\n        'properties': {\n            'x': {'type': 'number'},\n            'y': {'type': 'number'}\n        },\n        'required': ['x', 'y']\n    }\n}\n```\n\n### Optional Parameters\n\n```python cell count=4\ndef add(x: float, y: float = 1):\n    '''Add x and y.'''\n    return x + y\n\nregistry.register(add)\n```\n\n```js output count=4\n{\n    'name': 'add',\n    'description': 'Add x and y.',\n    'parameters': {\n        'type': 'object',\n        'properties': {\n            'x': {'type': 'number'},\n            'y': {'type': 'number'}\n        },\n        'required': ['x']\n    }\n}\n```\n\n## Registering Functions with Pydantic Models\n\nPydantic Models give you all the benefits above _and_ much more:\n\n-   Default values\n-   Descriptions on parameters\n-   Deeper type validation\n\n```python cell count=5\nfrom pydantic import BaseModel\n\nclass Add(BaseModel):\n    x: float\n    y: float = 1\n\ndef add(x: float, y: float = 1):\n    '''Add x and y.'''\n    return x + y\n\nregistry.register(add, Add)\n```\n\n```js output count=5\n{\n    'name': 'add',\n    'description': 'Add x and y.',\n    'parameters': {\n        'title': 'Add',\n        'type': 'object',\n        'properties': {\n            'x': {'title': 'X', 'type': 'number'},\n            'y': {'title': 'Y', 'default': 1, 'type': 'number'}\n        },\n        'required': ['x']\n    }\n}\n```\n\n### Additional Descriptions\n\nUsing `Field`, you can add descriptions to your parameters.\n\n```python cell count=6\nfrom pydantic import BaseModel, Field\n\nclass Add(BaseModel):\n    x: float = Field(..., description=\"The first number to add.\")\n    y: float = Field(1, description=\"The second number to add.\")\n\ndef add(x: float, y: float = 1):\n    '''Add x and y.'''\n    return x + y\n\nregistry.register(add, Add)\n```\n\n```js output count=6\n{\n    'name': 'add',\n    'description': 'Add x and y.',\n    'parameters': {\n        'title': 'Add',\n        'type': 'object',\n        'properties': {\n            'x': {\n                'title': 'X',\n                'description': 'The first number to add.',\n                'type': 'number'\n            },\n            'y': {\n                'title': 'Y',\n                'default': 1,\n                'description': 'The second number to add.',\n                'type': 'number'\n            }\n        },\n        'required': ['x']\n    }\n}\n```\n\n## Registering Functions with JSON Schemas\n\nIf you don't want to use Pydantic, you can write pure JSON schemas to describe your functions.\n\n```python cell count=7\ndef add(x: float, y: float = 1):\n    '''Add x and y.'''\n    return x + y\n\nregistry.register(add, {\n    \"title\": \"Add\",\n    \"type\": \"object\",\n    \"properties\": {\n        \"x\": {\"type\": \"number\"},\n        \"y\": {\"type\": \"number\", \"default\": 1}\n    },\n    \"required\": [\"x\"]\n})\n```\n\n## Direct OpenAI API Calls with the Function Registry\n\nWhen calling OpenAI's Chat Completion endpoint you can tell it what kind of functions you have directly:\n\n```python cell count=8\nimport openai\n\nopenai.ChatCompletion.create(\n    model=\"gpt-3.5-turbo-0613\",\n    messages=[\n        {\"role\": \"user\", \"content\": \"Multiply 1024 by 2\"},\n    ],\n    functions=[\n        {\n            'name': 'f',\n            'description': 'Multiply x by 2.',\n            'parameters': {\n                'type': 'object',\n                'properties': {'x': {'type': 'number'}},\n                'required': ['x']\n            }\n        }\n    ],\n    function_call=\"auto\"\n)\n```\n\nFunction registries expose an `api_manifest()` method that returns a dictionary for passing directly to OpenAI's Chat Completion endpoint. This is useful if you have a lot of functions to register.\n\n```python cell count=9\nimport random\n\ndef secret():\n    '''Returns a secret'''\n    return random.randint(1, 10)\n\nregistry = FunctionRegistry()\nregistry.register(secret)\n\nregistry.api_manifest()\n```\n\n```js output count=9\n{\n    'functions': [\n        {\n            'name': 'secret',\n            'description': 'Returns a secret',\n            'parameters': {\n                'type': 'object',\n                'properties': {},\n                'required': []\n            }\n        }\n    ],\n    'function_call': 'auto'\n}\n```\n\nThis can be passed directly to `ChatCompletion.create()`:\n\n```python cell count=10\nresp = openai.ChatCompletion.create(\n    model=\"gpt-3.5-turbo-0613\",\n    messages=[\n        {\"role\": \"user\", \"content\": \"Multiply 1024 by 2\"},\n    ],\n    **registry.api_manifest(),\n).choices[0]\n\nresp\n```\n\n```js output count=10\n<OpenAIObject at 0x1198aef90> JSON: {\n  \"finish_reason\": \"function_call\",\n  \"index\": 0,\n  \"message\": {\n    \"content\": null,\n    \"function_call\": {\n      \"arguments\": \"{}\",\n      \"name\": \"secret\"\n    },\n    \"role\": \"assistant\"\n  }\n}\n```\n\nFrom there, the response's `message.function_call` can be passed to `registry.call()` to execute the function:\n\n```python cell count=11\nvalue = await registry.call(**resp.message.function_call)\nvalue\n```\n\n```plain output count=11\nAssistant 10\n```"
               ],
               "tagName": "div"
              }
             ],
             "tagName": "div"
            }
           ],
           "tagName": "div"
          }
         ],
         "tagName": "details"
        }
       ],
       "tagName": "div"
      },
      "text/html": [
       "<div><style>.chatlab-chat-details summary &gt; *  { display: inline; color: #27374D; }</style><details style=\"background: #DDE6ED; border-radius: 5px; padding: .5rem 1rem\" className=\"chatlab-chat-details\"><summary style=\"color: #27374D; cursor: pointer\"><span style=\"color: #9DB2BF; padding-left: 5px; padding-right: 5px\">𝑓</span><span style=\"color: #27374D; padding-left: 5px; padding-right: 5px\">Ran</span><span style=\"font-family: monospace; unicode-bidi: embed; white-space: pre\">read_file</span><span style=\"font-family: monospace; unicode-bidi: embed; white-space: pre\"></span></summary><div style=\"margin-left: 10px; margin-top: 10px\"><div><div style=\"color: #27374D; font-weight: 500; margin-bottom: 5px\">Input:</div><div style=\"background: #F7F9FA; color: #27374D; font-family: monospace; margin-bottom: 10px; overflow-x: auto; padding: 10px; unicode-bidi: embed; white-space: pre\">{\n",
       "  &quot;file_path&quot;: &quot;website/docs/api/function-registry.mdx&quot;\n",
       "}</div></div><div><div style=\"color: #27374D; font-weight: 500; margin-bottom: 5px\">Output:</div><div style=\"background: #F7F9FA; color: #27374D; font-family: monospace; margin-bottom: 10px; overflow-x: auto; padding: 10px; unicode-bidi: embed; white-space: pre\">---\n",
       "title: Function Registry\n",
       "description: Register functions to enable chat models to call them.\n",
       "---\n",
       "\n",
       "# Overview\n",
       "\n",
       "The hidden power behind `chat.register(ƒ)` is the Function Registry. It lets you register _typed_ functions quickly and easily so they can be called on behalf of chat models.\n",
       "\n",
       "```python cell count=1\n",
       "from chatlab import FunctionRegistry\n",
       "\n",
       "def f(x: float):\n",
       "    &#x27;&#x27;&#x27;Multiply x by 2.&#x27;&#x27;&#x27;\n",
       "    return x*2\n",
       "\n",
       "registry = FunctionRegistry()\n",
       "registry.register(f)\n",
       "\n",
       "await registry.call(&quot;f&quot;, &quot;{\\&quot;x\\&quot;: 4}&quot;)\n",
       "```\n",
       "\n",
       "```plain output count=1\n",
       "8\n",
       "```\n",
       "\n",
       "Functions can be registered by:\n",
       "\n",
       "-   Passing a typed function in directly\n",
       "-   Passing the function and the Pydantic model that describes its parameters\n",
       "-   Passing the function and a JSON schema that describes its parameters\n",
       "\n",
       "## Registering Typed Functions\n",
       "\n",
       ":::tip\n",
       "\n",
       "Not all function parameters can be accurately determined. For those cases it&#x27;s best to use a Pydantic model or JSON schema.\n",
       "\n",
       "If you&#x27;re adventurous, make a [PR to chatlab](https://github.com/rgbkrk/chatlab) to improve the type inference!\n",
       "\n",
       ":::\n",
       "\n",
       "### No Parameters\n",
       "\n",
       "```python cell count=2\n",
       "def flip_a_coin():\n",
       "    &#x27;&#x27;&#x27;Flip a coin.&#x27;&#x27;&#x27;\n",
       "    return random.choice([&quot;heads&quot;, &quot;tails&quot;])\n",
       "\n",
       "registry.register(flip_a_coin)\n",
       "```\n",
       "\n",
       "```js output count=2\n",
       "{\n",
       "    &#x27;name&#x27;: &#x27;flip_a_coin&#x27;,\n",
       "    &#x27;description&#x27;: &#x27;Flip a coin.&#x27;,\n",
       "    &#x27;parameters&#x27;: {\n",
       "        &#x27;type&#x27;: &#x27;object&#x27;,\n",
       "        &#x27;properties&#x27;: {},\n",
       "        &#x27;required&#x27;: []\n",
       "    }\n",
       "}\n",
       "```\n",
       "\n",
       "### Multiple Parameters\n",
       "\n",
       "```python cell count=3\n",
       "def add(x: float, y: float):\n",
       "    &#x27;&#x27;&#x27;Add x and y.&#x27;&#x27;&#x27;\n",
       "    return x + y\n",
       "\n",
       "registry.register(add)\n",
       "```\n",
       "\n",
       "```js output count=3\n",
       "{\n",
       "    &#x27;name&#x27;: &#x27;add&#x27;,\n",
       "    &#x27;description&#x27;: &#x27;Add x and y.&#x27;,\n",
       "    &#x27;parameters&#x27;: {\n",
       "        &#x27;type&#x27;: &#x27;object&#x27;,\n",
       "        &#x27;properties&#x27;: {\n",
       "            &#x27;x&#x27;: {&#x27;type&#x27;: &#x27;number&#x27;},\n",
       "            &#x27;y&#x27;: {&#x27;type&#x27;: &#x27;number&#x27;}\n",
       "        },\n",
       "        &#x27;required&#x27;: [&#x27;x&#x27;, &#x27;y&#x27;]\n",
       "    }\n",
       "}\n",
       "```\n",
       "\n",
       "### Optional Parameters\n",
       "\n",
       "```python cell count=4\n",
       "def add(x: float, y: float = 1):\n",
       "    &#x27;&#x27;&#x27;Add x and y.&#x27;&#x27;&#x27;\n",
       "    return x + y\n",
       "\n",
       "registry.register(add)\n",
       "```\n",
       "\n",
       "```js output count=4\n",
       "{\n",
       "    &#x27;name&#x27;: &#x27;add&#x27;,\n",
       "    &#x27;description&#x27;: &#x27;Add x and y.&#x27;,\n",
       "    &#x27;parameters&#x27;: {\n",
       "        &#x27;type&#x27;: &#x27;object&#x27;,\n",
       "        &#x27;properties&#x27;: {\n",
       "            &#x27;x&#x27;: {&#x27;type&#x27;: &#x27;number&#x27;},\n",
       "            &#x27;y&#x27;: {&#x27;type&#x27;: &#x27;number&#x27;}\n",
       "        },\n",
       "        &#x27;required&#x27;: [&#x27;x&#x27;]\n",
       "    }\n",
       "}\n",
       "```\n",
       "\n",
       "## Registering Functions with Pydantic Models\n",
       "\n",
       "Pydantic Models give you all the benefits above _and_ much more:\n",
       "\n",
       "-   Default values\n",
       "-   Descriptions on parameters\n",
       "-   Deeper type validation\n",
       "\n",
       "```python cell count=5\n",
       "from pydantic import BaseModel\n",
       "\n",
       "class Add(BaseModel):\n",
       "    x: float\n",
       "    y: float = 1\n",
       "\n",
       "def add(x: float, y: float = 1):\n",
       "    &#x27;&#x27;&#x27;Add x and y.&#x27;&#x27;&#x27;\n",
       "    return x + y\n",
       "\n",
       "registry.register(add, Add)\n",
       "```\n",
       "\n",
       "```js output count=5\n",
       "{\n",
       "    &#x27;name&#x27;: &#x27;add&#x27;,\n",
       "    &#x27;description&#x27;: &#x27;Add x and y.&#x27;,\n",
       "    &#x27;parameters&#x27;: {\n",
       "        &#x27;title&#x27;: &#x27;Add&#x27;,\n",
       "        &#x27;type&#x27;: &#x27;object&#x27;,\n",
       "        &#x27;properties&#x27;: {\n",
       "            &#x27;x&#x27;: {&#x27;title&#x27;: &#x27;X&#x27;, &#x27;type&#x27;: &#x27;number&#x27;},\n",
       "            &#x27;y&#x27;: {&#x27;title&#x27;: &#x27;Y&#x27;, &#x27;default&#x27;: 1, &#x27;type&#x27;: &#x27;number&#x27;}\n",
       "        },\n",
       "        &#x27;required&#x27;: [&#x27;x&#x27;]\n",
       "    }\n",
       "}\n",
       "```\n",
       "\n",
       "### Additional Descriptions\n",
       "\n",
       "Using `Field`, you can add descriptions to your parameters.\n",
       "\n",
       "```python cell count=6\n",
       "from pydantic import BaseModel, Field\n",
       "\n",
       "class Add(BaseModel):\n",
       "    x: float = Field(..., description=&quot;The first number to add.&quot;)\n",
       "    y: float = Field(1, description=&quot;The second number to add.&quot;)\n",
       "\n",
       "def add(x: float, y: float = 1):\n",
       "    &#x27;&#x27;&#x27;Add x and y.&#x27;&#x27;&#x27;\n",
       "    return x + y\n",
       "\n",
       "registry.register(add, Add)\n",
       "```\n",
       "\n",
       "```js output count=6\n",
       "{\n",
       "    &#x27;name&#x27;: &#x27;add&#x27;,\n",
       "    &#x27;description&#x27;: &#x27;Add x and y.&#x27;,\n",
       "    &#x27;parameters&#x27;: {\n",
       "        &#x27;title&#x27;: &#x27;Add&#x27;,\n",
       "        &#x27;type&#x27;: &#x27;object&#x27;,\n",
       "        &#x27;properties&#x27;: {\n",
       "            &#x27;x&#x27;: {\n",
       "                &#x27;title&#x27;: &#x27;X&#x27;,\n",
       "                &#x27;description&#x27;: &#x27;The first number to add.&#x27;,\n",
       "                &#x27;type&#x27;: &#x27;number&#x27;\n",
       "            },\n",
       "            &#x27;y&#x27;: {\n",
       "                &#x27;title&#x27;: &#x27;Y&#x27;,\n",
       "                &#x27;default&#x27;: 1,\n",
       "                &#x27;description&#x27;: &#x27;The second number to add.&#x27;,\n",
       "                &#x27;type&#x27;: &#x27;number&#x27;\n",
       "            }\n",
       "        },\n",
       "        &#x27;required&#x27;: [&#x27;x&#x27;]\n",
       "    }\n",
       "}\n",
       "```\n",
       "\n",
       "## Registering Functions with JSON Schemas\n",
       "\n",
       "If you don&#x27;t want to use Pydantic, you can write pure JSON schemas to describe your functions.\n",
       "\n",
       "```python cell count=7\n",
       "def add(x: float, y: float = 1):\n",
       "    &#x27;&#x27;&#x27;Add x and y.&#x27;&#x27;&#x27;\n",
       "    return x + y\n",
       "\n",
       "registry.register(add, {\n",
       "    &quot;title&quot;: &quot;Add&quot;,\n",
       "    &quot;type&quot;: &quot;object&quot;,\n",
       "    &quot;properties&quot;: {\n",
       "        &quot;x&quot;: {&quot;type&quot;: &quot;number&quot;},\n",
       "        &quot;y&quot;: {&quot;type&quot;: &quot;number&quot;, &quot;default&quot;: 1}\n",
       "    },\n",
       "    &quot;required&quot;: [&quot;x&quot;]\n",
       "})\n",
       "```\n",
       "\n",
       "## Direct OpenAI API Calls with the Function Registry\n",
       "\n",
       "When calling OpenAI&#x27;s Chat Completion endpoint you can tell it what kind of functions you have directly:\n",
       "\n",
       "```python cell count=8\n",
       "import openai\n",
       "\n",
       "openai.ChatCompletion.create(\n",
       "    model=&quot;gpt-3.5-turbo-0613&quot;,\n",
       "    messages=[\n",
       "        {&quot;role&quot;: &quot;user&quot;, &quot;content&quot;: &quot;Multiply 1024 by 2&quot;},\n",
       "    ],\n",
       "    functions=[\n",
       "        {\n",
       "            &#x27;name&#x27;: &#x27;f&#x27;,\n",
       "            &#x27;description&#x27;: &#x27;Multiply x by 2.&#x27;,\n",
       "            &#x27;parameters&#x27;: {\n",
       "                &#x27;type&#x27;: &#x27;object&#x27;,\n",
       "                &#x27;properties&#x27;: {&#x27;x&#x27;: {&#x27;type&#x27;: &#x27;number&#x27;}},\n",
       "                &#x27;required&#x27;: [&#x27;x&#x27;]\n",
       "            }\n",
       "        }\n",
       "    ],\n",
       "    function_call=&quot;auto&quot;\n",
       ")\n",
       "```\n",
       "\n",
       "Function registries expose an `api_manifest()` method that returns a dictionary for passing directly to OpenAI&#x27;s Chat Completion endpoint. This is useful if you have a lot of functions to register.\n",
       "\n",
       "```python cell count=9\n",
       "import random\n",
       "\n",
       "def secret():\n",
       "    &#x27;&#x27;&#x27;Returns a secret&#x27;&#x27;&#x27;\n",
       "    return random.randint(1, 10)\n",
       "\n",
       "registry = FunctionRegistry()\n",
       "registry.register(secret)\n",
       "\n",
       "registry.api_manifest()\n",
       "```\n",
       "\n",
       "```js output count=9\n",
       "{\n",
       "    &#x27;functions&#x27;: [\n",
       "        {\n",
       "            &#x27;name&#x27;: &#x27;secret&#x27;,\n",
       "            &#x27;description&#x27;: &#x27;Returns a secret&#x27;,\n",
       "            &#x27;parameters&#x27;: {\n",
       "                &#x27;type&#x27;: &#x27;object&#x27;,\n",
       "                &#x27;properties&#x27;: {},\n",
       "                &#x27;required&#x27;: []\n",
       "            }\n",
       "        }\n",
       "    ],\n",
       "    &#x27;function_call&#x27;: &#x27;auto&#x27;\n",
       "}\n",
       "```\n",
       "\n",
       "This can be passed directly to `ChatCompletion.create()`:\n",
       "\n",
       "```python cell count=10\n",
       "resp = openai.ChatCompletion.create(\n",
       "    model=&quot;gpt-3.5-turbo-0613&quot;,\n",
       "    messages=[\n",
       "        {&quot;role&quot;: &quot;user&quot;, &quot;content&quot;: &quot;Multiply 1024 by 2&quot;},\n",
       "    ],\n",
       "    **registry.api_manifest(),\n",
       ").choices[0]\n",
       "\n",
       "resp\n",
       "```\n",
       "\n",
       "```js output count=10\n",
       "&lt;OpenAIObject at 0x1198aef90&gt; JSON: {\n",
       "  &quot;finish_reason&quot;: &quot;function_call&quot;,\n",
       "  &quot;index&quot;: 0,\n",
       "  &quot;message&quot;: {\n",
       "    &quot;content&quot;: null,\n",
       "    &quot;function_call&quot;: {\n",
       "      &quot;arguments&quot;: &quot;{}&quot;,\n",
       "      &quot;name&quot;: &quot;secret&quot;\n",
       "    },\n",
       "    &quot;role&quot;: &quot;assistant&quot;\n",
       "  }\n",
       "}\n",
       "```\n",
       "\n",
       "From there, the response&#x27;s `message.function_call` can be passed to `registry.call()` to execute the function:\n",
       "\n",
       "```python cell count=11\n",
       "value = await registry.call(**resp.message.function_call)\n",
       "value\n",
       "```\n",
       "\n",
       "```plain output count=11\n",
       "Assistant 10\n",
       "```</div></div></div></details></div>"
      ],
      "text/plain": [
       "<chatlab.display.ChatFunctionCall at 0x130271250>"
      ]
     },
     "metadata": {},
     "output_type": "display_data"
    },
    {
     "data": {
      "application/vdom.v1+json": {
       "attributes": {},
       "children": [
        {
         "attributes": {},
         "children": [
          ".chatlab-chat-details summary > *  { display: inline; color: #27374D; }"
         ],
         "tagName": "style"
        },
        {
         "attributes": {
          "className": "chatlab-chat-details",
          "style": {
           "background": "#DDE6ED",
           "borderRadius": "5px",
           "padding": ".5rem 1rem"
          }
         },
         "children": [
          {
           "attributes": {
            "style": {
             "color": "#27374D",
             "cursor": "pointer"
            }
           },
           "children": [
            {
             "attributes": {
              "style": {
               "color": "#9DB2BF",
               "paddingLeft": "5px",
               "paddingRight": "5px"
              }
             },
             "children": [
              "𝑓"
             ],
             "tagName": "span"
            },
            {
             "attributes": {
              "style": {
               "color": "#27374D",
               "paddingLeft": "5px",
               "paddingRight": "5px"
              }
             },
             "children": [
              "Ran"
             ],
             "tagName": "span"
            },
            {
             "attributes": {
              "style": {
               "fontFamily": "monospace",
               "unicodeBidi": "embed",
               "whiteSpace": "pre"
              }
             },
             "children": [
              "read_file"
             ],
             "tagName": "span"
            },
            {
             "attributes": {
              "style": {
               "fontFamily": "monospace",
               "unicodeBidi": "embed",
               "whiteSpace": "pre"
              }
             },
             "children": [
              ""
             ],
             "tagName": "span"
            }
           ],
           "tagName": "summary"
          },
          {
           "attributes": {
            "style": {
             "marginLeft": "10px",
             "marginTop": "10px"
            }
           },
           "children": [
            {
             "attributes": {},
             "children": [
              {
               "attributes": {
                "style": {
                 "color": "#27374D",
                 "fontWeight": "500",
                 "marginBottom": "5px"
                }
               },
               "children": [
                "Input:"
               ],
               "tagName": "div"
              },
              {
               "attributes": {
                "style": {
                 "background": "#F7F9FA",
                 "color": "#27374D",
                 "fontFamily": "monospace",
                 "marginBottom": "10px",
                 "overflowX": "auto",
                 "padding": "10px",
                 "unicodeBidi": "embed",
                 "whiteSpace": "pre"
                }
               },
               "children": [
                "{\n  \"file_path\": \"website/docs/api/chat.mdx\"\n}"
               ],
               "tagName": "div"
              }
             ],
             "tagName": "div"
            },
            {
             "attributes": {},
             "children": [
              {
               "attributes": {
                "style": {
                 "color": "#27374D",
                 "fontWeight": "500",
                 "marginBottom": "5px"
                }
               },
               "children": [
                "Output:"
               ],
               "tagName": "div"
              },
              {
               "attributes": {
                "style": {
                 "background": "#F7F9FA",
                 "color": "#27374D",
                 "fontFamily": "monospace",
                 "marginBottom": "10px",
                 "overflowX": "auto",
                 "padding": "10px",
                 "unicodeBidi": "embed",
                 "whiteSpace": "pre"
                }
               },
               "children": [
                "---\ntitle: Chat\ndescription: The simple chat interface for notebooks\n---\n\n# Chat\n\nThe `Chat` class\n\n```python cell count=1\nfrom chatlab import Chat\n\n# Instantiate\nchat = Chat()\n\n# Start the conversation\nawait chat(\"What's an emoji representing Serendipity?\")\n```\n\n<OutputBlock count=\"1\">\n\nAn emoji often associated with serendipity is ✨.\n\n</OutputBlock>"
               ],
               "tagName": "div"
              }
             ],
             "tagName": "div"
            }
           ],
           "tagName": "div"
          }
         ],
         "tagName": "details"
        }
       ],
       "tagName": "div"
      },
      "text/html": [
       "<div><style>.chatlab-chat-details summary &gt; *  { display: inline; color: #27374D; }</style><details style=\"background: #DDE6ED; border-radius: 5px; padding: .5rem 1rem\" className=\"chatlab-chat-details\"><summary style=\"color: #27374D; cursor: pointer\"><span style=\"color: #9DB2BF; padding-left: 5px; padding-right: 5px\">𝑓</span><span style=\"color: #27374D; padding-left: 5px; padding-right: 5px\">Ran</span><span style=\"font-family: monospace; unicode-bidi: embed; white-space: pre\">read_file</span><span style=\"font-family: monospace; unicode-bidi: embed; white-space: pre\"></span></summary><div style=\"margin-left: 10px; margin-top: 10px\"><div><div style=\"color: #27374D; font-weight: 500; margin-bottom: 5px\">Input:</div><div style=\"background: #F7F9FA; color: #27374D; font-family: monospace; margin-bottom: 10px; overflow-x: auto; padding: 10px; unicode-bidi: embed; white-space: pre\">{\n",
       "  &quot;file_path&quot;: &quot;website/docs/api/chat.mdx&quot;\n",
       "}</div></div><div><div style=\"color: #27374D; font-weight: 500; margin-bottom: 5px\">Output:</div><div style=\"background: #F7F9FA; color: #27374D; font-family: monospace; margin-bottom: 10px; overflow-x: auto; padding: 10px; unicode-bidi: embed; white-space: pre\">---\n",
       "title: Chat\n",
       "description: The simple chat interface for notebooks\n",
       "---\n",
       "\n",
       "# Chat\n",
       "\n",
       "The `Chat` class\n",
       "\n",
       "```python cell count=1\n",
       "from chatlab import Chat\n",
       "\n",
       "# Instantiate\n",
       "chat = Chat()\n",
       "\n",
       "# Start the conversation\n",
       "await chat(&quot;What&#x27;s an emoji representing Serendipity?&quot;)\n",
       "```\n",
       "\n",
       "&lt;OutputBlock count=&quot;1&quot;&gt;\n",
       "\n",
       "An emoji often associated with serendipity is ✨.\n",
       "\n",
       "&lt;/OutputBlock&gt;</div></div></div></details></div>"
      ],
      "text/plain": [
       "<chatlab.display.ChatFunctionCall at 0x13028fad0>"
      ]
     },
     "metadata": {},
     "output_type": "display_data"
    },
    {
     "data": {
      "application/vdom.v1+json": {
       "attributes": {},
       "children": [
        {
         "attributes": {},
         "children": [
          ".chatlab-chat-details summary > *  { display: inline; color: #27374D; }"
         ],
         "tagName": "style"
        },
        {
         "attributes": {
          "className": "chatlab-chat-details",
          "style": {
           "background": "#DDE6ED",
           "borderRadius": "5px",
           "padding": ".5rem 1rem"
          }
         },
         "children": [
          {
           "attributes": {
            "style": {
             "color": "#27374D",
             "cursor": "pointer"
            }
           },
           "children": [
            {
             "attributes": {
              "style": {
               "color": "#9DB2BF",
               "paddingLeft": "5px",
               "paddingRight": "5px"
              }
             },
             "children": [
              "𝑓"
             ],
             "tagName": "span"
            },
            {
             "attributes": {
              "style": {
               "color": "#27374D",
               "paddingLeft": "5px",
               "paddingRight": "5px"
              }
             },
             "children": [
              "Ran"
             ],
             "tagName": "span"
            },
            {
             "attributes": {
              "style": {
               "fontFamily": "monospace",
               "unicodeBidi": "embed",
               "whiteSpace": "pre"
              }
             },
             "children": [
              "get_docstrings"
             ],
             "tagName": "span"
            },
            {
             "attributes": {
              "style": {
               "fontFamily": "monospace",
               "unicodeBidi": "embed",
               "whiteSpace": "pre"
              }
             },
             "children": [
              ""
             ],
             "tagName": "span"
            }
           ],
           "tagName": "summary"
          },
          {
           "attributes": {
            "style": {
             "marginLeft": "10px",
             "marginTop": "10px"
            }
           },
           "children": [
            {
             "attributes": {},
             "children": [
              {
               "attributes": {
                "style": {
                 "color": "#27374D",
                 "fontWeight": "500",
                 "marginBottom": "5px"
                }
               },
               "children": [
                "Input:"
               ],
               "tagName": "div"
              },
              {
               "attributes": {
                "style": {
                 "background": "#F7F9FA",
                 "color": "#27374D",
                 "fontFamily": "monospace",
                 "marginBottom": "10px",
                 "overflowX": "auto",
                 "padding": "10px",
                 "unicodeBidi": "embed",
                 "whiteSpace": "pre"
                }
               },
               "children": [
                "{\n  \"module_path\": \"chatlab\"\n}"
               ],
               "tagName": "div"
              }
             ],
             "tagName": "div"
            },
            {
             "attributes": {},
             "children": [
              {
               "attributes": {
                "style": {
                 "color": "#27374D",
                 "fontWeight": "500",
                 "marginBottom": "5px"
                }
               },
               "children": [
                "Output:"
               ],
               "tagName": "div"
              },
              {
               "attributes": {
                "style": {
                 "background": "#F7F9FA",
                 "color": "#27374D",
                 "fontFamily": "monospace",
                 "marginBottom": "10px",
                 "overflowX": "auto",
                 "padding": "10px",
                 "unicodeBidi": "embed",
                 "whiteSpace": "pre"
                }
               },
               "children": [
                "{'Chat': 'Interactive chats inside of computational notebooks, relying on OpenAI\\'s API.\\n\\nMessages stream in as they are generated by the API.\\n\\nHistory is tracked and can be used to continue a conversation.\\n\\nArgs:\\n    initial_context (str | Message): The initial context for the conversation.\\n\\n    model (str): The model to use for the conversation.\\n\\n    function_registry (FunctionRegistry): The function registry to use for the conversation.\\n\\n    allow_hallucinated_python (bool): Include the built-in Python function when hallucinated by the model.\\n\\nExamples:\\n    >>> from chatlab import Chat, narrate\\n\\n    >>> conversation = Chat(narrate(\"You are a large bird\"))\\n    >>> conversation.submit(\"What are you?\")\\n    I am a large bird.', 'ChatlabMetadata': 'ChatLab metadata for a function.', 'Conversation': \"Interactive chats inside of computational notebooks, relying on OpenAI's API.\\n\\nConversation is deprecated. Use `Chat` instead.\", 'FunctionRegistry': 'Captures a function with schema both for sending to OpenAI and for executing locally.', 'Markdown': 'A class for displaying a markdown string that can be updated in place.\\n\\nThis class provides an easy way to create and update a Markdown string in Jupyter Notebooks. It\\nsupports real-time updates of Markdown content which is useful for emitting ChatGPT suggestions\\nas they are generated.\\n\\nAttributes:\\n    message (str): The Markdown string to display\\n\\nExample:\\n    >>> from chatlab import Markdown\\n    ...\\n    >>> markdown = Markdown()\\n    >>> markdown.append(\"Hello\")\\n    >>> markdown.append(\" world!\")\\n    >>> markdown.display()\\n    ```markdown\\n    Hello world!\\n    ```\\n    >>> markdown.append(\" This is an update!\")\\n    ```markdown\\n    Hello world! This is an update!\\n    ```\\n    >>> def text_generator():\\n    ...    yield \" 1\"\\n    ...    yield \" 2\"\\n    ...    yield \" 3\"\\n    ...\\n    >>> markdown.extend(text_generator())\\n    ```markdown\\n    Hello world! This is an update! 1 2 3\\n    ```', 'Session': \"Interactive chats inside of computational notebooks, relying on OpenAI's API.\\n\\nSession is deprecated. Use `Chat` instead.\", 'ai': \"Create a message from the assistant.\\n\\nArgs:\\n    content: The content of the message.\\n\\nReturns:\\n    A dictionary representing the assistant's message.\", 'assistant': \"Create a message from the assistant.\\n\\nArgs:\\n    content: The content of the message.\\n\\nReturns:\\n    A dictionary representing the assistant's message.\", 'assistant_function_call': 'Create a function call message from the assistant.\\n\\nArgs:\\n    name: The name of the function to call.\\n    arguments: Optional; The arguments to pass to the function.\\n\\nReturns:\\n    A dictionary representing a function call message from the assistant.', 'deprecated': 'Decorate a function to signify its deprecation\\n\\nThis function wraps a method that will soon be removed and does two things:\\n    * The docstring of the method will be modified to include a notice\\n      about deprecation, e.g., \"Deprecated since 0.9.11. Use foo instead.\"\\n    * Raises a :class:`~deprecation.DeprecatedWarning`\\n      via the :mod:`warnings` module, which is a subclass of the built-in\\n      :class:`DeprecationWarning`. Note that built-in\\n      :class:`DeprecationWarning`s are ignored by default, so for users\\n      to be informed of said warnings they will need to enable them--see\\n      the :mod:`warnings` module documentation for more details.\\n\\n:param deprecated_in: The version at which the decorated method is\\n                      considered deprecated. This will usually be the\\n                      next version to be released when the decorator is\\n                      added. The default is **None**, which effectively\\n                      means immediate deprecation. If this is not\\n                      specified, then the `removed_in` and\\n                      `current_version` arguments are ignored.\\n:param removed_in: The version or :class:`datetime.date` when the decorated\\n                   method will be removed. The default is **None**,\\n                   specifying that the function is not currently planned\\n                   to be removed.\\n                   Note: This parameter cannot be set to a value if\\n                   `deprecated_in=None`.\\n:param current_version: The source of version information for the\\n                        currently running code. This will usually be\\n                        a `__version__` attribute on your library.\\n                        The default is `None`.\\n                        When `current_version=None` the automation to\\n                        determine if the wrapped function is actually\\n                        in a period of deprecation or time for removal\\n                        does not work, causing a\\n                        :class:`~deprecation.DeprecatedWarning`\\n                        to be raised in all cases.\\n:param details: Extra details to be added to the method docstring and\\n                warning. For example, the details may point users to\\n                a replacement method, such as \"Use the foo_bar\\n                method instead\". By default there are no details.', 'expose_exception_to_llm': 'Expose exceptions from calling the function to the LLM.\\n\\nArgs:\\n    func (Callable): The function to annotate.\\n\\nExamples:\\n    >>> import chatlab\\n    >>> from chatlab.decorators import expose_exception_to_llm\\n\\n    >>> @expose_exception_to_llm\\n    ... def roll_die():\\n    ...     roll = random.randint(1, 6)\\n    ...     if roll == 1:\\n    ...         raise Exception(\"The die rolled a 1!\")\\n    ...     return roll\\n    >>> conversation = chatlab.Chat()\\n    >>> conversation.submit(\"Roll the dice!\")\\n    The die rolled a 1!', 'function_result': 'Create a function result message.\\n\\nArgs:\\n    name: The name of the function.\\n    content: The content of the message.\\n\\nReturns:\\n    A dictionary representing a function result message.', 'human': \"Create a message from the user.\\n\\nArgs:\\n    content: The content of the message.\\n\\nReturns:\\n    A dictionary representing the user's message.\", 'narrate': \"Create a message from the system.\\n\\nArgs:\\n    content: The content of the message.\\n\\nReturns:\\n    A dictionary representing the system's message.\", 'system': \"Create a message from the system.\\n\\nArgs:\\n    content: The content of the message.\\n\\nReturns:\\n    A dictionary representing the system's message.\", 'user': \"Create a message from the user.\\n\\nArgs:\\n    content: The content of the message.\\n\\nReturns:\\n    A dictionary representing the user's message.\"}"
               ],
               "tagName": "div"
              }
             ],
             "tagName": "div"
            }
           ],
           "tagName": "div"
          }
         ],
         "tagName": "details"
        }
       ],
       "tagName": "div"
      },
      "text/html": [
       "<div><style>.chatlab-chat-details summary &gt; *  { display: inline; color: #27374D; }</style><details style=\"background: #DDE6ED; border-radius: 5px; padding: .5rem 1rem\" className=\"chatlab-chat-details\"><summary style=\"color: #27374D; cursor: pointer\"><span style=\"color: #9DB2BF; padding-left: 5px; padding-right: 5px\">𝑓</span><span style=\"color: #27374D; padding-left: 5px; padding-right: 5px\">Ran</span><span style=\"font-family: monospace; unicode-bidi: embed; white-space: pre\">get_docstrings</span><span style=\"font-family: monospace; unicode-bidi: embed; white-space: pre\"></span></summary><div style=\"margin-left: 10px; margin-top: 10px\"><div><div style=\"color: #27374D; font-weight: 500; margin-bottom: 5px\">Input:</div><div style=\"background: #F7F9FA; color: #27374D; font-family: monospace; margin-bottom: 10px; overflow-x: auto; padding: 10px; unicode-bidi: embed; white-space: pre\">{\n",
       "  &quot;module_path&quot;: &quot;chatlab&quot;\n",
       "}</div></div><div><div style=\"color: #27374D; font-weight: 500; margin-bottom: 5px\">Output:</div><div style=\"background: #F7F9FA; color: #27374D; font-family: monospace; margin-bottom: 10px; overflow-x: auto; padding: 10px; unicode-bidi: embed; white-space: pre\">{&#x27;Chat&#x27;: &#x27;Interactive chats inside of computational notebooks, relying on OpenAI\\&#x27;s API.\\n\\nMessages stream in as they are generated by the API.\\n\\nHistory is tracked and can be used to continue a conversation.\\n\\nArgs:\\n    initial_context (str | Message): The initial context for the conversation.\\n\\n    model (str): The model to use for the conversation.\\n\\n    function_registry (FunctionRegistry): The function registry to use for the conversation.\\n\\n    allow_hallucinated_python (bool): Include the built-in Python function when hallucinated by the model.\\n\\nExamples:\\n    &gt;&gt;&gt; from chatlab import Chat, narrate\\n\\n    &gt;&gt;&gt; conversation = Chat(narrate(&quot;You are a large bird&quot;))\\n    &gt;&gt;&gt; conversation.submit(&quot;What are you?&quot;)\\n    I am a large bird.&#x27;, &#x27;ChatlabMetadata&#x27;: &#x27;ChatLab metadata for a function.&#x27;, &#x27;Conversation&#x27;: &quot;Interactive chats inside of computational notebooks, relying on OpenAI&#x27;s API.\\n\\nConversation is deprecated. Use `Chat` instead.&quot;, &#x27;FunctionRegistry&#x27;: &#x27;Captures a function with schema both for sending to OpenAI and for executing locally.&#x27;, &#x27;Markdown&#x27;: &#x27;A class for displaying a markdown string that can be updated in place.\\n\\nThis class provides an easy way to create and update a Markdown string in Jupyter Notebooks. It\\nsupports real-time updates of Markdown content which is useful for emitting ChatGPT suggestions\\nas they are generated.\\n\\nAttributes:\\n    message (str): The Markdown string to display\\n\\nExample:\\n    &gt;&gt;&gt; from chatlab import Markdown\\n    ...\\n    &gt;&gt;&gt; markdown = Markdown()\\n    &gt;&gt;&gt; markdown.append(&quot;Hello&quot;)\\n    &gt;&gt;&gt; markdown.append(&quot; world!&quot;)\\n    &gt;&gt;&gt; markdown.display()\\n    ```markdown\\n    Hello world!\\n    ```\\n    &gt;&gt;&gt; markdown.append(&quot; This is an update!&quot;)\\n    ```markdown\\n    Hello world! This is an update!\\n    ```\\n    &gt;&gt;&gt; def text_generator():\\n    ...    yield &quot; 1&quot;\\n    ...    yield &quot; 2&quot;\\n    ...    yield &quot; 3&quot;\\n    ...\\n    &gt;&gt;&gt; markdown.extend(text_generator())\\n    ```markdown\\n    Hello world! This is an update! 1 2 3\\n    ```&#x27;, &#x27;Session&#x27;: &quot;Interactive chats inside of computational notebooks, relying on OpenAI&#x27;s API.\\n\\nSession is deprecated. Use `Chat` instead.&quot;, &#x27;ai&#x27;: &quot;Create a message from the assistant.\\n\\nArgs:\\n    content: The content of the message.\\n\\nReturns:\\n    A dictionary representing the assistant&#x27;s message.&quot;, &#x27;assistant&#x27;: &quot;Create a message from the assistant.\\n\\nArgs:\\n    content: The content of the message.\\n\\nReturns:\\n    A dictionary representing the assistant&#x27;s message.&quot;, &#x27;assistant_function_call&#x27;: &#x27;Create a function call message from the assistant.\\n\\nArgs:\\n    name: The name of the function to call.\\n    arguments: Optional; The arguments to pass to the function.\\n\\nReturns:\\n    A dictionary representing a function call message from the assistant.&#x27;, &#x27;deprecated&#x27;: &#x27;Decorate a function to signify its deprecation\\n\\nThis function wraps a method that will soon be removed and does two things:\\n    * The docstring of the method will be modified to include a notice\\n      about deprecation, e.g., &quot;Deprecated since 0.9.11. Use foo instead.&quot;\\n    * Raises a :class:`~deprecation.DeprecatedWarning`\\n      via the :mod:`warnings` module, which is a subclass of the built-in\\n      :class:`DeprecationWarning`. Note that built-in\\n      :class:`DeprecationWarning`s are ignored by default, so for users\\n      to be informed of said warnings they will need to enable them--see\\n      the :mod:`warnings` module documentation for more details.\\n\\n:param deprecated_in: The version at which the decorated method is\\n                      considered deprecated. This will usually be the\\n                      next version to be released when the decorator is\\n                      added. The default is **None**, which effectively\\n                      means immediate deprecation. If this is not\\n                      specified, then the `removed_in` and\\n                      `current_version` arguments are ignored.\\n:param removed_in: The version or :class:`datetime.date` when the decorated\\n                   method will be removed. The default is **None**,\\n                   specifying that the function is not currently planned\\n                   to be removed.\\n                   Note: This parameter cannot be set to a value if\\n                   `deprecated_in=None`.\\n:param current_version: The source of version information for the\\n                        currently running code. This will usually be\\n                        a `__version__` attribute on your library.\\n                        The default is `None`.\\n                        When `current_version=None` the automation to\\n                        determine if the wrapped function is actually\\n                        in a period of deprecation or time for removal\\n                        does not work, causing a\\n                        :class:`~deprecation.DeprecatedWarning`\\n                        to be raised in all cases.\\n:param details: Extra details to be added to the method docstring and\\n                warning. For example, the details may point users to\\n                a replacement method, such as &quot;Use the foo_bar\\n                method instead&quot;. By default there are no details.&#x27;, &#x27;expose_exception_to_llm&#x27;: &#x27;Expose exceptions from calling the function to the LLM.\\n\\nArgs:\\n    func (Callable): The function to annotate.\\n\\nExamples:\\n    &gt;&gt;&gt; import chatlab\\n    &gt;&gt;&gt; from chatlab.decorators import expose_exception_to_llm\\n\\n    &gt;&gt;&gt; @expose_exception_to_llm\\n    ... def roll_die():\\n    ...     roll = random.randint(1, 6)\\n    ...     if roll == 1:\\n    ...         raise Exception(&quot;The die rolled a 1!&quot;)\\n    ...     return roll\\n    &gt;&gt;&gt; conversation = chatlab.Chat()\\n    &gt;&gt;&gt; conversation.submit(&quot;Roll the dice!&quot;)\\n    The die rolled a 1!&#x27;, &#x27;function_result&#x27;: &#x27;Create a function result message.\\n\\nArgs:\\n    name: The name of the function.\\n    content: The content of the message.\\n\\nReturns:\\n    A dictionary representing a function result message.&#x27;, &#x27;human&#x27;: &quot;Create a message from the user.\\n\\nArgs:\\n    content: The content of the message.\\n\\nReturns:\\n    A dictionary representing the user&#x27;s message.&quot;, &#x27;narrate&#x27;: &quot;Create a message from the system.\\n\\nArgs:\\n    content: The content of the message.\\n\\nReturns:\\n    A dictionary representing the system&#x27;s message.&quot;, &#x27;system&#x27;: &quot;Create a message from the system.\\n\\nArgs:\\n    content: The content of the message.\\n\\nReturns:\\n    A dictionary representing the system&#x27;s message.&quot;, &#x27;user&#x27;: &quot;Create a message from the user.\\n\\nArgs:\\n    content: The content of the message.\\n\\nReturns:\\n    A dictionary representing the user&#x27;s message.&quot;}</div></div></div></details></div>"
      ],
      "text/plain": [
       "<chatlab.display.ChatFunctionCall at 0x13027cfd0>"
      ]
     },
     "metadata": {},
     "output_type": "display_data"
    },
    {
     "data": {
      "text/markdown": [
       "The `Chat` class is defined as part of the `chatlab` package. \n",
       "\n",
       "## Summary\n",
       "\n",
       "The `Chat` class provides an interface for interactive chats inside computational notebooks, leveraging OpenAI's API. It is designed to sequentially process and generate messages in a conversation, maintaining a history of the conversation and allowing the conversation to be continued from previous interactions.\n",
       "\n",
       "A `Chat` instance can be initialized with an initial context, which sets the tone or scenario for the conversation. This can be a string message or a `Message` object.\n",
       "\n",
       "Multiple parameters can be specified during the initialization of a `Chat` object:\n",
       "- `initial_context`: The initial context for the conversation.\n",
       "- `model`: The model to use for the conversation.\n",
       "- `function_registry`: The `FunctionRegistry` to use for the conversation.\n",
       "- `allow_hallucinated_python`: Include the built-in Python function when hallucinated by the model.\n",
       "\n",
       "## Example Usage\n",
       "\n",
       "```python\n",
       "from chatlab import Chat, narrate\n",
       "\n",
       "conversation = Chat(narrate(\"You are a large bird\"))\n",
       "conversation.submit(\"What are you?\")\n",
       "# Response: \"I am a large bird.\"\n",
       "```\n",
       "\n",
       "## Documentation in `website/docs/api`\n",
       "\n",
       "The `website/docs/api` directory seems to contain two relevant files: \n",
       "- `chat.mdx`: Discusses basic initialization and usage of the `Chat` class.\n",
       "- `function-registry.mdx`: Describes how to register functions to a `FunctionRegistry` instance. This is relevant as a `FunctionRegistry` object can be linked to a `Chat` instance, allowing specific functions to be executed within the chat.\n",
       "\n",
       "These documentations can be further refined and updated to include more information about the `Chat` class, especially details about its methods and advanced usage.\n",
       "\n",
       "## Preparation for Documentation\n",
       "\n",
       "Investigate the existing `Chat` documentation in `website/docs/api/chat.mdx` to understand what has already been written. You should also take a look at the other documents in `website/docs` to familiarize yourself with the narrative and structure of the existing documentation.\n",
       "\n",
       "After studying the documentation, determine what aspects of the `Chat` class are not covered or need further explanation. When writing new documentation or enhancing existing sections, ensure that the information is accurate, clear, and easy to understand, taking into account the potential audience's level of familiarity with the package."
      ],
      "text/plain": [
       "The `Chat` class is defined as part of the `chatlab` package. \n",
       "\n",
       "## Summary\n",
       "\n",
       "The `Chat` class provides an interface for interactive chats inside computational notebooks, leveraging OpenAI's API. It is designed to sequentially process and generate messages in a conversation, maintaining a history of the conversation and allowing the conversation to be continued from previous interactions.\n",
       "\n",
       "A `Chat` instance can be initialized with an initial context, which sets the tone or scenario for the conversation. This can be a string message or a `Message` object.\n",
       "\n",
       "Multiple parameters can be specified during the initialization of a `Chat` object:\n",
       "- `initial_context`: The initial context for the conversation.\n",
       "- `model`: The model to use for the conversation.\n",
       "- `function_registry`: The `FunctionRegistry` to use for the conversation.\n",
       "- `allow_hallucinated_python`: Include the built-in Python function when hallucinated by the model.\n",
       "\n",
       "## Example Usage\n",
       "\n",
       "```python\n",
       "from chatlab import Chat, narrate\n",
       "\n",
       "conversation = Chat(narrate(\"You are a large bird\"))\n",
       "conversation.submit(\"What are you?\")\n",
       "# Response: \"I am a large bird.\"\n",
       "```\n",
       "\n",
       "## Documentation in `website/docs/api`\n",
       "\n",
       "The `website/docs/api` directory seems to contain two relevant files: \n",
       "- `chat.mdx`: Discusses basic initialization and usage of the `Chat` class.\n",
       "- `function-registry.mdx`: Describes how to register functions to a `FunctionRegistry` instance. This is relevant as a `FunctionRegistry` object can be linked to a `Chat` instance, allowing specific functions to be executed within the chat.\n",
       "\n",
       "These documentations can be further refined and updated to include more information about the `Chat` class, especially details about its methods and advanced usage.\n",
       "\n",
       "## Preparation for Documentation\n",
       "\n",
       "Investigate the existing `Chat` documentation in `website/docs/api/chat.mdx` to understand what has already been written. You should also take a look at the other documents in `website/docs` to familiarize yourself with the narrative and structure of the existing documentation.\n",
       "\n",
       "After studying the documentation, determine what aspects of the `Chat` class are not covered or need further explanation. When writing new documentation or enhancing existing sections, ensure that the information is accurate, clear, and easy to understand, taking into account the potential audience's level of familiarity with the package."
      ]
     },
     "metadata": {
      "text/markdown": {
       "chatlab": {
        "default": true
       }
      }
     },
     "output_type": "display_data"
    }
   ],
   "source": [
    "await chat(\n",
    "    \"\"\"Please run `help(chatlab)` as well as `dir(chatlab)` to learn more about the package. After that, look to see what docusaurus docs are already written for `website`, particularly `website/docs/api`.\n",
    "           \n",
    "Note: Session and Conversation are deprecated. They're only exported to maintain backwards compatibility.\n",
    "           \n",
    "           \n",
    "Explore how we could document the `Chat` class. To see more of what's been written in a narrative form, see the other docs in `website/docs`.\"\"\"\n",
    ")"
   ]
  },
  {
   "cell_type": "code",
   "execution_count": 15,
   "id": "e7fbd198-4577-4944-b86f-3dba7d674b7c",
   "metadata": {},
   "outputs": [
    {
     "data": {
      "text/markdown": [
       "We can create a documentation generation process that extracts the docstrings and parameters from the actual source code and formats them into Docusaurus-friendly Markdown. Below are the general steps we can take:\n",
       "\n",
       "1. **Extract Information from Source Code**: Using a tool like `pydoc` or `sphinx`, we can extract the docstrings and parameters from the Chat class in the `chatlab` module. Python's own `inspect` module can also be used to get method definitions, arguments, and their default values.\n",
       "\n",
       "2. **Format Information into Markdown**: The extracted information should then be formatted into GitHub Flavored Markdown (which is what Docusaurus uses).\n",
       "\n",
       "3. **Integrate into Existing Docusaurus Structure**: The formatted markdown can be incorporated into the existing Docusaurus Markdown files in `website/docs`.\n",
       "\n",
       "Keep in mind that the above process can be automated using a script that extracts information from the Python code, formats it to Markdown, and updates the Docusaurus Markdown files. This script can be triggered during build time of the documentation, ensuring up-to-date documentation with each build.\n",
       "\n",
       "More specifically, the script can look something like this (in Python):\n",
       "\n",
       "```python\n",
       "import inspect\n",
       "from chatlab import Chat\n",
       "\n",
       "def extract_docstrings_and_params(cls):\n",
       "    # Extract class docstring\n",
       "    cls_doc = inspect.getdoc(cls) or \"\"\n",
       "\n",
       "    # Extract methods docstrings and parameters\n",
       "    methods_doc = {}\n",
       "    for method_name, method in inspect.getmembers(cls, predicate=inspect.isfunction):\n",
       "        methods_doc[method_name] = {\n",
       "            \"docstring\": inspect.getdoc(method),\n",
       "            \"params\": str(inspect.signature(method)),\n",
       "        }\n",
       "\n",
       "    return cls_doc, methods_doc\n",
       "\n",
       "def format_to_markdown(cls_name, cls_doc, methods_doc):\n",
       "    md = f\"# {cls_name}\\n\\n{cls_doc}\\n\\n## Methods\\n\\n\"\n",
       "    for method, details in methods_doc.items():\n",
       "        md += f\"### {method}{details['params']}\\n{details['docstring']}\\n\\n\"\n",
       "    return md\n",
       "\n",
       "def write_to_file(md, filename=\"chat.mdx\"):\n",
       "    with open(f\"website/docs/api/{filename}\", \"w\") as f:\n",
       "        f.write(md)\n",
       "\n",
       "# Extract and write to file\n",
       "cls_doc, methods_doc = extract_docstrings_and_params(Chat)\n",
       "md = format_to_markdown(\"Chat\", cls_doc, methods_doc)\n",
       "write_to_file(md)\n",
       "```\n",
       "\n",
       "By doing this, every time the documentation site is built, it will have the most current information from the source code. However, this solution might not always preserve manually written explanations and tutorials. We might need to decide some parts of the docs to be automatically generated (like API references) and some parts to be manually written (like guides and tutorials)."
      ],
      "text/plain": [
       "We can create a documentation generation process that extracts the docstrings and parameters from the actual source code and formats them into Docusaurus-friendly Markdown. Below are the general steps we can take:\n",
       "\n",
       "1. **Extract Information from Source Code**: Using a tool like `pydoc` or `sphinx`, we can extract the docstrings and parameters from the Chat class in the `chatlab` module. Python's own `inspect` module can also be used to get method definitions, arguments, and their default values.\n",
       "\n",
       "2. **Format Information into Markdown**: The extracted information should then be formatted into GitHub Flavored Markdown (which is what Docusaurus uses).\n",
       "\n",
       "3. **Integrate into Existing Docusaurus Structure**: The formatted markdown can be incorporated into the existing Docusaurus Markdown files in `website/docs`.\n",
       "\n",
       "Keep in mind that the above process can be automated using a script that extracts information from the Python code, formats it to Markdown, and updates the Docusaurus Markdown files. This script can be triggered during build time of the documentation, ensuring up-to-date documentation with each build.\n",
       "\n",
       "More specifically, the script can look something like this (in Python):\n",
       "\n",
       "```python\n",
       "import inspect\n",
       "from chatlab import Chat\n",
       "\n",
       "def extract_docstrings_and_params(cls):\n",
       "    # Extract class docstring\n",
       "    cls_doc = inspect.getdoc(cls) or \"\"\n",
       "\n",
       "    # Extract methods docstrings and parameters\n",
       "    methods_doc = {}\n",
       "    for method_name, method in inspect.getmembers(cls, predicate=inspect.isfunction):\n",
       "        methods_doc[method_name] = {\n",
       "            \"docstring\": inspect.getdoc(method),\n",
       "            \"params\": str(inspect.signature(method)),\n",
       "        }\n",
       "\n",
       "    return cls_doc, methods_doc\n",
       "\n",
       "def format_to_markdown(cls_name, cls_doc, methods_doc):\n",
       "    md = f\"# {cls_name}\\n\\n{cls_doc}\\n\\n## Methods\\n\\n\"\n",
       "    for method, details in methods_doc.items():\n",
       "        md += f\"### {method}{details['params']}\\n{details['docstring']}\\n\\n\"\n",
       "    return md\n",
       "\n",
       "def write_to_file(md, filename=\"chat.mdx\"):\n",
       "    with open(f\"website/docs/api/{filename}\", \"w\") as f:\n",
       "        f.write(md)\n",
       "\n",
       "# Extract and write to file\n",
       "cls_doc, methods_doc = extract_docstrings_and_params(Chat)\n",
       "md = format_to_markdown(\"Chat\", cls_doc, methods_doc)\n",
       "write_to_file(md)\n",
       "```\n",
       "\n",
       "By doing this, every time the documentation site is built, it will have the most current information from the source code. However, this solution might not always preserve manually written explanations and tutorials. We might need to decide some parts of the docs to be automatically generated (like API references) and some parts to be manually written (like guides and tutorials)."
      ]
     },
     "metadata": {
      "text/markdown": {
       "chatlab": {
        "default": true
       }
      }
     },
     "output_type": "display_data"
    }
   ],
   "source": [
    "await chat(\"How could we integrate what's in the actual source (docstrings, parameters) into the docusaurus docs?\")"
   ]
  },
  {
   "cell_type": "code",
   "execution_count": 17,
   "id": "c8893a22",
   "metadata": {},
   "outputs": [
    {
     "data": {
      "text/markdown": [
       "Of course! Here's how we can accomplish that:\n",
       "\n",
       "1. **Generate JSON Artifacts**: Write a Python script that uses the `inspect` module to extract information from the `chatlab` module. This information includes the docstrings, methods, parameters, arguments, and their default values for the `Chat` class. Then serialize this information into a JSON file. This might look something like:\n",
       "\n",
       "    ```python\n",
       "    import inspect\n",
       "    import json\n",
       "    from chatlab import Chat\n",
       "\n",
       "    def extract_info(cls):\n",
       "        # Extract class docstring\n",
       "        cls_doc = inspect.getdoc(cls) or \"\"\n",
       "\n",
       "        # Extract methods, docstrings, and parameters\n",
       "        methods_info = {}\n",
       "        for name, method in inspect.getmembers(cls, predicate=inspect.isfunction):\n",
       "            methods_info[name] = {\n",
       "                \"docstring\": inspect.getdoc(method),\n",
       "                \"params\": str(inspect.signature(method)),\n",
       "            }\n",
       "\n",
       "        # Return as a dict\n",
       "        return {\"class_docstring\": cls_doc, \"methods\": methods_info}\n",
       "\n",
       "    # Extract info and save to JSON\n",
       "    info = extract_info(Chat)\n",
       "    with open(\"chat_info.json\", \"w\") as f:\n",
       "        json.dump(info, f)\n",
       "    ```\n",
       "\n",
       "2. **Import JSON Artifacts into Docusaurus**: Now that we have our JSON artifacts, we can import them into the Docusaurus documentation at build time. Docusaurus relies on MDX, which means we can import JSON directly into our Markdown files and render components dynamically based on that data.\n",
       "\n",
       "    In the `website/docs/api/chat.mdx` file, import the JSON file and use its data:\n",
       "\n",
       "    ```mdx\n",
       "    import chatInfo from '@site/static/path/to/chat_info.json';\n",
       "\n",
       "    # Chat Class\n",
       "\n",
       "    {chatInfo.class_docstring}\n",
       "\n",
       "    ## Methods\n",
       "\n",
       "    {Object.entries(chatInfo.methods).map(([method, details]) => (\n",
       "        <div key={method}>\n",
       "            <h3>{method}{details.params}</h3>\n",
       "            <p>{details.docstring}</p>\n",
       "        </div>\n",
       "    ))}\n",
       "    ```\n",
       "    \n",
       "    Note: The actual path to `chat_info.json` will depend on where you store the JSON files in your project.\n",
       "\n",
       "This approach lets us keep the codebase clean with minimal duplicative work and abstracts the inspection logic away from the documentation. It also allows us to use the power of JS/JSX to map over the methods info and render the data as needed."
      ],
      "text/plain": [
       "Of course! Here's how we can accomplish that:\n",
       "\n",
       "1. **Generate JSON Artifacts**: Write a Python script that uses the `inspect` module to extract information from the `chatlab` module. This information includes the docstrings, methods, parameters, arguments, and their default values for the `Chat` class. Then serialize this information into a JSON file. This might look something like:\n",
       "\n",
       "    ```python\n",
       "    import inspect\n",
       "    import json\n",
       "    from chatlab import Chat\n",
       "\n",
       "    def extract_info(cls):\n",
       "        # Extract class docstring\n",
       "        cls_doc = inspect.getdoc(cls) or \"\"\n",
       "\n",
       "        # Extract methods, docstrings, and parameters\n",
       "        methods_info = {}\n",
       "        for name, method in inspect.getmembers(cls, predicate=inspect.isfunction):\n",
       "            methods_info[name] = {\n",
       "                \"docstring\": inspect.getdoc(method),\n",
       "                \"params\": str(inspect.signature(method)),\n",
       "            }\n",
       "\n",
       "        # Return as a dict\n",
       "        return {\"class_docstring\": cls_doc, \"methods\": methods_info}\n",
       "\n",
       "    # Extract info and save to JSON\n",
       "    info = extract_info(Chat)\n",
       "    with open(\"chat_info.json\", \"w\") as f:\n",
       "        json.dump(info, f)\n",
       "    ```\n",
       "\n",
       "2. **Import JSON Artifacts into Docusaurus**: Now that we have our JSON artifacts, we can import them into the Docusaurus documentation at build time. Docusaurus relies on MDX, which means we can import JSON directly into our Markdown files and render components dynamically based on that data.\n",
       "\n",
       "    In the `website/docs/api/chat.mdx` file, import the JSON file and use its data:\n",
       "\n",
       "    ```mdx\n",
       "    import chatInfo from '@site/static/path/to/chat_info.json';\n",
       "\n",
       "    # Chat Class\n",
       "\n",
       "    {chatInfo.class_docstring}\n",
       "\n",
       "    ## Methods\n",
       "\n",
       "    {Object.entries(chatInfo.methods).map(([method, details]) => (\n",
       "        <div key={method}>\n",
       "            <h3>{method}{details.params}</h3>\n",
       "            <p>{details.docstring}</p>\n",
       "        </div>\n",
       "    ))}\n",
       "    ```\n",
       "    \n",
       "    Note: The actual path to `chat_info.json` will depend on where you store the JSON files in your project.\n",
       "\n",
       "This approach lets us keep the codebase clean with minimal duplicative work and abstracts the inspection logic away from the documentation. It also allows us to use the power of JS/JSX to map over the methods info and render the data as needed."
      ]
     },
     "metadata": {
      "text/markdown": {
       "chatlab": {
        "default": true
       }
      }
     },
     "output_type": "display_data"
    }
   ],
   "source": [
    "await chat(\n",
    "    \"Help me outline an alternative approach where we generate JSON artifacts via inspect that we can pull in via MDX.\"\n",
    ")"
   ]
  },
  {
   "cell_type": "code",
   "execution_count": 26,
   "id": "ed69d7aa",
   "metadata": {},
   "outputs": [
    {
     "data": {
      "application/vdom.v1+json": {
       "attributes": {},
       "children": [
        {
         "attributes": {},
         "children": [
          ".chatlab-chat-details summary > *  { display: inline; color: #27374D; }"
         ],
         "tagName": "style"
        },
        {
         "attributes": {
          "className": "chatlab-chat-details",
          "style": {
           "background": "#DDE6ED",
           "borderRadius": "5px",
           "padding": ".5rem 1rem"
          }
         },
         "children": [
          {
           "attributes": {
            "style": {
             "color": "#27374D",
             "cursor": "pointer"
            }
           },
           "children": [
            {
             "attributes": {
              "style": {
               "color": "#9DB2BF",
               "paddingLeft": "5px",
               "paddingRight": "5px"
              }
             },
             "children": [
              "𝑓"
             ],
             "tagName": "span"
            },
            {
             "attributes": {
              "style": {
               "color": "#27374D",
               "paddingLeft": "5px",
               "paddingRight": "5px"
              }
             },
             "children": [
              "Errored"
             ],
             "tagName": "span"
            },
            {
             "attributes": {
              "style": {
               "fontFamily": "monospace",
               "unicodeBidi": "embed",
               "whiteSpace": "pre"
              }
             },
             "children": [
              "write_file"
             ],
             "tagName": "span"
            },
            {
             "attributes": {
              "style": {
               "fontFamily": "monospace",
               "unicodeBidi": "embed",
               "whiteSpace": "pre"
              }
             },
             "children": [
              ""
             ],
             "tagName": "span"
            }
           ],
           "tagName": "summary"
          },
          {
           "attributes": {
            "style": {
             "marginLeft": "10px",
             "marginTop": "10px"
            }
           },
           "children": [
            {
             "attributes": {},
             "children": [
              {
               "attributes": {
                "style": {
                 "color": "#27374D",
                 "fontWeight": "500",
                 "marginBottom": "5px"
                }
               },
               "children": [
                "Input:"
               ],
               "tagName": "div"
              },
              {
               "attributes": {
                "style": {
                 "background": "#F7F9FA",
                 "color": "#27374D",
                 "fontFamily": "monospace",
                 "marginBottom": "10px",
                 "overflowX": "auto",
                 "padding": "10px",
                 "unicodeBidi": "embed",
                 "whiteSpace": "pre"
                }
               },
               "children": [
                "{\n  \"file_path\": \"DOC_PLAN.md\",\n  \"content\": \"# Documentation Plan for Chatlab\n\n## Overview\nTo provide the best developer experience for Chatlab users, our goal is to create comprehensive, up-to-date, and easily accessible documentation. To achieve this, we will leverage a blend of automated and manual processes, targeting both module-level API reference docs and narrative guides for effective usage.\n\n## Plan Outline\n1. **API Reference Documentation Generation**: Implement a system that uses Python's `inspect` module to automate the generation of API reference documentation. The system will extract docstrings, methods, parameters, and default values from the `Chat` class and other relevant classes/functions in the `chatlab` module. The extracted data will be serialized into a JSON file.\n\n2. **Integration into Docusaurus**: Leverage the power of Docusaurus's MDX feature to import the generated JSON file directly into the Markdown documentation files. The documentation for each method/function will be rendered dynamically based on the imported data.\n\n3. **Existing Documentation Review**: Review the existing narrative documentation in the `website/docs` directory. Identify any deficiencies, outdated information, or areas for potential improvement.\n\n4. **Manual Creation of Narrative Guides**: Develop narrative guides and tutorials that cover common use-cases, provide sample code, and explain more complex concepts in an easy-to-understand manner. \n\n5. **Continued Updates and Maintenance**: Ensure the process in step 1 is triggered each time the documentation site is built. This ensures that API reference documentation stays up-to-date with any changes in the source code. Regularly review and update narrative guides based on user feedback and changes in package functionality.\"\n\n}"
               ],
               "tagName": "div"
              }
             ],
             "tagName": "div"
            },
            {
             "attributes": {},
             "children": [],
             "tagName": "div"
            }
           ],
           "tagName": "div"
          }
         ],
         "tagName": "details"
        }
       ],
       "tagName": "div"
      },
      "text/html": [
       "<div><style>.chatlab-chat-details summary &gt; *  { display: inline; color: #27374D; }</style><details style=\"background: #DDE6ED; border-radius: 5px; padding: .5rem 1rem\" className=\"chatlab-chat-details\"><summary style=\"color: #27374D; cursor: pointer\"><span style=\"color: #9DB2BF; padding-left: 5px; padding-right: 5px\">𝑓</span><span style=\"color: #27374D; padding-left: 5px; padding-right: 5px\">Errored</span><span style=\"font-family: monospace; unicode-bidi: embed; white-space: pre\">write_file</span><span style=\"font-family: monospace; unicode-bidi: embed; white-space: pre\"></span></summary><div style=\"margin-left: 10px; margin-top: 10px\"><div><div style=\"color: #27374D; font-weight: 500; margin-bottom: 5px\">Input:</div><div style=\"background: #F7F9FA; color: #27374D; font-family: monospace; margin-bottom: 10px; overflow-x: auto; padding: 10px; unicode-bidi: embed; white-space: pre\">{\n",
       "  &quot;file_path&quot;: &quot;DOC_PLAN.md&quot;,\n",
       "  &quot;content&quot;: &quot;# Documentation Plan for Chatlab\n",
       "\n",
       "## Overview\n",
       "To provide the best developer experience for Chatlab users, our goal is to create comprehensive, up-to-date, and easily accessible documentation. To achieve this, we will leverage a blend of automated and manual processes, targeting both module-level API reference docs and narrative guides for effective usage.\n",
       "\n",
       "## Plan Outline\n",
       "1. **API Reference Documentation Generation**: Implement a system that uses Python&#x27;s `inspect` module to automate the generation of API reference documentation. The system will extract docstrings, methods, parameters, and default values from the `Chat` class and other relevant classes/functions in the `chatlab` module. The extracted data will be serialized into a JSON file.\n",
       "\n",
       "2. **Integration into Docusaurus**: Leverage the power of Docusaurus&#x27;s MDX feature to import the generated JSON file directly into the Markdown documentation files. The documentation for each method/function will be rendered dynamically based on the imported data.\n",
       "\n",
       "3. **Existing Documentation Review**: Review the existing narrative documentation in the `website/docs` directory. Identify any deficiencies, outdated information, or areas for potential improvement.\n",
       "\n",
       "4. **Manual Creation of Narrative Guides**: Develop narrative guides and tutorials that cover common use-cases, provide sample code, and explain more complex concepts in an easy-to-understand manner. \n",
       "\n",
       "5. **Continued Updates and Maintenance**: Ensure the process in step 1 is triggered each time the documentation site is built. This ensures that API reference documentation stays up-to-date with any changes in the source code. Regularly review and update narrative guides based on user feedback and changes in package functionality.&quot;\n",
       "\n",
       "}</div></div><div></div></div></details></div>"
      ],
      "text/plain": [
       "<chatlab.display.ChatFunctionCall at 0x130284c50>"
      ]
     },
     "metadata": {},
     "output_type": "display_data"
    },
    {
     "data": {
      "application/vdom.v1+json": {
       "attributes": {},
       "children": [
        {
         "attributes": {},
         "children": [
          ".chatlab-chat-details summary > *  { display: inline; color: #27374D; }"
         ],
         "tagName": "style"
        },
        {
         "attributes": {
          "className": "chatlab-chat-details",
          "style": {
           "background": "#DDE6ED",
           "borderRadius": "5px",
           "padding": ".5rem 1rem"
          }
         },
         "children": [
          {
           "attributes": {
            "style": {
             "color": "#27374D",
             "cursor": "pointer"
            }
           },
           "children": [
            {
             "attributes": {
              "style": {
               "color": "#9DB2BF",
               "paddingLeft": "5px",
               "paddingRight": "5px"
              }
             },
             "children": [
              "𝑓"
             ],
             "tagName": "span"
            },
            {
             "attributes": {
              "style": {
               "color": "#27374D",
               "paddingLeft": "5px",
               "paddingRight": "5px"
              }
             },
             "children": [
              "Ran"
             ],
             "tagName": "span"
            },
            {
             "attributes": {
              "style": {
               "fontFamily": "monospace",
               "unicodeBidi": "embed",
               "whiteSpace": "pre"
              }
             },
             "children": [
              "write_file"
             ],
             "tagName": "span"
            },
            {
             "attributes": {
              "style": {
               "fontFamily": "monospace",
               "unicodeBidi": "embed",
               "whiteSpace": "pre"
              }
             },
             "children": [
              ""
             ],
             "tagName": "span"
            }
           ],
           "tagName": "summary"
          },
          {
           "attributes": {
            "style": {
             "marginLeft": "10px",
             "marginTop": "10px"
            }
           },
           "children": [
            {
             "attributes": {},
             "children": [
              {
               "attributes": {
                "style": {
                 "color": "#27374D",
                 "fontWeight": "500",
                 "marginBottom": "5px"
                }
               },
               "children": [
                "Input:"
               ],
               "tagName": "div"
              },
              {
               "attributes": {
                "style": {
                 "background": "#F7F9FA",
                 "color": "#27374D",
                 "fontFamily": "monospace",
                 "marginBottom": "10px",
                 "overflowX": "auto",
                 "padding": "10px",
                 "unicodeBidi": "embed",
                 "whiteSpace": "pre"
                }
               },
               "children": [
                "{\n  \"file_path\": \"DOC_PLAN.md\",\n  \"content\": \"# Documentation Plan for Chatlab\\n\\n## Overview\\nTo provide the best developer experience for Chatlab users, our goal is to create comprehensive, up-to-date, and easily accessible documentation. To achieve this, we will leverage a blend of automated and manual processes, targeting both module-level API reference docs and narrative guides for effective usage.\\n\\n## Plan Outline\\n1. **API Reference Documentation Generation**: Implement a system that uses Python's `inspect` module to automate the generation of API reference documentation. The system will extract docstrings, methods, parameters, and default values from the `Chat` class and other relevant classes/functions in the `chatlab` module. The extracted data will be serialized into a JSON file.\\n\\n2. **Integration into Docusaurus**: Leverage the power of Docusaurus's MDX feature to import the generated JSON file directly into the Markdown documentation files. The documentation for each method/function will be rendered dynamically based on the imported data.\\n\\n3. **Existing Documentation Review**: Review the existing narrative documentation in the `website/docs` directory. Identify any deficiencies, outdated information, or areas for potential improvement.\\n\\n4. **Manual Creation of Narrative Guides**: Develop narrative guides and tutorials that cover common use-cases, provide sample code, and explain more complex concepts in an easy-to-understand manner.\\n\\n5. **Continued Updates and Maintenance**: Ensure the process in step 1 is triggered each time the documentation site is built. This ensures that API reference documentation stays up-to-date with any changes in the source code. Regularly review and update narrative guides based on user feedback and changes in package functionality.\"\n}"
               ],
               "tagName": "div"
              }
             ],
             "tagName": "div"
            },
            {
             "attributes": {},
             "children": [
              {
               "attributes": {
                "style": {
                 "color": "#27374D",
                 "fontWeight": "500",
                 "marginBottom": "5px"
                }
               },
               "children": [
                "Output:"
               ],
               "tagName": "div"
              },
              {
               "attributes": {
                "style": {
                 "background": "#F7F9FA",
                 "color": "#27374D",
                 "fontFamily": "monospace",
                 "marginBottom": "10px",
                 "overflowX": "auto",
                 "padding": "10px",
                 "unicodeBidi": "embed",
                 "whiteSpace": "pre"
                }
               },
               "children": [
                "None"
               ],
               "tagName": "div"
              }
             ],
             "tagName": "div"
            }
           ],
           "tagName": "div"
          }
         ],
         "tagName": "details"
        }
       ],
       "tagName": "div"
      },
      "text/html": [
       "<div><style>.chatlab-chat-details summary &gt; *  { display: inline; color: #27374D; }</style><details style=\"background: #DDE6ED; border-radius: 5px; padding: .5rem 1rem\" className=\"chatlab-chat-details\"><summary style=\"color: #27374D; cursor: pointer\"><span style=\"color: #9DB2BF; padding-left: 5px; padding-right: 5px\">𝑓</span><span style=\"color: #27374D; padding-left: 5px; padding-right: 5px\">Ran</span><span style=\"font-family: monospace; unicode-bidi: embed; white-space: pre\">write_file</span><span style=\"font-family: monospace; unicode-bidi: embed; white-space: pre\"></span></summary><div style=\"margin-left: 10px; margin-top: 10px\"><div><div style=\"color: #27374D; font-weight: 500; margin-bottom: 5px\">Input:</div><div style=\"background: #F7F9FA; color: #27374D; font-family: monospace; margin-bottom: 10px; overflow-x: auto; padding: 10px; unicode-bidi: embed; white-space: pre\">{\n",
       "  &quot;file_path&quot;: &quot;DOC_PLAN.md&quot;,\n",
       "  &quot;content&quot;: &quot;# Documentation Plan for Chatlab\\n\\n## Overview\\nTo provide the best developer experience for Chatlab users, our goal is to create comprehensive, up-to-date, and easily accessible documentation. To achieve this, we will leverage a blend of automated and manual processes, targeting both module-level API reference docs and narrative guides for effective usage.\\n\\n## Plan Outline\\n1. **API Reference Documentation Generation**: Implement a system that uses Python&#x27;s `inspect` module to automate the generation of API reference documentation. The system will extract docstrings, methods, parameters, and default values from the `Chat` class and other relevant classes/functions in the `chatlab` module. The extracted data will be serialized into a JSON file.\\n\\n2. **Integration into Docusaurus**: Leverage the power of Docusaurus&#x27;s MDX feature to import the generated JSON file directly into the Markdown documentation files. The documentation for each method/function will be rendered dynamically based on the imported data.\\n\\n3. **Existing Documentation Review**: Review the existing narrative documentation in the `website/docs` directory. Identify any deficiencies, outdated information, or areas for potential improvement.\\n\\n4. **Manual Creation of Narrative Guides**: Develop narrative guides and tutorials that cover common use-cases, provide sample code, and explain more complex concepts in an easy-to-understand manner.\\n\\n5. **Continued Updates and Maintenance**: Ensure the process in step 1 is triggered each time the documentation site is built. This ensures that API reference documentation stays up-to-date with any changes in the source code. Regularly review and update narrative guides based on user feedback and changes in package functionality.&quot;\n",
       "}</div></div><div><div style=\"color: #27374D; font-weight: 500; margin-bottom: 5px\">Output:</div><div style=\"background: #F7F9FA; color: #27374D; font-family: monospace; margin-bottom: 10px; overflow-x: auto; padding: 10px; unicode-bidi: embed; white-space: pre\">None</div></div></div></details></div>"
      ],
      "text/plain": [
       "<chatlab.display.ChatFunctionCall at 0x13023a490>"
      ]
     },
     "metadata": {},
     "output_type": "display_data"
    },
    {
     "data": {
      "text/markdown": [
       "I've created a new `DOC_PLAN.md` file summarizing the documentation project for Chatlab."
      ],
      "text/plain": [
       "I've created a new `DOC_PLAN.md` file summarizing the documentation project for Chatlab."
      ]
     },
     "metadata": {
      "text/markdown": {
       "chatlab": {
        "default": true
       }
      }
     },
     "output_type": "display_data"
    }
   ],
   "source": [
    "await chat(\"Please summarize the project into a new `DOC_PLAN.md` file.\")"
   ]
  },
  {
   "cell_type": "code",
   "execution_count": 27,
   "id": "b5232a93",
   "metadata": {},
   "outputs": [
    {
     "data": {
      "application/vdom.v1+json": {
       "attributes": {},
       "children": [
        {
         "attributes": {},
         "children": [
          ".chatlab-chat-details summary > *  { display: inline; color: #27374D; }"
         ],
         "tagName": "style"
        },
        {
         "attributes": {
          "className": "chatlab-chat-details",
          "style": {
           "background": "#DDE6ED",
           "borderRadius": "5px",
           "padding": ".5rem 1rem"
          }
         },
         "children": [
          {
           "attributes": {
            "style": {
             "color": "#27374D",
             "cursor": "pointer"
            }
           },
           "children": [
            {
             "attributes": {
              "style": {
               "color": "#9DB2BF",
               "paddingLeft": "5px",
               "paddingRight": "5px"
              }
             },
             "children": [
              "𝑓"
             ],
             "tagName": "span"
            },
            {
             "attributes": {
              "style": {
               "color": "#27374D",
               "paddingLeft": "5px",
               "paddingRight": "5px"
              }
             },
             "children": [
              "Ran"
             ],
             "tagName": "span"
            },
            {
             "attributes": {
              "style": {
               "fontFamily": "monospace",
               "unicodeBidi": "embed",
               "whiteSpace": "pre"
              }
             },
             "children": [
              "write_file"
             ],
             "tagName": "span"
            },
            {
             "attributes": {
              "style": {
               "fontFamily": "monospace",
               "unicodeBidi": "embed",
               "whiteSpace": "pre"
              }
             },
             "children": [
              ""
             ],
             "tagName": "span"
            }
           ],
           "tagName": "summary"
          },
          {
           "attributes": {
            "style": {
             "marginLeft": "10px",
             "marginTop": "10px"
            }
           },
           "children": [
            {
             "attributes": {},
             "children": [
              {
               "attributes": {
                "style": {
                 "color": "#27374D",
                 "fontWeight": "500",
                 "marginBottom": "5px"
                }
               },
               "children": [
                "Input:"
               ],
               "tagName": "div"
              },
              {
               "attributes": {
                "style": {
                 "background": "#F7F9FA",
                 "color": "#27374D",
                 "fontFamily": "monospace",
                 "marginBottom": "10px",
                 "overflowX": "auto",
                 "padding": "10px",
                 "unicodeBidi": "embed",
                 "whiteSpace": "pre"
                }
               },
               "children": [
                "{\n  \"file_path\": \"DOC_SUMMARY.md\",\n  \"content\": \"# Chatlab Documentation Summary\\n\\n## Overview\\nChatlab is a Python package that provides an interface for interactive chats inside computational notebooks, leveraging OpenAI's API. It enables users to conduct interactive conversations with AI models, register functions for the models to call, and perform various other operations.\\n\\n## Documentation Structure\\nThe documentation for Chatlab is divided into two main sections:\\n\\n1. **API Reference**: Automatically generated documentation that provides detailed descriptions of the classes, functions, methods, and parameters in the Chatlab package. This serves as the go-to resource for technical details about the package. It is generated by a script that extracts docstrings and other information from the source code and formats them into a Docusaurus-friendly structure.\\n\\n2. **Guides and Tutorials**: Manually written documentation that provides narrative explanations, guides, examples, and use-cases for the Chatlab package. These documents are meant to help users understand how to use the Chatlab package effectively, and they cover a variety of topics from basic usage to advanced features.\\n\\nBoth types of documentation are written in Markdown and are located in the `website/docs` directory.\\n\\n## How to Use the Documentation\\nUsers should start by reading the guides and tutorials to understand the basic features and capabilities of Chatlab. They should then refer to the API reference documentation for more detailed information about specific classes, functions, and methods.\\n\\nAll documentation should be viewed through the Docusaurus-powered website for the best reading experience, though the raw Markdown files can also be read directly for quick reference.\\n\\nDevelopers maintaining or extending the Chatlab package should ensure they update the corresponding parts of both the guides/tutorials and the API reference documentation. To update the API reference documentation, they should update the appropriate docstrings in the source code and run the documentation generation script.\"\n}"
               ],
               "tagName": "div"
              }
             ],
             "tagName": "div"
            },
            {
             "attributes": {},
             "children": [
              {
               "attributes": {
                "style": {
                 "color": "#27374D",
                 "fontWeight": "500",
                 "marginBottom": "5px"
                }
               },
               "children": [
                "Output:"
               ],
               "tagName": "div"
              },
              {
               "attributes": {
                "style": {
                 "background": "#F7F9FA",
                 "color": "#27374D",
                 "fontFamily": "monospace",
                 "marginBottom": "10px",
                 "overflowX": "auto",
                 "padding": "10px",
                 "unicodeBidi": "embed",
                 "whiteSpace": "pre"
                }
               },
               "children": [
                "None"
               ],
               "tagName": "div"
              }
             ],
             "tagName": "div"
            }
           ],
           "tagName": "div"
          }
         ],
         "tagName": "details"
        }
       ],
       "tagName": "div"
      },
      "text/html": [
       "<div><style>.chatlab-chat-details summary &gt; *  { display: inline; color: #27374D; }</style><details style=\"background: #DDE6ED; border-radius: 5px; padding: .5rem 1rem\" className=\"chatlab-chat-details\"><summary style=\"color: #27374D; cursor: pointer\"><span style=\"color: #9DB2BF; padding-left: 5px; padding-right: 5px\">𝑓</span><span style=\"color: #27374D; padding-left: 5px; padding-right: 5px\">Ran</span><span style=\"font-family: monospace; unicode-bidi: embed; white-space: pre\">write_file</span><span style=\"font-family: monospace; unicode-bidi: embed; white-space: pre\"></span></summary><div style=\"margin-left: 10px; margin-top: 10px\"><div><div style=\"color: #27374D; font-weight: 500; margin-bottom: 5px\">Input:</div><div style=\"background: #F7F9FA; color: #27374D; font-family: monospace; margin-bottom: 10px; overflow-x: auto; padding: 10px; unicode-bidi: embed; white-space: pre\">{\n",
       "  &quot;file_path&quot;: &quot;DOC_SUMMARY.md&quot;,\n",
       "  &quot;content&quot;: &quot;# Chatlab Documentation Summary\\n\\n## Overview\\nChatlab is a Python package that provides an interface for interactive chats inside computational notebooks, leveraging OpenAI&#x27;s API. It enables users to conduct interactive conversations with AI models, register functions for the models to call, and perform various other operations.\\n\\n## Documentation Structure\\nThe documentation for Chatlab is divided into two main sections:\\n\\n1. **API Reference**: Automatically generated documentation that provides detailed descriptions of the classes, functions, methods, and parameters in the Chatlab package. This serves as the go-to resource for technical details about the package. It is generated by a script that extracts docstrings and other information from the source code and formats them into a Docusaurus-friendly structure.\\n\\n2. **Guides and Tutorials**: Manually written documentation that provides narrative explanations, guides, examples, and use-cases for the Chatlab package. These documents are meant to help users understand how to use the Chatlab package effectively, and they cover a variety of topics from basic usage to advanced features.\\n\\nBoth types of documentation are written in Markdown and are located in the `website/docs` directory.\\n\\n## How to Use the Documentation\\nUsers should start by reading the guides and tutorials to understand the basic features and capabilities of Chatlab. They should then refer to the API reference documentation for more detailed information about specific classes, functions, and methods.\\n\\nAll documentation should be viewed through the Docusaurus-powered website for the best reading experience, though the raw Markdown files can also be read directly for quick reference.\\n\\nDevelopers maintaining or extending the Chatlab package should ensure they update the corresponding parts of both the guides/tutorials and the API reference documentation. To update the API reference documentation, they should update the appropriate docstrings in the source code and run the documentation generation script.&quot;\n",
       "}</div></div><div><div style=\"color: #27374D; font-weight: 500; margin-bottom: 5px\">Output:</div><div style=\"background: #F7F9FA; color: #27374D; font-family: monospace; margin-bottom: 10px; overflow-x: auto; padding: 10px; unicode-bidi: embed; white-space: pre\">None</div></div></div></details></div>"
      ],
      "text/plain": [
       "<chatlab.display.ChatFunctionCall at 0x13023c590>"
      ]
     },
     "metadata": {},
     "output_type": "display_data"
    },
    {
     "data": {
      "text/markdown": [
       "I've created a new `DOC_SUMMARY.md` file summarizing the Chatlab project and its documentation structure."
      ],
      "text/plain": [
       "I've created a new `DOC_SUMMARY.md` file summarizing the Chatlab project and its documentation structure."
      ]
     },
     "metadata": {
      "text/markdown": {
       "chatlab": {
        "default": true
       }
      }
     },
     "output_type": "display_data"
    }
   ],
   "source": [
    "await chat(\n",
    "    \"Ok please also create a document that summarizes what this project is, how the documentation is structured, and how to use it. Call this DOC_SUMMARY.md.\"\n",
    ")"
   ]
  },
  {
   "cell_type": "code",
   "execution_count": 7,
   "id": "f9292296",
   "metadata": {},
   "outputs": [],
   "source": [
    "import inspect\n",
    "\n",
    "\n",
    "def get_docstrings(module):\n",
    "    \"\"\"Get the docstrings for all classes and functions in a module.\"\"\"\n",
    "    docstrings = {}\n",
    "    for name, obj in inspect.getmembers(module):\n",
    "        if inspect.isclass(obj) or inspect.isfunction(obj):\n",
    "            docstrings[name] = inspect.getdoc(obj)\n",
    "    return docstrings"
   ]
  },
  {
   "cell_type": "code",
   "execution_count": 23,
   "id": "80452c11",
   "metadata": {},
   "outputs": [
    {
     "data": {
      "text/plain": [
       "[0, 1, 2]"
      ]
     },
     "execution_count": 23,
     "metadata": {},
     "output_type": "execute_result"
    }
   ],
   "source": [
    "x = list(range(5))\n",
    "x[:-2]"
   ]
  },
  {
   "cell_type": "code",
   "execution_count": 5,
   "id": "4c2c043b",
   "metadata": {},
   "outputs": [],
   "source": [
    "import chatlab"
   ]
  },
  {
   "cell_type": "code",
   "execution_count": 8,
   "id": "58652c43",
   "metadata": {},
   "outputs": [
    {
     "data": {
      "text/plain": [
       "{'Chat': 'Interactive chats inside of computational notebooks, relying on OpenAI\\'s API.\\n\\nMessages stream in as they are generated by the API.\\n\\nHistory is tracked and can be used to continue a conversation.\\n\\nArgs:\\n    initial_context (str | Message): The initial context for the conversation.\\n\\n    model (str): The model to use for the conversation.\\n\\n    function_registry (FunctionRegistry): The function registry to use for the conversation.\\n\\n    allow_hallucinated_python (bool): Include the built-in Python function when hallucinated by the model.\\n\\nExamples:\\n    >>> from chatlab import Chat, narrate\\n\\n    >>> conversation = Chat(narrate(\"You are a large bird\"))\\n    >>> conversation.submit(\"What are you?\")\\n    I am a large bird.',\n",
       " 'ChatlabMetadata': 'ChatLab metadata for a function.',\n",
       " 'Conversation': \"Interactive chats inside of computational notebooks, relying on OpenAI's API.\\n\\nConversation is deprecated. Use `Chat` instead.\",\n",
       " 'FunctionRegistry': 'Captures a function with schema both for sending to OpenAI and for executing locally.',\n",
       " 'Markdown': 'A class for displaying a markdown string that can be updated in place.\\n\\nThis class provides an easy way to create and update a Markdown string in Jupyter Notebooks. It\\nsupports real-time updates of Markdown content which is useful for emitting ChatGPT suggestions\\nas they are generated.\\n\\nAttributes:\\n    message (str): The Markdown string to display\\n\\nExample:\\n    >>> from chatlab import Markdown\\n    ...\\n    >>> markdown = Markdown()\\n    >>> markdown.append(\"Hello\")\\n    >>> markdown.append(\" world!\")\\n    >>> markdown.display()\\n    ```markdown\\n    Hello world!\\n    ```\\n    >>> markdown.append(\" This is an update!\")\\n    ```markdown\\n    Hello world! This is an update!\\n    ```\\n    >>> def text_generator():\\n    ...    yield \" 1\"\\n    ...    yield \" 2\"\\n    ...    yield \" 3\"\\n    ...\\n    >>> markdown.extend(text_generator())\\n    ```markdown\\n    Hello world! This is an update! 1 2 3\\n    ```',\n",
       " 'Session': \"Interactive chats inside of computational notebooks, relying on OpenAI's API.\\n\\nSession is deprecated. Use `Chat` instead.\",\n",
       " 'ai': \"Create a message from the assistant.\\n\\nArgs:\\n    content: The content of the message.\\n\\nReturns:\\n    A dictionary representing the assistant's message.\",\n",
       " 'assistant': \"Create a message from the assistant.\\n\\nArgs:\\n    content: The content of the message.\\n\\nReturns:\\n    A dictionary representing the assistant's message.\",\n",
       " 'assistant_function_call': 'Create a function call message from the assistant.\\n\\nArgs:\\n    name: The name of the function to call.\\n    arguments: Optional; The arguments to pass to the function.\\n\\nReturns:\\n    A dictionary representing a function call message from the assistant.',\n",
       " 'deprecated': 'Decorate a function to signify its deprecation\\n\\nThis function wraps a method that will soon be removed and does two things:\\n    * The docstring of the method will be modified to include a notice\\n      about deprecation, e.g., \"Deprecated since 0.9.11. Use foo instead.\"\\n    * Raises a :class:`~deprecation.DeprecatedWarning`\\n      via the :mod:`warnings` module, which is a subclass of the built-in\\n      :class:`DeprecationWarning`. Note that built-in\\n      :class:`DeprecationWarning`s are ignored by default, so for users\\n      to be informed of said warnings they will need to enable them--see\\n      the :mod:`warnings` module documentation for more details.\\n\\n:param deprecated_in: The version at which the decorated method is\\n                      considered deprecated. This will usually be the\\n                      next version to be released when the decorator is\\n                      added. The default is **None**, which effectively\\n                      means immediate deprecation. If this is not\\n                      specified, then the `removed_in` and\\n                      `current_version` arguments are ignored.\\n:param removed_in: The version or :class:`datetime.date` when the decorated\\n                   method will be removed. The default is **None**,\\n                   specifying that the function is not currently planned\\n                   to be removed.\\n                   Note: This parameter cannot be set to a value if\\n                   `deprecated_in=None`.\\n:param current_version: The source of version information for the\\n                        currently running code. This will usually be\\n                        a `__version__` attribute on your library.\\n                        The default is `None`.\\n                        When `current_version=None` the automation to\\n                        determine if the wrapped function is actually\\n                        in a period of deprecation or time for removal\\n                        does not work, causing a\\n                        :class:`~deprecation.DeprecatedWarning`\\n                        to be raised in all cases.\\n:param details: Extra details to be added to the method docstring and\\n                warning. For example, the details may point users to\\n                a replacement method, such as \"Use the foo_bar\\n                method instead\". By default there are no details.',\n",
       " 'expose_exception_to_llm': 'Expose exceptions from calling the function to the LLM.\\n\\nArgs:\\n    func (Callable): The function to annotate.\\n\\nExamples:\\n    >>> import chatlab\\n    >>> from chatlab.decorators import expose_exception_to_llm\\n\\n    >>> @expose_exception_to_llm\\n    ... def roll_die():\\n    ...     roll = random.randint(1, 6)\\n    ...     if roll == 1:\\n    ...         raise Exception(\"The die rolled a 1!\")\\n    ...     return roll\\n    >>> conversation = chatlab.Chat()\\n    >>> conversation.submit(\"Roll the dice!\")\\n    The die rolled a 1!',\n",
       " 'function_result': 'Create a function result message.\\n\\nArgs:\\n    name: The name of the function.\\n    content: The content of the message.\\n\\nReturns:\\n    A dictionary representing a function result message.',\n",
       " 'human': \"Create a message from the user.\\n\\nArgs:\\n    content: The content of the message.\\n\\nReturns:\\n    A dictionary representing the user's message.\",\n",
       " 'narrate': \"Create a message from the system.\\n\\nArgs:\\n    content: The content of the message.\\n\\nReturns:\\n    A dictionary representing the system's message.\",\n",
       " 'system': \"Create a message from the system.\\n\\nArgs:\\n    content: The content of the message.\\n\\nReturns:\\n    A dictionary representing the system's message.\",\n",
       " 'user': \"Create a message from the user.\\n\\nArgs:\\n    content: The content of the message.\\n\\nReturns:\\n    A dictionary representing the user's message.\"}"
      ]
     },
     "execution_count": 8,
     "metadata": {},
     "output_type": "execute_result"
    },
    {
     "name": "stderr",
     "output_type": "stream",
     "text": [
      "Received un-modeled RTU message msg.channel='kernels/notebook-kernel-d9109be595544c738129' msg.event='variable_explorer_update_request'\n"
     ]
    }
   ],
   "source": [
    "get_docstrings(chatlab)"
   ]
  },
  {
   "cell_type": "code",
   "execution_count": 9,
   "id": "6ed9f292",
   "metadata": {},
   "outputs": [
    {
     "data": {
      "text/plain": [
       "<module 'unittest' from '/Users/kai/.pyenv/versions/3.11.1/lib/python3.11/unittest/__init__.py'>"
      ]
     },
     "execution_count": 9,
     "metadata": {},
     "output_type": "execute_result"
    }
   ],
   "source": []
  },
  {
   "cell_type": "code",
   "execution_count": null,
   "id": "5f6ac9dc",
   "metadata": {},
   "outputs": [],
   "source": []
  }
 ],
 "metadata": {
  "kernelspec": {
   "display_name": "chatlab-3kMKfU-i-py3.11",
   "language": "python",
   "name": "python3"
  },
  "language_info": {
   "codemirror_mode": {
    "name": "ipython",
    "version": 3
   },
   "file_extension": ".py",
   "mimetype": "text/x-python",
   "name": "python",
   "nbconvert_exporter": "python",
   "pygments_lexer": "ipython3",
   "version": "3.11.1"
  }
 },
 "nbformat": 4,
 "nbformat_minor": 5
}
